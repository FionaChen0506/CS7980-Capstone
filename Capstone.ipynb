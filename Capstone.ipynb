{
 "cells": [
  {
   "cell_type": "markdown",
   "metadata": {},
   "source": [
    "# Sentiment Porlarity Classification"
   ]
  },
  {
   "cell_type": "markdown",
   "metadata": {
    "id": "sG-IcqT60Tnh"
   },
   "source": [
    "## Traditional NLP model Baseline on Kaggle Amazon review dataset"
   ]
  },
  {
   "cell_type": "markdown",
   "metadata": {
    "id": "SVmrq9UnDEyU"
   },
   "source": [
    "### Step 1 - Data Loading and Preprocessing(Kaggle)"
   ]
  },
  {
   "cell_type": "code",
   "execution_count": 1,
   "metadata": {
    "colab": {
     "base_uri": "https://localhost:8080/"
    },
    "id": "H4YcR-01Dgtp",
    "outputId": "b9561497-98f9-4072-a903-c22bc1057fd5"
   },
   "outputs": [
    {
     "name": "stderr",
     "output_type": "stream",
     "text": [
      "2024-03-15 06:36:05.712069: E external/local_xla/xla/stream_executor/cuda/cuda_dnn.cc:9261] Unable to register cuDNN factory: Attempting to register factory for plugin cuDNN when one has already been registered\n",
      "2024-03-15 06:36:05.712189: E external/local_xla/xla/stream_executor/cuda/cuda_fft.cc:607] Unable to register cuFFT factory: Attempting to register factory for plugin cuFFT when one has already been registered\n",
      "2024-03-15 06:36:05.713794: E external/local_xla/xla/stream_executor/cuda/cuda_blas.cc:1515] Unable to register cuBLAS factory: Attempting to register factory for plugin cuBLAS when one has already been registered\n",
      "2024-03-15 06:36:05.722810: I tensorflow/core/platform/cpu_feature_guard.cc:182] This TensorFlow binary is optimized to use available CPU instructions in performance-critical operations.\n",
      "To enable the following instructions: AVX2 FMA, in other operations, rebuild TensorFlow with the appropriate compiler flags.\n",
      "2024-03-15 06:36:08.183743: W tensorflow/compiler/tf2tensorrt/utils/py_utils.cc:38] TF-TRT Warning: Could not find TensorRT\n"
     ]
    },
    {
     "name": "stdout",
     "output_type": "stream",
     "text": [
      "env: CUDA_LAUNCH_BLOCKING=1\n"
     ]
    }
   ],
   "source": [
    "import pandas as pd\n",
    "import numpy as np\n",
    "import nltk\n",
    "import matplotlib.pyplot as plt\n",
    "import seaborn as sns\n",
    "import time\n",
    "from tqdm.notebook import tqdm\n",
    "from transformers import pipeline\n",
    "import torch\n",
    "%env CUDA_LAUNCH_BLOCKING=1"
   ]
  },
  {
   "cell_type": "code",
   "execution_count": 21,
   "metadata": {
    "colab": {
     "base_uri": "https://localhost:8080/"
    },
    "id": "kP2MaZQXDkfl",
    "outputId": "8b445c9b-d611-482e-e0e2-ed750f13d540"
   },
   "outputs": [
    {
     "name": "stdout",
     "output_type": "stream",
     "text": [
      "6900886\n"
     ]
    }
   ],
   "source": [
    "# load the tsv data\n",
    "df = pd.read_csv('../data/capstone/amazon_reviews_multilingual_US_v1_00.tsv', sep='\\t', on_bad_lines=\"skip\")\n",
    "print(len(df))"
   ]
  },
  {
   "cell_type": "code",
   "execution_count": 19,
   "metadata": {
    "colab": {
     "base_uri": "https://localhost:8080/"
    },
    "id": "kGt1XPRvET1V",
    "outputId": "d92e1196-ce0a-407b-eb6c-7cac219dd1dc"
   },
   "outputs": [
    {
     "name": "stdout",
     "output_type": "stream",
     "text": [
      "(1000, 3)\n"
     ]
    }
   ],
   "source": [
    "# extract the columns to down scale the dataset\n",
    "df = df[['star_rating', 'review_headline', 'review_body']]\n",
    "df = df.head(1000)\n",
    "print(df.shape)"
   ]
  },
  {
   "cell_type": "code",
   "execution_count": 20,
   "metadata": {
    "colab": {
     "base_uri": "https://localhost:8080/",
     "height": 1000
    },
    "id": "Y8nqQyZfFMkE",
    "outputId": "1d06566e-a304-469f-d620-aff405b9bde1"
   },
   "outputs": [
    {
     "data": {
      "text/plain": [
       "(953, 4)"
      ]
     },
     "execution_count": 20,
     "metadata": {},
     "output_type": "execute_result"
    }
   ],
   "source": [
    "df = df.query('star_rating != 3.0')\n",
    "df = df.reset_index().rename(columns = {'index': 'Id'})\n",
    "df.shape"
   ]
  },
  {
   "cell_type": "code",
   "execution_count": 6,
   "metadata": {
    "colab": {
     "base_uri": "https://localhost:8080/",
     "height": 480
    },
    "id": "4OetIdDfFEkE",
    "outputId": "86f1ed01-4790-4bae-a1b8-9f4ce2c81afb"
   },
   "outputs": [
    {
     "data": {
      "image/png": "[encoded data removed]",
      "text/plain": [
       "<Figure size 640x480 with 1 Axes>"
      ]
     },
     "metadata": {},
     "output_type": "display_data"
    }
   ],
   "source": [
    "# visualize data distribution\n",
    "ax = df['star_rating'].value_counts().sort_index().plot(kind='bar', title='Count of Review by Stars')\n",
    "ax.set_xlabel('Star rating')\n",
    "plt.show()"
   ]
  },
  {
   "cell_type": "markdown",
   "metadata": {
    "id": "HpbRMc1yDRVf"
   },
   "source": [
    "### Step 2 - run pipeline"
   ]
  },
  {
   "cell_type": "code",
   "execution_count": 6,
   "metadata": {
    "id": "XAAvTocx1IwH"
   },
   "outputs": [],
   "source": [
    "def pipeline_eval(pipe, data, positive_label, negative_label):\n",
    "  res_dict = {}\n",
    "  correct = [0 for _ in range(2)]\n",
    "  total = [0 for _ in range(2)]\n",
    "\n",
    "  start_time = time.time()\n",
    "  for i, row in tqdm(data.iterrows(), total=len(data)):\n",
    "    try:\n",
    "      text = row['review_body']\n",
    "      result = pipe(text)[0]\n",
    "      result['Id'] = row['Id']\n",
    "      res_dict[i] = result\n",
    "      if row['star_rating'] < 3.0:\n",
    "        total[0] += 1\n",
    "        if result['label'] == negative_label:\n",
    "          correct[0] += 1\n",
    "      elif row['star_rating'] > 3.0:\n",
    "        total[1] += 1\n",
    "        if result['label'] == positive_label:\n",
    "          correct[1] += 1\n",
    "    except RuntimeError:\n",
    "      print(f'{i}th row broke. The input text is too long.')\n",
    "      print(IndexError)\n",
    "    except IndexError:\n",
    "      print(f'{i}th row broke. The input text is too long.')\n",
    "      print(IndexError)\n",
    "  end_time = time.time()\n",
    "  runtime = end_time - start_time\n",
    "  return res_dict, correct, total, runtime"
   ]
  },
  {
   "cell_type": "code",
   "execution_count": 10,
   "metadata": {},
   "outputs": [
    {
     "name": "stdout",
     "output_type": "stream",
     "text": [
      "Tue Mar 12 15:12:37 2024       \n",
      "+---------------------------------------------------------------------------------------+\n",
      "| NVIDIA-SMI 545.23.08              Driver Version: 545.23.08    CUDA Version: 12.3     |\n",
      "|-----------------------------------------+----------------------+----------------------+\n",
      "| GPU  Name                 Persistence-M | Bus-Id        Disp.A | Volatile Uncorr. ECC |\n",
      "| Fan  Temp   Perf          Pwr:Usage/Cap |         Memory-Usage | GPU-Util  Compute M. |\n",
      "|                                         |                      |               MIG M. |\n",
      "|=========================================+======================+======================|\n",
      "|   0  NVIDIA A100-SXM4-40GB          Off | 00000000:C1:00.0 Off |                    0 |\n",
      "| N/A   31C    P0              48W / 400W |  40260MiB / 40960MiB |      0%      Default |\n",
      "|                                         |                      |             Disabled |\n",
      "+-----------------------------------------+----------------------+----------------------+\n",
      "                                                                                         \n",
      "+---------------------------------------------------------------------------------------+\n",
      "| Processes:                                                                            |\n",
      "|  GPU   GI   CI        PID   Type   Process name                            GPU Memory |\n",
      "|        ID   ID                                                             Usage      |\n",
      "|=======================================================================================|\n",
      "|    0   N/A  N/A     31508      C   ...yang3/.conda/envs/llama2/bin/python    40246MiB |\n",
      "+---------------------------------------------------------------------------------------+\n"
     ]
    }
   ],
   "source": [
    "!nvidia-smi"
   ]
  },
  {
   "cell_type": "markdown",
   "metadata": {
    "id": "-eA6zOjlQRsr",
    "jp-MarkdownHeadingCollapsed": true
   },
   "source": [
    "#### Bert Pipeline"
   ]
  },
  {
   "cell_type": "code",
   "execution_count": 16,
   "metadata": {
    "id": "z-tAXDdaQQP-"
   },
   "outputs": [],
   "source": [
    "pipe_bert = pipeline(\"text-classification\", model=\"fabriceyhc/bert-base-uncased-amazon_polarity\", device=0)"
   ]
  },
  {
   "cell_type": "code",
   "execution_count": 17,
   "metadata": {
    "colab": {
     "base_uri": "https://localhost:8080/"
    },
    "id": "7XUIuBQ1YfW_",
    "outputId": "dc30177e-6778-43e9-dc7c-46e64bd83fe9"
   },
   "outputs": [
    {
     "data": {
      "text/plain": [
       "[{'label': 'positive', 'score': 0.9992735981941223}]"
      ]
     },
     "execution_count": 17,
     "metadata": {},
     "output_type": "execute_result"
    }
   ],
   "source": [
    "# output example\n",
    "example = df['review_body'][0]\n",
    "pipe_bert(example)"
   ]
  },
  {
   "cell_type": "code",
   "execution_count": 18,
   "metadata": {
    "colab": {
     "base_uri": "https://localhost:8080/",
     "height": 390,
     "referenced_widgets": [
      "708cb16dea90463ab9d948fd3221f63e",
      "a9485a0efbed4804864a7187697cba2c",
      "a50087c49b88496396ef1dfa4af1a945",
      "7479cab6ce4348429da826f3934689ad",
      "62b0720c720a441698c39d57e0966922",
      "751dceb442794a65b82a8b8239a51f40",
      "74907d5992024fdab3a7f69d6028e6df",
      "7f300fe027da46c1962dd4f010e7de76",
      "a0baf84d9f6b4df0a8a0142b656bafc2",
      "2b7decbafc5f4e84a3d55ab687989fc7",
      "e137ae200ee0417c986d620c2f47705d"
     ]
    },
    "id": "bRDk5IEdUzXg",
    "outputId": "db09bc8d-ddac-4073-97a3-da1a14184b12"
   },
   "outputs": [
    {
     "data": {
      "application/vnd.jupyter.widget-view+json": {
       "model_id": "0b0c48395cad4fe685ee2e3f9f609c58",
       "version_major": 2,
       "version_minor": 0
      },
      "text/plain": [
       "  0%|          | 0/953 [00:00<?, ?it/s]"
      ]
     },
     "metadata": {},
     "output_type": "display_data"
    },
    {
     "name": "stderr",
     "output_type": "stream",
     "text": [
      "Token indices sequence length is longer than the specified maximum sequence length for this model (1932 > 512). Running this sequence through the model will result in indexing errors\n"
     ]
    },
    {
     "name": "stdout",
     "output_type": "stream",
     "text": [
      "76th row broke. The input text is too long.\n",
      "<class 'IndexError'>\n",
      "101th row broke. The input text is too long.\n",
      "<class 'IndexError'>\n",
      "209th row broke. The input text is too long.\n",
      "<class 'IndexError'>\n",
      "295th row broke. The input text is too long.\n",
      "<class 'IndexError'>\n",
      "330th row broke. The input text is too long.\n",
      "<class 'IndexError'>\n",
      "368th row broke. The input text is too long.\n",
      "<class 'IndexError'>\n",
      "616th row broke. The input text is too long.\n",
      "<class 'IndexError'>\n",
      "622th row broke. The input text is too long.\n",
      "<class 'IndexError'>\n",
      "660th row broke. The input text is too long.\n",
      "<class 'IndexError'>\n",
      "707th row broke. The input text is too long.\n",
      "<class 'IndexError'>\n",
      "708th row broke. The input text is too long.\n",
      "<class 'IndexError'>\n",
      "721th row broke. The input text is too long.\n",
      "<class 'IndexError'>\n",
      "777th row broke. The input text is too long.\n",
      "<class 'IndexError'>\n",
      "812th row broke. The input text is too long.\n",
      "<class 'IndexError'>\n",
      "818th row broke. The input text is too long.\n",
      "<class 'IndexError'>\n",
      "863th row broke. The input text is too long.\n",
      "<class 'IndexError'>\n"
     ]
    }
   ],
   "source": [
    "# evaluate the dataset with BERT\n",
    "bert_res, bert_correct, bert_total, bert_runtime = pipeline_eval(pipe_bert, df, 'positive', 'negative')"
   ]
  },
  {
   "cell_type": "code",
   "execution_count": 62,
   "metadata": {
    "colab": {
     "base_uri": "https://localhost:8080/"
    },
    "id": "DOZknKvfW_4w",
    "outputId": "8125e47f-ba2c-492e-fc1a-29375a5253c4"
   },
   "outputs": [
    {
     "name": "stdout",
     "output_type": "stream",
     "text": [
      "==> Negative Accuracy: 0.9696969696969697\n",
      "==> Positive Accuracy: 0.9260143198090692\n",
      "==> Total Accuracy: 0.9306296691568837\n",
      "==> Total Runtime: 12.868469476699829\n"
     ]
    }
   ],
   "source": [
    "# calculate the accuracy\n",
    "print(f'==> Negative Accuracy: {bert_correct[0]/bert_total[0]}')\n",
    "print(f'==> Positive Accuracy: {bert_correct[1]/bert_total[1]}')\n",
    "print(f'==> Total Accuracy: {np.sum(bert_correct) / np.sum(bert_total)}')\n",
    "print(f'==> Total Runtime: {bert_runtime}')"
   ]
  },
  {
   "cell_type": "markdown",
   "metadata": {
    "id": "18qHYkI-bC-d"
   },
   "source": [
    "#### DistilBert Pipeline"
   ]
  },
  {
   "cell_type": "code",
   "execution_count": 20,
   "metadata": {
    "id": "eu-jd7QdbMiw"
   },
   "outputs": [],
   "source": [
    "pipe_distilbert = pipeline(\"text-classification\", model=\"AdamCodd/distilbert-base-uncased-finetuned-sentiment-amazon\")"
   ]
  },
  {
   "cell_type": "code",
   "execution_count": 23,
   "metadata": {},
   "outputs": [
    {
     "data": {
      "text/plain": [
       "66955010"
      ]
     },
     "execution_count": 23,
     "metadata": {},
     "output_type": "execute_result"
    }
   ],
   "source": [
    "pipe_distilbert.model.num_parameters()"
   ]
  },
  {
   "cell_type": "code",
   "execution_count": 20,
   "metadata": {
    "colab": {
     "base_uri": "https://localhost:8080/"
    },
    "id": "VqAFGk1aceNj",
    "outputId": "be26aee3-7919-4e47-e257-56569dfb8286"
   },
   "outputs": [
    {
     "name": "stdout",
     "output_type": "stream",
     "text": [
      "It is not the most creative work but it is certainly interesting.  I think, the movie, however, was horrible.  How would anybody who didn't read the book be able to understand the movie.  No one in a million years would be able to make the connection that the black slab that appears on Earth 3 million years ago is what gave early man the idea of using bone fragments as a mean for hunting for food.  The book is definitely 10 times better than the movie.    If anybody has a comment or anything to say of interest feel free to email me at vpatel@flinet.com\n"
     ]
    },
    {
     "data": {
      "text/plain": [
       "[{'label': 'positive', 'score': 0.8007069826126099}]"
      ]
     },
     "execution_count": 20,
     "metadata": {},
     "output_type": "execute_result"
    }
   ],
   "source": [
    "# output example\n",
    "example = df['review_body'][787]\n",
    "print(example)\n",
    "pipe_distilbert(example)"
   ]
  },
  {
   "cell_type": "code",
   "execution_count": 21,
   "metadata": {
    "colab": {
     "base_uri": "https://localhost:8080/",
     "height": 390,
     "referenced_widgets": [
      "29d34861b42c42139d06674edad9908a",
      "921221702021490d911eda74ad830d27",
      "8805c79680254accae6a3a92130fa891",
      "0d0e74a28b154869ad1f7cb13a81a9a2",
      "f9a1c09777c045b8ae5380939c47f358",
      "faf06d5fd8894921b016730faf42383f",
      "86d59a6da66e41c28c98dfb5eed37f9d",
      "dbd505b9a8df4c61add27672ca21d4fd",
      "90792d718d574bc18941e23f33656f98",
      "306311d883fb4d4a8e83f0b8d3c05593",
      "8552f15d039c430cba88ce954cb95bc7"
     ]
    },
    "id": "UP4CLtTuc1CQ",
    "outputId": "4619af5d-e118-4c02-f2c4-4f58fc74b973"
   },
   "outputs": [
    {
     "data": {
      "application/vnd.jupyter.widget-view+json": {
       "model_id": "7abe3415b49642fb88f957280d6a5b8e",
       "version_major": 2,
       "version_minor": 0
      },
      "text/plain": [
       "  0%|          | 0/953 [00:00<?, ?it/s]"
      ]
     },
     "metadata": {},
     "output_type": "display_data"
    },
    {
     "name": "stderr",
     "output_type": "stream",
     "text": [
      "Token indices sequence length is longer than the specified maximum sequence length for this model (1932 > 512). Running this sequence through the model will result in indexing errors\n"
     ]
    },
    {
     "name": "stdout",
     "output_type": "stream",
     "text": [
      "76th row broke. The input text is too long.\n",
      "<class 'IndexError'>\n",
      "101th row broke. The input text is too long.\n",
      "<class 'IndexError'>\n",
      "209th row broke. The input text is too long.\n",
      "<class 'IndexError'>\n",
      "295th row broke. The input text is too long.\n",
      "<class 'IndexError'>\n",
      "330th row broke. The input text is too long.\n",
      "<class 'IndexError'>\n",
      "368th row broke. The input text is too long.\n",
      "<class 'IndexError'>\n",
      "616th row broke. The input text is too long.\n",
      "<class 'IndexError'>\n",
      "622th row broke. The input text is too long.\n",
      "<class 'IndexError'>\n",
      "660th row broke. The input text is too long.\n",
      "<class 'IndexError'>\n",
      "707th row broke. The input text is too long.\n",
      "<class 'IndexError'>\n",
      "708th row broke. The input text is too long.\n",
      "<class 'IndexError'>\n",
      "721th row broke. The input text is too long.\n",
      "<class 'IndexError'>\n",
      "777th row broke. The input text is too long.\n",
      "<class 'IndexError'>\n",
      "812th row broke. The input text is too long.\n",
      "<class 'IndexError'>\n",
      "818th row broke. The input text is too long.\n",
      "<class 'IndexError'>\n",
      "863th row broke. The input text is too long.\n",
      "<class 'IndexError'>\n"
     ]
    }
   ],
   "source": [
    "# evaluate the dataset on DistilBert\n",
    "distilbert_res, distilbert_correct, distilbert_total, distilbert_runtime = pipeline_eval(pipe_distilbert, df, 'positive', 'negative')"
   ]
  },
  {
   "cell_type": "code",
   "execution_count": 22,
   "metadata": {
    "colab": {
     "base_uri": "https://localhost:8080/"
    },
    "id": "WpQUtfC9gxQt",
    "outputId": "455f79af-ca6b-4d83-fc66-ec4e9854a8bf"
   },
   "outputs": [
    {
     "name": "stdout",
     "output_type": "stream",
     "text": [
      "==> Negative Accuracy: 0.9090909090909091\n",
      "==> Positive Accuracy: 0.9630071599045346\n",
      "==> Total Accuracy: 0.9573105656350054\n",
      "==> Total Runtime: 7.052353382110596\n"
     ]
    }
   ],
   "source": [
    "# calculate the accuracy\n",
    "print(f'==> Negative Accuracy: {distilbert_correct[0]/distilbert_total[0]}')\n",
    "print(f'==> Positive Accuracy: {distilbert_correct[1]/distilbert_total[1]}')\n",
    "print(f'==> Total Accuracy: {np.sum(distilbert_correct) / np.sum(distilbert_total)}')\n",
    "print(f'==> Total Runtime: {distilbert_runtime}')"
   ]
  },
  {
   "cell_type": "markdown",
   "metadata": {
    "id": "3LGvgcXhiz86",
    "jp-MarkdownHeadingCollapsed": true
   },
   "source": [
    "#### GPT2 Pipeline\n"
   ]
  },
  {
   "cell_type": "code",
   "execution_count": 23,
   "metadata": {
    "id": "pSyN9ANei43B"
   },
   "outputs": [
    {
     "data": {
      "application/vnd.jupyter.widget-view+json": {
       "model_id": "d27a618ba43843a091f4c481cbd7c9c3",
       "version_major": 2,
       "version_minor": 0
      },
      "text/plain": [
       "config.json:   0%|          | 0.00/995 [00:00<?, ?B/s]"
      ]
     },
     "metadata": {},
     "output_type": "display_data"
    },
    {
     "data": {
      "application/vnd.jupyter.widget-view+json": {
       "model_id": "e08856fd8233469db898f4efcba53d23",
       "version_major": 2,
       "version_minor": 0
      },
      "text/plain": [
       "pytorch_model.bin:   0%|          | 0.00/510M [00:00<?, ?B/s]"
      ]
     },
     "metadata": {},
     "output_type": "display_data"
    },
    {
     "data": {
      "application/vnd.jupyter.widget-view+json": {
       "model_id": "30a27f7dfcf042f5b9283778d1fc6310",
       "version_major": 2,
       "version_minor": 0
      },
      "text/plain": [
       "tokenizer_config.json:   0%|          | 0.00/236 [00:00<?, ?B/s]"
      ]
     },
     "metadata": {},
     "output_type": "display_data"
    },
    {
     "data": {
      "application/vnd.jupyter.widget-view+json": {
       "model_id": "eba903602aa54313928b9bbb52485d39",
       "version_major": 2,
       "version_minor": 0
      },
      "text/plain": [
       "vocab.json:   0%|          | 0.00/798k [00:00<?, ?B/s]"
      ]
     },
     "metadata": {},
     "output_type": "display_data"
    },
    {
     "data": {
      "application/vnd.jupyter.widget-view+json": {
       "model_id": "517eda9e1ba94f218d5e41748d490e9b",
       "version_major": 2,
       "version_minor": 0
      },
      "text/plain": [
       "merges.txt:   0%|          | 0.00/456k [00:00<?, ?B/s]"
      ]
     },
     "metadata": {},
     "output_type": "display_data"
    },
    {
     "data": {
      "application/vnd.jupyter.widget-view+json": {
       "model_id": "79984b24ac02434a885785163e1911fe",
       "version_major": 2,
       "version_minor": 0
      },
      "text/plain": [
       "tokenizer.json:   0%|          | 0.00/2.11M [00:00<?, ?B/s]"
      ]
     },
     "metadata": {},
     "output_type": "display_data"
    },
    {
     "data": {
      "application/vnd.jupyter.widget-view+json": {
       "model_id": "8a3b56cf308847fbb77689ce1a622f33",
       "version_major": 2,
       "version_minor": 0
      },
      "text/plain": [
       "special_tokens_map.json:   0%|          | 0.00/120 [00:00<?, ?B/s]"
      ]
     },
     "metadata": {},
     "output_type": "display_data"
    }
   ],
   "source": [
    "pipe_gpt2 = pipeline(\"text-classification\", model=\"mnoukhov/gpt2-imdb-sentiment-classifier\")"
   ]
  },
  {
   "cell_type": "code",
   "execution_count": 24,
   "metadata": {
    "colab": {
     "base_uri": "https://localhost:8080/"
    },
    "id": "WIEGDwNQi97Z",
    "outputId": "f60c84a6-77de-4ab7-8f06-a6140140bc11"
   },
   "outputs": [
    {
     "name": "stdout",
     "output_type": "stream",
     "text": [
      "Hey, I'm female and I loved this book.  I thought it was very funny and actually quite sweet.  Sure, the guy was kind of a dope, but aren't we all?? (women included!\n"
     ]
    },
    {
     "data": {
      "text/plain": [
       "[{'label': 'LABEL_1', 'score': 0.9998786449432373}]"
      ]
     },
     "execution_count": 24,
     "metadata": {},
     "output_type": "execute_result"
    }
   ],
   "source": [
    "# output example\n",
    "example = df['review_body'][102]\n",
    "print(example)\n",
    "pipe_gpt2(example)"
   ]
  },
  {
   "cell_type": "code",
   "execution_count": 25,
   "metadata": {
    "colab": {
     "base_uri": "https://localhost:8080/",
     "height": 123,
     "referenced_widgets": [
      "32d21fc72647420fa8609099b855955e",
      "75b940b8323d472f8465571295a1d16b",
      "745ffdb9ed1648a49d96e0eb6f90988c",
      "3d98a042c2af4cf9a79f3202d2489f71",
      "022fce47577b413a80659e52a481a06a",
      "59ed1992132d432493458f48d8419bba",
      "3d50d7f0d54244aca9531535fb596286",
      "0b9c3da7cc0a44569bafa5bff4687762",
      "4e9624aa35a84a9189f34a73570c6865",
      "b9584907fb7445b6a62a02e93c128c45",
      "ece7b37b7909460abe17951a3e87a02f"
     ]
    },
    "id": "gIKqSLjTkbAa",
    "outputId": "d0b2135c-3f58-4613-f818-034c234072b2"
   },
   "outputs": [
    {
     "data": {
      "application/vnd.jupyter.widget-view+json": {
       "model_id": "6cc3b84f431443b0bb9580b3a6503a26",
       "version_major": 2,
       "version_minor": 0
      },
      "text/plain": [
       "  0%|          | 0/953 [00:00<?, ?it/s]"
      ]
     },
     "metadata": {},
     "output_type": "display_data"
    },
    {
     "name": "stderr",
     "output_type": "stream",
     "text": [
      "Token indices sequence length is longer than the specified maximum sequence length for this model (2064 > 1024). Running this sequence through the model will result in indexing errors\n"
     ]
    },
    {
     "name": "stdout",
     "output_type": "stream",
     "text": [
      "76th row broke. The input text is too long.\n",
      "<class 'IndexError'>\n",
      "812th row broke. The input text is too long.\n",
      "<class 'IndexError'>\n"
     ]
    }
   ],
   "source": [
    "# evaluate the dataset on GPT2\n",
    "gpt2_res, gpt2_correct, gpt2_total, gpt2_runtime = pipeline_eval(pipe_gpt2, df, 'LABEL_1', 'LABEL_0')"
   ]
  },
  {
   "cell_type": "code",
   "execution_count": 26,
   "metadata": {
    "colab": {
     "base_uri": "https://localhost:8080/"
    },
    "id": "WxVLZwnqkbbH",
    "outputId": "df42065c-8ae4-41b3-9915-1dde8b7585a1"
   },
   "outputs": [
    {
     "name": "stdout",
     "output_type": "stream",
     "text": [
      "==> Negative Accuracy: 0.8888888888888888\n",
      "==> Positive Accuracy: 0.931924882629108\n",
      "==> Total Accuracy: 0.9274447949526814\n",
      "==> Total Runtime: 69.748037815094\n"
     ]
    }
   ],
   "source": [
    "# calculate the accuracy\n",
    "print(f'==> Negative Accuracy: {gpt2_correct[0]/gpt2_total[0]}')\n",
    "print(f'==> Positive Accuracy: {gpt2_correct[1]/gpt2_total[1]}')\n",
    "print(f'==> Total Accuracy: {np.sum(gpt2_correct) / np.sum(gpt2_total)}')\n",
    "print(f'==> Total Runtime: {gpt2_runtime}')"
   ]
  },
  {
   "cell_type": "markdown",
   "metadata": {
    "id": "i4gT2Uog6IyW",
    "jp-MarkdownHeadingCollapsed": true
   },
   "source": [
    "#### Roberta Pipeline"
   ]
  },
  {
   "cell_type": "code",
   "execution_count": 27,
   "metadata": {
    "id": "22FhYlZ86QlH"
   },
   "outputs": [],
   "source": [
    "pipe_roberta = pipeline(\"text-classification\", model=\"siebert/sentiment-roberta-large-english\", device = 0)"
   ]
  },
  {
   "cell_type": "code",
   "execution_count": 28,
   "metadata": {
    "colab": {
     "base_uri": "https://localhost:8080/"
    },
    "id": "uSaw4rjU6Q6t",
    "outputId": "65733adb-4c71-4767-b258-b7a4aab2d35a"
   },
   "outputs": [
    {
     "name": "stdout",
     "output_type": "stream",
     "text": [
      "I was checking on this book because I just recommended it as an acquisition for the library at the community colllege where I teach.  The book describes the life of a brilliant Nobel Prize-winning physicist, and shows him as a completely accessible human being.  He gives a marvelously entertaining account of some of the experiments he conducted while a college undergraduate - all of them completely understandable to a layperson.  But the book continues through his adult life: his attempts to learn Japanese, his experiences as a patron and legal defender of a local strip club, his encounters with military stuffed shirts during WWII, and dozens of other adventures.  If you want to convince yourself or someone else that it's possible to be a brilliant scientist and a real human being simultaneously, then this is the book.  Both as entertainment and as information, it's a smashing success\n"
     ]
    },
    {
     "data": {
      "text/plain": [
       "[{'label': 'POSITIVE', 'score': 0.9989196062088013}]"
      ]
     },
     "execution_count": 28,
     "metadata": {},
     "output_type": "execute_result"
    }
   ],
   "source": [
    "# output example\n",
    "example = df['review_body'][93]\n",
    "print(example)\n",
    "pipe_roberta(example)"
   ]
  },
  {
   "cell_type": "code",
   "execution_count": 29,
   "metadata": {
    "colab": {
     "base_uri": "https://localhost:8080/",
     "height": 426,
     "referenced_widgets": [
      "f436cc390429406da7ddea830cf843f8",
      "c6111a4c2a12445fb5df2f7f4e74a01e",
      "90674cd34de243ea896071820bf09ae0",
      "b9fc8b3892c245fb8b7419ab79ce2b47",
      "d9db8d5cab184419b6675e6d1690f398",
      "c6bb7e00418d49d2af25931fdaf27aa2",
      "2a05953c19ba450caade3b796aaa055e",
      "39c5e2ee53564fe68c00d491079b5d88",
      "52144a0b300347639d6129ed5c2d6641",
      "3014ab838cf34708adbd638e506d1701",
      "8a2afd075e9f43cc902c544dd36c981b"
     ]
    },
    "id": "dLqyqYqd6W0E",
    "outputId": "c89785a0-6d0b-4dd9-959c-b9dda32c12f0"
   },
   "outputs": [
    {
     "data": {
      "application/vnd.jupyter.widget-view+json": {
       "model_id": "4bf51f9bbdfe4381a7997b55fcdd0f4f",
       "version_major": 2,
       "version_minor": 0
      },
      "text/plain": [
       "  0%|          | 0/953 [00:00<?, ?it/s]"
      ]
     },
     "metadata": {},
     "output_type": "display_data"
    },
    {
     "name": "stderr",
     "output_type": "stream",
     "text": [
      "Token indices sequence length is longer than the specified maximum sequence length for this model (2066 > 512). Running this sequence through the model will result in indexing errors\n"
     ]
    },
    {
     "name": "stdout",
     "output_type": "stream",
     "text": [
      "76th row broke. The input text is too long.\n",
      "<class 'IndexError'>\n",
      "101th row broke. The input text is too long.\n",
      "<class 'IndexError'>\n",
      "209th row broke. The input text is too long.\n",
      "<class 'IndexError'>\n",
      "295th row broke. The input text is too long.\n",
      "<class 'IndexError'>\n",
      "330th row broke. The input text is too long.\n",
      "<class 'IndexError'>\n",
      "368th row broke. The input text is too long.\n",
      "<class 'IndexError'>\n",
      "616th row broke. The input text is too long.\n",
      "<class 'IndexError'>\n",
      "622th row broke. The input text is too long.\n",
      "<class 'IndexError'>\n",
      "660th row broke. The input text is too long.\n",
      "<class 'IndexError'>\n",
      "707th row broke. The input text is too long.\n",
      "<class 'IndexError'>\n",
      "708th row broke. The input text is too long.\n",
      "<class 'IndexError'>\n",
      "721th row broke. The input text is too long.\n",
      "<class 'IndexError'>\n",
      "776th row broke. The input text is too long.\n",
      "<class 'IndexError'>\n",
      "777th row broke. The input text is too long.\n",
      "<class 'IndexError'>\n",
      "785th row broke. The input text is too long.\n",
      "<class 'IndexError'>\n",
      "812th row broke. The input text is too long.\n",
      "<class 'IndexError'>\n",
      "818th row broke. The input text is too long.\n",
      "<class 'IndexError'>\n",
      "863th row broke. The input text is too long.\n",
      "<class 'IndexError'>\n"
     ]
    }
   ],
   "source": [
    "# evaluate the dataset on Roberta\n",
    "roberta_res, roberta_correct, roberta_total, roberta_runtime = pipeline_eval(pipe_roberta, df, 'POSITIVE', 'NEGATIVE')"
   ]
  },
  {
   "cell_type": "code",
   "execution_count": 30,
   "metadata": {
    "colab": {
     "base_uri": "https://localhost:8080/"
    },
    "id": "4PQKvo3G791-",
    "outputId": "c2f17710-25e9-42d3-e3f4-9ff610c6fb9f"
   },
   "outputs": [
    {
     "name": "stdout",
     "output_type": "stream",
     "text": [
      "==> Negative Accuracy: 0.9591836734693877\n",
      "==> Positive Accuracy: 0.961768219832736\n",
      "==> Total Accuracy: 0.9614973262032086\n",
      "==> Total Runtime: 26.068453311920166\n"
     ]
    }
   ],
   "source": [
    "# calculate the accuracy\n",
    "print(f'==> Negative Accuracy: {roberta_correct[0]/roberta_total[0]}')\n",
    "print(f'==> Positive Accuracy: {roberta_correct[1]/roberta_total[1]}')\n",
    "print(f'==> Total Accuracy: {np.sum(roberta_correct) / np.sum(roberta_total)}')\n",
    "print(f'==> Total Runtime: {roberta_runtime}')"
   ]
  },
  {
   "cell_type": "markdown",
   "metadata": {},
   "source": [
    "#### Electra Pipeline"
   ]
  },
  {
   "cell_type": "code",
   "execution_count": 24,
   "metadata": {},
   "outputs": [],
   "source": [
    "pipe_electra = pipeline(\"text-classification\", model=\"pig4431/amazonPolarity_ELECTRA_5E\")"
   ]
  },
  {
   "cell_type": "code",
   "execution_count": 25,
   "metadata": {},
   "outputs": [
    {
     "data": {
      "text/plain": [
       "109483778"
      ]
     },
     "execution_count": 25,
     "metadata": {},
     "output_type": "execute_result"
    }
   ],
   "source": [
    "pipe_electra.model.num_parameters()"
   ]
  },
  {
   "cell_type": "code",
   "execution_count": 9,
   "metadata": {},
   "outputs": [
    {
     "name": "stdout",
     "output_type": "stream",
     "text": [
      "I was checking on this book because I just recommended it as an acquisition for the library at the community colllege where I teach.  The book describes the life of a brilliant Nobel Prize-winning physicist, and shows him as a completely accessible human being.  He gives a marvelously entertaining account of some of the experiments he conducted while a college undergraduate - all of them completely understandable to a layperson.  But the book continues through his adult life: his attempts to learn Japanese, his experiences as a patron and legal defender of a local strip club, his encounters with military stuffed shirts during WWII, and dozens of other adventures.  If you want to convince yourself or someone else that it's possible to be a brilliant scientist and a real human being simultaneously, then this is the book.  Both as entertainment and as information, it's a smashing success\n"
     ]
    },
    {
     "data": {
      "text/plain": [
       "[{'label': 'LABEL_1', 'score': 0.9992049336433411}]"
      ]
     },
     "execution_count": 9,
     "metadata": {},
     "output_type": "execute_result"
    }
   ],
   "source": [
    "# output example\n",
    "example = df['review_body'][93]\n",
    "print(example)\n",
    "pipe_electra(example)"
   ]
  },
  {
   "cell_type": "code",
   "execution_count": 13,
   "metadata": {},
   "outputs": [
    {
     "data": {
      "application/vnd.jupyter.widget-view+json": {
       "model_id": "1ef0227cd3034e9483847f1c1cff3bac",
       "version_major": 2,
       "version_minor": 0
      },
      "text/plain": [
       "  0%|          | 0/953 [00:00<?, ?it/s]"
      ]
     },
     "metadata": {},
     "output_type": "display_data"
    },
    {
     "name": "stderr",
     "output_type": "stream",
     "text": [
      "Token indices sequence length is longer than the specified maximum sequence length for this model (1932 > 512). Running this sequence through the model will result in indexing errors\n"
     ]
    },
    {
     "name": "stdout",
     "output_type": "stream",
     "text": [
      "76th row broke. The input text is too long.\n",
      "<class 'IndexError'>\n",
      "101th row broke. The input text is too long.\n",
      "<class 'IndexError'>\n",
      "209th row broke. The input text is too long.\n",
      "<class 'IndexError'>\n",
      "295th row broke. The input text is too long.\n",
      "<class 'IndexError'>\n",
      "330th row broke. The input text is too long.\n",
      "<class 'IndexError'>\n",
      "368th row broke. The input text is too long.\n",
      "<class 'IndexError'>\n",
      "616th row broke. The input text is too long.\n",
      "<class 'IndexError'>\n",
      "622th row broke. The input text is too long.\n",
      "<class 'IndexError'>\n",
      "660th row broke. The input text is too long.\n",
      "<class 'IndexError'>\n",
      "707th row broke. The input text is too long.\n",
      "<class 'IndexError'>\n",
      "708th row broke. The input text is too long.\n",
      "<class 'IndexError'>\n",
      "721th row broke. The input text is too long.\n",
      "<class 'IndexError'>\n",
      "777th row broke. The input text is too long.\n",
      "<class 'IndexError'>\n",
      "812th row broke. The input text is too long.\n",
      "<class 'IndexError'>\n",
      "818th row broke. The input text is too long.\n",
      "<class 'IndexError'>\n",
      "863th row broke. The input text is too long.\n",
      "<class 'IndexError'>\n"
     ]
    }
   ],
   "source": [
    "# evaluate the dataset on Electra\n",
    "electra_res, electra_correct, electra_total, electra_runtime = pipeline_eval(pipe_electra, df, 'LABEL_1', 'LABEL_0')"
   ]
  },
  {
   "cell_type": "code",
   "execution_count": 14,
   "metadata": {},
   "outputs": [
    {
     "name": "stdout",
     "output_type": "stream",
     "text": [
      "==> Negative Accuracy: 0.9494949494949495\n",
      "==> Positive Accuracy: 0.9582338902147971\n",
      "==> Total Accuracy: 0.9573105656350054\n",
      "==> Total Runtime: 58.141876459121704\n"
     ]
    }
   ],
   "source": [
    "# calculate the accuracy\n",
    "print(f'==> Negative Accuracy: {electra_correct[0]/electra_total[0]}')\n",
    "print(f'==> Positive Accuracy: {electra_correct[1]/electra_total[1]}')\n",
    "print(f'==> Total Accuracy: {np.sum(electra_correct) / np.sum(electra_total)}')\n",
    "print(f'==> Total Runtime: {electra_runtime}')"
   ]
  },
  {
   "cell_type": "markdown",
   "metadata": {
    "id": "Lf3yBnbLw5q4"
   },
   "source": [
    "### Step 3 - results evaluation\n",
    "\n",
    "\n",
    "> experiment results on 1000 rows(ignore star_rating==3) of amazon reviews\n",
    "\n",
    "\n"
   ]
  },
  {
   "cell_type": "markdown",
   "metadata": {
    "id": "TAaT1CqGx7kT"
   },
   "source": [
    "\n",
    "\n",
    "|Model|Bert|DistilBert|GPT2|Roberta|Electra|\n",
    "|-|-|-|-|-|-|\n",
    "|Accuracy|0.931|0.957|0.927|**0.961**|0.9573|\n",
    "|Runtime(GPU)/s|23.34|**14.03**|-|64.72|12.39|\n",
    "|Runtime(CPU)/s|408.1|**168.5**|397.4|1173.81|58.14|\n"
   ]
  },
  {
   "cell_type": "markdown",
   "metadata": {},
   "source": [
    "> combine the results from 4 NLP models"
   ]
  },
  {
   "cell_type": "code",
   "execution_count": 31,
   "metadata": {},
   "outputs": [
    {
     "data": {
      "text/html": [
       "<div>\n",
       "<style scoped>\n",
       "    .dataframe tbody tr th:only-of-type {\n",
       "        vertical-align: middle;\n",
       "    }\n",
       "\n",
       "    .dataframe tbody tr th {\n",
       "        vertical-align: top;\n",
       "    }\n",
       "\n",
       "    .dataframe thead th {\n",
       "        text-align: right;\n",
       "    }\n",
       "</style>\n",
       "<table border=\"1\" class=\"dataframe\">\n",
       "  <thead>\n",
       "    <tr style=\"text-align: right;\">\n",
       "      <th></th>\n",
       "      <th>electra_label</th>\n",
       "      <th>electra_score</th>\n",
       "      <th>Id</th>\n",
       "      <th>roberta_label</th>\n",
       "      <th>roberta_score</th>\n",
       "      <th>gpt2_label</th>\n",
       "      <th>gpt2_score</th>\n",
       "      <th>distilbert_label</th>\n",
       "      <th>distilbert_score</th>\n",
       "      <th>bert_label</th>\n",
       "      <th>bert_score</th>\n",
       "      <th>star_rating</th>\n",
       "      <th>review_headline</th>\n",
       "      <th>review_body</th>\n",
       "    </tr>\n",
       "  </thead>\n",
       "  <tbody>\n",
       "    <tr>\n",
       "      <th>0</th>\n",
       "      <td>LABEL_1</td>\n",
       "      <td>0.999072</td>\n",
       "      <td>0</td>\n",
       "      <td>POSITIVE</td>\n",
       "      <td>0.998651</td>\n",
       "      <td>LABEL_1</td>\n",
       "      <td>0.995611</td>\n",
       "      <td>positive</td>\n",
       "      <td>0.940794</td>\n",
       "      <td>positive</td>\n",
       "      <td>0.999274</td>\n",
       "      <td>4.0</td>\n",
       "      <td>ignore the review below</td>\n",
       "      <td>this is the first 8 issues of the series. it i...</td>\n",
       "    </tr>\n",
       "    <tr>\n",
       "      <th>1</th>\n",
       "      <td>LABEL_1</td>\n",
       "      <td>0.999138</td>\n",
       "      <td>1</td>\n",
       "      <td>POSITIVE</td>\n",
       "      <td>0.998186</td>\n",
       "      <td>LABEL_1</td>\n",
       "      <td>0.692617</td>\n",
       "      <td>positive</td>\n",
       "      <td>0.93976</td>\n",
       "      <td>positive</td>\n",
       "      <td>0.997928</td>\n",
       "      <td>4.0</td>\n",
       "      <td>awesome</td>\n",
       "      <td>I've always been partial to immutable laws. Th...</td>\n",
       "    </tr>\n",
       "    <tr>\n",
       "      <th>2</th>\n",
       "      <td>LABEL_1</td>\n",
       "      <td>0.999112</td>\n",
       "      <td>2</td>\n",
       "      <td>POSITIVE</td>\n",
       "      <td>0.998927</td>\n",
       "      <td>LABEL_1</td>\n",
       "      <td>0.998892</td>\n",
       "      <td>positive</td>\n",
       "      <td>0.985596</td>\n",
       "      <td>positive</td>\n",
       "      <td>0.999536</td>\n",
       "      <td>5.0</td>\n",
       "      <td>Read the book. It's good.</td>\n",
       "      <td>This is a book about first contact with aliens...</td>\n",
       "    </tr>\n",
       "    <tr>\n",
       "      <th>3</th>\n",
       "      <td>LABEL_1</td>\n",
       "      <td>0.998181</td>\n",
       "      <td>3</td>\n",
       "      <td>POSITIVE</td>\n",
       "      <td>0.998828</td>\n",
       "      <td>LABEL_1</td>\n",
       "      <td>0.99923</td>\n",
       "      <td>positive</td>\n",
       "      <td>0.995864</td>\n",
       "      <td>positive</td>\n",
       "      <td>0.999416</td>\n",
       "      <td>5.0</td>\n",
       "      <td>Funniest book ever written about the Anti-Christ</td>\n",
       "      <td>This is quite possibly *the* funniest book I h...</td>\n",
       "    </tr>\n",
       "    <tr>\n",
       "      <th>4</th>\n",
       "      <td>LABEL_1</td>\n",
       "      <td>0.997729</td>\n",
       "      <td>4</td>\n",
       "      <td>POSITIVE</td>\n",
       "      <td>0.995492</td>\n",
       "      <td>LABEL_1</td>\n",
       "      <td>0.921034</td>\n",
       "      <td>positive</td>\n",
       "      <td>0.962026</td>\n",
       "      <td>positive</td>\n",
       "      <td>0.991981</td>\n",
       "      <td>5.0</td>\n",
       "      <td>A winner that didn't last. Only a mothers love...</td>\n",
       "      <td>The story behind the book is almost better tha...</td>\n",
       "    </tr>\n",
       "    <tr>\n",
       "      <th>...</th>\n",
       "      <td>...</td>\n",
       "      <td>...</td>\n",
       "      <td>...</td>\n",
       "      <td>...</td>\n",
       "      <td>...</td>\n",
       "      <td>...</td>\n",
       "      <td>...</td>\n",
       "      <td>...</td>\n",
       "      <td>...</td>\n",
       "      <td>...</td>\n",
       "      <td>...</td>\n",
       "      <td>...</td>\n",
       "      <td>...</td>\n",
       "      <td>...</td>\n",
       "    </tr>\n",
       "    <tr>\n",
       "      <th>948</th>\n",
       "      <td>LABEL_0</td>\n",
       "      <td>0.999799</td>\n",
       "      <td>995</td>\n",
       "      <td>NEGATIVE</td>\n",
       "      <td>0.999511</td>\n",
       "      <td>LABEL_0</td>\n",
       "      <td>0.977122</td>\n",
       "      <td>negative</td>\n",
       "      <td>0.999526</td>\n",
       "      <td>negative</td>\n",
       "      <td>0.999783</td>\n",
       "      <td>2.0</td>\n",
       "      <td>well, maybe I should try it again</td>\n",
       "      <td>It has been a long, long time since I didn't f...</td>\n",
       "    </tr>\n",
       "    <tr>\n",
       "      <th>949</th>\n",
       "      <td>LABEL_1</td>\n",
       "      <td>0.997758</td>\n",
       "      <td>996</td>\n",
       "      <td>POSITIVE</td>\n",
       "      <td>0.998879</td>\n",
       "      <td>LABEL_1</td>\n",
       "      <td>0.999413</td>\n",
       "      <td>positive</td>\n",
       "      <td>0.994697</td>\n",
       "      <td>positive</td>\n",
       "      <td>0.999126</td>\n",
       "      <td>5.0</td>\n",
       "      <td>An enjoyable read!</td>\n",
       "      <td>Scarpetta remains one of the most compelling c...</td>\n",
       "    </tr>\n",
       "    <tr>\n",
       "      <th>950</th>\n",
       "      <td>LABEL_1</td>\n",
       "      <td>0.99931</td>\n",
       "      <td>997</td>\n",
       "      <td>POSITIVE</td>\n",
       "      <td>0.998885</td>\n",
       "      <td>LABEL_1</td>\n",
       "      <td>0.998895</td>\n",
       "      <td>positive</td>\n",
       "      <td>0.995815</td>\n",
       "      <td>positive</td>\n",
       "      <td>0.999779</td>\n",
       "      <td>5.0</td>\n",
       "      <td>If You Have to Pick One Book for Your Students...</td>\n",
       "      <td>I am a college professor.  I have been having ...</td>\n",
       "    </tr>\n",
       "    <tr>\n",
       "      <th>951</th>\n",
       "      <td>LABEL_1</td>\n",
       "      <td>0.99912</td>\n",
       "      <td>998</td>\n",
       "      <td>POSITIVE</td>\n",
       "      <td>0.998934</td>\n",
       "      <td>LABEL_1</td>\n",
       "      <td>0.999746</td>\n",
       "      <td>positive</td>\n",
       "      <td>0.993745</td>\n",
       "      <td>positive</td>\n",
       "      <td>0.999837</td>\n",
       "      <td>5.0</td>\n",
       "      <td>This is for anyone who loves literature</td>\n",
       "      <td>This is a book to the heart, with the wisdom o...</td>\n",
       "    </tr>\n",
       "    <tr>\n",
       "      <th>952</th>\n",
       "      <td>LABEL_1</td>\n",
       "      <td>0.999238</td>\n",
       "      <td>999</td>\n",
       "      <td>POSITIVE</td>\n",
       "      <td>0.998926</td>\n",
       "      <td>LABEL_1</td>\n",
       "      <td>0.998416</td>\n",
       "      <td>positive</td>\n",
       "      <td>0.998159</td>\n",
       "      <td>positive</td>\n",
       "      <td>0.999011</td>\n",
       "      <td>5.0</td>\n",
       "      <td>beyond Phenominal!  The right word isn't inven...</td>\n",
       "      <td>This recording goes beyond anything I have eve...</td>\n",
       "    </tr>\n",
       "  </tbody>\n",
       "</table>\n",
       "<p>953 rows × 14 columns</p>\n",
       "</div>"
      ],
      "text/plain": [
       "    electra_label electra_score   Id roberta_label roberta_score gpt2_label  \\\n",
       "0         LABEL_1      0.999072    0      POSITIVE      0.998651    LABEL_1   \n",
       "1         LABEL_1      0.999138    1      POSITIVE      0.998186    LABEL_1   \n",
       "2         LABEL_1      0.999112    2      POSITIVE      0.998927    LABEL_1   \n",
       "3         LABEL_1      0.998181    3      POSITIVE      0.998828    LABEL_1   \n",
       "4         LABEL_1      0.997729    4      POSITIVE      0.995492    LABEL_1   \n",
       "..            ...           ...  ...           ...           ...        ...   \n",
       "948       LABEL_0      0.999799  995      NEGATIVE      0.999511    LABEL_0   \n",
       "949       LABEL_1      0.997758  996      POSITIVE      0.998879    LABEL_1   \n",
       "950       LABEL_1       0.99931  997      POSITIVE      0.998885    LABEL_1   \n",
       "951       LABEL_1       0.99912  998      POSITIVE      0.998934    LABEL_1   \n",
       "952       LABEL_1      0.999238  999      POSITIVE      0.998926    LABEL_1   \n",
       "\n",
       "    gpt2_score distilbert_label distilbert_score bert_label bert_score  \\\n",
       "0     0.995611         positive         0.940794   positive   0.999274   \n",
       "1     0.692617         positive          0.93976   positive   0.997928   \n",
       "2     0.998892         positive         0.985596   positive   0.999536   \n",
       "3      0.99923         positive         0.995864   positive   0.999416   \n",
       "4     0.921034         positive         0.962026   positive   0.991981   \n",
       "..         ...              ...              ...        ...        ...   \n",
       "948   0.977122         negative         0.999526   negative   0.999783   \n",
       "949   0.999413         positive         0.994697   positive   0.999126   \n",
       "950   0.998895         positive         0.995815   positive   0.999779   \n",
       "951   0.999746         positive         0.993745   positive   0.999837   \n",
       "952   0.998416         positive         0.998159   positive   0.999011   \n",
       "\n",
       "     star_rating                                    review_headline  \\\n",
       "0            4.0                            ignore the review below   \n",
       "1            4.0                                            awesome   \n",
       "2            5.0                          Read the book. It's good.   \n",
       "3            5.0   Funniest book ever written about the Anti-Christ   \n",
       "4            5.0  A winner that didn't last. Only a mothers love...   \n",
       "..           ...                                                ...   \n",
       "948          2.0                  well, maybe I should try it again   \n",
       "949          5.0                                 An enjoyable read!   \n",
       "950          5.0  If You Have to Pick One Book for Your Students...   \n",
       "951          5.0            This is for anyone who loves literature   \n",
       "952          5.0  beyond Phenominal!  The right word isn't inven...   \n",
       "\n",
       "                                           review_body  \n",
       "0    this is the first 8 issues of the series. it i...  \n",
       "1    I've always been partial to immutable laws. Th...  \n",
       "2    This is a book about first contact with aliens...  \n",
       "3    This is quite possibly *the* funniest book I h...  \n",
       "4    The story behind the book is almost better tha...  \n",
       "..                                                 ...  \n",
       "948  It has been a long, long time since I didn't f...  \n",
       "949  Scarpetta remains one of the most compelling c...  \n",
       "950  I am a college professor.  I have been having ...  \n",
       "951  This is a book to the heart, with the wisdom o...  \n",
       "952  This recording goes beyond anything I have eve...  \n",
       "\n",
       "[953 rows x 14 columns]"
      ]
     },
     "execution_count": 31,
     "metadata": {},
     "output_type": "execute_result"
    }
   ],
   "source": [
    "results_df = df.copy()\n",
    "\n",
    "# merge bert results\n",
    "bert_df = pd.DataFrame(bert_res).T\n",
    "bert_df = bert_df.rename(columns={'label':'bert_label', 'score':'bert_score'})\n",
    "results_df = bert_df.merge(results_df, on='Id', how='right')\n",
    "\n",
    "# merge distilbert results\n",
    "distilbert_df = pd.DataFrame(distilbert_res).T\n",
    "distilbert_df = distilbert_df.rename(columns={'label':'distilbert_label', 'score':'distilbert_score'})\n",
    "results_df = distilbert_df.merge(results_df, on='Id', how='right')\n",
    "\n",
    "# merge gpt2 results\n",
    "gpt2_df = pd.DataFrame(gpt2_res).T\n",
    "gpt2_df = gpt2_df.rename(columns={'label':'gpt2_label', 'score':'gpt2_score'})\n",
    "results_df = gpt2_df.merge(results_df, on='Id', how='right')\n",
    "\n",
    "# merge roberta results\n",
    "roberta_df = pd.DataFrame(roberta_res).T\n",
    "roberta_df = roberta_df.rename(columns={'label':'roberta_label', 'score':'roberta_score'})\n",
    "results_df = roberta_df.merge(results_df, on='Id', how='right')\n",
    "\n",
    "# merge electra results\n",
    "electra_df = pd.DataFrame(electra_res).T\n",
    "electra_df = electra_df.rename(columns={'label':'electra_label', 'score':'electra_score'})\n",
    "results_df = electra_df.merge(results_df, on='Id', how='right')\n",
    "\n",
    "results_df"
   ]
  },
  {
   "cell_type": "markdown",
   "metadata": {},
   "source": [
    "> bert model failure cases"
   ]
  },
  {
   "cell_type": "code",
   "execution_count": 91,
   "metadata": {},
   "outputs": [
    {
     "name": "stdout",
     "output_type": "stream",
     "text": [
      "===> False Positive:\n",
      " title: Disappointing \n",
      " Enjoyed the book.  Hated the ending\n",
      "\n",
      "===> False Negative:\n",
      " title: The infamous classic of modern fiction. \n",
      " Burgess himself has criticized and attacked this novel which he published in 1968, but which has come to be regarded alongside such dystopian classics as _Brave New World_ and,  perhaps more appropriately, Yevgeny Zamyatin's _We_. An  unsparing story of a sociopathic hoodlum, Alex, _A Clockwork  Orange_ is shocking and often a difficult read despite the  bizarre and sometimes surreal street language employed by  its narrator, a dialect of some archaic words, a few   neologisms, and a great deal of Anglicized Russian. The   film by Stanley Kubrick is equally disturbing, but, as   Burgess himself notes in the introduction to this edition,  leaves off the crucial twenty-first chapter, a chapter that  is vital to the book both for its numerical significance  (twenty-one being considered the age of maturity), and its  philosophical poignance.\n",
      "\n",
      "===> Total False Positive: 3\n",
      "===> Total False Negative: 62\n"
     ]
    }
   ],
   "source": [
    "# False Positive\n",
    "fp = results_df.query('star_rating in (1.0,2.0) and bert_label == \"positive\"')\n",
    "\n",
    "# False Negative\n",
    "fn = results_df.query('star_rating in (5.0,4.0) and bert_label == \"negative\"')\n",
    "if len(fp) > 0:\n",
    "    print(f'===> False Positive:\\n title: {fp[\"review_headline\"].values[2]} \\n {fp[\"review_body\"].values[2]}\\n')\n",
    "if len(fn) > 0:\n",
    "    print(f'===> False Negative:\\n title: {fn[\"review_headline\"].values[2]} \\n {fn[\"review_body\"].values[2]}\\n')\n",
    "print(f'===> Total False Positive: {len(fp)}')\n",
    "print(f'===> Total False Negative: {len(fn)}')"
   ]
  },
  {
   "cell_type": "markdown",
   "metadata": {},
   "source": [
    "> distilbert model failure cases"
   ]
  },
  {
   "cell_type": "code",
   "execution_count": 92,
   "metadata": {},
   "outputs": [
    {
     "name": "stdout",
     "output_type": "stream",
     "text": [
      "===> False Positive:\n",
      " title: Grisham needs a co-author \n",
      " The Client again demonstrates that success is built upon the abysmally low standards of the American reader and the resonance engendered in that public by detailing the slime of the American legal system. The book is a tour de force of weaving together a cast of cartoon characters, farcical plot  and a No Henry ending by means of talented prose. The guy can write but he demonstratively lacks anything to write about. Grisham's motto appears to be: Suspend any rational though when you read this book.<br /><br />His books fall into two classes: 1) Hate &quot;whitey&quot; polemics and 2) Action-Suspense without suspense but with random action.<br /> He would please me if he would join forces with another writer who had a head for story line, character development and had a logical mind. With such help, a future Grisham novel could make sense as well as have great surging prose style.\n",
      "\n",
      "===> False Negative:\n",
      " title: An excellent treatise on happiness. \n",
      " The optimal flow model is an excellent conceptualization of our search for happiness.  However, the exemplars of this model include the Nazi war criminal Eichmann, which made me question mine and the author's notion of happiness\n",
      "\n",
      "===> Total False Positive: 9\n",
      "===> Total False Negative: 31\n"
     ]
    }
   ],
   "source": [
    "# False Positive\n",
    "fp = results_df.query('star_rating in (1.0,2.0) and distilbert_label == \"positive\"')\n",
    "\n",
    "# False Negative\n",
    "fn = results_df.query('star_rating in (5.0,4.0) and distilbert_label == \"negative\"')\n",
    "if len(fp) > 0:\n",
    "    print(f'===> False Positive:\\n title: {fp[\"review_headline\"].values[2]} \\n {fp[\"review_body\"].values[2]}\\n')\n",
    "if len(fn) > 0:\n",
    "    print(f'===> False Negative:\\n title: {fn[\"review_headline\"].values[2]} \\n {fn[\"review_body\"].values[2]}\\n')\n",
    "print(f'===> Total False Positive: {len(fp)}')\n",
    "print(f'===> Total False Negative: {len(fn)}')"
   ]
  },
  {
   "cell_type": "markdown",
   "metadata": {},
   "source": [
    "> GPT2 model failure cases"
   ]
  },
  {
   "cell_type": "code",
   "execution_count": 93,
   "metadata": {},
   "outputs": [
    {
     "name": "stdout",
     "output_type": "stream",
     "text": [
      "===> False Positive:\n",
      " title: Evil Triumphs Over Evil:  Who Cares? \n",
      " An entertaining enough potboiler, but the characters are all sodespicable I found myself hoping they all lost.  This book makes oneappreciate how much better the legal suspense genre is currently being written by others, especially Scott Turow.\n",
      "\n",
      "===> False Negative:\n",
      " title: Excellent historical fiction, well written \n",
      " It really happened: only the names have been changed...<BR>  Yoshi Toranaga was Tokugawa Ieyasu, the founder of the  Tokugawa Shogunate. There really was a Battle of Sekigahara,    although Ishido (Ishida Mitsunari) was beheaded, not buried   while passers-by sawed at his neck... Toda Buntaro   (Lord Hosokawa) had a Christian wife, Gracia (who appears   in the story as Mariko). The Taiko was Toyotomi Hideyoshi,   and he really did order an invasion of Korea. The dictator   Goroda was Oda Nobunaga, and he was a nasty S.O.B., even   by daimyo standards. <br />   [...] &quot;The Crisis Manager&quot;\n",
      "\n",
      "===> Total False Positive: 11\n",
      "===> Total False Negative: 58\n"
     ]
    }
   ],
   "source": [
    "# False Positive\n",
    "fp = results_df.query('star_rating in (1.0,2.0) and gpt2_label == \"LABEL_1\"')\n",
    "\n",
    "# False Negative\n",
    "fn = results_df.query('star_rating in (5.0,4.0) and gpt2_label == \"LABEL_0\"')\n",
    "if len(fp) > 0:\n",
    "    print(f'===> False Positive:\\n title: {fp[\"review_headline\"].values[2]} \\n {fp[\"review_body\"].values[2]}\\n')\n",
    "if len(fn) > 0:\n",
    "    print(f'===> False Negative:\\n title: {fn[\"review_headline\"].values[2]} \\n {fn[\"review_body\"].values[2]}\\n')\n",
    "print(f'===> Total False Positive: {len(fp)}')\n",
    "print(f'===> Total False Negative: {len(fn)}')"
   ]
  },
  {
   "cell_type": "markdown",
   "metadata": {},
   "source": [
    "> Roberta model failure cases"
   ]
  },
  {
   "cell_type": "code",
   "execution_count": 94,
   "metadata": {},
   "outputs": [
    {
     "name": "stdout",
     "output_type": "stream",
     "text": [
      "===> False Positive:\n",
      " title: an absorbing portrayal of interior thought. \n",
      " I found Albert Cohen's magnum opus \\\\\"Belle due Seigneur\\\\\" a very personal, idiosyncratic display of the workings of the internal dialogue. If nothing else, Mr. Cohen has caught the stuttering, semi-incoherent lilt of the person talking to themselves. His pacing is that of a daytime soap opera, and the internal chatter makes it very compelling and oddly reminiscent of Dune (Herbert Marshall).   Criticisms would include a cynical tone so profound that it becomes limiting.\n",
      "\n",
      "===> False Negative:\n",
      " title: The plot was good, but at the same time it was perverted \n",
      " I thought that the main idea of this was very good.  In the beginning it was very stupid though.  I don't really care that these people want to get a look at Boo Radley.  That is so stupid.  However towards the end, teh trail and the action sfollowing were very good.  This book was perverted though.  The author of this book was sick, I am sorry to say\n",
      "\n",
      "===> Total False Positive: 4\n",
      "===> Total False Negative: 32\n"
     ]
    }
   ],
   "source": [
    "# False Positive\n",
    "fp = results_df.query('star_rating in (1.0,2.0) and roberta_label == \"POSITIVE\"')\n",
    "\n",
    "# False Negative\n",
    "fn = results_df.query('star_rating in (5.0,4.0) and roberta_label == \"NEGATIVE\"')\n",
    "if len(fp) > 0:\n",
    "    print(f'===> False Positive:\\n title: {fp[\"review_headline\"].values[2]} \\n {fp[\"review_body\"].values[2]}\\n')\n",
    "if len(fn) > 0:\n",
    "    print(f'===> False Negative:\\n title: {fn[\"review_headline\"].values[2]} \\n {fn[\"review_body\"].values[2]}\\n')\n",
    "print(f'===> Total False Positive: {len(fp)}')\n",
    "print(f'===> Total False Negative: {len(fn)}')"
   ]
  },
  {
   "cell_type": "markdown",
   "metadata": {},
   "source": [
    "> Electra model failure cases"
   ]
  },
  {
   "cell_type": "code",
   "execution_count": 33,
   "metadata": {},
   "outputs": [
    {
     "name": "stdout",
     "output_type": "stream",
     "text": [
      "===> False Positive:\n",
      " title: Clarke too old to write new words \n",
      " <br />Have read all the books in this series, and literally got to read them again in this one. Clarke is one of the few authors in the world unafraid to plaigiarize himself.  Several of the chapters of this extremely slim volume are word-for-word lifts from the other books.<br />If your memory is bad or this is the first work of Clarke's that you've ever picked up, then you'll probably enjoy this little read, but I'd wait until it comes out in paperback if I were you\n",
      "\n",
      "===> False Negative:\n",
      " title: Horror creeps upon you like a cold wind \n",
      " Ten Strangers on a cold, isolated island.  Brought here by a queerly anonymous invitation.<br /><br />The evening begins with light conversation and witticisms.  But it soon degenerates into beastly fear and mistrust.  One by one, each of the 10 are being found murdered.  And the murdered is clearly one of the 10...but which one?<br /><br /> Every turn of the page is like stumbling through a dank horror house.  What grisly find waits around the next corner?<br /><br /> You'll never solve this mystery.  It's too cunning.  But you'll relish the goosebumps that sweep over you like a cold sea-wind, and the horror that catches in your throat like poisoned wine.\n",
      "\n",
      "===> Total False Positive: 5\n",
      "===> Total False Negative: 35\n"
     ]
    }
   ],
   "source": [
    "# False Positive\n",
    "fp = results_df.query('star_rating in (1.0,2.0) and electra_label == \"LABEL_1\"')\n",
    "\n",
    "# False Negative\n",
    "fn = results_df.query('star_rating in (5.0,4.0) and electra_label == \"LABEL_0\"')\n",
    "if len(fp) > 0:\n",
    "    print(f'===> False Positive:\\n title: {fp[\"review_headline\"].values[2]} \\n {fp[\"review_body\"].values[2]}\\n')\n",
    "if len(fn) > 0:\n",
    "    print(f'===> False Negative:\\n title: {fn[\"review_headline\"].values[2]} \\n {fn[\"review_body\"].values[2]}\\n')\n",
    "print(f'===> Total False Positive: {len(fp)}')\n",
    "print(f'===> Total False Negative: {len(fn)}')"
   ]
  },
  {
   "cell_type": "markdown",
   "metadata": {
    "id": "teaOxwIm002W"
   },
   "source": [
    "## Traditional NLP model Baseline on [Amazon Polarity Dataset](https://huggingface.co/datasets/amazon_polarity)"
   ]
  },
  {
   "cell_type": "markdown",
   "metadata": {
    "id": "nlcPo5n8P2TX",
    "jp-MarkdownHeadingCollapsed": true
   },
   "source": [
    "### Step 1 - Dataset Loading"
   ]
  },
  {
   "cell_type": "code",
   "execution_count": null,
   "metadata": {
    "colab": {
     "base_uri": "https://localhost:8080/"
    },
    "id": "J3lFT69qRG4A",
    "outputId": "b3938221-da6c-43c7-85c2-079c04ff9547"
   },
   "outputs": [
    {
     "name": "stdout",
     "output_type": "stream",
     "text": [
      "Collecting datasets\n",
      "  Downloading datasets-2.16.1-py3-none-any.whl (507 kB)\n",
      "\u001b[2K     \u001b[90m━━━━━━━━━━━━━━━━━━━━━━━━━━━━━━━━━━━━━━━━\u001b[0m \u001b[32m507.1/507.1 kB\u001b[0m \u001b[31m5.1 MB/s\u001b[0m eta \u001b[36m0:00:00\u001b[0m\n",
      "\u001b[?25hRequirement already satisfied: filelock in /usr/local/lib/python3.10/dist-packages (from datasets) (3.13.1)\n",
      "Requirement already satisfied: numpy>=1.17 in /usr/local/lib/python3.10/dist-packages (from datasets) (1.23.5)\n",
      "Requirement already satisfied: pyarrow>=8.0.0 in /usr/local/lib/python3.10/dist-packages (from datasets) (10.0.1)\n",
      "Requirement already satisfied: pyarrow-hotfix in /usr/local/lib/python3.10/dist-packages (from datasets) (0.6)\n",
      "Collecting dill<0.3.8,>=0.3.0 (from datasets)\n",
      "  Downloading dill-0.3.7-py3-none-any.whl (115 kB)\n",
      "\u001b[2K     \u001b[90m━━━━━━━━━━━━━━━━━━━━━━━━━━━━━━━━━━━━━━━━\u001b[0m \u001b[32m115.3/115.3 kB\u001b[0m \u001b[31m6.8 MB/s\u001b[0m eta \u001b[36m0:00:00\u001b[0m\n",
      "\u001b[?25hRequirement already satisfied: pandas in /usr/local/lib/python3.10/dist-packages (from datasets) (1.5.3)\n",
      "Requirement already satisfied: requests>=2.19.0 in /usr/local/lib/python3.10/dist-packages (from datasets) (2.31.0)\n",
      "Requirement already satisfied: tqdm>=4.62.1 in /usr/local/lib/python3.10/dist-packages (from datasets) (4.66.1)\n",
      "Requirement already satisfied: xxhash in /usr/local/lib/python3.10/dist-packages (from datasets) (3.4.1)\n",
      "Collecting multiprocess (from datasets)\n",
      "  Downloading multiprocess-0.70.16-py310-none-any.whl (134 kB)\n",
      "\u001b[2K     \u001b[90m━━━━━━━━━━━━━━━━━━━━━━━━━━━━━━━━━━━━━━━━\u001b[0m \u001b[32m134.8/134.8 kB\u001b[0m \u001b[31m5.6 MB/s\u001b[0m eta \u001b[36m0:00:00\u001b[0m\n",
      "\u001b[?25hRequirement already satisfied: fsspec[http]<=2023.10.0,>=2023.1.0 in /usr/local/lib/python3.10/dist-packages (from datasets) (2023.6.0)\n",
      "Requirement already satisfied: aiohttp in /usr/local/lib/python3.10/dist-packages (from datasets) (3.9.3)\n",
      "Requirement already satisfied: huggingface-hub>=0.19.4 in /usr/local/lib/python3.10/dist-packages (from datasets) (0.20.3)\n",
      "Requirement already satisfied: packaging in /usr/local/lib/python3.10/dist-packages (from datasets) (23.2)\n",
      "Requirement already satisfied: pyyaml>=5.1 in /usr/local/lib/python3.10/dist-packages (from datasets) (6.0.1)\n",
      "Requirement already satisfied: aiosignal>=1.1.2 in /usr/local/lib/python3.10/dist-packages (from aiohttp->datasets) (1.3.1)\n",
      "Requirement already satisfied: attrs>=17.3.0 in /usr/local/lib/python3.10/dist-packages (from aiohttp->datasets) (23.2.0)\n",
      "Requirement already satisfied: frozenlist>=1.1.1 in /usr/local/lib/python3.10/dist-packages (from aiohttp->datasets) (1.4.1)\n",
      "Requirement already satisfied: multidict<7.0,>=4.5 in /usr/local/lib/python3.10/dist-packages (from aiohttp->datasets) (6.0.4)\n",
      "Requirement already satisfied: yarl<2.0,>=1.0 in /usr/local/lib/python3.10/dist-packages (from aiohttp->datasets) (1.9.4)\n",
      "Requirement already satisfied: async-timeout<5.0,>=4.0 in /usr/local/lib/python3.10/dist-packages (from aiohttp->datasets) (4.0.3)\n",
      "Requirement already satisfied: typing-extensions>=3.7.4.3 in /usr/local/lib/python3.10/dist-packages (from huggingface-hub>=0.19.4->datasets) (4.5.0)\n",
      "Requirement already satisfied: charset-normalizer<4,>=2 in /usr/local/lib/python3.10/dist-packages (from requests>=2.19.0->datasets) (3.3.2)\n",
      "Requirement already satisfied: idna<4,>=2.5 in /usr/local/lib/python3.10/dist-packages (from requests>=2.19.0->datasets) (3.6)\n",
      "Requirement already satisfied: urllib3<3,>=1.21.1 in /usr/local/lib/python3.10/dist-packages (from requests>=2.19.0->datasets) (2.0.7)\n",
      "Requirement already satisfied: certifi>=2017.4.17 in /usr/local/lib/python3.10/dist-packages (from requests>=2.19.0->datasets) (2023.11.17)\n",
      "INFO: pip is looking at multiple versions of multiprocess to determine which version is compatible with other requirements. This could take a while.\n",
      "  Downloading multiprocess-0.70.15-py310-none-any.whl (134 kB)\n",
      "\u001b[2K     \u001b[90m━━━━━━━━━━━━━━━━━━━━━━━━━━━━━━━━━━━━━━━━\u001b[0m \u001b[32m134.8/134.8 kB\u001b[0m \u001b[31m8.5 MB/s\u001b[0m eta \u001b[36m0:00:00\u001b[0m\n",
      "\u001b[?25hRequirement already satisfied: python-dateutil>=2.8.1 in /usr/local/lib/python3.10/dist-packages (from pandas->datasets) (2.8.2)\n",
      "Requirement already satisfied: pytz>=2020.1 in /usr/local/lib/python3.10/dist-packages (from pandas->datasets) (2023.4)\n",
      "Requirement already satisfied: six>=1.5 in /usr/local/lib/python3.10/dist-packages (from python-dateutil>=2.8.1->pandas->datasets) (1.16.0)\n",
      "Installing collected packages: dill, multiprocess, datasets\n",
      "Successfully installed datasets-2.16.1 dill-0.3.7 multiprocess-0.70.15\n"
     ]
    }
   ],
   "source": [
    "!pip install datasets"
   ]
  },
  {
   "cell_type": "code",
   "execution_count": 13,
   "metadata": {
    "colab": {
     "base_uri": "https://localhost:8080/",
     "height": 81,
     "referenced_widgets": [
      "f106d318cdae4527a91076502e6d85ee",
      "f04e638866cd4ba281919f07009c0c6a",
      "9e4521da064d4ece8c2cad04083c2b68",
      "2b3804c5460d4548ba46c620d6247066",
      "d273d902a4de4817b5d4bdbfa3a8323a",
      "622edb8c83bb423488641131e61c7db6",
      "3fc41775ef804357a3ea5700d0a4f7d4",
      "11279087a58b42518b0680404a464db4",
      "e835f0f2f4ca4e74a11d4af5d6715991",
      "d3740c66ab8d4998928c750933537f36",
      "24d4728f0910446dac722769868f12b8",
      "5549c1be25d94a2e931416d773f0c03b",
      "b536d2433afd457689177df789d7e41f",
      "838d7c7e056b4813a81d3933a6febf4d",
      "d6d26d2ba4de42708d18e10f7ca50336",
      "9b7712486b4c48ceb68f9da71522381d",
      "e356322e451b41249152b71d2da0a327",
      "c3241d950eab459a9c17206f750d4d10",
      "d6bc6e3a844745b5876c0126f4c143f3",
      "21c5787f18de4a84a1be5af0822101fd",
      "3d80deb01dc74686bb1053747c9d462e",
      "d30b22f3164c4ad187f863026097b37e"
     ]
    },
    "id": "68ZFg1hLP8mg",
    "outputId": "8eee8361-2e19-449b-8551-45b82dfc29fb"
   },
   "outputs": [],
   "source": [
    "# run this when you have not downloaded the dataset\n",
    "from datasets import load_dataset\n",
    "\n",
    "dataset = load_dataset(\"amazon_polarity\", cache_dir=\"../data/capstone/amazon_polarity\")\n",
    "# dataset.save_to_disk('drive/MyDrive/Capstone/') # change the path to the local path"
   ]
  },
  {
   "cell_type": "code",
   "execution_count": null,
   "metadata": {
    "id": "GaH4_WVTT_7D"
   },
   "outputs": [],
   "source": [
    "# run this when you have already downloaded and save the dataset\n",
    "from datasets import load_from_disk\n",
    "dataset = load_from_disk('../data/capstone/amazon_polarity')"
   ]
  },
  {
   "cell_type": "code",
   "execution_count": 14,
   "metadata": {
    "colab": {
     "base_uri": "https://localhost:8080/"
    },
    "id": "KS-dX42DRlkX",
    "outputId": "f4883a4d-21dd-4e29-94b4-32a37c264d78"
   },
   "outputs": [
    {
     "name": "stdout",
     "output_type": "stream",
     "text": [
      "400000\n",
      "{'label': 1, 'title': 'Great CD', 'content': 'My lovely Pat has one of the GREAT voices of her generation. I have listened to this CD for YEARS and I still LOVE IT. When I\\'m in a good mood it makes me feel better. A bad mood just evaporates like sugar in the rain. This CD just oozes LIFE. Vocals are jusat STUUNNING and lyrics just kill. One of life\\'s hidden gems. This is a desert isle CD in my book. Why she never made it big is just beyond me. Everytime I play this, no matter black, white, young, old, male, female EVERYBODY says one thing \"Who was that singing ?\"'}\n"
     ]
    }
   ],
   "source": [
    "# example\n",
    "print(len(dataset['test']))\n",
    "print(dataset['test'][0])"
   ]
  },
  {
   "cell_type": "markdown",
   "metadata": {
    "id": "wDie_tOiSZ1M",
    "jp-MarkdownHeadingCollapsed": true
   },
   "source": [
    "### Step 2 - run pipeline"
   ]
  },
  {
   "cell_type": "code",
   "execution_count": 15,
   "metadata": {
    "id": "QMnTy6ZRSY-_"
   },
   "outputs": [],
   "source": [
    "def pipeline_eval2(pipe, data, positive_label, negative_label, maxlen = 40000):\n",
    "  res_dict = {}\n",
    "  correct = [0 for _ in range(2)]\n",
    "  total = [0 for _ in range(2)]\n",
    "\n",
    "  start_time = time.time()\n",
    "  for i, row in tqdm(enumerate(data), total=maxlen):\n",
    "    if i > maxlen:\n",
    "      break\n",
    "    try:\n",
    "      text = row['content']\n",
    "      result = pipe(text)[0]\n",
    "      res_dict[i] = result\n",
    "      if row['label'] == 0:\n",
    "        total[0] += 1\n",
    "        if result['label'] == negative_label:\n",
    "          correct[0] += 1\n",
    "      elif row['label'] == 1:\n",
    "        total[1] += 1\n",
    "        if result['label'] == positive_label:\n",
    "          correct[1] += 1\n",
    "    except RuntimeError:\n",
    "      print(f'{i}th row broke. The input text is too long.')\n",
    "    except IndexError:\n",
    "      print(f'{i}th row broke. The input text is too long.')\n",
    "  end_time = time.time()\n",
    "  runtime = end_time - start_time\n",
    "  return res_dict, correct, total, runtime"
   ]
  },
  {
   "cell_type": "code",
   "execution_count": 5,
   "metadata": {
    "id": "d3UzaL-0Xj2M"
   },
   "outputs": [
    {
     "name": "stderr",
     "output_type": "stream",
     "text": [
      "/home/xiao.yang3/.conda/envs/llama2/lib/python3.11/site-packages/transformers/utils/generic.py:260: UserWarning: torch.utils._pytree._register_pytree_node is deprecated. Please use torch.utils._pytree.register_pytree_node instead.\n",
      "  torch.utils._pytree._register_pytree_node(\n"
     ]
    }
   ],
   "source": [
    "from transformers import pipeline\n",
    "import numpy as np\n",
    "import time"
   ]
  },
  {
   "cell_type": "code",
   "execution_count": 6,
   "metadata": {
    "colab": {
     "base_uri": "https://localhost:8080/"
    },
    "id": "cWL2-piBaql_",
    "outputId": "bc433b13-68e3-45c1-ee94-757d03e5213b"
   },
   "outputs": [
    {
     "data": {
      "text/plain": [
       "{'label': 0,\n",
       " 'title': \"If I didn't have to choose at least one star I would give this film negative 1000\",\n",
       " 'content': \"I hate this movie. It truly is that clear cut. What do people see that isn't there. What isn't there precisely, you ask? Well, an innovative plot, quality acting, quality filmwork, a unique script, and something worth my time.Everyone reading the hails and praises of this film must recall that the people writing these responses are emotionally void and none too film savvy. It takes little more than taking off a pair of rose colored glasses to see the stink festering underneath this crapheap of a film.Fear Zach Braff. Fear.\"}"
      ]
     },
     "execution_count": 6,
     "metadata": {},
     "output_type": "execute_result"
    }
   ],
   "source": [
    "dataset['test'][40000]"
   ]
  },
  {
   "cell_type": "markdown",
   "metadata": {
    "id": "8yjHvzicXgo1",
    "jp-MarkdownHeadingCollapsed": true
   },
   "source": [
    "#### Bert Pipeline"
   ]
  },
  {
   "cell_type": "code",
   "execution_count": 19,
   "metadata": {
    "id": "L2Ipt2qHSfM_"
   },
   "outputs": [
    {
     "name": "stderr",
     "output_type": "stream",
     "text": [
      "/home/xiao.yang3/.conda/envs/llama2/lib/python3.11/site-packages/transformers/utils/generic.py:260: UserWarning: torch.utils._pytree._register_pytree_node is deprecated. Please use torch.utils._pytree.register_pytree_node instead.\n",
      "  torch.utils._pytree._register_pytree_node(\n"
     ]
    }
   ],
   "source": [
    "pipe_bert = pipeline(\"text-classification\", model=\"fabriceyhc/bert-base-uncased-amazon_polarity\", device=0)"
   ]
  },
  {
   "cell_type": "code",
   "execution_count": 20,
   "metadata": {
    "colab": {
     "base_uri": "https://localhost:8080/",
     "height": 105,
     "referenced_widgets": [
      "9192e3a7cf27421da2151aa1f7174349",
      "1ff38dd466da4e039f048c0cf3a1f06e",
      "f1e252ccf3614a4cb2df2ec365acffc4",
      "b09d6d13dd8b49d1968c4474c9387b9d",
      "b315a9a8382d410499a7170684f655dc",
      "5ee3397c7bd744fcad38333327e435b4",
      "d4ce95a92f8f4b398be97cd623d02e7b",
      "9d0605555fc54204a7e0b6b4049d3f8f",
      "907a135b5d20455abd5c9883d0995251",
      "ecf15700069a429db1741a59927039d6",
      "857e21dbaba3472abb96bbc165cbb3e2"
     ]
    },
    "id": "X3e2WMYBX53t",
    "outputId": "63e4b05a-fd2d-4643-8f21-e60b1048eeb3"
   },
   "outputs": [
    {
     "data": {
      "application/vnd.jupyter.widget-view+json": {
       "model_id": "3d5abe4937dd401e90504b7a88f43a3b",
       "version_major": 2,
       "version_minor": 0
      },
      "text/plain": [
       "  0%|          | 0/40000 [00:00<?, ?it/s]"
      ]
     },
     "metadata": {},
     "output_type": "display_data"
    },
    {
     "name": "stderr",
     "output_type": "stream",
     "text": [
      "/home/xiao.yang3/.conda/envs/llama2/lib/python3.11/site-packages/transformers/pipelines/base.py:1090: UserWarning: You seem to be using the pipelines sequentially on GPU. In order to maximize efficiency please use a dataset\n",
      "  warnings.warn(\n"
     ]
    }
   ],
   "source": [
    "# evaluate the test set with BERT\n",
    "bert_res, bert_correct, bert_total, bert_runtime = pipeline_eval2(pipe_bert, dataset['test'], 'positive', 'negative')"
   ]
  },
  {
   "cell_type": "code",
   "execution_count": 21,
   "metadata": {
    "colab": {
     "base_uri": "https://localhost:8080/"
    },
    "id": "e_4lSErdX-cM",
    "outputId": "36bb8406-5ce4-4b67-ba7e-75667eacf65b"
   },
   "outputs": [
    {
     "name": "stdout",
     "output_type": "stream",
     "text": [
      "==> Negative Accuracy: 0.9509724060686284\n",
      "==> Positive Accuracy: 0.9357532295299377\n",
      "==> Total Accuracy: 0.9432264193395166\n",
      "==> Total Runtime: 270.15666127204895\n"
     ]
    }
   ],
   "source": [
    "# calculate the accuracy\n",
    "print(f'==> Negative Accuracy: {bert_correct[0]/bert_total[0]}')\n",
    "print(f'==> Positive Accuracy: {bert_correct[1]/bert_total[1]}')\n",
    "print(f'==> Total Accuracy: {np.sum(bert_correct) / np.sum(bert_total)}')\n",
    "print(f'==> Total Runtime: {bert_runtime}')"
   ]
  },
  {
   "cell_type": "markdown",
   "metadata": {
    "id": "MgIU2UhkdfGT",
    "jp-MarkdownHeadingCollapsed": true
   },
   "source": [
    "#### DistilBert Pipeline"
   ]
  },
  {
   "cell_type": "code",
   "execution_count": 10,
   "metadata": {
    "id": "Ujaydm0khPzy"
   },
   "outputs": [],
   "source": [
    "pipe_distilbert = pipeline(\"text-classification\", model=\"AdamCodd/distilbert-base-uncased-finetuned-sentiment-amazon\", device = 0)"
   ]
  },
  {
   "cell_type": "code",
   "execution_count": 11,
   "metadata": {},
   "outputs": [
    {
     "data": {
      "application/vnd.jupyter.widget-view+json": {
       "model_id": "6b9314455d104ada9435bc2011cdfa22",
       "version_major": 2,
       "version_minor": 0
      },
      "text/plain": [
       "  0%|          | 0/40000 [00:00<?, ?it/s]"
      ]
     },
     "metadata": {},
     "output_type": "display_data"
    }
   ],
   "source": [
    "# evaluate the dataset on DistilBert\n",
    "distilbert_res, distilbert_correct, distilbert_total, distilbert_runtime = pipeline_eval2(pipe_distilbert, dataset['test'], 'positive', 'negative')"
   ]
  },
  {
   "cell_type": "code",
   "execution_count": 15,
   "metadata": {},
   "outputs": [
    {
     "name": "stdout",
     "output_type": "stream",
     "text": [
      "==> Negative Accuracy: 0.9332043580083494\n",
      "==> Positive Accuracy: 0.9512255022348839\n",
      "==> Total Accuracy: 0.9423764405889853\n",
      "==> Total Runtime: 288.0517086982727\n"
     ]
    }
   ],
   "source": [
    "# calculate the accuracy\n",
    "print(f'==> Negative Accuracy: {distilbert_correct[0]/distilbert_total[0]}')\n",
    "print(f'==> Positive Accuracy: {distilbert_correct[1]/distilbert_total[1]}')\n",
    "print(f'==> Total Accuracy: {np.sum(distilbert_correct) / np.sum(distilbert_total)}')\n",
    "print(f'==> Total Runtime: {distilbert_runtime}')"
   ]
  },
  {
   "cell_type": "markdown",
   "metadata": {
    "jp-MarkdownHeadingCollapsed": true
   },
   "source": [
    "#### GPT2 Pipeline"
   ]
  },
  {
   "cell_type": "code",
   "execution_count": 13,
   "metadata": {},
   "outputs": [],
   "source": [
    "pipe_gpt2 = pipeline(\"text-classification\", model=\"mnoukhov/gpt2-imdb-sentiment-classifier\")"
   ]
  },
  {
   "cell_type": "code",
   "execution_count": 14,
   "metadata": {},
   "outputs": [
    {
     "data": {
      "application/vnd.jupyter.widget-view+json": {
       "model_id": "c4b7139776154d7f9abfee19e85cf008",
       "version_major": 2,
       "version_minor": 0
      },
      "text/plain": [
       "  0%|          | 0/40000 [00:00<?, ?it/s]"
      ]
     },
     "metadata": {},
     "output_type": "display_data"
    }
   ],
   "source": [
    "# evaluate the dataset on GPT2\n",
    "gpt2_res, gpt2_correct, gpt2_total, gpt2_runtime = pipeline_eval2(pipe_gpt2, dataset['test'], 'LABEL_1', 'LABEL_0')"
   ]
  },
  {
   "cell_type": "code",
   "execution_count": 16,
   "metadata": {},
   "outputs": [
    {
     "name": "stdout",
     "output_type": "stream",
     "text": [
      "==> Negative Accuracy: 0.8825985133896752\n",
      "==> Positive Accuracy: 0.9389950390490692\n",
      "==> Total Accuracy: 0.9113022174445639\n",
      "==> Total Runtime: 1831.1833262443542\n"
     ]
    }
   ],
   "source": [
    "# calculate the accuracy\n",
    "print(f'==> Negative Accuracy: {gpt2_correct[0]/gpt2_total[0]}')\n",
    "print(f'==> Positive Accuracy: {gpt2_correct[1]/gpt2_total[1]}')\n",
    "print(f'==> Total Accuracy: {np.sum(gpt2_correct) / np.sum(gpt2_total)}')\n",
    "print(f'==> Total Runtime: {gpt2_runtime}')"
   ]
  },
  {
   "cell_type": "markdown",
   "metadata": {
    "jp-MarkdownHeadingCollapsed": true
   },
   "source": [
    "#### Roberta Pipeline"
   ]
  },
  {
   "cell_type": "code",
   "execution_count": 17,
   "metadata": {},
   "outputs": [],
   "source": [
    "pipe_roberta = pipeline(\"text-classification\", model=\"siebert/sentiment-roberta-large-english\", device = 0)"
   ]
  },
  {
   "cell_type": "code",
   "execution_count": 19,
   "metadata": {},
   "outputs": [
    {
     "data": {
      "application/vnd.jupyter.widget-view+json": {
       "model_id": "9a46bc0efb954c8b934cbd276fc2d325",
       "version_major": 2,
       "version_minor": 0
      },
      "text/plain": [
       "  0%|          | 0/40000 [00:00<?, ?it/s]"
      ]
     },
     "metadata": {},
     "output_type": "display_data"
    }
   ],
   "source": [
    "# evaluate the dataset on Roberta\n",
    "roberta_res, roberta_correct, roberta_total, roberta_runtime = pipeline_eval2(pipe_roberta, dataset['test'], 'POSITIVE', 'NEGATIVE')"
   ]
  },
  {
   "cell_type": "code",
   "execution_count": 20,
   "metadata": {},
   "outputs": [
    {
     "name": "stdout",
     "output_type": "stream",
     "text": [
      "==> Negative Accuracy: 0.9447103146319112\n",
      "==> Positive Accuracy: 0.9630139004862714\n",
      "==> Total Accuracy: 0.9540261493462664\n",
      "==> Total Runtime: 1004.050708770752\n"
     ]
    }
   ],
   "source": [
    "# calculate the accuracy\n",
    "print(f'==> Negative Accuracy: {roberta_correct[0]/roberta_total[0]}')\n",
    "print(f'==> Positive Accuracy: {roberta_correct[1]/roberta_total[1]}')\n",
    "print(f'==> Total Accuracy: {np.sum(roberta_correct) / np.sum(roberta_total)}')\n",
    "print(f'==> Total Runtime: {roberta_runtime}')"
   ]
  },
  {
   "cell_type": "markdown",
   "metadata": {
    "id": "HJZzGZeGYXmZ"
   },
   "source": [
    "### Step 3 - results evaluation\n",
    "\n",
    "> experiment results on 40000 rows from amazon polarity test set\n",
    "\n"
   ]
  },
  {
   "cell_type": "markdown",
   "metadata": {
    "id": "Vjpp5oH0YkhR"
   },
   "source": [
    "\n",
    "|Model|Bert|DistilBert|GPT2|Roberta|\n",
    "|-|-|-|-|-|\n",
    "|Accuracy|0.943|0.942|0.911|**0.954**|\n",
    "|Runtime(GPU)/s|516.14|**288.05**|-|1004.05|\n",
    "|Runtime(CPU)/s|||1831.18||\n"
   ]
  },
  {
   "cell_type": "markdown",
   "metadata": {},
   "source": [
    "> combine the results from 4 NLP models"
   ]
  },
  {
   "cell_type": "code",
   "execution_count": 32,
   "metadata": {},
   "outputs": [
    {
     "data": {
      "text/html": [
       "<div>\n",
       "<style scoped>\n",
       "    .dataframe tbody tr th:only-of-type {\n",
       "        vertical-align: middle;\n",
       "    }\n",
       "\n",
       "    .dataframe tbody tr th {\n",
       "        vertical-align: top;\n",
       "    }\n",
       "\n",
       "    .dataframe thead th {\n",
       "        text-align: right;\n",
       "    }\n",
       "</style>\n",
       "<table border=\"1\" class=\"dataframe\">\n",
       "  <thead>\n",
       "    <tr style=\"text-align: right;\">\n",
       "      <th></th>\n",
       "      <th>Id</th>\n",
       "      <th>label</th>\n",
       "      <th>review_headline</th>\n",
       "      <th>review_body</th>\n",
       "    </tr>\n",
       "  </thead>\n",
       "  <tbody>\n",
       "    <tr>\n",
       "      <th>0</th>\n",
       "      <td>0</td>\n",
       "      <td>1</td>\n",
       "      <td>Great CD</td>\n",
       "      <td>My lovely Pat has one of the GREAT voices of h...</td>\n",
       "    </tr>\n",
       "    <tr>\n",
       "      <th>1</th>\n",
       "      <td>1</td>\n",
       "      <td>1</td>\n",
       "      <td>One of the best game music soundtracks - for a...</td>\n",
       "      <td>Despite the fact that I have only played a sma...</td>\n",
       "    </tr>\n",
       "    <tr>\n",
       "      <th>2</th>\n",
       "      <td>2</td>\n",
       "      <td>0</td>\n",
       "      <td>Batteries died within a year ...</td>\n",
       "      <td>I bought this charger in Jul 2003 and it worke...</td>\n",
       "    </tr>\n",
       "    <tr>\n",
       "      <th>3</th>\n",
       "      <td>3</td>\n",
       "      <td>1</td>\n",
       "      <td>works fine, but Maha Energy is better</td>\n",
       "      <td>Check out Maha Energy's website. Their Powerex...</td>\n",
       "    </tr>\n",
       "    <tr>\n",
       "      <th>4</th>\n",
       "      <td>4</td>\n",
       "      <td>1</td>\n",
       "      <td>Great for the non-audiophile</td>\n",
       "      <td>Reviewed quite a bit of the combo players and ...</td>\n",
       "    </tr>\n",
       "    <tr>\n",
       "      <th>...</th>\n",
       "      <td>...</td>\n",
       "      <td>...</td>\n",
       "      <td>...</td>\n",
       "      <td>...</td>\n",
       "    </tr>\n",
       "    <tr>\n",
       "      <th>95</th>\n",
       "      <td>95</td>\n",
       "      <td>1</td>\n",
       "      <td>The Scarlet Letter a must read for any American</td>\n",
       "      <td>The best book that I have ever been assigned t...</td>\n",
       "    </tr>\n",
       "    <tr>\n",
       "      <th>96</th>\n",
       "      <td>96</td>\n",
       "      <td>0</td>\n",
       "      <td>The Scarlet Letter: A soap opera</td>\n",
       "      <td>Although this book, is considered a great work...</td>\n",
       "    </tr>\n",
       "    <tr>\n",
       "      <th>97</th>\n",
       "      <td>97</td>\n",
       "      <td>1</td>\n",
       "      <td>This book is Great!</td>\n",
       "      <td>One might notice that many of the negative rev...</td>\n",
       "    </tr>\n",
       "    <tr>\n",
       "      <th>98</th>\n",
       "      <td>98</td>\n",
       "      <td>0</td>\n",
       "      <td>I had to read it...</td>\n",
       "      <td>I had to read this book for school. I did not ...</td>\n",
       "    </tr>\n",
       "    <tr>\n",
       "      <th>99</th>\n",
       "      <td>99</td>\n",
       "      <td>1</td>\n",
       "      <td>Possibly the funniest movie ever made.</td>\n",
       "      <td>It starts off a bit slow, but once the product...</td>\n",
       "    </tr>\n",
       "  </tbody>\n",
       "</table>\n",
       "<p>100 rows × 4 columns</p>\n",
       "</div>"
      ],
      "text/plain": [
       "    Id  label                                    review_headline  \\\n",
       "0    0      1                                           Great CD   \n",
       "1    1      1  One of the best game music soundtracks - for a...   \n",
       "2    2      0                   Batteries died within a year ...   \n",
       "3    3      1              works fine, but Maha Energy is better   \n",
       "4    4      1                       Great for the non-audiophile   \n",
       "..  ..    ...                                                ...   \n",
       "95  95      1    The Scarlet Letter a must read for any American   \n",
       "96  96      0                   The Scarlet Letter: A soap opera   \n",
       "97  97      1                                This book is Great!   \n",
       "98  98      0                                I had to read it...   \n",
       "99  99      1             Possibly the funniest movie ever made.   \n",
       "\n",
       "                                          review_body  \n",
       "0   My lovely Pat has one of the GREAT voices of h...  \n",
       "1   Despite the fact that I have only played a sma...  \n",
       "2   I bought this charger in Jul 2003 and it worke...  \n",
       "3   Check out Maha Energy's website. Their Powerex...  \n",
       "4   Reviewed quite a bit of the combo players and ...  \n",
       "..                                                ...  \n",
       "95  The best book that I have ever been assigned t...  \n",
       "96  Although this book, is considered a great work...  \n",
       "97  One might notice that many of the negative rev...  \n",
       "98  I had to read this book for school. I did not ...  \n",
       "99  It starts off a bit slow, but once the product...  \n",
       "\n",
       "[100 rows x 4 columns]"
      ]
     },
     "execution_count": 32,
     "metadata": {},
     "output_type": "execute_result"
    }
   ],
   "source": [
    "results_df = pd.DataFrame(dataset['test'][:40000])\n",
    "results_df = results_df.reset_index().rename(columns={'index':'Id', 'title':'review_headline', 'content': 'review_body'})\n",
    "results_df.head(100)"
   ]
  },
  {
   "cell_type": "code",
   "execution_count": 33,
   "metadata": {},
   "outputs": [
    {
     "data": {
      "text/html": [
       "<div>\n",
       "<style scoped>\n",
       "    .dataframe tbody tr th:only-of-type {\n",
       "        vertical-align: middle;\n",
       "    }\n",
       "\n",
       "    .dataframe tbody tr th {\n",
       "        vertical-align: top;\n",
       "    }\n",
       "\n",
       "    .dataframe thead th {\n",
       "        text-align: right;\n",
       "    }\n",
       "</style>\n",
       "<table border=\"1\" class=\"dataframe\">\n",
       "  <thead>\n",
       "    <tr style=\"text-align: right;\">\n",
       "      <th></th>\n",
       "      <th>Id</th>\n",
       "      <th>roberta_label</th>\n",
       "      <th>roberta_score</th>\n",
       "      <th>gpt2_label</th>\n",
       "      <th>gpt2_score</th>\n",
       "      <th>distilbert_label</th>\n",
       "      <th>distilbert_score</th>\n",
       "      <th>bert_label</th>\n",
       "      <th>bert_score</th>\n",
       "      <th>label</th>\n",
       "      <th>review_headline</th>\n",
       "      <th>review_body</th>\n",
       "    </tr>\n",
       "  </thead>\n",
       "  <tbody>\n",
       "    <tr>\n",
       "      <th>0</th>\n",
       "      <td>0</td>\n",
       "      <td>POSITIVE</td>\n",
       "      <td>0.998855</td>\n",
       "      <td>LABEL_1</td>\n",
       "      <td>0.923132</td>\n",
       "      <td>positive</td>\n",
       "      <td>0.997834</td>\n",
       "      <td>positive</td>\n",
       "      <td>0.999375</td>\n",
       "      <td>1</td>\n",
       "      <td>Great CD</td>\n",
       "      <td>My lovely Pat has one of the GREAT voices of h...</td>\n",
       "    </tr>\n",
       "    <tr>\n",
       "      <th>1</th>\n",
       "      <td>1</td>\n",
       "      <td>POSITIVE</td>\n",
       "      <td>0.998923</td>\n",
       "      <td>LABEL_1</td>\n",
       "      <td>0.99978</td>\n",
       "      <td>positive</td>\n",
       "      <td>0.998908</td>\n",
       "      <td>positive</td>\n",
       "      <td>0.999857</td>\n",
       "      <td>1</td>\n",
       "      <td>One of the best game music soundtracks - for a...</td>\n",
       "      <td>Despite the fact that I have only played a sma...</td>\n",
       "    </tr>\n",
       "    <tr>\n",
       "      <th>2</th>\n",
       "      <td>2</td>\n",
       "      <td>NEGATIVE</td>\n",
       "      <td>0.999497</td>\n",
       "      <td>LABEL_0</td>\n",
       "      <td>0.875909</td>\n",
       "      <td>negative</td>\n",
       "      <td>0.999329</td>\n",
       "      <td>negative</td>\n",
       "      <td>0.999672</td>\n",
       "      <td>0</td>\n",
       "      <td>Batteries died within a year ...</td>\n",
       "      <td>I bought this charger in Jul 2003 and it worke...</td>\n",
       "    </tr>\n",
       "    <tr>\n",
       "      <th>3</th>\n",
       "      <td>3</td>\n",
       "      <td>POSITIVE</td>\n",
       "      <td>0.998713</td>\n",
       "      <td>LABEL_1</td>\n",
       "      <td>0.933973</td>\n",
       "      <td>positive</td>\n",
       "      <td>0.726695</td>\n",
       "      <td>positive</td>\n",
       "      <td>0.994726</td>\n",
       "      <td>1</td>\n",
       "      <td>works fine, but Maha Energy is better</td>\n",
       "      <td>Check out Maha Energy's website. Their Powerex...</td>\n",
       "    </tr>\n",
       "    <tr>\n",
       "      <th>4</th>\n",
       "      <td>4</td>\n",
       "      <td>POSITIVE</td>\n",
       "      <td>0.998811</td>\n",
       "      <td>LABEL_1</td>\n",
       "      <td>0.885195</td>\n",
       "      <td>positive</td>\n",
       "      <td>0.933509</td>\n",
       "      <td>positive</td>\n",
       "      <td>0.993844</td>\n",
       "      <td>1</td>\n",
       "      <td>Great for the non-audiophile</td>\n",
       "      <td>Reviewed quite a bit of the combo players and ...</td>\n",
       "    </tr>\n",
       "    <tr>\n",
       "      <th>...</th>\n",
       "      <td>...</td>\n",
       "      <td>...</td>\n",
       "      <td>...</td>\n",
       "      <td>...</td>\n",
       "      <td>...</td>\n",
       "      <td>...</td>\n",
       "      <td>...</td>\n",
       "      <td>...</td>\n",
       "      <td>...</td>\n",
       "      <td>...</td>\n",
       "      <td>...</td>\n",
       "      <td>...</td>\n",
       "    </tr>\n",
       "    <tr>\n",
       "      <th>95</th>\n",
       "      <td>95</td>\n",
       "      <td>POSITIVE</td>\n",
       "      <td>0.998883</td>\n",
       "      <td>LABEL_1</td>\n",
       "      <td>0.999897</td>\n",
       "      <td>positive</td>\n",
       "      <td>0.998502</td>\n",
       "      <td>positive</td>\n",
       "      <td>0.999853</td>\n",
       "      <td>1</td>\n",
       "      <td>The Scarlet Letter a must read for any American</td>\n",
       "      <td>The best book that I have ever been assigned t...</td>\n",
       "    </tr>\n",
       "    <tr>\n",
       "      <th>96</th>\n",
       "      <td>96</td>\n",
       "      <td>NEGATIVE</td>\n",
       "      <td>0.999515</td>\n",
       "      <td>LABEL_0</td>\n",
       "      <td>0.996421</td>\n",
       "      <td>negative</td>\n",
       "      <td>0.999293</td>\n",
       "      <td>negative</td>\n",
       "      <td>0.999907</td>\n",
       "      <td>0</td>\n",
       "      <td>The Scarlet Letter: A soap opera</td>\n",
       "      <td>Although this book, is considered a great work...</td>\n",
       "    </tr>\n",
       "    <tr>\n",
       "      <th>97</th>\n",
       "      <td>97</td>\n",
       "      <td>POSITIVE</td>\n",
       "      <td>0.997052</td>\n",
       "      <td>LABEL_1</td>\n",
       "      <td>0.969493</td>\n",
       "      <td>positive</td>\n",
       "      <td>0.663248</td>\n",
       "      <td>positive</td>\n",
       "      <td>0.982679</td>\n",
       "      <td>1</td>\n",
       "      <td>This book is Great!</td>\n",
       "      <td>One might notice that many of the negative rev...</td>\n",
       "    </tr>\n",
       "    <tr>\n",
       "      <th>98</th>\n",
       "      <td>98</td>\n",
       "      <td>NEGATIVE</td>\n",
       "      <td>0.999506</td>\n",
       "      <td>LABEL_0</td>\n",
       "      <td>0.954108</td>\n",
       "      <td>negative</td>\n",
       "      <td>0.998617</td>\n",
       "      <td>negative</td>\n",
       "      <td>0.999576</td>\n",
       "      <td>0</td>\n",
       "      <td>I had to read it...</td>\n",
       "      <td>I had to read this book for school. I did not ...</td>\n",
       "    </tr>\n",
       "    <tr>\n",
       "      <th>99</th>\n",
       "      <td>99</td>\n",
       "      <td>POSITIVE</td>\n",
       "      <td>0.998815</td>\n",
       "      <td>LABEL_1</td>\n",
       "      <td>0.716926</td>\n",
       "      <td>positive</td>\n",
       "      <td>0.883001</td>\n",
       "      <td>positive</td>\n",
       "      <td>0.992784</td>\n",
       "      <td>1</td>\n",
       "      <td>Possibly the funniest movie ever made.</td>\n",
       "      <td>It starts off a bit slow, but once the product...</td>\n",
       "    </tr>\n",
       "  </tbody>\n",
       "</table>\n",
       "<p>100 rows × 12 columns</p>\n",
       "</div>"
      ],
      "text/plain": [
       "    Id roberta_label roberta_score gpt2_label gpt2_score distilbert_label  \\\n",
       "0    0      POSITIVE      0.998855    LABEL_1   0.923132         positive   \n",
       "1    1      POSITIVE      0.998923    LABEL_1    0.99978         positive   \n",
       "2    2      NEGATIVE      0.999497    LABEL_0   0.875909         negative   \n",
       "3    3      POSITIVE      0.998713    LABEL_1   0.933973         positive   \n",
       "4    4      POSITIVE      0.998811    LABEL_1   0.885195         positive   \n",
       "..  ..           ...           ...        ...        ...              ...   \n",
       "95  95      POSITIVE      0.998883    LABEL_1   0.999897         positive   \n",
       "96  96      NEGATIVE      0.999515    LABEL_0   0.996421         negative   \n",
       "97  97      POSITIVE      0.997052    LABEL_1   0.969493         positive   \n",
       "98  98      NEGATIVE      0.999506    LABEL_0   0.954108         negative   \n",
       "99  99      POSITIVE      0.998815    LABEL_1   0.716926         positive   \n",
       "\n",
       "   distilbert_score bert_label bert_score  label  \\\n",
       "0          0.997834   positive   0.999375      1   \n",
       "1          0.998908   positive   0.999857      1   \n",
       "2          0.999329   negative   0.999672      0   \n",
       "3          0.726695   positive   0.994726      1   \n",
       "4          0.933509   positive   0.993844      1   \n",
       "..              ...        ...        ...    ...   \n",
       "95         0.998502   positive   0.999853      1   \n",
       "96         0.999293   negative   0.999907      0   \n",
       "97         0.663248   positive   0.982679      1   \n",
       "98         0.998617   negative   0.999576      0   \n",
       "99         0.883001   positive   0.992784      1   \n",
       "\n",
       "                                      review_headline  \\\n",
       "0                                            Great CD   \n",
       "1   One of the best game music soundtracks - for a...   \n",
       "2                    Batteries died within a year ...   \n",
       "3               works fine, but Maha Energy is better   \n",
       "4                        Great for the non-audiophile   \n",
       "..                                                ...   \n",
       "95    The Scarlet Letter a must read for any American   \n",
       "96                   The Scarlet Letter: A soap opera   \n",
       "97                                This book is Great!   \n",
       "98                                I had to read it...   \n",
       "99             Possibly the funniest movie ever made.   \n",
       "\n",
       "                                          review_body  \n",
       "0   My lovely Pat has one of the GREAT voices of h...  \n",
       "1   Despite the fact that I have only played a sma...  \n",
       "2   I bought this charger in Jul 2003 and it worke...  \n",
       "3   Check out Maha Energy's website. Their Powerex...  \n",
       "4   Reviewed quite a bit of the combo players and ...  \n",
       "..                                                ...  \n",
       "95  The best book that I have ever been assigned t...  \n",
       "96  Although this book, is considered a great work...  \n",
       "97  One might notice that many of the negative rev...  \n",
       "98  I had to read this book for school. I did not ...  \n",
       "99  It starts off a bit slow, but once the product...  \n",
       "\n",
       "[100 rows x 12 columns]"
      ]
     },
     "execution_count": 33,
     "metadata": {},
     "output_type": "execute_result"
    }
   ],
   "source": [
    "# merge bert results\n",
    "bert_df = pd.DataFrame(bert_res).T\n",
    "bert_df = bert_df.reset_index().rename(columns={'index':'Id', 'label':'bert_label', 'score':'bert_score'})\n",
    "results_df = bert_df.merge(results_df, on='Id', how='right')\n",
    "\n",
    "# merge distilbert results\n",
    "distilbert_df = pd.DataFrame(distilbert_res).T\n",
    "distilbert_df = distilbert_df.reset_index().rename(columns={'index':'Id','label':'distilbert_label', 'score':'distilbert_score'})\n",
    "results_df = distilbert_df.merge(results_df, on='Id', how='right')\n",
    "\n",
    "# merge gpt2 results\n",
    "gpt2_df = pd.DataFrame(gpt2_res).T\n",
    "gpt2_df = gpt2_df.reset_index().rename(columns={'index':'Id', 'label':'gpt2_label', 'score':'gpt2_score'})\n",
    "results_df = gpt2_df.merge(results_df, on='Id', how='right')\n",
    "\n",
    "# merge roberta results\n",
    "roberta_df = pd.DataFrame(roberta_res).T\n",
    "roberta_df = roberta_df.reset_index().rename(columns={'index':'Id', 'label':'roberta_label', 'score':'roberta_score'})\n",
    "results_df = roberta_df.merge(results_df, on='Id', how='right')\n",
    "\n",
    "results_df.head(100)"
   ]
  },
  {
   "cell_type": "markdown",
   "metadata": {},
   "source": [
    "> bert model failure cases"
   ]
  },
  {
   "cell_type": "code",
   "execution_count": 35,
   "metadata": {},
   "outputs": [
    {
     "name": "stdout",
     "output_type": "stream",
     "text": [
      "===> False Positive:\n",
      " title: A historical gem whose title obscures its intent \n",
      " Started laughing in the second chapter....enjoyed the book after I realized that I wasn't going to learn anything new. It's obviously a miracle that we survived for the 65 years since it was first published.And seeing that the pending insolvency of the US was as loudly shouted in the 40's as it is now was worth the price. This book had quotes that would shame both modern day political extremes in the US.Kudos to whoever owns the copyright --- now there's economics in action.\n",
      "\n",
      "===> False Negative:\n",
      " title: I recommend ordering a size or 2 larger than your regular size. \n",
      " I ordered the Squeem waist shaper in a size small...my general size is 4-6, I'm 5'4 and weigh 120lbs right now; over the winter I ate too much cheese and gained about 7 lbs which isn't much to complain about but I have a roll of belly fat that shows through a slinky dress (I just wanted to smooth out my middle and fat above my hips). I wish I'd ordered a medium (or even large) instead because as I was hooking the waist shaper from top to bottom as instructed it was way way way too tight by the time I tried to hook the lower 6\" above my hips. I don't want to be uncomfortable I just want a smooth finish! So, if you're similar in size I recommend ordering a medium instead. In general the quality of the product is exceptionally well stitched and built to last.\n",
      "\n",
      "===> Total False Positive: 963\n",
      "===> Total False Negative: 1308\n",
      "[18679, 19051] [19642, 20359]\n"
     ]
    }
   ],
   "source": [
    "# False Positive\n",
    "fp = results_df.query('label == 0 and bert_label == \"positive\"')\n",
    "\n",
    "# False Negative\n",
    "fn = results_df.query('label == 1 and bert_label == \"negative\"')\n",
    "if len(fp) > 0:\n",
    "    print(f'===> False Positive:\\n title: {fp[\"review_headline\"].values[2]} \\n {fp[\"review_body\"].values[2]}\\n')\n",
    "if len(fn) > 0:\n",
    "    print(f'===> False Negative:\\n title: {fn[\"review_headline\"].values[2]} \\n {fn[\"review_body\"].values[2]}\\n')\n",
    "print(f'===> Total False Positive: {len(fp)}')\n",
    "print(f'===> Total False Negative: {len(fn)}')"
   ]
  },
  {
   "cell_type": "markdown",
   "metadata": {},
   "source": [
    "> distilbert model failure cases"
   ]
  },
  {
   "cell_type": "code",
   "execution_count": 36,
   "metadata": {},
   "outputs": [
    {
     "name": "stdout",
     "output_type": "stream",
     "text": [
      "===> False Positive:\n",
      " title: Had to return it \n",
      " The sizing is perfect and a medium fits just right. I am 5'2 size 4 137 lbs before baby and i gained about 35 lbs during pregnancy, just an idea for sizing but keepin mind that everyone has different fat distributions on their bodies. I don't like how my post baby fat was getting pushed up the top and makes me look like I have back boobs. The shape wear crunched up after you sit or bent over and so it doesn't feel smooth all over. Squeem makes a vest version too so maybe that one will be a better choice for better coverage. If you do decide to purchase this product it's easier to squeeze in if you lay on your bed and suck in your guts.\n",
      "\n",
      "===> False Negative:\n",
      " title: Sassy Baby Warming Dish. Interesting concept. \n",
      " We tried the Baby warming dish. We found that for our 1 year old it was pretty small, and didn't really hold enough water to keep her warm.I think it would work ok for an infant, although I think a blanket would work just as well.Recommendation:Buy********************HoldSell\n",
      "\n",
      "===> Total False Positive: 1312\n",
      "===> Total False Negative: 993\n"
     ]
    }
   ],
   "source": [
    "# False Positive\n",
    "fp = results_df.query('label == 0 and distilbert_label == \"positive\"')\n",
    "\n",
    "# False Negative\n",
    "fn = results_df.query('label == 1 and distilbert_label == \"negative\"')\n",
    "if len(fp) > 0:\n",
    "    print(f'===> False Positive:\\n title: {fp[\"review_headline\"].values[2]} \\n {fp[\"review_body\"].values[2]}\\n')\n",
    "if len(fn) > 0:\n",
    "    print(f'===> False Negative:\\n title: {fn[\"review_headline\"].values[2]} \\n {fn[\"review_body\"].values[2]}\\n')\n",
    "print(f'===> Total False Positive: {len(fp)}')\n",
    "print(f'===> Total False Negative: {len(fn)}')"
   ]
  },
  {
   "cell_type": "code",
   "execution_count": 38,
   "metadata": {},
   "outputs": [
    {
     "name": "stdout",
     "output_type": "stream",
     "text": [
      "===> False Positive:\n",
      " title: A historical gem whose title obscures its intent \n",
      " Started laughing in the second chapter....enjoyed the book after I realized that I wasn't going to learn anything new. It's obviously a miracle that we survived for the 65 years since it was first published.And seeing that the pending insolvency of the US was as loudly shouted in the 40's as it is now was worth the price. This book had quotes that would shame both modern day political extremes in the US.Kudos to whoever owns the copyright --- now there's economics in action.\n",
      "\n",
      "===> False Negative:\n",
      " title: Great Beginning...poor ending \n",
      " Parricia Corwell, Cruel & Unusual was breathtaking in the beginning! Her relation to her family, her dedication to her work exeptional. However, this story began to get boring towards the end...the ending, not too great.\n",
      "\n",
      "===> Total False Positive: 2306\n",
      "===> Total False Negative: 1242\n"
     ]
    }
   ],
   "source": [
    "# False Positive\n",
    "fp = results_df.query('label == 0 and gpt2_label == \"LABEL_1\"')\n",
    "\n",
    "# False Negative\n",
    "fn = results_df.query('label == 1 and gpt2_label == \"LABEL_0\"')\n",
    "if len(fp) > 0:\n",
    "    print(f'===> False Positive:\\n title: {fp[\"review_headline\"].values[2]} \\n {fp[\"review_body\"].values[2]}\\n')\n",
    "if len(fn) > 0:\n",
    "    print(f'===> False Negative:\\n title: {fn[\"review_headline\"].values[2]} \\n {fn[\"review_body\"].values[2]}\\n')\n",
    "print(f'===> Total False Positive: {len(fp)}')\n",
    "print(f'===> Total False Negative: {len(fn)}')"
   ]
  },
  {
   "cell_type": "code",
   "execution_count": 39,
   "metadata": {},
   "outputs": [
    {
     "name": "stdout",
     "output_type": "stream",
     "text": [
      "===> False Positive:\n",
      " title: Broke the 2nd time I wore it, great until then \n",
      " I think this product provided a great fit. I was able to hook on the first row by myself within about 5 mins max. It wasn't quite as difficult to get on as I thought it might be, although it isn't particularly easy either. I tried it on and wore for about 2 hours, and then the 2nd time I wore it had it on for about the same period of time. I took it off and one of the metal boning pieces had popped through and was hanging out at the bottom. This product is far too expensive to have something like that happen. The fit on me was snug, but I am sure I had the correct size. Now I have to figure out how to get this resolved.\n",
      "\n",
      "===> False Negative:\n",
      " title: great book. i loved it! they mentioned a movie, where is it? \n",
      " the publisher said soon to be a movie. does anyone know if a movie was ever created?\n",
      "\n",
      "===> Total False Positive: 1086\n",
      "===> Total False Negative: 753\n"
     ]
    }
   ],
   "source": [
    "# False Positive\n",
    "fp = results_df.query('label == 0 and roberta_label == \"POSITIVE\"')\n",
    "\n",
    "# False Negative\n",
    "fn = results_df.query('label == 1 and roberta_label == \"NEGATIVE\"')\n",
    "if len(fp) > 0:\n",
    "    print(f'===> False Positive:\\n title: {fp[\"review_headline\"].values[2]} \\n {fp[\"review_body\"].values[2]}\\n')\n",
    "if len(fn) > 0:\n",
    "    print(f'===> False Negative:\\n title: {fn[\"review_headline\"].values[2]} \\n {fn[\"review_body\"].values[2]}\\n')\n",
    "print(f'===> Total False Positive: {len(fp)}')\n",
    "print(f'===> Total False Negative: {len(fn)}')"
   ]
  },
  {
   "cell_type": "markdown",
   "metadata": {
    "id": "6jmGx1TQYw4p"
   },
   "source": [
    "## Zero-shot Sentiment Analysis with Pre-trained LLM"
   ]
  },
  {
   "cell_type": "code",
   "execution_count": 2,
   "metadata": {
    "id": "mfaB5EVKcss0"
   },
   "outputs": [],
   "source": [
    "from langchain import HuggingFacePipeline\n",
    "from transformers import AutoTokenizer\n",
    "import transformers\n",
    "import torch\n",
    "import accelerate\n",
    "import time"
   ]
  },
  {
   "cell_type": "code",
   "execution_count": 19,
   "metadata": {
    "colab": {
     "base_uri": "https://localhost:8080/"
    },
    "id": "yy1uvnOAWDTR",
    "outputId": "7c9d6da3-194c-45c9-a129-123b0fb6d858"
   },
   "outputs": [
    {
     "name": "stderr",
     "output_type": "stream",
     "text": [
      "huggingface/tokenizers: The current process just got forked, after parallelism has already been used. Disabling parallelism to avoid deadlocks...\n",
      "To disable this warning, you can either:\n",
      "\t- Avoid using `tokenizers` before the fork if possible\n",
      "\t- Explicitly set the environment variable TOKENIZERS_PARALLELISM=(true | false)\n"
     ]
    },
    {
     "name": "stdout",
     "output_type": "stream",
     "text": [
      "Tue Feb 27 20:39:39 2024       \n",
      "+---------------------------------------------------------------------------------------+\n",
      "| NVIDIA-SMI 545.23.08              Driver Version: 545.23.08    CUDA Version: 12.3     |\n",
      "|-----------------------------------------+----------------------+----------------------+\n",
      "| GPU  Name                 Persistence-M | Bus-Id        Disp.A | Volatile Uncorr. ECC |\n",
      "| Fan  Temp   Perf          Pwr:Usage/Cap |         Memory-Usage | GPU-Util  Compute M. |\n",
      "|                                         |                      |               MIG M. |\n",
      "|=========================================+======================+======================|\n",
      "|   0  NVIDIA A100-SXM4-40GB          Off | 00000000:81:00.0 Off |                    0 |\n",
      "| N/A   41C    P0              58W / 400W |  38838MiB / 40960MiB |      0%      Default |\n",
      "|                                         |                      |             Disabled |\n",
      "+-----------------------------------------+----------------------+----------------------+\n",
      "                                                                                         \n",
      "+---------------------------------------------------------------------------------------+\n",
      "| Processes:                                                                            |\n",
      "|  GPU   GI   CI        PID   Type   Process name                            GPU Memory |\n",
      "|        ID   ID                                                             Usage      |\n",
      "|=======================================================================================|\n",
      "|    0   N/A  N/A     58261      C   ...yang3/.conda/envs/llama2/bin/python    38824MiB |\n",
      "+---------------------------------------------------------------------------------------+\n"
     ]
    }
   ],
   "source": [
    "!nvidia-smi"
   ]
  },
  {
   "cell_type": "markdown",
   "metadata": {},
   "source": [
    "### define LLM pipeline"
   ]
  },
  {
   "cell_type": "code",
   "execution_count": 6,
   "metadata": {},
   "outputs": [],
   "source": [
    "def pipeline_eval_llm(pipe, data, template, positive_label, negative_label):\n",
    "  res_dict = {}\n",
    "  correct = [0 for _ in range(2)]\n",
    "  total = [0 for _ in range(2)]\n",
    "\n",
    "  start_time = time.time()\n",
    "  for i, row in tqdm(data.iterrows(), total=len(data)):\n",
    "    try:\n",
    "      text = row['review_body']\n",
    "      prompt = template.format(text = text)\n",
    "      result = pipe(prompt)[0]\n",
    "      result['Id'] = row['Id']\n",
    "      res_dict[i] = result\n",
    "      if row['star_rating'] < 3.0:\n",
    "        total[0] += 1\n",
    "        if result['generated_text'] == negative_label:\n",
    "          correct[0] += 1\n",
    "      elif row['star_rating'] > 3.0:\n",
    "        total[1] += 1\n",
    "        if result['generated_text'] == positive_label:\n",
    "          correct[1] += 1\n",
    "    except RuntimeError:\n",
    "      print(f'{i}th row broke. The input text is too long.')\n",
    "      print(IndexError)\n",
    "    except IndexError:\n",
    "      print(f'{i}th row broke. The input text is too long.')\n",
    "      print(IndexError)\n",
    "  end_time = time.time()\n",
    "  runtime = end_time - start_time\n",
    "  return res_dict, correct, total, runtime"
   ]
  },
  {
   "cell_type": "code",
   "execution_count": 5,
   "metadata": {},
   "outputs": [],
   "source": [
    "task_name = 'sentiment classification'\n",
    "label_space = ['negative', 'positive']\n",
    "task_definition = f'Given the sentence, assign a sentiment label from {label_space}'\n",
    "output_format = \"Return label only without any other text.\"\n",
    "\n",
    "template = f\"Please perform {task_name} task.\\n{task_definition}\\n{output_format}\\nSentence:\\n\" + \"{text}.\""
   ]
  },
  {
   "cell_type": "markdown",
   "metadata": {},
   "source": [
    "#### Flan-T5 pipeline"
   ]
  },
  {
   "cell_type": "code",
   "execution_count": 3,
   "metadata": {},
   "outputs": [
    {
     "data": {
      "application/vnd.jupyter.widget-view+json": {
       "model_id": "c8ff7f4d77db40ddaf7542858c3c9ad9",
       "version_major": 2,
       "version_minor": 0
      },
      "text/plain": [
       "Loading checkpoint shards:   0%|          | 0/5 [00:00<?, ?it/s]"
      ]
     },
     "metadata": {},
     "output_type": "display_data"
    }
   ],
   "source": [
    "# Flan-T5\n",
    "pipeFlanT5 = pipeline(\"text2text-generation\", model=\"google/flan-t5-xxl\", device=0)"
   ]
  },
  {
   "cell_type": "code",
   "execution_count": 28,
   "metadata": {},
   "outputs": [
    {
     "data": {
      "text/plain": [
       "11135332352"
      ]
     },
     "execution_count": 28,
     "metadata": {},
     "output_type": "execute_result"
    }
   ],
   "source": [
    "pipeFlanT5.model.num_parameters()"
   ]
  },
  {
   "cell_type": "code",
   "execution_count": 8,
   "metadata": {},
   "outputs": [
    {
     "name": "stdout",
     "output_type": "stream",
     "text": [
      "input : Ten Strangers on a cold, isolated island.  Brought here by a queerly anonymous invitation.<br /><br />The evening begins with light conversation and witticisms.  But it soon degenerates into beastly fear and mistrust.  One by one, each of the 10 are being found murdered.  And the murdered is clearly one of the 10...but which one?<br /><br /> Every turn of the page is like stumbling through a dank horror house.  What grisly find waits around the next corner?<br /><br /> You'll never solve this mystery.  It's too cunning.  But you'll relish the goosebumps that sweep over you like a cold sea-wind, and the horror that catches in your throat like poisoned wine.\n",
      "output : [{'generated_text': 'positive'}]\n",
      "runtime : 0.3011922836303711\n"
     ]
    }
   ],
   "source": [
    "example = \"Ten Strangers on a cold, isolated island.  Brought here by a queerly anonymous invitation.<br /><br />The evening begins with light conversation and witticisms.  But it soon degenerates into beastly fear and mistrust.  One by one, each of the 10 are being found murdered.  And the murdered is clearly one of the 10...but which one?<br /><br /> Every turn of the page is like stumbling through a dank horror house.  What grisly find waits around the next corner?<br /><br /> You'll never solve this mystery.  It's too cunning.  But you'll relish the goosebumps that sweep over you like a cold sea-wind, and the horror that catches in your throat like poisoned wine.\"\n",
    "start_time = time.time()\n",
    "prompt = template.format(text = example)\n",
    "output = pipeFlanT5(prompt)\n",
    "end_time = time.time()\n",
    "print(f'input : {example}')\n",
    "print(f'output : {output}')\n",
    "print(f'runtime : {end_time-start_time}')"
   ]
  },
  {
   "cell_type": "code",
   "execution_count": 10,
   "metadata": {},
   "outputs": [
    {
     "data": {
      "application/vnd.jupyter.widget-view+json": {
       "model_id": "6f26afadc65f4ae5bdd27c3c1fa1916b",
       "version_major": 2,
       "version_minor": 0
      },
      "text/plain": [
       "  0%|          | 0/953 [00:00<?, ?it/s]"
      ]
     },
     "metadata": {},
     "output_type": "display_data"
    },
    {
     "name": "stderr",
     "output_type": "stream",
     "text": [
      "/home/xiao.yang3/.conda/envs/llama2/lib/python3.11/site-packages/transformers/pipelines/base.py:1157: UserWarning: You seem to be using the pipelines sequentially on GPU. In order to maximize efficiency please use a dataset\n",
      "  warnings.warn(\n",
      "Token indices sequence length is longer than the specified maximum sequence length for this model (528 > 512). Running this sequence through the model will result in indexing errors\n"
     ]
    }
   ],
   "source": [
    "# evaluate the dataset with Flan-T5\n",
    "FlanT5_res, FlanT5_correct, FlanT5_total, FlanT5_runtime = pipeline_eval_llm(pipeFlanT5, df, template, 'positive', 'negative')"
   ]
  },
  {
   "cell_type": "code",
   "execution_count": 11,
   "metadata": {},
   "outputs": [
    {
     "name": "stdout",
     "output_type": "stream",
     "text": [
      "==> Negative Accuracy: 0.9595959595959596\n",
      "==> Positive Accuracy: 0.9660421545667447\n",
      "==> Total Accuracy: 0.9653725078698846\n",
      "==> Total Runtime: 253.21945691108704\n"
     ]
    }
   ],
   "source": [
    "# calculate the accuracy\n",
    "print(f'==> Negative Accuracy: {FlanT5_correct[0]/FlanT5_total[0]}')\n",
    "print(f'==> Positive Accuracy: {FlanT5_correct[1]/FlanT5_total[1]}')\n",
    "print(f'==> Total Accuracy: {np.sum(FlanT5_correct) / np.sum(FlanT5_total)}')\n",
    "print(f'==> Total Runtime: {FlanT5_runtime}')"
   ]
  },
  {
   "cell_type": "markdown",
   "metadata": {},
   "source": [
    "#### Flan-UL2 Pipeline"
   ]
  },
  {
   "cell_type": "code",
   "execution_count": 31,
   "metadata": {},
   "outputs": [
    {
     "data": {
      "application/vnd.jupyter.widget-view+json": {
       "model_id": "2aab0c1cc2794eec84979b543dca5196",
       "version_major": 2,
       "version_minor": 0
      },
      "text/plain": [
       "Loading checkpoint shards:   0%|          | 0/8 [00:00<?, ?it/s]"
      ]
     },
     "metadata": {},
     "output_type": "display_data"
    }
   ],
   "source": [
    "# flan-UL2\n",
    "pipeFlanUL2 = pipeline(\"text2text-generation\", model=\"google/flan-ul2\")"
   ]
  },
  {
   "cell_type": "code",
   "execution_count": 30,
   "metadata": {},
   "outputs": [],
   "source": [
    "del pipeFlanT5"
   ]
  },
  {
   "cell_type": "code",
   "execution_count": 32,
   "metadata": {},
   "outputs": [
    {
     "data": {
      "text/plain": [
       "19459613696"
      ]
     },
     "execution_count": 32,
     "metadata": {},
     "output_type": "execute_result"
    }
   ],
   "source": [
    "pipeFlanUL2.model.num_parameters()"
   ]
  },
  {
   "cell_type": "code",
   "execution_count": 40,
   "metadata": {},
   "outputs": [
    {
     "name": "stdout",
     "output_type": "stream",
     "text": [
      "input : Started laughing in the second chapter....enjoyed the book after I realized that I wasn't going to learn anything new. It's obviously a miracle that we survived for the 65 years since it was first published.And seeing that the pending insolvency of the US was as loudly shouted in the 40's as it is now was worth the price. This book had quotes that would shame both modern day political extremes in the US.Kudos to whoever owns the copyright --- now there's economics in action\n",
      "output : [{'generated_text': 'positive'}]\n",
      "runtime : 16.8248770236969\n"
     ]
    }
   ],
   "source": [
    "example = \"Started laughing in the second chapter....enjoyed the book after I realized that I wasn't going to learn anything new. It's obviously a miracle that we survived for the 65 years since it was first published.And seeing that the pending insolvency of the US was as loudly shouted in the 40's as it is now was worth the price. This book had quotes that would shame both modern day political extremes in the US.Kudos to whoever owns the copyright --- now there's economics in action\"\n",
    "start_time = time.time()\n",
    "prompt = template.format(text = example)\n",
    "output = pipeFlanUL2(prompt)\n",
    "end_time = time.time()\n",
    "print(f'input : {example}')\n",
    "print(f'output : {output}')\n",
    "print(f'runtime : {end_time-start_time}')"
   ]
  },
  {
   "cell_type": "code",
   "execution_count": null,
   "metadata": {},
   "outputs": [
    {
     "data": {
      "application/vnd.jupyter.widget-view+json": {
       "model_id": "5f977df930bd45039aebcc46869a142b",
       "version_major": 2,
       "version_minor": 0
      },
      "text/plain": [
       "  0%|          | 0/953 [00:00<?, ?it/s]"
      ]
     },
     "metadata": {},
     "output_type": "display_data"
    },
    {
     "name": "stderr",
     "output_type": "stream",
     "text": [
      "Token indices sequence length is longer than the specified maximum sequence length for this model (2211 > 2048). Running this sequence through the model will result in indexing errors\n"
     ]
    }
   ],
   "source": [
    "# evaluate the dataset with Flan-UL2\n",
    "FlanUL2_res, FlanUL2_correct, FlanUL2_total, FlanUL2_runtime = pipeline_eval_llm(pipeFlanUL2, df, template, 'positive', 'negative')"
   ]
  },
  {
   "cell_type": "code",
   "execution_count": 45,
   "metadata": {},
   "outputs": [
    {
     "name": "stdout",
     "output_type": "stream",
     "text": [
      "==> Negative Accuracy: 0.9595959595959596\n",
      "==> Positive Accuracy: 0.9742388758782201\n",
      "==> Total Accuracy: 0.9727177334732424\n",
      "==> Total Runtime: 401.77464628219604\n"
     ]
    }
   ],
   "source": [
    "# calculate the accuracy\n",
    "print(f'==> Negative Accuracy: {FlanUL2_correct[0]/FlanUL2_total[0]}')\n",
    "print(f'==> Positive Accuracy: {FlanUL2_correct[1]/FlanUL2_total[1]}')\n",
    "print(f'==> Total Accuracy: {np.sum(FlanUL2_correct) / np.sum(FlanUL2_total)}')\n",
    "print(f'==> Total Runtime: {FlanUL2_runtime}')"
   ]
  },
  {
   "cell_type": "markdown",
   "metadata": {},
   "source": [
    "#### results evaluation"
   ]
  },
  {
   "cell_type": "markdown",
   "metadata": {},
   "source": [
    "|Model|FlanT5|FlanUL2|\n",
    "|-|-|-|\n",
    "|Accuracy|0.9653|**0.9727**|\n",
    "|Runtime(GPU)/s|**253.22**|301.77|\n",
    "|Runtime(CPU)/s|6479.03|-|"
   ]
  },
  {
   "cell_type": "markdown",
   "metadata": {},
   "source": [
    "# Review Correlation Analysis"
   ]
  },
  {
   "cell_type": "markdown",
   "metadata": {},
   "source": [
    "## create fewshot dataset from amazon review data"
   ]
  },
  {
   "cell_type": "code",
   "execution_count": 19,
   "metadata": {},
   "outputs": [],
   "source": [
    "from transformers import AutoModelForSequenceClassification, TrainingArguments, Trainer\n",
    "from transformers import EarlyStoppingCallback\n",
    "from transformers import DataCollatorWithPadding\n",
    "from transformers import AutoTokenizer\n",
    "from datasets import load_dataset\n",
    "from sklearn.metrics import f1_score\n",
    "from sklearn.metrics import confusion_matrix, classification_report\n",
    "\n",
    "import numpy as np\n",
    "import evaluate\n",
    "import os\n",
    "import json"
   ]
  },
  {
   "cell_type": "code",
   "execution_count": 20,
   "metadata": {},
   "outputs": [
    {
     "name": "stdout",
     "output_type": "stream",
     "text": [
      "6366340\n"
     ]
    }
   ],
   "source": [
    "# load the tsv data\n",
    "df = pd.read_csv('../data/capstone/amazon_reviews_multilingual_US_v1_00.tsv', sep='\\t', on_bad_lines=\"skip\")\n",
    "df = df.query('star_rating != 3.0')\n",
    "df = df.reset_index().rename(columns = {'index': 'Id'})\n",
    "print(len(df))"
   ]
  },
  {
   "cell_type": "code",
   "execution_count": 17,
   "metadata": {},
   "outputs": [
    {
     "data": {
      "image/png": "[encoded data removed]",
      "text/plain": [
       "<Figure size 640x480 with 1 Axes>"
      ]
     },
     "metadata": {},
     "output_type": "display_data"
    }
   ],
   "source": [
    "# visualize data distribution\n",
    "ax = df['product_category'].value_counts().sort_index().plot(kind='bar', title='Count of product catagories')\n",
    "ax.set_xlabel('Product Catagory')\n",
    "plt.show()"
   ]
  },
  {
   "cell_type": "code",
   "execution_count": 3,
   "metadata": {},
   "outputs": [
    {
     "data": {
      "text/plain": [
       "array(['Books', 'Music', 'Video', 'Video DVD', 'Toys', 'Tools',\n",
       "       'Office Products', 'Video Games', 'Software',\n",
       "       'Digital_Music_Purchase', 'Electronics', 'Digital_Ebook_Purchase',\n",
       "       'Digital_Video_Download', 'Home Entertainment', 'Kitchen',\n",
       "       'Camera', 'Outdoors', 'Musical Instruments', 'Sports', 'Watches',\n",
       "       'PC', 'Home', 'Wireless', 'Beauty', 'Baby', 'Home Improvement',\n",
       "       'Apparel', 'Shoes', 'Lawn and Garden', 'Mobile_Electronics',\n",
       "       'Health & Personal Care', 'Luggage', 'Personal_Care_Appliances',\n",
       "       'Automotive', 'Grocery', 'Mobile_Apps', 'Furniture', '2012-12-22',\n",
       "       'Pet Products'], dtype=object)"
      ]
     },
     "execution_count": 3,
     "metadata": {},
     "output_type": "execute_result"
    }
   ],
   "source": [
    "# find unique product category\n",
    "products = df['product_category'].unique()\n",
    "products"
   ]
  },
  {
   "cell_type": "code",
   "execution_count": 24,
   "metadata": {},
   "outputs": [],
   "source": [
    "## select 11 products categories \n",
    "\n",
    "id2label = {0: \"Books\", 1: \"Music\", 2: \"Video\", 3:\"Toys\", 4: \"Tools\", 5: \"Office Products\", \n",
    "            6: \"Electronics\", 7: \"Kitchen\", 8: \"Sports\", 9: \"Shoes\",\n",
    "           10: \"Health & Personal Care\"}\n",
    "\n",
    "label2id = {\"Books\": 0, \"Music\": 1, \"Video\":2, \"Toys\": 3, \"Tools\": 4, \"Office Products\": 5,\n",
    "            \"Electronics\": 6, \"Kitchen\": 7, \"Sports\": 8, \"Shoes\": 9,\n",
    "           \"Health & Personal Care\": 10}\n"
   ]
  },
  {
   "cell_type": "code",
   "execution_count": 14,
   "metadata": {},
   "outputs": [],
   "source": [
    "# create json file to store data\n",
    "if not os.path.exists(\"./amazon_prod_review_cls_train.json\") or not os.path.exists(\"./amazon_prod_review_cls_test.json\"):\n",
    "   data = {'train':[], 'test':[]}\n",
    "   min_length = 80\n",
    "   for label in label2id.keys():\n",
    "       df_i = df.query(f\"product_category == '{label}'\")\n",
    "       mask = df_i['review_body'].str.len() > min_length\n",
    "       df_i = df_i[mask].sample(200)\n",
    "       df_i = df_i[['Id', 'review_body']].rename(columns = {'review_body': 'text'})\n",
    "       df_i['label'] = label2id[label]\n",
    "       df_i_train = df_i[:150]\n",
    "       df_i_test = df_i[150:]\n",
    "       data['train'].extend(json.loads(df_i_train.to_json(orient=\"records\")))\n",
    "       data['test'].extend(json.loads(df_i_test.to_json(orient=\"records\")))\n",
    "   with open(\"./amazon_prod_review_cls_train.json\", \"w\") as f:\n",
    "       json.dump(data['train'], f)\n",
    "   with open(\"./amazon_prod_review_cls_test.json\", \"w\") as f:\n",
    "       json.dump(data['test'], f)\n",
    "   print('==> train data size:', len(data['train']))\n",
    "   print('==> test data size:', len(data['test']))"
   ]
  },
  {
   "cell_type": "code",
   "execution_count": 37,
   "metadata": {},
   "outputs": [
    {
     "data": {
      "image/png": "[encoded data removed]",
      "text/plain": [
       "<Figure size 640x480 with 1 Axes>"
      ]
     },
     "metadata": {},
     "output_type": "display_data"
    }
   ],
   "source": [
    "# visualize data distribution\n",
    "ax = pd.DataFrame(data['train'])['label'].map(id2label).value_counts().sort_index().plot(kind='bar', title='Count of product catagories')\n",
    "ax.set_xlabel('Product Catagory')\n",
    "plt.show()"
   ]
  },
  {
   "cell_type": "code",
   "execution_count": 5,
   "metadata": {},
   "outputs": [],
   "source": [
    "data_files = {\n",
    "    \"train\": \"amazon_prod_review_cls_train.json\",  # train json path\n",
    "    \"test\": \"amazon_prod_review_cls_test.json\"     # test json path\n",
    "}\n",
    "dataset = load_dataset(\"json\", data_files=data_files)\n",
    "\n",
    "train_dataset = dataset['train']\n",
    "test_dataset = dataset['test']"
   ]
  },
  {
   "cell_type": "code",
   "execution_count": 6,
   "metadata": {},
   "outputs": [
    {
     "data": {
      "text/plain": [
       "Dataset({\n",
       "    features: ['text', 'label', 'Id'],\n",
       "    num_rows: 1650\n",
       "})"
      ]
     },
     "execution_count": 6,
     "metadata": {},
     "output_type": "execute_result"
    }
   ],
   "source": [
    "train_dataset"
   ]
  },
  {
   "cell_type": "markdown",
   "metadata": {},
   "source": [
    "## SLMs correlation analysis"
   ]
  },
  {
   "cell_type": "markdown",
   "metadata": {},
   "source": [
    "### define SLM correlation analysis eval pipeline"
   ]
  },
  {
   "cell_type": "code",
   "execution_count": 7,
   "metadata": {},
   "outputs": [],
   "source": [
    "def pipeline_corr_eval_slm(tokenizer, model, data, id2label):\n",
    "    res_dict = {}\n",
    "    correct = [0 for _ in range(11)]\n",
    "    total = [0 for _ in range(11)]\n",
    "    preds = []\n",
    "    labels = []\n",
    "\n",
    "    start_time = time.time()\n",
    "    with torch.no_grad():\n",
    "        for i, row in tqdm(enumerate(data), total=len(data)):\n",
    "          text = row['text']\n",
    "          label = int(row['label'])\n",
    "          token = tokenizer(text, truncation=True, add_special_tokens=True, max_length=512, padding=True, return_tensors=\"pt\")\n",
    "          logits = model(**token).logits\n",
    "          pred_cls = logits.argmax(axis=1).item()\n",
    "          \n",
    "          res_dict[i] = {'Id': row['Id'], 'pred': id2label[pred_cls]}\n",
    "          total[label] += 1\n",
    "          preds.append(pred_cls)\n",
    "          labels.append(label)\n",
    "          if pred_cls == label:\n",
    "              correct[int(label)] += 1\n",
    "\n",
    "    end_time = time.time()\n",
    "    runtime = end_time - start_time\n",
    "    return res_dict, correct, total, runtime, preds, labels"
   ]
  },
  {
   "cell_type": "code",
   "execution_count": 8,
   "metadata": {},
   "outputs": [],
   "source": [
    "import itertools\n",
    "classes = [\"Books\", \"Music\", \"Video\", \"Toys\", \"Tools\", \"Office Products\",\n",
    "            \"Electronics\", \"Kitchen\", \"Sports\", \"Shoes\",\n",
    "           \"Health & Personal Care\"]\n",
    "\n",
    "def plot_confusion_matrix(cm, classes,\n",
    "                          normalize=False,\n",
    "                          title='Confusion matrix',\n",
    "                          cmap=plt.cm.Blues):\n",
    "\n",
    "    plt.imshow(cm, interpolation='nearest', cmap=cmap)\n",
    "    plt.title(title)\n",
    "    plt.colorbar()\n",
    "    tick_marks = np.arange(len(classes))\n",
    "    plt.xticks(tick_marks, classes, rotation=90)\n",
    "    plt.yticks(tick_marks, classes)\n",
    "\n",
    "    if normalize:\n",
    "        cm = cm.astype('float') / cm.sum(axis=1)[:, np.newaxis]\n",
    "\n",
    "    thresh = cm.max() / 2.\n",
    "    for i, j in itertools.product(range(cm.shape[0]), range(cm.shape[1])):\n",
    "        plt.text(j, i, cm[i, j],\n",
    "                 horizontalalignment=\"center\",\n",
    "                 color=\"white\" if cm[i, j] > thresh else \"black\")\n",
    "\n",
    "    plt.tight_layout()\n",
    "    plt.ylabel('True label')\n",
    "    plt.xlabel('Predicted label')"
   ]
  },
  {
   "cell_type": "markdown",
   "metadata": {},
   "source": [
    "### fewshot fine-tuning on distilbert"
   ]
  },
  {
   "cell_type": "code",
   "execution_count": 42,
   "metadata": {},
   "outputs": [
    {
     "data": {
      "application/vnd.jupyter.widget-view+json": {
       "model_id": "9c5f93fd7dde4119b6331d88c8717f39",
       "version_major": 2,
       "version_minor": 0
      },
      "text/plain": [
       "Map:   0%|          | 0/1650 [00:00<?, ? examples/s]"
      ]
     },
     "metadata": {},
     "output_type": "display_data"
    },
    {
     "data": {
      "application/vnd.jupyter.widget-view+json": {
       "model_id": "d02cdbcb974446e89ff91ecc9f85f581",
       "version_major": 2,
       "version_minor": 0
      },
      "text/plain": [
       "Map:   0%|          | 0/550 [00:00<?, ? examples/s]"
      ]
     },
     "metadata": {},
     "output_type": "display_data"
    }
   ],
   "source": [
    "# create embedding\n",
    "tokenizer = AutoTokenizer.from_pretrained(\"distilbert/distilbert-base-uncased\")\n",
    "def preprocess_function(examples):\n",
    "    return tokenizer(examples[\"text\"], truncation=True, add_special_tokens=True, max_length=512)\n",
    "tokenized_train_dataset = train_dataset.map(preprocess_function, batched=True)\n",
    "tokenized_test_dataset = test_dataset.map(preprocess_function, batched=True)"
   ]
  },
  {
   "cell_type": "code",
   "execution_count": 43,
   "metadata": {},
   "outputs": [
    {
     "data": {
      "text/plain": [
       "512"
      ]
     },
     "execution_count": 43,
     "metadata": {},
     "output_type": "execute_result"
    }
   ],
   "source": [
    "max_l = 0\n",
    "for i in range(600):\n",
    "    if len(tokenized_train_dataset[i]['input_ids']) > max_l:\n",
    "        max_l = len(tokenized_train_dataset[i]['input_ids']) \n",
    "max_l"
   ]
  },
  {
   "cell_type": "code",
   "execution_count": 10,
   "metadata": {},
   "outputs": [],
   "source": [
    "data_collator = DataCollatorWithPadding(tokenizer=tokenizer)"
   ]
  },
  {
   "cell_type": "code",
   "execution_count": 8,
   "metadata": {},
   "outputs": [],
   "source": [
    "# create metrics\n",
    "\n",
    "accuracy = evaluate.load(\"accuracy\")\n",
    "def compute_metrics(eval_pred):\n",
    "    logits, labels = eval_pred\n",
    "    predictions = np.argmax(logits, axis=-1)\n",
    "    return accuracy.compute(predictions=predictions, references=labels)"
   ]
  },
  {
   "cell_type": "code",
   "execution_count": 46,
   "metadata": {},
   "outputs": [
    {
     "name": "stderr",
     "output_type": "stream",
     "text": [
      "Some weights of DistilBertForSequenceClassification were not initialized from the model checkpoint at distilbert/distilbert-base-uncased and are newly initialized: ['classifier.bias', 'classifier.weight', 'pre_classifier.bias', 'pre_classifier.weight']\n",
      "You should probably TRAIN this model on a down-stream task to be able to use it for predictions and inference.\n"
     ]
    }
   ],
   "source": [
    "# create model\n",
    "model = AutoModelForSequenceClassification.from_pretrained(\n",
    "    \"distilbert/distilbert-base-uncased\", num_labels=11, id2label=id2label, label2id=label2id\n",
    ")"
   ]
  },
  {
   "cell_type": "code",
   "execution_count": 47,
   "metadata": {},
   "outputs": [
    {
     "name": "stderr",
     "output_type": "stream",
     "text": [
      "Detected kernel version 3.10.0, which is below the recommended minimum of 5.5.0; this can cause the process to hang. It is recommended to upgrade the kernel to the minimum version or higher.\n"
     ]
    },
    {
     "data": {
      "text/html": [
       "\n",
       "    <div>\n",
       "      \n",
       "      <progress value='312' max='312' style='width:300px; height:20px; vertical-align: middle;'></progress>\n",
       "      [312/312 26:19, Epoch 3/3]\n",
       "    </div>\n",
       "    <table border=\"1\" class=\"dataframe\">\n",
       "  <thead>\n",
       " <tr style=\"text-align: left;\">\n",
       "      <th>Epoch</th>\n",
       "      <th>Training Loss</th>\n",
       "      <th>Validation Loss</th>\n",
       "      <th>Accuracy</th>\n",
       "    </tr>\n",
       "  </thead>\n",
       "  <tbody>\n",
       "    <tr>\n",
       "      <td>1</td>\n",
       "      <td>0.871000</td>\n",
       "      <td>0.815236</td>\n",
       "      <td>0.792727</td>\n",
       "    </tr>\n",
       "    <tr>\n",
       "      <td>2</td>\n",
       "      <td>0.534700</td>\n",
       "      <td>0.625185</td>\n",
       "      <td>0.830909</td>\n",
       "    </tr>\n",
       "    <tr>\n",
       "      <td>3</td>\n",
       "      <td>0.262500</td>\n",
       "      <td>0.598863</td>\n",
       "      <td>0.841818</td>\n",
       "    </tr>\n",
       "  </tbody>\n",
       "</table><p>"
      ],
      "text/plain": [
       "<IPython.core.display.HTML object>"
      ]
     },
     "metadata": {},
     "output_type": "display_data"
    },
    {
     "data": {
      "text/plain": [
       "TrainOutput(global_step=312, training_loss=0.7727582313311405, metrics={'train_runtime': 1591.2262, 'train_samples_per_second': 3.111, 'train_steps_per_second': 0.196, 'total_flos': 520548980081928.0, 'train_loss': 0.7727582313311405, 'epoch': 3.0})"
      ]
     },
     "execution_count": 47,
     "metadata": {},
     "output_type": "execute_result"
    }
   ],
   "source": [
    "training_args = TrainingArguments(\n",
    "    output_dir=\"amazon_product_corr_models\",\n",
    "    per_device_train_batch_size=16,\n",
    "    per_device_eval_batch_size=16,\n",
    "    num_train_epochs=3,\n",
    "    weight_decay=0.01,\n",
    "    evaluation_strategy=\"epoch\",\n",
    "    save_strategy=\"epoch\",\n",
    "    load_best_model_at_end=True,\n",
    "    logging_steps = 10,\n",
    ")\n",
    "\n",
    "trainer = Trainer(\n",
    "    model=model,\n",
    "    args=training_args,\n",
    "    train_dataset=tokenized_train_dataset,\n",
    "    eval_dataset=tokenized_test_dataset,\n",
    "    compute_metrics=compute_metrics,\n",
    "    data_collator=data_collator,\n",
    ")\n",
    "\n",
    "trainer.train()"
   ]
  },
  {
   "cell_type": "markdown",
   "metadata": {},
   "source": [
    "### evaluation on distilbert"
   ]
  },
  {
   "cell_type": "code",
   "execution_count": 35,
   "metadata": {},
   "outputs": [],
   "source": [
    "# load pretrained model\n",
    "tokenizer_distilbert = AutoTokenizer.from_pretrained(\"distilbert/distilbert-base-uncased\")\n",
    "model_distilbert = AutoModelForSequenceClassification.from_pretrained(\n",
    "    \"amazon_product_corr_models/checkpoint-312\", num_labels=11, id2label=id2label, label2id=label2id\n",
    ")"
   ]
  },
  {
   "cell_type": "code",
   "execution_count": 95,
   "metadata": {},
   "outputs": [
    {
     "name": "stdout",
     "output_type": "stream",
     "text": [
      "=> load results from distilbert_eval_results_task2.json\n"
     ]
    }
   ],
   "source": [
    "if not os.path.exists(\"./distilbert_eval_results_task2.json\"):\n",
    "    distilbert_res_corr, distilbert_correct_corr, distilbert_total_corr, distilbert_runtime_corr, distilbert_preds, distilbert_labels = pipeline_corr_eval_slm(tokenizer_distilbert, model_distilbert, test_dataset, id2label)\n",
    "    with open(\"./distilbert_eval_results_task2.json\", \"w\") as f:\n",
    "        data = {}\n",
    "        data['res_corr'] = distilbert_res_corr\n",
    "        data['correct_corr'] = distilbert_correct_corr\n",
    "        data['total_corr'] = distilbert_total_corr\n",
    "        data['runtime_corr'] = distilbert_runtime_corr\n",
    "        data['preds'] = distilbert_preds\n",
    "        data['labels'] = distilbert_labels\n",
    "        json.dump(data,f)\n",
    "    print('=> save results to distilbert_eval_results_task2.json')\n",
    "else:\n",
    "    with open(\"./distilbert_eval_results_task2.json\", \"r\") as f:\n",
    "        data = json.load(f)\n",
    "        distilbert_res_corr = data['res_corr']\n",
    "        distilbert_correct_corr = data['correct_corr']\n",
    "        distilbert_total_corr = data['total_corr']\n",
    "        distilbert_runtime_corr = data['runtime_corr']\n",
    "        distilbert_preds = data['preds']\n",
    "        distilbert_labels = data['labels']\n",
    "    print('=> load results from distilbert_eval_results_task2.json')"
   ]
  },
  {
   "cell_type": "code",
   "execution_count": 93,
   "metadata": {},
   "outputs": [
    {
     "name": "stdout",
     "output_type": "stream",
     "text": [
      "=> save results to distilbert_eval_results_task2.json\n"
     ]
    }
   ],
   "source": [
    "with open(\"./distilbert_eval_results_task2.json\", \"w\") as f:\n",
    "    data = {}\n",
    "    data['res_corr'] = distilbert_res_corr\n",
    "    data['correct_corr'] = distilbert_correct_corr\n",
    "    data['total_corr'] = distilbert_total_corr\n",
    "    data['runtime_corr'] = distilbert_runtime_corr\n",
    "    data['preds'] = distilbert_pred\n",
    "    data['labels'] = distilbert_label\n",
    "    json.dump(data,f)\n",
    "    print('=> save results to distilbert_eval_results_task2.json')"
   ]
  },
  {
   "cell_type": "code",
   "execution_count": 46,
   "metadata": {},
   "outputs": [
    {
     "name": "stdout",
     "output_type": "stream",
     "text": [
      "==> Books Accuracy: 0.86\n",
      "==> Music Accuracy: 0.92\n",
      "==> Video Accuracy: 0.96\n",
      "==> Toys Accuracy: 0.94\n",
      "==> Tools Accuracy: 0.64\n",
      "==> Office Products Accuracy: 0.84\n",
      "==> Electronics Accuracy: 0.82\n",
      "==> Kitchen Accuracy: 0.9\n",
      "==> Sports Accuracy: 0.64\n",
      "==> Shoes Accuracy: 0.9\n",
      "==> Health & Personal Care Accuracy: 0.84\n",
      "==> Total Accuracy: 0.8418181818181818\n",
      "==> Total Runtime: 23.87662410736084\n"
     ]
    }
   ],
   "source": [
    "# calculate the accuracy\n",
    "for key,val in id2label.items():\n",
    "    print(f'==> {val} Accuracy: {distilbert_correct_corr[int(key)]/distilbert_total_corr[int(key)]}')\n",
    "print(f'==> Total Accuracy: {np.sum(distilbert_correct_corr) / np.sum(distilbert_total_corr)}')\n",
    "print(f'==> Total Runtime: {distilbert_runtime_corr}')"
   ]
  },
  {
   "cell_type": "code",
   "execution_count": 96,
   "metadata": {},
   "outputs": [
    {
     "data": {
      "image/png": "[encoded data removed]",
      "text/plain": [
       "<Figure size 640x480 with 2 Axes>"
      ]
     },
     "metadata": {},
     "output_type": "display_data"
    }
   ],
   "source": [
    "# compute the confusion matrix for best LR model\n",
    "confusion_mtx_distilbert = confusion_matrix(distilbert_labels, distilbert_preds)\n",
    "# plot the confusion matrix\n",
    "plot_confusion_matrix(confusion_mtx_distilbert,\n",
    "            classes = classes)"
   ]
  },
  {
   "cell_type": "code",
   "execution_count": 74,
   "metadata": {},
   "outputs": [
    {
     "data": {
      "text/plain": [
       "[\"Big beefy knife, thick blade! Takes an edge well, haven't used it enough to see if it will hold up.\",\n",
       " 'A new direction in knife making.....a knife that gives the common man, trust, confidence,  value, quality and does what Shrade says it will do.........if you can find a better knife for the money....buy it!......Thank you Schrade',\n",
       " \"Probably the best knife for the money! The quality of the knife if not the same, exceeds better than any high price knife! From the 1/4 inch high carbon steel thick blade that's runs from tip all the way to the back of handle, style, and shape you'll be amaze! Anyone who purchase this knife will not be disappointed! I love this knife!! This Extreme survival knife is extremely recommend it!! .. See any YouTube videos for it's performance!\",\n",
       " \"it comes well packaged in a quality box.its larger than i expected.it comes extremely sharp.its not what id call elegant but more like a body builder on steroids!! to be fair its the first survival fixed blade i have purchased so although i like it it lacks a certain finesse.i cant fault the knife only to say it does not feel at home in my hand ,but i wouldn't dissuade anyone from purchasing one.\",\n",
       " 'This knife is a permanent fixture to my suvival / bushcraft bag. It does every thing you see on the videos. Its hard core weight and over all length makes this knife a work horse. I used it as a light machete,  hatchet, and splitter. It will be hard to one up this knife. Just make sure to oil the blade.',\n",
       " 'its basic and does what its supposed to do. Its not going to get you surgical sharp, but it will get you acceptable in a hurry.',\n",
       " 'Great knife, amazing blade really. The heft is perfect! I would consider this more of a chopping survival knife. Great for splinting wood. You could use it as an axe if need be. My only complaint is the handle is way too wide. But I guess if you have larger hands than I your all set!  Amazingly well made knife for the price.',\n",
       " \"I had this item in my cart for some time before the seller finally canceled my order due to lack of stock. I was pretty bummed out but I really wanted this item. A few weeks later I decided to try again, despite it being out of stock. The seller did not have it for a while but them suddenly I was charged for it. The item shipped shortly after and I now have it. Now the item availability has changed again to temporarily out of stock. I can't help but feel like someone pulled a string for me. THANK YOU. This knife is so badass I am glad I bought it. Killer deal for a quality blade. I am in love with it and recommend getting one (or two) if they are ever in stock again. Nice balance and feels like an extension of my hand when I hold it.\",\n",
       " 'Very nice knife. Came very sharp. Heavy, great survival knife. I went with this one because it had all the things I was looking for in a survival knife: Full tang, thick blade (1/4&#34;), drop point, good tip and removable handle (for lashing a spear). The only reason it did not get 5 stars is due to the handle not lining up with the tang correctly. In some places along the handle the tang hangs out as much as 1/8&#34;. In other places the handle hangs out further than the tang by about 1/16&#34;; not a deal breaker but I expected a lot better attention to detail from Schrade. The only other complaint I have is with the sheath. I would have liked the top strap that holds the knife in to be higher on the sheath. When you wear it on your belt and have it strapped to your leg, the handle of the knife lays over about 2-3&#34; from your leg and causes it to catch on bushes and things. I will probably either move the existing strap or add a Velcro strap to the top of the sheath to remedy this problem. Other than those few things, this knife is amazing.',\n",
       " 'I like it. its great. makes short work of an dull blade. You can throw it on a key ring and never leave home w/o it.',\n",
       " \"This knife is bigger that I had anticipated. It has a very thick blade that is a little front-heavy; this appears to be a great outdoor utility knife. Hacking, batoning, clearing limbs, etc are all in this knife's wheelhouse. The sheath is okay, just a standard nylon sheath, nothing too great or too poor (the little pocket on the front is removable btw). Great purchase, well worth the money, I would very highly recommend.\"]"
      ]
     },
     "execution_count": 74,
     "metadata": {},
     "output_type": "execute_result"
    }
   ],
   "source": [
    "# find false positive\n",
    "false_positive_reviews_distilbert = []\n",
    "for i in range(550):\n",
    "    id = distilbert_res_corr[i]['Id']\n",
    "    if distilbert_res_corr[i]['pred'] == 'Sports' and df.query(f'Id == {id}')['product_category'].item() == 'Tools':\n",
    "        false_positive_reviews_distilbert.append(df.query(f'Id == {id}')['review_body'].item())\n",
    "        \n",
    "false_positive_reviews_distilbert"
   ]
  },
  {
   "cell_type": "markdown",
   "metadata": {},
   "source": [
    "### fewshot fine-tuning on electra"
   ]
  },
  {
   "cell_type": "code",
   "execution_count": 5,
   "metadata": {},
   "outputs": [
    {
     "data": {
      "application/vnd.jupyter.widget-view+json": {
       "model_id": "995f5f3257094505af61c4e84b1ea92d",
       "version_major": 2,
       "version_minor": 0
      },
      "text/plain": [
       "Map:   0%|          | 0/550 [00:00<?, ? examples/s]"
      ]
     },
     "metadata": {},
     "output_type": "display_data"
    }
   ],
   "source": [
    "# create embedding\n",
    "tokenizer = AutoTokenizer.from_pretrained(\"google/electra-base-discriminator\")\n",
    "def preprocess_function(examples):\n",
    "    return tokenizer(examples[\"text\"], truncation=True, add_special_tokens=True, max_length=512)\n",
    "tokenized_train_dataset = train_dataset.map(preprocess_function, batched=True)\n",
    "tokenized_test_dataset = test_dataset.map(preprocess_function, batched=True)"
   ]
  },
  {
   "cell_type": "code",
   "execution_count": 6,
   "metadata": {},
   "outputs": [
    {
     "name": "stderr",
     "output_type": "stream",
     "text": [
      "Some weights of ElectraForSequenceClassification were not initialized from the model checkpoint at google/electra-base-discriminator and are newly initialized: ['classifier.dense.bias', 'classifier.dense.weight', 'classifier.out_proj.bias', 'classifier.out_proj.weight']\n",
      "You should probably TRAIN this model on a down-stream task to be able to use it for predictions and inference.\n"
     ]
    }
   ],
   "source": [
    "# create model\n",
    "model = AutoModelForSequenceClassification.from_pretrained(\n",
    "   \"google/electra-base-discriminator\", num_labels=11, id2label=id2label, label2id=label2id\n",
    ")"
   ]
  },
  {
   "cell_type": "code",
   "execution_count": 14,
   "metadata": {},
   "outputs": [
    {
     "name": "stderr",
     "output_type": "stream",
     "text": [
      "Detected kernel version 3.10.0, which is below the recommended minimum of 5.5.0; this can cause the process to hang. It is recommended to upgrade the kernel to the minimum version or higher.\n"
     ]
    },
    {
     "data": {
      "text/html": [
       "\n",
       "    <div>\n",
       "      \n",
       "      <progress value='520' max='520' style='width:300px; height:20px; vertical-align: middle;'></progress>\n",
       "      [520/520 02:53, Epoch 5/5]\n",
       "    </div>\n",
       "    <table border=\"1\" class=\"dataframe\">\n",
       "  <thead>\n",
       " <tr style=\"text-align: left;\">\n",
       "      <th>Epoch</th>\n",
       "      <th>Training Loss</th>\n",
       "      <th>Validation Loss</th>\n",
       "      <th>Accuracy</th>\n",
       "    </tr>\n",
       "  </thead>\n",
       "  <tbody>\n",
       "    <tr>\n",
       "      <td>1</td>\n",
       "      <td>0.195600</td>\n",
       "      <td>1.029025</td>\n",
       "      <td>0.816364</td>\n",
       "    </tr>\n",
       "    <tr>\n",
       "      <td>2</td>\n",
       "      <td>0.261700</td>\n",
       "      <td>1.009429</td>\n",
       "      <td>0.827273</td>\n",
       "    </tr>\n",
       "    <tr>\n",
       "      <td>3</td>\n",
       "      <td>0.075700</td>\n",
       "      <td>0.950077</td>\n",
       "      <td>0.834545</td>\n",
       "    </tr>\n",
       "    <tr>\n",
       "      <td>4</td>\n",
       "      <td>0.085400</td>\n",
       "      <td>1.051638</td>\n",
       "      <td>0.832727</td>\n",
       "    </tr>\n",
       "    <tr>\n",
       "      <td>5</td>\n",
       "      <td>0.004900</td>\n",
       "      <td>0.985456</td>\n",
       "      <td>0.847273</td>\n",
       "    </tr>\n",
       "  </tbody>\n",
       "</table><p>"
      ],
      "text/plain": [
       "<IPython.core.display.HTML object>"
      ]
     },
     "metadata": {},
     "output_type": "display_data"
    },
    {
     "name": "stderr",
     "output_type": "stream",
     "text": [
      "Checkpoint destination directory amazon_product_corr_models_electra/checkpoint-104 already exists and is non-empty. Saving will proceed but saved results may be invalid.\n",
      "Checkpoint destination directory amazon_product_corr_models_electra/checkpoint-208 already exists and is non-empty. Saving will proceed but saved results may be invalid.\n",
      "Checkpoint destination directory amazon_product_corr_models_electra/checkpoint-312 already exists and is non-empty. Saving will proceed but saved results may be invalid.\n",
      "Checkpoint destination directory amazon_product_corr_models_electra/checkpoint-416 already exists and is non-empty. Saving will proceed but saved results may be invalid.\n",
      "Checkpoint destination directory amazon_product_corr_models_electra/checkpoint-520 already exists and is non-empty. Saving will proceed but saved results may be invalid.\n"
     ]
    },
    {
     "data": {
      "text/plain": [
       "TrainOutput(global_step=520, training_loss=0.12327504954659022, metrics={'train_runtime': 173.467, 'train_samples_per_second': 47.559, 'train_steps_per_second': 2.998, 'total_flos': 1731195820833852.0, 'train_loss': 0.12327504954659022, 'epoch': 5.0})"
      ]
     },
     "execution_count": 14,
     "metadata": {},
     "output_type": "execute_result"
    }
   ],
   "source": [
    "training_args = TrainingArguments(\n",
    "    output_dir=\"amazon_product_corr_models_electra\",\n",
    "    per_device_train_batch_size=16,\n",
    "    per_device_eval_batch_size=64,\n",
    "    num_train_epochs=5,\n",
    "    weight_decay=0.01,\n",
    "    evaluation_strategy=\"epoch\",\n",
    "    save_strategy=\"epoch\",\n",
    "    load_best_model_at_end=True,\n",
    "    logging_steps = 10,\n",
    ")\n",
    "\n",
    "trainer = Trainer(\n",
    "    model=model,\n",
    "    args=training_args,\n",
    "    train_dataset=tokenized_train_dataset,\n",
    "    eval_dataset=tokenized_test_dataset,\n",
    "    compute_metrics=compute_metrics,\n",
    "    data_collator=data_collator,\n",
    ")\n",
    "\n",
    "trainer.train()"
   ]
  },
  {
   "cell_type": "markdown",
   "metadata": {},
   "source": [
    "### evaluation on electra"
   ]
  },
  {
   "cell_type": "code",
   "execution_count": 49,
   "metadata": {},
   "outputs": [],
   "source": [
    "# load pretrained model\n",
    "tokenizer_electra = AutoTokenizer.from_pretrained(\"google/electra-base-discriminator\")\n",
    "model_electra = AutoModelForSequenceClassification.from_pretrained(\n",
    "    \"amazon_product_corr_models_electra/checkpoint-520\", num_labels=11, id2label=id2label, label2id=label2id\n",
    ")"
   ]
  },
  {
   "cell_type": "code",
   "execution_count": 89,
   "metadata": {},
   "outputs": [
    {
     "name": "stdout",
     "output_type": "stream",
     "text": [
      "=> load results from FlanT5_eval_results_task2.json\n"
     ]
    }
   ],
   "source": [
    "if not os.path.exists(\"./electra_eval_results_task2.json\"):\n",
    "    electra_res_corr, electra_correct_corr, electra_total_corr, electra_runtime_corr, electra_preds, electra_labels = pipeline_corr_eval_slm(tokenizer_electra, model_electra, test_dataset, id2label)\n",
    "    with open(\"./electra_eval_results_task2.json\", \"w\") as f:\n",
    "        data = {}\n",
    "        data['res_corr'] = electra_res_corr\n",
    "        data['correct_corr'] = electra_correct_corr\n",
    "        data['total_corr'] = electra_total_corr\n",
    "        data['runtime_corr'] = electra_runtime_corr\n",
    "        data['preds'] = electra_preds\n",
    "        data['labels'] = electra_labels\n",
    "        json.dump(data,f)\n",
    "        print('=> save results to electra_eval_results_task2.json')\n",
    "else:\n",
    "    with open(\"./electra_eval_results_task2.json\", \"r\") as f:\n",
    "        data = json.load(f)\n",
    "        electra_res_corr = data['res_corr']\n",
    "        electra_correct_corr = data['correct_corr']\n",
    "        electra_total_corr = data['total_corr']\n",
    "        electra_runtime_corr = data['runtime_corr']\n",
    "        electra_preds = data['preds']\n",
    "        electra_labels = data['labels']\n",
    "        print('=> load results from electra_eval_results_task2.json')"
   ]
  },
  {
   "cell_type": "code",
   "execution_count": 51,
   "metadata": {},
   "outputs": [
    {
     "name": "stdout",
     "output_type": "stream",
     "text": [
      "==> Books Accuracy: 0.9\n",
      "==> Music Accuracy: 0.9\n",
      "==> Video Accuracy: 0.94\n",
      "==> Toys Accuracy: 0.9\n",
      "==> Tools Accuracy: 0.62\n",
      "==> Office Products Accuracy: 0.82\n",
      "==> Electronics Accuracy: 0.88\n",
      "==> Kitchen Accuracy: 0.92\n",
      "==> Sports Accuracy: 0.7\n",
      "==> Shoes Accuracy: 0.9\n",
      "==> Health & Personal Care Accuracy: 0.84\n",
      "==> Total Accuracy: 0.8472727272727273\n",
      "==> Total Runtime: 48.8053925037384\n"
     ]
    }
   ],
   "source": [
    "# calculate the accuracy\n",
    "for key,val in id2label.items():\n",
    "    print(f'==> {val} Accuracy: {electra_correct_corr[int(key)]/electra_total_corr[int(key)]}')\n",
    "print(f'==> Total Accuracy: {np.sum(electra_correct_corr) / np.sum(electra_total_corr)}')\n",
    "print(f'==> Total Runtime: {electra_runtime_corr}')"
   ]
  },
  {
   "cell_type": "code",
   "execution_count": 91,
   "metadata": {},
   "outputs": [
    {
     "data": {
      "image/png": "[encoded data removed]",
      "text/plain": [
       "<Figure size 640x480 with 2 Axes>"
      ]
     },
     "metadata": {},
     "output_type": "display_data"
    }
   ],
   "source": [
    "# compute the confusion matrix for best LR model\n",
    "confusion_mtx_electra = confusion_matrix(electra_labels, electra_preds)\n",
    "# plot the confusion matrix\n",
    "plot_confusion_matrix(confusion_mtx_electra,\n",
    "            classes = classes)"
   ]
  },
  {
   "cell_type": "code",
   "execution_count": 75,
   "metadata": {},
   "outputs": [
    {
     "data": {
      "text/plain": [
       "[\"Big beefy knife, thick blade! Takes an edge well, haven't used it enough to see if it will hold up.\",\n",
       " 'A new direction in knife making.....a knife that gives the common man, trust, confidence,  value, quality and does what Shrade says it will do.........if you can find a better knife for the money....buy it!......Thank you Schrade',\n",
       " \"Probably the best knife for the money! The quality of the knife if not the same, exceeds better than any high price knife! From the 1/4 inch high carbon steel thick blade that's runs from tip all the way to the back of handle, style, and shape you'll be amaze! Anyone who purchase this knife will not be disappointed! I love this knife!! This Extreme survival knife is extremely recommend it!! .. See any YouTube videos for it's performance!\",\n",
       " \"it comes well packaged in a quality box.its larger than i expected.it comes extremely sharp.its not what id call elegant but more like a body builder on steroids!! to be fair its the first survival fixed blade i have purchased so although i like it it lacks a certain finesse.i cant fault the knife only to say it does not feel at home in my hand ,but i wouldn't dissuade anyone from purchasing one.\",\n",
       " 'Great knife, amazing blade really. The heft is perfect! I would consider this more of a chopping survival knife. Great for splinting wood. You could use it as an axe if need be. My only complaint is the handle is way too wide. But I guess if you have larger hands than I your all set!  Amazingly well made knife for the price.',\n",
       " \"I had this item in my cart for some time before the seller finally canceled my order due to lack of stock. I was pretty bummed out but I really wanted this item. A few weeks later I decided to try again, despite it being out of stock. The seller did not have it for a while but them suddenly I was charged for it. The item shipped shortly after and I now have it. Now the item availability has changed again to temporarily out of stock. I can't help but feel like someone pulled a string for me. THANK YOU. This knife is so badass I am glad I bought it. Killer deal for a quality blade. I am in love with it and recommend getting one (or two) if they are ever in stock again. Nice balance and feels like an extension of my hand when I hold it.\",\n",
       " 'Very nice knife. Came very sharp. Heavy, great survival knife. I went with this one because it had all the things I was looking for in a survival knife: Full tang, thick blade (1/4&#34;), drop point, good tip and removable handle (for lashing a spear). The only reason it did not get 5 stars is due to the handle not lining up with the tang correctly. In some places along the handle the tang hangs out as much as 1/8&#34;. In other places the handle hangs out further than the tang by about 1/16&#34;; not a deal breaker but I expected a lot better attention to detail from Schrade. The only other complaint I have is with the sheath. I would have liked the top strap that holds the knife in to be higher on the sheath. When you wear it on your belt and have it strapped to your leg, the handle of the knife lays over about 2-3&#34; from your leg and causes it to catch on bushes and things. I will probably either move the existing strap or add a Velcro strap to the top of the sheath to remedy this problem. Other than those few things, this knife is amazing.',\n",
       " 'Awesome kit. Well worth the money. I use it all the time on computer stuff, eye glasses, and anything else tiny.',\n",
       " \"This knife is bigger that I had anticipated. It has a very thick blade that is a little front-heavy; this appears to be a great outdoor utility knife. Hacking, batoning, clearing limbs, etc are all in this knife's wheelhouse. The sheath is okay, just a standard nylon sheath, nothing too great or too poor (the little pocket on the front is removable btw). Great purchase, well worth the money, I would very highly recommend.\",\n",
       " 'very well crafted works as good and i think a little better as advertised , the sheath has a extra slip/pocket to store the survival guide in']"
      ]
     },
     "execution_count": 75,
     "metadata": {},
     "output_type": "execute_result"
    }
   ],
   "source": [
    "# find false positive\n",
    "false_positive_reviews_electra = []\n",
    "for i in range(550):\n",
    "    id = electra_res_corr[i]['Id']\n",
    "    if electra_res_corr[i]['pred'] == 'Sports' and df.query(f'Id == {id}')['product_category'].item() == 'Tools':\n",
    "        false_positive_reviews_electra.append(df.query(f'Id == {id}')['review_body'].item())\n",
    "        \n",
    "false_positive_reviews_electra"
   ]
  },
  {
   "cell_type": "markdown",
   "metadata": {},
   "source": [
    "## LLM correlation analysis"
   ]
  },
  {
   "cell_type": "markdown",
   "metadata": {},
   "source": [
    "### define LLM correlation anaylsis pipeline"
   ]
  },
  {
   "cell_type": "code",
   "execution_count": 14,
   "metadata": {},
   "outputs": [],
   "source": [
    "def pipeline_corr_eval_llm(pipe, data, template, label2id):\n",
    "  res_dict = {}\n",
    "  correct = [0 for _ in range(11)]\n",
    "  total = [0 for _ in range(11)]\n",
    "  preds = []\n",
    "  labels = []\n",
    "\n",
    "  start_time = time.time()\n",
    "  for i, row in tqdm(enumerate(data), total=len(data)):\n",
    "      text = row['text']\n",
    "      label = int(row['label'])\n",
    "      prompt = template.format(text = text)\n",
    "      result = pipe(prompt)[0]\n",
    "      pred = int(label2id[result['generated_text']])\n",
    "      result['Id'] = row['Id']\n",
    "      res_dict[i] = {'Id': row['Id'], 'pred':result['generated_text']}\n",
    "      preds.append(pred)\n",
    "      labels.append(label)\n",
    "      total[label] += 1\n",
    "      if pred == label:\n",
    "          correct[label] += 1\n",
    "  \n",
    "  end_time = time.time()\n",
    "  runtime = end_time - start_time\n",
    "  return res_dict, correct, total, runtime, preds, labels"
   ]
  },
  {
   "cell_type": "markdown",
   "metadata": {},
   "source": [
    "### zero-shot inference on FLAN-T5"
   ]
  },
  {
   "cell_type": "code",
   "execution_count": 11,
   "metadata": {},
   "outputs": [],
   "source": [
    "task_name = 'text classification'\n",
    "label_space = [\"Books\", \"Music\", \"Video\", \"Toys\", \"Tools\", \"Office Products\", \"Electronics\", \"Kitchen\", \"Sports\", \"Shoes\", \"Health & Personal Care\"]\n",
    "task_definition = f'Given the sentence, assign a product label from {label_space}'\n",
    "output_format = \"Return label only without any other text.\"\n",
    "\n",
    "template = f\"Please perform {task_name} task.\\n{task_definition}\\n{output_format}\\nSentence:\\n\" + \"{text}.\""
   ]
  },
  {
   "cell_type": "code",
   "execution_count": null,
   "metadata": {},
   "outputs": [],
   "source": []
  },
  {
   "cell_type": "code",
   "execution_count": 55,
   "metadata": {},
   "outputs": [
    {
     "data": {
      "application/vnd.jupyter.widget-view+json": {
       "model_id": "0fa7f967436a40bab266ba8722f2cfdc",
       "version_major": 2,
       "version_minor": 0
      },
      "text/plain": [
       "Loading checkpoint shards:   0%|          | 0/5 [00:00<?, ?it/s]"
      ]
     },
     "metadata": {},
     "output_type": "display_data"
    }
   ],
   "source": [
    "# Flan-T5\n",
    "pipeFlanT5 = pipeline(\"text2text-generation\", model=\"google/flan-t5-xxl\", device=0)"
   ]
  },
  {
   "cell_type": "code",
   "execution_count": 57,
   "metadata": {},
   "outputs": [
    {
     "name": "stderr",
     "output_type": "stream",
     "text": [
      "/home/xiao.yang3/.conda/envs/llama2/lib/python3.11/site-packages/transformers/generation/utils.py:1178: UserWarning: Using the model-agnostic default `max_length` (=20) to control the generation length. We recommend setting `max_new_tokens` to control the maximum length of the generation.\n",
      "  warnings.warn(\n"
     ]
    },
    {
     "name": "stdout",
     "output_type": "stream",
     "text": [
      "input : The Film Follows The Adventures of Anastasia, a Rusin Princess Who Lost Her Memery Years Ago As A Young Girl. On Her Way To Paris To See Her Gandma, She Bumps Into Demetrie and Vlad Who Help On Her Journey. Meanwhile, Evil Velian Russputain and Sidekick Bartok The Bat Try To Distroy Anastasia From Knowing Who She Was Years Ago.    ANASTASIA is Not Anwhere Near Don Bluth's Best Film Made, But This is Still One of The Best Animated Films Made.    The Animation Even Being 2D Animation, is Absolutly Realistic.    The Voice Talents Are Great Featuring Meg Ryan as Anastasia, John Cussack (From MARTIAN CHILD) as Demitrie, Christopher Lloyd (From BACK TO THE FUTURE) as Rusputian, Hank Arazaria (From THE SIMPSONS) as The Sidekick Bartok, Among Others.    The Directors Don Bluth (THE SECRET OF NIMH) and Gary Goldman (TITAN A.E.) Have Made A Great Film Though It's Not for the Whole Family (Violene and Suspence), Thay've Made One Great Film That Will Be Timeless For Generations To Come.    Overall Rating-5/5\n",
      "output : [{'generated_text': 'Video'}]\n",
      "runtime : 0.9456932544708252\n"
     ]
    }
   ],
   "source": [
    "example = test_dataset[100]['text']\n",
    "start_time = time.time()\n",
    "prompt = template.format(text = example)\n",
    "output = pipeFlanT5(prompt)\n",
    "end_time = time.time()\n",
    "print(f'input : {example}')\n",
    "print(f'output : {output}')\n",
    "print(f'runtime : {end_time-start_time}')"
   ]
  },
  {
   "cell_type": "code",
   "execution_count": 25,
   "metadata": {},
   "outputs": [
    {
     "name": "stdout",
     "output_type": "stream",
     "text": [
      "=> load results from FlanT5_eval_results_task2.json\n"
     ]
    }
   ],
   "source": [
    "if not os.path.exists(\"./FlanT5_eval_results_task2.json\"):\n",
    "    FlanT5_res_corr, FlanT5_correct_corr, FlanT5_total_corr, FlanT5_runtime_corr, FlanT5_preds, FlanT5_labels = pipeline_corr_eval_llm(pipeFlanT5, test_dataset, template, label2id)\n",
    "    with open(\"./FlanT5_eval_results_task2.json\", \"w\") as f:\n",
    "        data = {}\n",
    "        data['res_corr'] = FlanT5_res_corr\n",
    "        data['correct_corr'] = FlanT5_correct_corr\n",
    "        data['total_corr'] = FlanT5_total_corr\n",
    "        data['runtime_corr'] = FlanT5_runtime_corr\n",
    "        data['preds'] = FlanT5_preds\n",
    "        data['labels'] = FlanT5_labels\n",
    "        json.dump(data,f)\n",
    "    print('=> save results to FlanT5_eval_results_task2.json')\n",
    "else:\n",
    "    with open(\"./FlanT5_eval_results_task2.json\", \"r\") as f:\n",
    "        data = json.load(f)\n",
    "        FlanT5_res_corr = data['res_corr']\n",
    "        FlanT5_correct_corr = data['correct_corr']\n",
    "        FlanT5_total_corr = data['total_corr']\n",
    "        FlanT5_runtime_corr = data['runtime_corr']\n",
    "        FlanT5_preds = data['preds']\n",
    "        FlanT5_labels = data['labels']\n",
    "    print('=> load results from FlanT5_eval_results_task2.json')"
   ]
  },
  {
   "cell_type": "code",
   "execution_count": 26,
   "metadata": {},
   "outputs": [
    {
     "name": "stdout",
     "output_type": "stream",
     "text": [
      "==> Books Accuracy: 0.94\n",
      "==> Music Accuracy: 0.96\n",
      "==> Video Accuracy: 0.98\n",
      "==> Toys Accuracy: 1.0\n",
      "==> Tools Accuracy: 0.86\n",
      "==> Office Products Accuracy: 0.3\n",
      "==> Electronics Accuracy: 0.94\n",
      "==> Kitchen Accuracy: 0.58\n",
      "==> Sports Accuracy: 0.12\n",
      "==> Shoes Accuracy: 0.94\n",
      "==> Health & Personal Care Accuracy: 0.38\n",
      "==> Total Accuracy: 0.7272727272727273\n",
      "==> Total Runtime: 176.13426733016968\n"
     ]
    }
   ],
   "source": [
    "# calculate the accuracy\n",
    "for key,val in id2label.items():\n",
    "    print(f'==> {val} Accuracy: {FlanT5_correct_corr[int(key)]/FlanT5_total_corr[int(key)]}')\n",
    "print(f'==> Total Accuracy: {np.sum(FlanT5_correct_corr) / np.sum(FlanT5_total_corr)}')\n",
    "print(f'==> Total Runtime: {FlanT5_runtime_corr}')"
   ]
  },
  {
   "cell_type": "code",
   "execution_count": 64,
   "metadata": {},
   "outputs": [
    {
     "data": {
      "image/png": "[encoded data removed]",
      "text/plain": [
       "<Figure size 640x480 with 2 Axes>"
      ]
     },
     "metadata": {},
     "output_type": "display_data"
    }
   ],
   "source": [
    "# compute the confusion matrix for best LR model\n",
    "confusion_mtx_FlanT5 = confusion_matrix(FlanT5_labels, FlanT5_preds)\n",
    "# plot the confusion matrix\n",
    "plot_confusion_matrix(confusion_mtx_FlanT5,\n",
    "            classes = classes)"
   ]
  },
  {
   "cell_type": "code",
   "execution_count": 29,
   "metadata": {},
   "outputs": [
    {
     "data": {
      "text/plain": [
       "['american made what else is needed nice hefty blade and shave the hair off your arm straight out of the box great knife for a great price the scabered that it comes with takes  some power to get it out but thats what you want when moving around wont accidently fall or get pulled out. this knife is made to work and will last a life time',\n",
       " \"WOW, That was the first word out of my mouth when I held this knife. Everything about this knife is perfect the weight,the size,the thickness (it's thickier then a pry bar)and it's durability. Your just not going to break this knife. I love it!\",\n",
       " 'i just recieved my knife this morning and its incredibly sharp, I litterally shaved with it. i was slightly disapointed when i tested its tip and stabbed a 2x4.the tip dulled dramatically from what it had been, but its not bad and im still very impressed. when this weekend comes around itl be time to start testing it.<br /><br />Thank you for all your reviews everyone, you all helped me make my decision in buying this knife and im sure il be very pleased with its quality and durability.',\n",
       " 'Still making quality products and not cutting corners...this knife is a slab of Sharp metal designed for survival and tough use.',\n",
       " 'I wasn\\'t drawn to the aesthetics of this knife when I first started to search for the ideal outdoor knife. In fact, I initially had buyer\\'s remorse thinking maybe I could have had an SOG Seal Pup Elite, or Gerber LMF 2--both solid blades from what I\\'d read, and more aesthetically pleasing IMHO. But once I lifted the raw heft of its 1095 steel cro-van weight, grasped its solid grivory grip, and unsheathed and swung its mighty 5.5\\\\\\\\\" blade, I knew I\\'d made the right choice.    PROS:  The BK2 came razor-sharp out of the box and fits the included form-fitting Kydex sheath like a glove (I have medium-large sized hands). Swinging this thing around feels like it can chop a 3-inch branch with 2 swings. The all-black subdued design adds to its functionality as a low-profile tool. The weight balance is well-distributed, letting you swing the blade like an axe while piercing like a spear. The Kydex sheath is very well-built and assuredly holds the blade in place upside-down--perfect for holstering on a MOLLE-capable vest or pack.    CONS:  The sheath is initially quite tight when inserting or removing the blade but it should loosen in time. Heavy metal and a large handle means its not for those with dainty hands or a weak grip. And because it\\'s slow, it\\'s not a good fighter (unlike the Seal Pups or LMF 2s)--but that\\'s not what it was designed for--this blade was meant to cut and last through a war.    BOTTOM LINE:  The Ka-Bar BK2 truly lives up to its reputation and combines excellent materials in a well-built knife. I don\\'t hesitate to recommend the BK2 as an excellent choice in a superior hunting / camping / survival knife that will stay by my side for years to come.',\n",
       " 'Very accurate when using for distance to flag stick.  The farther the target the harder it is to steady.  It is more difficult to get a consistent reading from a tree or bush.  All in all I am quite pleased with the performance.',\n",
       " \"It's a great knife. Nice and heavy, quality steel, decent design . Greatest fall back of the Ka-Bar Becker series of knives are the scales on the handles. Way to slick for the kinds of knives they are putting them on. The last thing I want to do is accidentally throw my bk7 at a friend while chopping or shaving bark off a limb.    I solved the grip issue with a temporary fix. Tennis racket grip. We'll see how this holds up. Most likely for beans. I'm definitely picking up the micarta scales for this blade at some point soon.    Tennis racket grip was a no go. Micarta scales are the solution.\",\n",
       " \"Mine fits well, feels a bit strange at first as I'm used to carting everything around on my back when I was in the military. Serves the purpose, just not good in the prone position.\",\n",
       " \"This knife is a work of beauty, I love everything about it! It is heavy and seems indestructible, it has a quarter inch spine! With all that praise it sucks to say that the sheath is horrible. The blade part is made of kydex and is okay, it dulls the knife a little but not too big of a deal. The upper belt attachment part is the problem. It is made of real flimsy nylon and it make it a pain to pull the knife out and then when it is out the sheath gets real floppy and when you put it back in if you don't fasten the keeper around the handle the whole thing flops over and hangs sideways. I plan to find some way to modify the sheath to fix the problems and make this wonderful knife something that I can carry on the trail.\",\n",
       " \"I'll keep it short and sweet.  This thing is bullet proof.  Buy it, use it.  You won't hurt it.  Not gonna win any beauty contests, but the beauty is in the utility.\",\n",
       " \"Arrived dull but sharpened up nicely with DMT FWFC sharpener.  Only con - the sheath is a little weird - it's difficult to snap the button that secures the knife.  Unsnapped I could see the knife easily coming out.  But even with that flaw I can't take away from the 5-star rating.  Love the blade, the weight, and the sturdiness of the knife.  Have even been using it to cut up vegetables as it's much nicer than my kitchen knives.\",\n",
       " \"I don't know anything about knives but wanted one for camping trips. This has some good weight to it. Seems to be sharp enough\",\n",
       " 'well lets see, this knife came razor sharp, i know cause i cut myself on accident not bad tho haha just nicked myself. ive watched a couple vids on youtube where they had problems with the edge but even if it doesnt come razor sharp you can put n edge on it real easy and it lasts. all around great survival knife/ \\\\\\\\\"edc\\\\\\\\\" everyday carry in my opinon. shipping was fast did the free shipping deal.',\n",
       " \"This knife can be described in short as a brute of a work horse which is not afraid to get dirty. The handles fit my XL hands very well even when I choke up on the blade. As long as I do not use the knife for an extended period of time my gloved hands feel fine. The knife holds an edge surprisingly well under heavy use and at the end of the day can be touched up with a ceramic rod. With a para-cord lanyard added on the end this monster became a decent chopper, it is also very good at botoning wood logs into pencil sized pieces. The tip on the knife seems like it will never brake due to prying and with the full 1/4&#34; tang construction this tank of a knife thrives as a beater knife. When I go out hiking I bring 3 knives, a small neck knife lashed to the front of my pack, a medium bushcraft knife for most of my tasks, and a larger full tang beater knife to preserve the edge on my smaller knives. The SCHF9 thrives in this niche, this knife can take the hits and keep rolling so your smaller knives don't need to take those hits and ruin their thinner edges. Now for the bad; the finish on the blade is not good at all, it started to wear off after I split the first log. This issue can be addressed by oiling the blade after each use (which should be done regardless for carbon steel) and wiping down the access. The only other down fall is the sheath is very bad. I would prefer to not include a sheath the get the price even lower, but I am also willing to pay a little more for a quality sheath. I would recommend the Spec Ops Combat Master 8&#34; Sheath. Overall the knife is great, it's big, it has a healthy weight to it, and the finish rubs off easy; but this monster will always be my go to choice for a large knife I know I need to beat on, great blade!!!\",\n",
       " \"This is a bare essentials chest rig.  It's not very expandable, but that isn't the point.  It is adjustable from medium state to large.  I really like this rig, I like the cost, I like the capacity of 6 ar mags and 5 pistol mags. I' m gonna complain(?) and suggest Condor adds the ability to add a water balder, snaps on the shoulder harness and waist belt to attache a 100 liter pack.  Other than that... I love it thanks for a great product.\",\n",
       " \"After reading the early reviews on the BK2 I bought one. It was my baby until my brother who is overseas asked for it ( Drat ). So naturally being the big brother, I handed it over to him (with a few minor whimpers). Then I bought another one and an old friend of mine took a shine to it. Guess what? Yep, that's two of them gone.  Now my plan is buy two so that I have at least one to fall back on. Everyone's going on about how great the BK2 is. It is that and more, but here's a biting criticism of the knife. I just can't seem to hold onto mine! It's that good. I've been pining for a survival / camping / hunting knife for over two years until I saw the BK2. It's an unbelievable knife. Both mine came hair shaving sharp at an extremely reasonable price; and best of all it's made in The U.S.A.   Ka-Bar and Becker could teach a few things to those who send our jobs overseas.\"]"
      ]
     },
     "execution_count": 29,
     "metadata": {},
     "output_type": "execute_result"
    }
   ],
   "source": [
    "# find false positive\n",
    "false_positive_reviews_FlanT5 = []\n",
    "for i in range(550):\n",
    "    id = FlanT5_res_corr[str(i)]['Id']\n",
    "    if FlanT5_res_corr[str(i)]['pred'] == 'Tools' and df.query(f'Id == {id}')['product_category'].item() == 'Sports':\n",
    "        false_positive_reviews_FlanT5.append(df.query(f'Id == {id}')['review_body'].item())\n",
    "        \n",
    "false_positive_reviews_FlanT5"
   ]
  },
  {
   "cell_type": "code",
   "execution_count": 28,
   "metadata": {},
   "outputs": [
    {
     "data": {
      "text/plain": [
       "{'0': {'Id': 1207687, 'pred': 'Books'},\n",
       " '1': {'Id': 5232282, 'pred': 'Books'},\n",
       " '2': {'Id': 706390, 'pred': 'Books'},\n",
       " '3': {'Id': 835109, 'pred': 'Books'},\n",
       " '4': {'Id': 197864, 'pred': 'Books'},\n",
       " '5': {'Id': 1571597, 'pred': 'Books'},\n",
       " '6': {'Id': 3805072, 'pred': 'Books'},\n",
       " '7': {'Id': 2338233, 'pred': 'Books'},\n",
       " '8': {'Id': 578343, 'pred': 'Books'},\n",
       " '9': {'Id': 4023378, 'pred': 'Books'},\n",
       " '10': {'Id': 4860953, 'pred': 'Books'},\n",
       " '11': {'Id': 199896, 'pred': 'Books'},\n",
       " '12': {'Id': 5582229, 'pred': 'Books'},\n",
       " '13': {'Id': 664029, 'pred': 'Books'},\n",
       " '14': {'Id': 1183452, 'pred': 'Books'},\n",
       " '15': {'Id': 582698, 'pred': 'Books'},\n",
       " '16': {'Id': 3576148, 'pred': 'Books'},\n",
       " '17': {'Id': 487121, 'pred': 'Books'},\n",
       " '18': {'Id': 2751775, 'pred': 'Books'},\n",
       " '19': {'Id': 1864520, 'pred': 'Books'},\n",
       " '20': {'Id': 3219825, 'pred': 'Books'},\n",
       " '21': {'Id': 5997446, 'pred': 'Books'},\n",
       " '22': {'Id': 3694255, 'pred': 'Books'},\n",
       " '23': {'Id': 849478, 'pred': 'Books'},\n",
       " '24': {'Id': 5186274, 'pred': 'Office Products'},\n",
       " '25': {'Id': 115401, 'pred': 'Books'},\n",
       " '26': {'Id': 4085180, 'pred': 'Books'},\n",
       " '27': {'Id': 627353, 'pred': 'Music'},\n",
       " '28': {'Id': 3223817, 'pred': 'Books'},\n",
       " '29': {'Id': 1258613, 'pred': 'Books'},\n",
       " '30': {'Id': 1761942, 'pred': 'Books'},\n",
       " '31': {'Id': 561691, 'pred': 'Books'},\n",
       " '32': {'Id': 1182802, 'pred': 'Books'},\n",
       " '33': {'Id': 1081214, 'pred': 'Books'},\n",
       " '34': {'Id': 6139478, 'pred': 'Books'},\n",
       " '35': {'Id': 772073, 'pred': 'Books'},\n",
       " '36': {'Id': 715266, 'pred': 'Music'},\n",
       " '37': {'Id': 1140172, 'pred': 'Books'},\n",
       " '38': {'Id': 1085556, 'pred': 'Books'},\n",
       " '39': {'Id': 854832, 'pred': 'Books'},\n",
       " '40': {'Id': 2132033, 'pred': 'Books'},\n",
       " '41': {'Id': 6031755, 'pred': 'Books'},\n",
       " '42': {'Id': 1244693, 'pred': 'Books'},\n",
       " '43': {'Id': 1561273, 'pred': 'Books'},\n",
       " '44': {'Id': 1330213, 'pred': 'Books'},\n",
       " '45': {'Id': 1228320, 'pred': 'Books'},\n",
       " '46': {'Id': 1596481, 'pred': 'Books'},\n",
       " '47': {'Id': 838118, 'pred': 'Books'},\n",
       " '48': {'Id': 2938476, 'pred': 'Books'},\n",
       " '49': {'Id': 6179073, 'pred': 'Books'},\n",
       " '50': {'Id': 353145, 'pred': 'Music'},\n",
       " '51': {'Id': 5576999, 'pred': 'Music'},\n",
       " '52': {'Id': 2918967, 'pred': 'Music'},\n",
       " '53': {'Id': 451352, 'pred': 'Music'},\n",
       " '54': {'Id': 2682202, 'pred': 'Music'},\n",
       " '55': {'Id': 718448, 'pred': 'Music'},\n",
       " '56': {'Id': 115038, 'pred': 'Music'},\n",
       " '57': {'Id': 6080050, 'pred': 'Music'},\n",
       " '58': {'Id': 478530, 'pred': 'Music'},\n",
       " '59': {'Id': 864763, 'pred': 'Music'},\n",
       " '60': {'Id': 3403129, 'pred': 'Music'},\n",
       " '61': {'Id': 347867, 'pred': 'Music'},\n",
       " '62': {'Id': 897148, 'pred': 'Music'},\n",
       " '63': {'Id': 1213842, 'pred': 'Music'},\n",
       " '64': {'Id': 342867, 'pred': 'Music'},\n",
       " '65': {'Id': 484695, 'pred': 'Music'},\n",
       " '66': {'Id': 657787, 'pred': 'Music'},\n",
       " '67': {'Id': 76450, 'pred': 'Music'},\n",
       " '68': {'Id': 448483, 'pred': 'Music'},\n",
       " '69': {'Id': 1981239, 'pred': 'Music'},\n",
       " '70': {'Id': 181862, 'pred': 'Music'},\n",
       " '71': {'Id': 2900700, 'pred': 'Music'},\n",
       " '72': {'Id': 377684, 'pred': 'Music'},\n",
       " '73': {'Id': 763706, 'pred': 'Music'},\n",
       " '74': {'Id': 2450061, 'pred': 'Music'},\n",
       " '75': {'Id': 1048870, 'pred': 'Music'},\n",
       " '76': {'Id': 1396315, 'pred': 'Music'},\n",
       " '77': {'Id': 4383859, 'pred': 'Video'},\n",
       " '78': {'Id': 454174, 'pred': 'Music'},\n",
       " '79': {'Id': 129644, 'pred': 'Music'},\n",
       " '80': {'Id': 399719, 'pred': 'Music'},\n",
       " '81': {'Id': 523804, 'pred': 'Music'},\n",
       " '82': {'Id': 1202893, 'pred': 'Music'},\n",
       " '83': {'Id': 3774167, 'pred': 'Video'},\n",
       " '84': {'Id': 2864885, 'pred': 'Music'},\n",
       " '85': {'Id': 724500, 'pred': 'Music'},\n",
       " '86': {'Id': 1342944, 'pred': 'Music'},\n",
       " '87': {'Id': 31051, 'pred': 'Music'},\n",
       " '88': {'Id': 3180202, 'pred': 'Music'},\n",
       " '89': {'Id': 5399566, 'pred': 'Music'},\n",
       " '90': {'Id': 999218, 'pred': 'Music'},\n",
       " '91': {'Id': 2076850, 'pred': 'Music'},\n",
       " '92': {'Id': 969858, 'pred': 'Music'},\n",
       " '93': {'Id': 45900, 'pred': 'Music'},\n",
       " '94': {'Id': 1520731, 'pred': 'Music'},\n",
       " '95': {'Id': 3226233, 'pred': 'Music'},\n",
       " '96': {'Id': 590405, 'pred': 'Music'},\n",
       " '97': {'Id': 416260, 'pred': 'Music'},\n",
       " '98': {'Id': 1122021, 'pred': 'Music'},\n",
       " '99': {'Id': 4133042, 'pred': 'Music'},\n",
       " '100': {'Id': 864983, 'pred': 'Video'},\n",
       " '101': {'Id': 85945, 'pred': 'Video'},\n",
       " '102': {'Id': 304695, 'pred': 'Video'},\n",
       " '103': {'Id': 87199, 'pred': 'Video'},\n",
       " '104': {'Id': 85759, 'pred': 'Video'},\n",
       " '105': {'Id': 1223917, 'pred': 'Video'},\n",
       " '106': {'Id': 225966, 'pred': 'Video'},\n",
       " '107': {'Id': 52069, 'pred': 'Video'},\n",
       " '108': {'Id': 53157, 'pred': 'Video'},\n",
       " '109': {'Id': 262867, 'pred': 'Video'},\n",
       " '110': {'Id': 79102, 'pred': 'Video'},\n",
       " '111': {'Id': 31700, 'pred': 'Video'},\n",
       " '112': {'Id': 29632, 'pred': 'Video'},\n",
       " '113': {'Id': 1252161, 'pred': 'Video'},\n",
       " '114': {'Id': 366038, 'pred': 'Video'},\n",
       " '115': {'Id': 103418, 'pred': 'Video'},\n",
       " '116': {'Id': 174713, 'pred': 'Video'},\n",
       " '117': {'Id': 21736, 'pred': 'Video'},\n",
       " '118': {'Id': 89922, 'pred': 'Video'},\n",
       " '119': {'Id': 177124, 'pred': 'Video'},\n",
       " '120': {'Id': 24220, 'pred': 'Video'},\n",
       " '121': {'Id': 109229, 'pred': 'Video'},\n",
       " '122': {'Id': 64578, 'pred': 'Video'},\n",
       " '123': {'Id': 26311, 'pred': 'Video'},\n",
       " '124': {'Id': 441545, 'pred': 'Video'},\n",
       " '125': {'Id': 45739, 'pred': 'Video'},\n",
       " '126': {'Id': 201591, 'pred': 'Video'},\n",
       " '127': {'Id': 28744, 'pred': 'Video'},\n",
       " '128': {'Id': 18551, 'pred': 'Video'},\n",
       " '129': {'Id': 329074, 'pred': 'Video'},\n",
       " '130': {'Id': 617686, 'pred': 'Video'},\n",
       " '131': {'Id': 1158050, 'pred': 'Video'},\n",
       " '132': {'Id': 266556, 'pred': 'Video'},\n",
       " '133': {'Id': 309569, 'pred': 'Video'},\n",
       " '134': {'Id': 5329177, 'pred': 'Music'},\n",
       " '135': {'Id': 180713, 'pred': 'Video'},\n",
       " '136': {'Id': 19357, 'pred': 'Video'},\n",
       " '137': {'Id': 294614, 'pred': 'Video'},\n",
       " '138': {'Id': 124667, 'pred': 'Video'},\n",
       " '139': {'Id': 88555, 'pred': 'Video'},\n",
       " '140': {'Id': 79935, 'pred': 'Video'},\n",
       " '141': {'Id': 170329, 'pred': 'Video'},\n",
       " '142': {'Id': 258280, 'pred': 'Video'},\n",
       " '143': {'Id': 62570, 'pred': 'Video'},\n",
       " '144': {'Id': 399939, 'pred': 'Video'},\n",
       " '145': {'Id': 909161, 'pred': 'Video'},\n",
       " '146': {'Id': 102858, 'pred': 'Video'},\n",
       " '147': {'Id': 66268, 'pred': 'Video'},\n",
       " '148': {'Id': 345657, 'pred': 'Video'},\n",
       " '149': {'Id': 300008, 'pred': 'Video'},\n",
       " '150': {'Id': 4921974, 'pred': 'Toys'},\n",
       " '151': {'Id': 2496717, 'pred': 'Toys'},\n",
       " '152': {'Id': 2779538, 'pred': 'Toys'},\n",
       " '153': {'Id': 3480792, 'pred': 'Toys'},\n",
       " '154': {'Id': 1481406, 'pred': 'Toys'},\n",
       " '155': {'Id': 4389273, 'pred': 'Toys'},\n",
       " '156': {'Id': 1615842, 'pred': 'Toys'},\n",
       " '157': {'Id': 3141681, 'pred': 'Toys'},\n",
       " '158': {'Id': 3322350, 'pred': 'Toys'},\n",
       " '159': {'Id': 3519895, 'pred': 'Toys'},\n",
       " '160': {'Id': 1300260, 'pred': 'Toys'},\n",
       " '161': {'Id': 1937161, 'pred': 'Toys'},\n",
       " '162': {'Id': 3047722, 'pred': 'Toys'},\n",
       " '163': {'Id': 2451446, 'pred': 'Toys'},\n",
       " '164': {'Id': 579028, 'pred': 'Toys'},\n",
       " '165': {'Id': 4202215, 'pred': 'Toys'},\n",
       " '166': {'Id': 5599243, 'pred': 'Toys'},\n",
       " '167': {'Id': 3975911, 'pred': 'Toys'},\n",
       " '168': {'Id': 1894504, 'pred': 'Toys'},\n",
       " '169': {'Id': 5458086, 'pred': 'Toys'},\n",
       " '170': {'Id': 3639476, 'pred': 'Toys'},\n",
       " '171': {'Id': 1772728, 'pred': 'Toys'},\n",
       " '172': {'Id': 2864287, 'pred': 'Toys'},\n",
       " '173': {'Id': 4391506, 'pred': 'Toys'},\n",
       " '174': {'Id': 4954050, 'pred': 'Toys'},\n",
       " '175': {'Id': 2959333, 'pred': 'Toys'},\n",
       " '176': {'Id': 5345623, 'pred': 'Toys'},\n",
       " '177': {'Id': 3399625, 'pred': 'Toys'},\n",
       " '178': {'Id': 3642471, 'pred': 'Toys'},\n",
       " '179': {'Id': 5830898, 'pred': 'Toys'},\n",
       " '180': {'Id': 5704911, 'pred': 'Toys'},\n",
       " '181': {'Id': 4084317, 'pred': 'Toys'},\n",
       " '182': {'Id': 2293203, 'pred': 'Toys'},\n",
       " '183': {'Id': 1562046, 'pred': 'Toys'},\n",
       " '184': {'Id': 4566848, 'pred': 'Toys'},\n",
       " '185': {'Id': 5650049, 'pred': 'Toys'},\n",
       " '186': {'Id': 3328431, 'pred': 'Toys'},\n",
       " '187': {'Id': 3981384, 'pred': 'Toys'},\n",
       " '188': {'Id': 3310958, 'pred': 'Toys'},\n",
       " '189': {'Id': 1213407, 'pred': 'Toys'},\n",
       " '190': {'Id': 2976622, 'pred': 'Toys'},\n",
       " '191': {'Id': 4262620, 'pred': 'Toys'},\n",
       " '192': {'Id': 3423590, 'pred': 'Toys'},\n",
       " '193': {'Id': 5253658, 'pred': 'Toys'},\n",
       " '194': {'Id': 2915845, 'pred': 'Toys'},\n",
       " '195': {'Id': 5018543, 'pred': 'Toys'},\n",
       " '196': {'Id': 2556566, 'pred': 'Toys'},\n",
       " '197': {'Id': 740535, 'pred': 'Toys'},\n",
       " '198': {'Id': 1891066, 'pred': 'Toys'},\n",
       " '199': {'Id': 3290376, 'pred': 'Toys'},\n",
       " '200': {'Id': 4256665, 'pred': 'Tools'},\n",
       " '201': {'Id': 2635363, 'pred': 'Tools'},\n",
       " '202': {'Id': 1920528, 'pred': 'Tools'},\n",
       " '203': {'Id': 6338237, 'pred': 'Kitchen'},\n",
       " '204': {'Id': 2261802, 'pred': 'Tools'},\n",
       " '205': {'Id': 5122455, 'pred': 'Tools'},\n",
       " '206': {'Id': 4594256, 'pred': 'Tools'},\n",
       " '207': {'Id': 3701265, 'pred': 'Tools'},\n",
       " '208': {'Id': 5263279, 'pred': 'Tools'},\n",
       " '209': {'Id': 2068838, 'pred': 'Electronics'},\n",
       " '210': {'Id': 2909877, 'pred': 'Tools'},\n",
       " '211': {'Id': 6262278, 'pred': 'Tools'},\n",
       " '212': {'Id': 3502387, 'pred': 'Tools'},\n",
       " '213': {'Id': 1323513, 'pred': 'Tools'},\n",
       " '214': {'Id': 2448338, 'pred': 'Kitchen'},\n",
       " '215': {'Id': 2380563, 'pred': 'Tools'},\n",
       " '216': {'Id': 1986840, 'pred': 'Tools'},\n",
       " '217': {'Id': 1423345, 'pred': 'Tools'},\n",
       " '218': {'Id': 5780802, 'pred': 'Tools'},\n",
       " '219': {'Id': 5660152, 'pred': 'Tools'},\n",
       " '220': {'Id': 2434087, 'pred': 'Tools'},\n",
       " '221': {'Id': 5164964, 'pred': 'Tools'},\n",
       " '222': {'Id': 1096441, 'pred': 'Tools'},\n",
       " '223': {'Id': 1924889, 'pred': 'Tools'},\n",
       " '224': {'Id': 1987998, 'pred': 'Tools'},\n",
       " '225': {'Id': 1922607, 'pred': 'Tools'},\n",
       " '226': {'Id': 6145449, 'pred': 'Office Products'},\n",
       " '227': {'Id': 5334098, 'pred': 'Tools'},\n",
       " '228': {'Id': 1142476, 'pred': 'Tools'},\n",
       " '229': {'Id': 2731812, 'pred': 'Tools'},\n",
       " '230': {'Id': 2037128, 'pred': 'Tools'},\n",
       " '231': {'Id': 2080498, 'pred': 'Tools'},\n",
       " '232': {'Id': 1333724, 'pred': 'Office Products'},\n",
       " '233': {'Id': 5314689, 'pred': 'Tools'},\n",
       " '234': {'Id': 3244707, 'pred': 'Kitchen'},\n",
       " '235': {'Id': 2906801, 'pred': 'Tools'},\n",
       " '236': {'Id': 5086330, 'pred': 'Tools'},\n",
       " '237': {'Id': 3729035, 'pred': 'Tools'},\n",
       " '238': {'Id': 2973176, 'pred': 'Tools'},\n",
       " '239': {'Id': 3170305, 'pred': 'Tools'},\n",
       " '240': {'Id': 6287581, 'pred': 'Tools'},\n",
       " '241': {'Id': 2905705, 'pred': 'Tools'},\n",
       " '242': {'Id': 2823337, 'pred': 'Tools'},\n",
       " '243': {'Id': 6536098, 'pred': 'Tools'},\n",
       " '244': {'Id': 3619158, 'pred': 'Tools'},\n",
       " '245': {'Id': 2519160, 'pred': 'Kitchen'},\n",
       " '246': {'Id': 1967249, 'pred': 'Tools'},\n",
       " '247': {'Id': 4578645, 'pred': 'Tools'},\n",
       " '248': {'Id': 2648087, 'pred': 'Tools'},\n",
       " '249': {'Id': 2282762, 'pred': 'Tools'},\n",
       " '250': {'Id': 5582714, 'pred': 'Video'},\n",
       " '251': {'Id': 4594992, 'pred': 'Tools'},\n",
       " '252': {'Id': 1790595, 'pred': 'Tools'},\n",
       " '253': {'Id': 6769903, 'pred': 'Electronics'},\n",
       " '254': {'Id': 981195, 'pred': 'Tools'},\n",
       " '255': {'Id': 2569970, 'pred': 'Office Products'},\n",
       " '256': {'Id': 2219414, 'pred': 'Electronics'},\n",
       " '257': {'Id': 1699503, 'pred': 'Tools'},\n",
       " '258': {'Id': 3006021, 'pred': 'Electronics'},\n",
       " '259': {'Id': 5828204, 'pred': 'Office Products'},\n",
       " '260': {'Id': 6887184, 'pred': 'Office Products'},\n",
       " '261': {'Id': 849177, 'pred': 'Tools'},\n",
       " '262': {'Id': 1080980, 'pred': 'Electronics'},\n",
       " '263': {'Id': 6455969, 'pred': 'Electronics'},\n",
       " '264': {'Id': 6888855, 'pred': 'Electronics'},\n",
       " '265': {'Id': 2449634, 'pred': 'Electronics'},\n",
       " '266': {'Id': 4839758, 'pred': 'Electronics'},\n",
       " '267': {'Id': 3105903, 'pred': 'Office Products'},\n",
       " '268': {'Id': 5643745, 'pred': 'Electronics'},\n",
       " '269': {'Id': 855180, 'pred': 'Electronics'},\n",
       " '270': {'Id': 6855414, 'pred': 'Electronics'},\n",
       " '271': {'Id': 2031865, 'pred': 'Office Products'},\n",
       " '272': {'Id': 1051728, 'pred': 'Tools'},\n",
       " '273': {'Id': 5990350, 'pred': 'Electronics'},\n",
       " '274': {'Id': 5243449, 'pred': 'Office Products'},\n",
       " '275': {'Id': 4988908, 'pred': 'Electronics'},\n",
       " '276': {'Id': 2516931, 'pred': 'Office Products'},\n",
       " '277': {'Id': 3143282, 'pred': 'Electronics'},\n",
       " '278': {'Id': 6353028, 'pred': 'Electronics'},\n",
       " '279': {'Id': 6504311, 'pred': 'Electronics'},\n",
       " '280': {'Id': 6644689, 'pred': 'Electronics'},\n",
       " '281': {'Id': 2818302, 'pred': 'Office Products'},\n",
       " '282': {'Id': 3299008, 'pred': 'Electronics'},\n",
       " '283': {'Id': 2857773, 'pred': 'Electronics'},\n",
       " '284': {'Id': 3754681, 'pred': 'Electronics'},\n",
       " '285': {'Id': 1770104, 'pred': 'Books'},\n",
       " '286': {'Id': 3955525, 'pred': 'Office Products'},\n",
       " '287': {'Id': 4164018, 'pred': 'Electronics'},\n",
       " '288': {'Id': 2503661, 'pred': 'Electronics'},\n",
       " '289': {'Id': 6297406, 'pred': 'Office Products'},\n",
       " '290': {'Id': 2223328, 'pred': 'Electronics'},\n",
       " '291': {'Id': 5581685, 'pred': 'Electronics'},\n",
       " '292': {'Id': 3564762, 'pred': 'Office Products'},\n",
       " '293': {'Id': 1973671, 'pred': 'Office Products'},\n",
       " '294': {'Id': 988260, 'pred': 'Office Products'},\n",
       " '295': {'Id': 2451048, 'pred': 'Office Products'},\n",
       " '296': {'Id': 2865658, 'pred': 'Electronics'},\n",
       " '297': {'Id': 676916, 'pred': 'Office Products'},\n",
       " '298': {'Id': 1206532, 'pred': 'Tools'},\n",
       " '299': {'Id': 1966690, 'pred': 'Electronics'},\n",
       " '300': {'Id': 793968, 'pred': 'Electronics'},\n",
       " '301': {'Id': 6848929, 'pred': 'Electronics'},\n",
       " '302': {'Id': 5911854, 'pred': 'Electronics'},\n",
       " '303': {'Id': 4408604, 'pred': 'Electronics'},\n",
       " '304': {'Id': 1070993, 'pred': 'Electronics'},\n",
       " '305': {'Id': 3082814, 'pred': 'Electronics'},\n",
       " '306': {'Id': 6533293, 'pred': 'Electronics'},\n",
       " '307': {'Id': 943050, 'pred': 'Electronics'},\n",
       " '308': {'Id': 1280299, 'pred': 'Electronics'},\n",
       " '309': {'Id': 5874287, 'pred': 'Electronics'},\n",
       " '310': {'Id': 1017709, 'pred': 'Electronics'},\n",
       " '311': {'Id': 1128654, 'pred': 'Electronics'},\n",
       " '312': {'Id': 2268439, 'pred': 'Electronics'},\n",
       " '313': {'Id': 1080056, 'pred': 'Electronics'},\n",
       " '314': {'Id': 4782522, 'pred': 'Electronics'},\n",
       " '315': {'Id': 997242, 'pred': 'Electronics'},\n",
       " '316': {'Id': 2764323, 'pred': 'Electronics'},\n",
       " '317': {'Id': 1099935, 'pred': 'Electronics'},\n",
       " '318': {'Id': 3699459, 'pred': 'Electronics'},\n",
       " '319': {'Id': 3542765, 'pred': 'Health & Personal Care'},\n",
       " '320': {'Id': 2893729, 'pred': 'Electronics'},\n",
       " '321': {'Id': 1519391, 'pred': 'Electronics'},\n",
       " '322': {'Id': 1245654, 'pred': 'Electronics'},\n",
       " '323': {'Id': 1002693, 'pred': 'Electronics'},\n",
       " '324': {'Id': 1088608, 'pred': 'Electronics'},\n",
       " '325': {'Id': 1403154, 'pred': 'Electronics'},\n",
       " '326': {'Id': 4771974, 'pred': 'Electronics'},\n",
       " '327': {'Id': 1070921, 'pred': 'Electronics'},\n",
       " '328': {'Id': 6768859, 'pred': 'Electronics'},\n",
       " '329': {'Id': 5681674, 'pred': 'Electronics'},\n",
       " '330': {'Id': 1502351, 'pred': 'Electronics'},\n",
       " '331': {'Id': 2935883, 'pred': 'Electronics'},\n",
       " '332': {'Id': 1246266, 'pred': 'Electronics'},\n",
       " '333': {'Id': 2380235, 'pred': 'Electronics'},\n",
       " '334': {'Id': 852147, 'pred': 'Electronics'},\n",
       " '335': {'Id': 2074456, 'pred': 'Video'},\n",
       " '336': {'Id': 4833396, 'pred': 'Electronics'},\n",
       " '337': {'Id': 3873013, 'pred': 'Electronics'},\n",
       " '338': {'Id': 1101688, 'pred': 'Tools'},\n",
       " '339': {'Id': 3165806, 'pred': 'Electronics'},\n",
       " '340': {'Id': 1949611, 'pred': 'Electronics'},\n",
       " '341': {'Id': 2627297, 'pred': 'Electronics'},\n",
       " '342': {'Id': 1748025, 'pred': 'Electronics'},\n",
       " '343': {'Id': 1985326, 'pred': 'Electronics'},\n",
       " '344': {'Id': 5843247, 'pred': 'Electronics'},\n",
       " '345': {'Id': 2272265, 'pred': 'Electronics'},\n",
       " '346': {'Id': 5632255, 'pred': 'Electronics'},\n",
       " '347': {'Id': 1345668, 'pred': 'Electronics'},\n",
       " '348': {'Id': 4134094, 'pred': 'Electronics'},\n",
       " '349': {'Id': 1015690, 'pred': 'Electronics'},\n",
       " '350': {'Id': 326089, 'pred': 'Kitchen'},\n",
       " '351': {'Id': 5552262, 'pred': 'Kitchen'},\n",
       " '352': {'Id': 3163158, 'pred': 'Sports'},\n",
       " '353': {'Id': 3800750, 'pred': 'Kitchen'},\n",
       " '354': {'Id': 3913519, 'pred': 'Kitchen'},\n",
       " '355': {'Id': 1395540, 'pred': 'Tools'},\n",
       " '356': {'Id': 3455288, 'pred': 'Kitchen'},\n",
       " '357': {'Id': 5073126, 'pred': 'Toys'},\n",
       " '358': {'Id': 1680071, 'pred': 'Kitchen'},\n",
       " '359': {'Id': 715922, 'pred': 'Kitchen'},\n",
       " '360': {'Id': 1161117, 'pred': 'Kitchen'},\n",
       " '361': {'Id': 1379455, 'pred': 'Kitchen'},\n",
       " '362': {'Id': 2158356, 'pred': 'Tools'},\n",
       " '363': {'Id': 4786068, 'pred': 'Tools'},\n",
       " '364': {'Id': 1820126, 'pred': 'Kitchen'},\n",
       " '365': {'Id': 6183868, 'pred': 'Office Products'},\n",
       " '366': {'Id': 1295563, 'pred': 'Kitchen'},\n",
       " '367': {'Id': 838163, 'pred': 'Kitchen'},\n",
       " '368': {'Id': 4268281, 'pred': 'Toys'},\n",
       " '369': {'Id': 1590257, 'pred': 'Kitchen'},\n",
       " '370': {'Id': 3769588, 'pred': 'Electronics'},\n",
       " '371': {'Id': 5444592, 'pred': 'Tools'},\n",
       " '372': {'Id': 5540922, 'pred': 'Kitchen'},\n",
       " '373': {'Id': 2658288, 'pred': 'Tools'},\n",
       " '374': {'Id': 3127624, 'pred': 'Tools'},\n",
       " '375': {'Id': 3011976, 'pred': 'Kitchen'},\n",
       " '376': {'Id': 950378, 'pred': 'Kitchen'},\n",
       " '377': {'Id': 2691330, 'pred': 'Tools'},\n",
       " '378': {'Id': 5581453, 'pred': 'Kitchen'},\n",
       " '379': {'Id': 2761294, 'pred': 'Kitchen'},\n",
       " '380': {'Id': 2824722, 'pred': 'Kitchen'},\n",
       " '381': {'Id': 689145, 'pred': 'Kitchen'},\n",
       " '382': {'Id': 1984987, 'pred': 'Kitchen'},\n",
       " '383': {'Id': 2447258, 'pred': 'Tools'},\n",
       " '384': {'Id': 779856, 'pred': 'Kitchen'},\n",
       " '385': {'Id': 3592178, 'pred': 'Health & Personal Care'},\n",
       " '386': {'Id': 6868027, 'pred': 'Kitchen'},\n",
       " '387': {'Id': 3437751, 'pred': 'Kitchen'},\n",
       " '388': {'Id': 830940, 'pred': 'Tools'},\n",
       " '389': {'Id': 1371887, 'pred': 'Kitchen'},\n",
       " '390': {'Id': 5193253, 'pred': 'Kitchen'},\n",
       " '391': {'Id': 4642458, 'pred': 'Toys'},\n",
       " '392': {'Id': 2169212, 'pred': 'Tools'},\n",
       " '393': {'Id': 2766392, 'pred': 'Toys'},\n",
       " '394': {'Id': 6334809, 'pred': 'Kitchen'},\n",
       " '395': {'Id': 5974294, 'pred': 'Tools'},\n",
       " '396': {'Id': 1234287, 'pred': 'Kitchen'},\n",
       " '397': {'Id': 2634872, 'pred': 'Tools'},\n",
       " '398': {'Id': 5544510, 'pred': 'Tools'},\n",
       " '399': {'Id': 3201716, 'pred': 'Kitchen'},\n",
       " '400': {'Id': 6158213, 'pred': 'Tools'},\n",
       " '401': {'Id': 2710670, 'pred': 'Kitchen'},\n",
       " '402': {'Id': 3736313, 'pred': 'Electronics'},\n",
       " '403': {'Id': 1411488, 'pred': 'Kitchen'},\n",
       " '404': {'Id': 5103339, 'pred': 'Electronics'},\n",
       " '405': {'Id': 2974271, 'pred': 'Electronics'},\n",
       " '406': {'Id': 1261288, 'pred': 'Kitchen'},\n",
       " '407': {'Id': 2771872, 'pred': 'Health & Personal Care'},\n",
       " '408': {'Id': 2862976, 'pred': 'Electronics'},\n",
       " '409': {'Id': 3503491, 'pred': 'Health & Personal Care'},\n",
       " '410': {'Id': 1098078, 'pred': 'Tools'},\n",
       " '411': {'Id': 2886914, 'pred': 'Tools'},\n",
       " '412': {'Id': 3642149, 'pred': 'Electronics'},\n",
       " '413': {'Id': 3329967, 'pred': 'Electronics'},\n",
       " '414': {'Id': 3426787, 'pred': 'Health & Personal Care'},\n",
       " '415': {'Id': 3252685, 'pred': 'Kitchen'},\n",
       " '416': {'Id': 3427743, 'pred': 'Health & Personal Care'},\n",
       " '417': {'Id': 3829067, 'pred': 'Electronics'},\n",
       " '418': {'Id': 6889719, 'pred': 'Electronics'},\n",
       " '419': {'Id': 6467381, 'pred': 'Electronics'},\n",
       " '420': {'Id': 2095772, 'pred': 'Sports'},\n",
       " '421': {'Id': 1477883, 'pred': 'Sports'},\n",
       " '422': {'Id': 3459600, 'pred': 'Electronics'},\n",
       " '423': {'Id': 2122987, 'pred': 'Tools'},\n",
       " '424': {'Id': 3615039, 'pred': 'Electronics'},\n",
       " '425': {'Id': 6696525, 'pred': 'Sports'},\n",
       " '426': {'Id': 2697983, 'pred': 'Toys'},\n",
       " '427': {'Id': 1150471, 'pred': 'Tools'},\n",
       " '428': {'Id': 6082361, 'pred': 'Electronics'},\n",
       " '429': {'Id': 2806690, 'pred': 'Tools'},\n",
       " '430': {'Id': 1964583, 'pred': 'Tools'},\n",
       " '431': {'Id': 5456907, 'pred': 'Tools'},\n",
       " '432': {'Id': 1297180, 'pred': 'Office Products'},\n",
       " '433': {'Id': 5994215, 'pred': 'Sports'},\n",
       " '434': {'Id': 1637649, 'pred': 'Sports'},\n",
       " '435': {'Id': 2131183, 'pred': 'Tools'},\n",
       " '436': {'Id': 3990394, 'pred': 'Health & Personal Care'},\n",
       " '437': {'Id': 1157928, 'pred': 'Tools'},\n",
       " '438': {'Id': 4017971, 'pred': 'Tools'},\n",
       " '439': {'Id': 5993991, 'pred': 'Electronics'},\n",
       " '440': {'Id': 4042416, 'pred': 'Tools'},\n",
       " '441': {'Id': 1639286, 'pred': 'Tools'},\n",
       " '442': {'Id': 1200466, 'pred': 'Shoes'},\n",
       " '443': {'Id': 2716201, 'pred': 'Shoes'},\n",
       " '444': {'Id': 5356688, 'pred': 'Tools'},\n",
       " '445': {'Id': 5024157, 'pred': 'Electronics'},\n",
       " '446': {'Id': 3125250, 'pred': 'Sports'},\n",
       " '447': {'Id': 4041444, 'pred': 'Tools'},\n",
       " '448': {'Id': 959421, 'pred': 'Tools'},\n",
       " '449': {'Id': 1439273, 'pred': 'Electronics'},\n",
       " '450': {'Id': 2982692, 'pred': 'Electronics'},\n",
       " '451': {'Id': 6407307, 'pred': 'Shoes'},\n",
       " '452': {'Id': 2632691, 'pred': 'Shoes'},\n",
       " '453': {'Id': 5934071, 'pred': 'Shoes'},\n",
       " '454': {'Id': 1862425, 'pred': 'Shoes'},\n",
       " '455': {'Id': 3090993, 'pred': 'Shoes'},\n",
       " '456': {'Id': 4040503, 'pred': 'Shoes'},\n",
       " '457': {'Id': 2252547, 'pred': 'Office Products'},\n",
       " '458': {'Id': 2478484, 'pred': 'Shoes'},\n",
       " '459': {'Id': 6269122, 'pred': 'Shoes'},\n",
       " '460': {'Id': 6444972, 'pred': 'Shoes'},\n",
       " '461': {'Id': 1187874, 'pred': 'Shoes'},\n",
       " '462': {'Id': 2066598, 'pred': 'Shoes'},\n",
       " '463': {'Id': 3673388, 'pred': 'Shoes'},\n",
       " '464': {'Id': 6260441, 'pred': 'Shoes'},\n",
       " '465': {'Id': 5914934, 'pred': 'Shoes'},\n",
       " '466': {'Id': 2814130, 'pred': 'Shoes'},\n",
       " '467': {'Id': 1715487, 'pred': 'Shoes'},\n",
       " '468': {'Id': 4500500, 'pred': 'Shoes'},\n",
       " '469': {'Id': 1564033, 'pred': 'Shoes'},\n",
       " '470': {'Id': 4929004, 'pred': 'Office Products'},\n",
       " '471': {'Id': 2295866, 'pred': 'Shoes'},\n",
       " '472': {'Id': 4436147, 'pred': 'Shoes'},\n",
       " '473': {'Id': 3756582, 'pred': 'Shoes'},\n",
       " '474': {'Id': 1395408, 'pred': 'Shoes'},\n",
       " '475': {'Id': 2418154, 'pred': 'Shoes'},\n",
       " '476': {'Id': 1011276, 'pred': 'Shoes'},\n",
       " '477': {'Id': 3183098, 'pred': 'Shoes'},\n",
       " '478': {'Id': 1582518, 'pred': 'Shoes'},\n",
       " '479': {'Id': 4431075, 'pred': 'Shoes'},\n",
       " '480': {'Id': 3112812, 'pred': 'Shoes'},\n",
       " '481': {'Id': 4604179, 'pred': 'Shoes'},\n",
       " '482': {'Id': 1859529, 'pred': 'Shoes'},\n",
       " '483': {'Id': 5569603, 'pred': 'Shoes'},\n",
       " '484': {'Id': 2015083, 'pred': 'Shoes'},\n",
       " '485': {'Id': 5391550, 'pred': 'Shoes'},\n",
       " '486': {'Id': 1185284, 'pred': 'Shoes'},\n",
       " '487': {'Id': 4330948, 'pred': 'Shoes'},\n",
       " '488': {'Id': 6372622, 'pred': 'Shoes'},\n",
       " '489': {'Id': 6316376, 'pred': 'Shoes'},\n",
       " '490': {'Id': 2810459, 'pred': 'Shoes'},\n",
       " '491': {'Id': 2367235, 'pred': 'Shoes'},\n",
       " '492': {'Id': 1798902, 'pred': 'Shoes'},\n",
       " '493': {'Id': 6514249, 'pred': 'Shoes'},\n",
       " '494': {'Id': 4373705, 'pred': 'Shoes'},\n",
       " '495': {'Id': 990617, 'pred': 'Shoes'},\n",
       " '496': {'Id': 1550662, 'pred': 'Shoes'},\n",
       " '497': {'Id': 4863357, 'pred': 'Shoes'},\n",
       " '498': {'Id': 3084732, 'pred': 'Shoes'},\n",
       " '499': {'Id': 3852326, 'pred': 'Shoes'},\n",
       " '500': {'Id': 6840316, 'pred': 'Electronics'},\n",
       " '501': {'Id': 2831389, 'pred': 'Electronics'},\n",
       " '502': {'Id': 5479852, 'pred': 'Electronics'},\n",
       " '503': {'Id': 1177119, 'pred': 'Electronics'},\n",
       " '504': {'Id': 3295760, 'pred': 'Electronics'},\n",
       " '505': {'Id': 6440985, 'pred': 'Health & Personal Care'},\n",
       " '506': {'Id': 6751389, 'pred': 'Health & Personal Care'},\n",
       " '507': {'Id': 5700928, 'pred': 'Health & Personal Care'},\n",
       " '508': {'Id': 4035769, 'pred': 'Health & Personal Care'},\n",
       " '509': {'Id': 4309205, 'pred': 'Toys'},\n",
       " '510': {'Id': 3673691, 'pred': 'Electronics'},\n",
       " '511': {'Id': 4221616, 'pred': 'Electronics'},\n",
       " '512': {'Id': 2146630, 'pred': 'Electronics'},\n",
       " '513': {'Id': 4528303, 'pred': 'Electronics'},\n",
       " '514': {'Id': 6659252, 'pred': 'Health & Personal Care'},\n",
       " '515': {'Id': 5051268, 'pred': 'Electronics'},\n",
       " '516': {'Id': 4140799, 'pred': 'Health & Personal Care'},\n",
       " '517': {'Id': 6120429, 'pred': 'Health & Personal Care'},\n",
       " '518': {'Id': 6831676, 'pred': 'Health & Personal Care'},\n",
       " '519': {'Id': 6097519, 'pred': 'Health & Personal Care'},\n",
       " '520': {'Id': 6654605, 'pred': 'Health & Personal Care'},\n",
       " '521': {'Id': 5750977, 'pred': 'Electronics'},\n",
       " '522': {'Id': 2605338, 'pred': 'Electronics'},\n",
       " '523': {'Id': 6588832, 'pred': 'Sports'},\n",
       " '524': {'Id': 4768662, 'pred': 'Electronics'},\n",
       " '525': {'Id': 6614773, 'pred': 'Electronics'},\n",
       " '526': {'Id': 4637125, 'pred': 'Electronics'},\n",
       " '527': {'Id': 4708730, 'pred': 'Electronics'},\n",
       " '528': {'Id': 4366567, 'pred': 'Health & Personal Care'},\n",
       " '529': {'Id': 4613704, 'pred': 'Electronics'},\n",
       " '530': {'Id': 3569963, 'pred': 'Electronics'},\n",
       " '531': {'Id': 6476172, 'pred': 'Electronics'},\n",
       " '532': {'Id': 5272467, 'pred': 'Health & Personal Care'},\n",
       " '533': {'Id': 4986581, 'pred': 'Health & Personal Care'},\n",
       " '534': {'Id': 3530780, 'pred': 'Electronics'},\n",
       " '535': {'Id': 1499964, 'pred': 'Electronics'},\n",
       " '536': {'Id': 5637230, 'pred': 'Health & Personal Care'},\n",
       " '537': {'Id': 3546568, 'pred': 'Electronics'},\n",
       " '538': {'Id': 6360858, 'pred': 'Electronics'},\n",
       " '539': {'Id': 2872833, 'pred': 'Music'},\n",
       " '540': {'Id': 4351192, 'pred': 'Health & Personal Care'},\n",
       " '541': {'Id': 6423116, 'pred': 'Electronics'},\n",
       " '542': {'Id': 6002515, 'pred': 'Health & Personal Care'},\n",
       " '543': {'Id': 4443416, 'pred': 'Health & Personal Care'},\n",
       " '544': {'Id': 4307961, 'pred': 'Health & Personal Care'},\n",
       " '545': {'Id': 6218712, 'pred': 'Electronics'},\n",
       " '546': {'Id': 6649264, 'pred': 'Health & Personal Care'},\n",
       " '547': {'Id': 2567364, 'pred': 'Office Products'},\n",
       " '548': {'Id': 871124, 'pred': 'Electronics'},\n",
       " '549': {'Id': 6421688, 'pred': 'Tools'}}"
      ]
     },
     "execution_count": 28,
     "metadata": {},
     "output_type": "execute_result"
    }
   ],
   "source": [
    "FlanT5_res_corr"
   ]
  },
  {
   "cell_type": "markdown",
   "metadata": {},
   "source": [
    "### zero-shot inference on FLAN-UL2"
   ]
  },
  {
   "cell_type": "code",
   "execution_count": 9,
   "metadata": {},
   "outputs": [
    {
     "data": {
      "application/vnd.jupyter.widget-view+json": {
       "model_id": "6df6c04de6e241e3af2a9e26eef542e4",
       "version_major": 2,
       "version_minor": 0
      },
      "text/plain": [
       "Loading checkpoint shards:   0%|          | 0/8 [00:00<?, ?it/s]"
      ]
     },
     "metadata": {},
     "output_type": "display_data"
    }
   ],
   "source": [
    "# flan-UL2\n",
    "pipeFlanUL2 = pipeline(\"text2text-generation\", model=\"google/flan-ul2\", device=0)"
   ]
  },
  {
   "cell_type": "code",
   "execution_count": 12,
   "metadata": {},
   "outputs": [
    {
     "name": "stderr",
     "output_type": "stream",
     "text": [
      "/home/xiao.yang3/.conda/envs/llama2/lib/python3.11/site-packages/transformers/generation/utils.py:1178: UserWarning: Using the model-agnostic default `max_length` (=20) to control the generation length. We recommend setting `max_new_tokens` to control the maximum length of the generation.\n",
      "  warnings.warn(\n"
     ]
    },
    {
     "name": "stdout",
     "output_type": "stream",
     "text": [
      "input : The Film Follows The Adventures of Anastasia, a Rusin Princess Who Lost Her Memery Years Ago As A Young Girl. On Her Way To Paris To See Her Gandma, She Bumps Into Demetrie and Vlad Who Help On Her Journey. Meanwhile, Evil Velian Russputain and Sidekick Bartok The Bat Try To Distroy Anastasia From Knowing Who She Was Years Ago.    ANASTASIA is Not Anwhere Near Don Bluth's Best Film Made, But This is Still One of The Best Animated Films Made.    The Animation Even Being 2D Animation, is Absolutly Realistic.    The Voice Talents Are Great Featuring Meg Ryan as Anastasia, John Cussack (From MARTIAN CHILD) as Demitrie, Christopher Lloyd (From BACK TO THE FUTURE) as Rusputian, Hank Arazaria (From THE SIMPSONS) as The Sidekick Bartok, Among Others.    The Directors Don Bluth (THE SECRET OF NIMH) and Gary Goldman (TITAN A.E.) Have Made A Great Film Though It's Not for the Whole Family (Violene and Suspence), Thay've Made One Great Film That Will Be Timeless For Generations To Come.    Overall Rating-5/5\n",
      "output : [{'generated_text': 'Video'}]\n",
      "runtime : 0.9130926132202148\n"
     ]
    }
   ],
   "source": [
    "example = test_dataset[100]['text']\n",
    "start_time = time.time()\n",
    "prompt = template.format(text = example)\n",
    "output = pipeFlanUL2(prompt)\n",
    "end_time = time.time()\n",
    "print(f'input : {example}')\n",
    "print(f'output : {output}')\n",
    "print(f'runtime : {end_time-start_time}')"
   ]
  },
  {
   "cell_type": "code",
   "execution_count": 16,
   "metadata": {},
   "outputs": [
    {
     "ename": "NameError",
     "evalue": "name 'os' is not defined",
     "output_type": "error",
     "traceback": [
      "\u001b[0;31m---------------------------------------------------------------------------\u001b[0m",
      "\u001b[0;31mNameError\u001b[0m                                 Traceback (most recent call last)",
      "Cell \u001b[0;32mIn[16], line 1\u001b[0m\n\u001b[0;32m----> 1\u001b[0m \u001b[38;5;28;01mif\u001b[39;00m \u001b[38;5;129;01mnot\u001b[39;00m os\u001b[38;5;241m.\u001b[39mpath\u001b[38;5;241m.\u001b[39mexists(\u001b[38;5;124m\"\u001b[39m\u001b[38;5;124m./FlanUL2_eval_results_task2.json\u001b[39m\u001b[38;5;124m\"\u001b[39m): \n\u001b[1;32m      2\u001b[0m     FlanUL2_res_corr, FlanUL2_correct_corr, FlanUL2_total_corr, FlanUL2_runtime_corr, FlanUL2_preds, FlanUL2_labels \u001b[38;5;241m=\u001b[39m pipeline_corr_eval_llm(pipeFlanUL2, test_dataset, template, label2id)\n\u001b[1;32m      3\u001b[0m     \u001b[38;5;28;01mwith\u001b[39;00m \u001b[38;5;28mopen\u001b[39m(\u001b[38;5;124m\"\u001b[39m\u001b[38;5;124m./FlanUL2_eval_results_task2.json\u001b[39m\u001b[38;5;124m\"\u001b[39m, \u001b[38;5;124m\"\u001b[39m\u001b[38;5;124mw\u001b[39m\u001b[38;5;124m\"\u001b[39m) \u001b[38;5;28;01mas\u001b[39;00m f:\n",
      "\u001b[0;31mNameError\u001b[0m: name 'os' is not defined"
     ]
    }
   ],
   "source": [
    "if not os.path.exists(\"./FlanUL2_eval_results_task2.json\"): \n",
    "    FlanUL2_res_corr, FlanUL2_correct_corr, FlanUL2_total_corr, FlanUL2_runtime_corr, FlanUL2_preds, FlanUL2_labels = pipeline_corr_eval_llm(pipeFlanUL2, test_dataset, template, label2id)\n",
    "    with open(\"./FlanUL2_eval_results_task2.json\", \"w\") as f:\n",
    "        data = {}\n",
    "        data['res_corr'] = FlanUL2_res_corr\n",
    "        data['correct_corr'] = FlanUL2_correct_corr\n",
    "        data['total_corr'] = FlanUL2_total_corr\n",
    "        data['runtime_corr'] = FlanUL2_runtime_corr\n",
    "        data['preds'] = FlanUL2_preds\n",
    "        data['labels'] = FlanUL2_labels\n",
    "        json.dump(data,f)\n",
    "    print('=> save results to FlanUL2_eval_results_task2.json')\n",
    "else:\n",
    "    with open(\"./FlanUL2_eval_results_task2.json\", \"r\") as f:\n",
    "        data = json.load(f)\n",
    "        FlanUL2_res_corr = data['res_corr']\n",
    "        FlanUL2_correct_corr = data['correct_corr']\n",
    "        FlanUL2_total_corr = data['total_corr']\n",
    "        FlanUL2_runtime_corr = data['runtime_corr']\n",
    "        FlanUL2_preds = data['preds']\n",
    "        FlanUL2_labels = data['labels']\n",
    "    print('=> load results from FlanUL2_eval_results_task2.json')"
   ]
  },
  {
   "cell_type": "code",
   "execution_count": 19,
   "metadata": {},
   "outputs": [
    {
     "name": "stdout",
     "output_type": "stream",
     "text": [
      "==> Books Accuracy: 0.96\n",
      "==> Music Accuracy: 1.0\n",
      "==> Video Accuracy: 0.98\n",
      "==> Toys Accuracy: 0.98\n",
      "==> Tools Accuracy: 0.8\n",
      "==> Office Products Accuracy: 0.5\n",
      "==> Electronics Accuracy: 0.96\n",
      "==> Kitchen Accuracy: 0.6\n",
      "==> Sports Accuracy: 0.2\n",
      "==> Shoes Accuracy: 0.96\n",
      "==> Health & Personal Care Accuracy: 0.48\n",
      "==> Total Accuracy: 0.7654545454545455\n",
      "==> Total Runtime: 268.7550759315491\n"
     ]
    }
   ],
   "source": [
    "# calculate the accuracy\n",
    "for key,val in id2label.items():\n",
    "    print(f'==> {val} Accuracy: {FlanUL2_correct_corr[int(key)]/FlanUL2_total_corr[int(key)]}')\n",
    "print(f'==> Total Accuracy: {np.sum(FlanUL2_correct_corr) / np.sum(FlanUL2_total_corr)}')\n",
    "print(f'==> Total Runtime: {FlanUL2_runtime_corr}')"
   ]
  },
  {
   "cell_type": "code",
   "execution_count": 20,
   "metadata": {},
   "outputs": [
    {
     "data": {
      "image/png": "[encoded data removed]",
      "text/plain": [
       "<Figure size 640x480 with 2 Axes>"
      ]
     },
     "metadata": {},
     "output_type": "display_data"
    }
   ],
   "source": [
    "# compute the confusion matrix for best LR model\n",
    "confusion_mtx_FlanUL2 = confusion_matrix(FlanUL2_labels, FlanUL2_preds)\n",
    "# plot the confusion matrix\n",
    "plot_confusion_matrix(confusion_mtx_FlanUL2,\n",
    "            classes = classes)"
   ]
  },
  {
   "cell_type": "code",
   "execution_count": 21,
   "metadata": {},
   "outputs": [
    {
     "data": {
      "text/plain": [
       "['This item was purchased by me in an effort to see if these types of hearing devices could help.  This one worked very well, but was designed to listen to birds and bird watching.  I returned the item, not because it was defective, but to purchase one made for special hearing aids.',\n",
       " \"I worked and worked and worked to try and get it to focus on my TV but was never successful. At standard viewing distance you can only see part of the screen and even that is not comfortable viewing. What a waste of money! You would think a German product would have better engineering than this. I hardly return anything but I'm going to try and get my money back on this one.<br /><br />Rick<br /><br />Edit 9/1/13: The product did not work for me but I am PLEASED with the seller. The refund process was simple and I received my refund promptly.<br /><br />Rick\",\n",
       " \"Connectivity not as clean as I expected.  I was looking for a device to connect to Microsoft HealthVault, so far I've been unable to connect. This device is overpriced for was it is and does.  Disappointed with implementation, it's primary connection to only one cell phone (connecting to a second phone is an option but not clean), no local display is a major problem, bulky design. Bottom line, I would not recommend it.\",\n",
       " 'The Sonic Super Ear Personal Sound Amplifier is an excellent conversation aide for those experiencing extreme difficulty in hearing.  It does not filter out background noise, so you may not find it quite as useful for TV amplification, group (party) settings, or for instances where the person speaking is a significant distance from the microphone.  The best performance will be in quiet settings with either one-on-one conversation or a small group of people.',\n",
       " 'I was having to turn the sound up way high on the T.V. to hear it and my wife was complaining that the neighbors could hear. Now that I have the sound amp she can keep the t.v. turned down to her level and I can turn mine up so I can hear. It works great and keeps peace in the family.',\n",
       " \"My husband has some hearing issues.  He wanted this amplifer to hear the television, but ends up hearing everything else but the television. Because this unit is so sensitive, it picks up every little noise in the house.  In fact, when it came to hearing the televsion, he had to turn up the television quite loud in order to hear it over the noise the superear personal sound amplifer was picking up.  These may be excellent for general conversation, but if you want to focus on listening to the television, make sure no one is around, close your windows and doors, and don't move!  Just moving in your seat will set this amplifier off and it can really hurt your ears.\",\n",
       " 'Very useful for elderly hard of hearing persons.  Need to be able to see control to turn off and on. Battery life unknown at this point',\n",
       " \"This is not what I though It was.I wanted it for watching tv,but does not help at all.I have Hearing Aids that are a Lot better.It will work if You're only 4 Feet away,but at 15 Feet,forget.More junk from China.Not worth the Hassel to send it back.Not a Good Item to Buy on Line. Willard Funk\",\n",
       " \"I have seen these promoted on television and really questioned their abilities.  My mother is profoundly hearing impaired and even with her hearing aids we are constantly repeating things to her and she can't take part in conversations.  There really wasn't much to lose by ordering these since I could always get my money back.  But much to our delight these work, altho she can't hear tv without the sound being up high she can actually hear our conversations with the headphones.  I am amazed and so glad that we have found something to help her take part in family conversations when we all get together.  We have bought her a pair of 'in the ear' headphones to help facilitate her hearing but she could hear with the headphones that came with the amplifier.  Very pleased with SuperEar\",\n",
       " \"It works great but sometimes it take a while to connect to the iPhone. I would recommend, it was easy to set up and it's easy to use. Having that info at your fingertip to share with your doctor is great.\",\n",
       " 'Yep helped me hear an outside cell phone conversation so I kicked the cheating jerk out and called his girlfriend LOL',\n",
       " 'I use the product because I live in an apartment and I do not want to disturb others especially late night TV. I can hear very well with the product while the TV is turned down low.',\n",
       " \"I really wanted this to work but it's way too unreliable.  About 50% of the time it just complained that it could not take a proper reading. It's going to be too frustrating to use.  Very new technology, so I guess there's a lot of kinks to work out. Not ready for prime time.\",\n",
       " 'Love it!  Works great!  But only after fooling with it for a few days as the instructions are lacking.  But, a great product!  And, seems to be accurate when compared to other units.',\n",
       " \"Doesn't work with iPhone.  Works ok with android... 100% unreliable and really only good for entertainment purposes.\",\n",
       " 'My dad kept losing his very expensive ($5000 a pair) hearing aids, which did not work very well for  him anyway. This device allows me and his caregivers to be able to communicate with him clearly one-on-one. I just have him put on the headphones and can speak to him in a normal tone of voice through the microphone.  No more speaking loudly directly into his ear! Really glad I bought this product.',\n",
       " \"This product works good except it's not powerful enough to replace my hearing aids. It picks up all noises like fans running which takes away from it's effectiveness.\",\n",
       " 'Ok. Would not buy again! Not very happy with the price! SuperEar and Super price will increase with each purchase!',\n",
       " 'For the price. It works well. My grandmother is able to communicate with us again.',\n",
       " 'I had to help my Aunt set it up and she was happy to hear and not have to say &#34;huh?&#34;',\n",
       " 'Got this for my 77 year old mother so she can hear the TV without annoying me with the loudness.  She refuses to get a hearing aid.  If she wants me in her presence, she must use it or forget it.  She likes it!',\n",
       " 'From Day one, I have to say that this little gem works better than the $5,000 unit I paid for years back. No frills, no gadgets, no automation but of course few options to make trouble for your unit. The sound is clear and for the money in the next ten years if I had to buy 10 more I would still be dollars ahead of the $5,000 purchase. I feel there is no danger of wrecking my hearing. It is already wrecked. This SuperEar unit helps a lot. If it is too loud, there will be squealing. Turn it down then.  With the ear phones, there is reduced danger of my sweating destroying the inner workings. The possibility of my walking into a shower with it on is also greatly reduced. The unit works beautifully on one (1) AAA battery. We use those for everything. Try it ! For the Amazon price, you will be dollars ahead and hear much better. With the long head phone wire, you can place the microphone right up to the person with whom you are talking. It does take a little adjustment, but for the dollars I save, I am truly thankful.',\n",
       " \"This is a good tool for a great price,don't listen to people who say this is a piece of junk,just because they can't hear women's conversations dosen't make it the sellers problem,GET A LIFE.And this product does in fact help hear tv without disturbing others,and this device can make an excellent microphone attachment to a Camera or Binoculars.Also,if you have a DVR (digital voice recorder) you can record the sound you hear via AUX cable available at any electronic store.\"]"
      ]
     },
     "execution_count": 21,
     "metadata": {},
     "output_type": "execute_result"
    }
   ],
   "source": [
    "# find false positive\n",
    "false_positive_reviews_FlanUL2 = []\n",
    "for i in range(550):\n",
    "    id = FlanUL2_res_corr[i]['Id']\n",
    "    if FlanUL2_res_corr[i]['pred'] == 'Electronics' and df.query(f'Id == {id}')['product_category'].item() == 'Health & Personal Care':\n",
    "        false_positive_reviews_FlanUL2.append(df.query(f'Id == {id}')['review_body'].item())\n",
    "        \n",
    "false_positive_reviews_FlanUL2"
   ]
  },
  {
   "cell_type": "markdown",
   "metadata": {},
   "source": [
    "# Visulization"
   ]
  },
  {
   "cell_type": "markdown",
   "metadata": {},
   "source": [
    "## Task1"
   ]
  },
  {
   "cell_type": "markdown",
   "metadata": {},
   "source": [
    "\n",
    "|Model|DistilBert|Electra|FlanT5|FlanUL2|\n",
    "|-|-|-|-|-|\n",
    "|Accuracy|0.8418|**0.8472**|0.727|0.765|\n",
    "|Runtime(GPU)/s|**23.87**|43.80|173.13|286.75|"
   ]
  },
  {
   "cell_type": "code",
   "execution_count": 10,
   "metadata": {},
   "outputs": [],
   "source": [
    "import matplotlib.pyplot as plt"
   ]
  },
  {
   "cell_type": "code",
   "execution_count": 46,
   "metadata": {},
   "outputs": [
    {
     "data": {
      "image/png": "[encoded data removed]",
      "text/plain": [
       "<Figure size 2000x900 with 2 Axes>"
      ]
     },
     "metadata": {},
     "output_type": "display_data"
    }
   ],
   "source": [
    "# Sample data\n",
    "acc = [95.7, 95.73, 96.53, 97.27]\n",
    "runtime = [14.03, 12.39, 253.22, 301.77]\n",
    "parameters = [67, 109, 1113, 1945]\n",
    "labels = ['DistilBERT', 'ELECTRA', 'Flan-T5', 'Flan-UL2']\n",
    "colors = ['red', 'red', 'blue', 'blue']\n",
    "\n",
    "fig, ax = plt.subplots(1, 2, figsize=(15,7))\n",
    "\n",
    "\n",
    "ax[0].scatter(runtime[:2], acc[:2], c = colors[:2], label='SLMs')\n",
    "ax[0].scatter(runtime[2:], acc[2:], c = colors[2:], label='LLMs')\n",
    "# Annotate each point\n",
    "for i, label in enumerate(labels):\n",
    "    ax[0].annotate(label, (runtime[i], acc[i]))\n",
    "\n",
    "# Add labels and title\n",
    "ax[0].set_xlabel('Runtime on A80 GPU(s)')\n",
    "ax[0].set_ylabel('Accuracy(%)')\n",
    "ax[0].legend()\n",
    "\n",
    "\n",
    "\n",
    "\n",
    "ax[1].scatter(parameters[:2], acc[:2], c = colors[:2], label='SLMs')\n",
    "ax[1].scatter(parameters[2:], acc[2:], c = colors[2:], label='LLMs')\n",
    "# Annotate each point\n",
    "for i, label in enumerate(labels):\n",
    "    ax[1].annotate(label, (parameters[i], acc[i]))\n",
    "\n",
    "# Add labels and title\n",
    "ax[1].set_xlabel('Number of parameters(million)')\n",
    "ax[1].set_ylabel('Accuracy(%)')\n",
    "ax[1].legend\n",
    "fig.suptitle('SLMs v.s. LLMs on Sentiment Polarity Classification')\n",
    "\n",
    "# Show plot\n",
    "plt.show()"
   ]
  },
  {
   "cell_type": "markdown",
   "metadata": {},
   "source": [
    "## Task2"
   ]
  },
  {
   "cell_type": "code",
   "execution_count": 9,
   "metadata": {},
   "outputs": [
    {
     "data": {
      "image/png": "[encoded data removed]",
      "text/plain": [
       "<Figure size 1500x700 with 2 Axes>"
      ]
     },
     "metadata": {},
     "output_type": "display_data"
    }
   ],
   "source": [
    "# Sample data\n",
    "acc = [84.18, 84.72, 72.72, 76.54]\n",
    "runtime = [23.87, 43.80, 176.13, 268.75]\n",
    "parameters = [67, 109, 1113, 1945]\n",
    "labels = ['DistilBERT', 'ELECTRA', 'Flan-T5', 'Flan-UL2']\n",
    "colors = ['red', 'red', 'blue', 'blue']\n",
    "\n",
    "fig, ax = plt.subplots(1, 2, figsize=(15,7))\n",
    "\n",
    "\n",
    "ax[0].scatter(runtime[:2], acc[:2], c = colors[:2], label='SLMs')\n",
    "ax[0].scatter(runtime[2:], acc[2:], c = colors[2:], label='LLMs')\n",
    "# Annotate each point\n",
    "for i, label in enumerate(labels):\n",
    "    ax[0].annotate(label, (runtime[i], acc[i]))\n",
    "\n",
    "# Add labels and title\n",
    "ax[0].set_xlabel('Runtime on A80 GPU(s)')\n",
    "ax[0].set_ylabel('Accuracy(%)')\n",
    "ax[0].legend()\n",
    "\n",
    "\n",
    "\n",
    "\n",
    "ax[1].scatter(parameters[:2], acc[:2], c = colors[:2], label='SLMs')\n",
    "ax[1].scatter(parameters[2:], acc[2:], c = colors[2:], label='LLMs')\n",
    "# Annotate each point\n",
    "for i, label in enumerate(labels):\n",
    "    ax[1].annotate(label, (parameters[i], acc[i]))\n",
    "\n",
    "# Add labels and title\n",
    "ax[1].set_xlabel('Number of parameters(million)')\n",
    "ax[1].set_ylabel('Accuracy(%)')\n",
    "ax[1].legend\n",
    "fig.suptitle('SLMs v.s. LLMs on Corrlation Analysis')\n",
    "\n",
    "# Show plot\n",
    "plt.show()"
   ]
  },
  {
   "cell_type": "code",
   "execution_count": null,
   "metadata": {},
   "outputs": [],
   "source": []
  }
 ],
 "metadata": {
  "accelerator": "GPU",
  "colab": {
   "gpuType": "T4",
   "provenance": [],
   "toc_visible": true
  },
  "kernelspec": {
   "display_name": "Python 3 (ipykernel)",
   "language": "python",
   "name": "python3"
  },
  "language_info": {
   "codemirror_mode": {
    "name": "ipython",
    "version": 3
   },
   "file_extension": ".py",
   "mimetype": "text/x-python",
   "name": "python",
   "nbconvert_exporter": "python",
   "pygments_lexer": "ipython3",
   "version": "3.10.13"
  },
  "widgets": {
   "application/vnd.jupyter.widget-state+json": {
    "0023f0b84a68450fb6fe96cd97c36a54": {
     "model_module": "@jupyter-widgets/controls",
     "model_module_version": "1.5.0",
     "model_name": "HTMLModel",
     "state": {
      "_dom_classes": [],
      "_model_module": "@jupyter-widgets/controls",
      "_model_module_version": "1.5.0",
      "_model_name": "HTMLModel",
      "_view_count": null,
      "_view_module": "@jupyter-widgets/controls",
      "_view_module_version": "1.5.0",
      "_view_name": "HTMLView",
      "description": "",
      "description_tooltip": null,
      "layout": "IPY_MODEL_e77422b086a94f5bae5797b577db3002",
      "placeholder": "​",
      "style": "IPY_MODEL_e625c8775133479b9aa1d5f4429ec332",
      "value": " 26.8k/26.8k [00:00&lt;00:00, 1.82MB/s]"
     }
    },
    "00dd9faf5fa54289a65149f72986b395": {
     "model_module": "@jupyter-widgets/controls",
     "model_module_version": "1.5.0",
     "model_name": "ProgressStyleModel",
     "state": {
      "_model_module": "@jupyter-widgets/controls",
      "_model_module_version": "1.5.0",
      "_model_name": "ProgressStyleModel",
      "_view_count": null,
      "_view_module": "@jupyter-widgets/base",
      "_view_module_version": "1.2.0",
      "_view_name": "StyleView",
      "bar_color": null,
      "description_width": ""
     }
    },
    "022fce47577b413a80659e52a481a06a": {
     "model_module": "@jupyter-widgets/base",
     "model_module_version": "1.2.0",
     "model_name": "LayoutModel",
     "state": {
      "_model_module": "@jupyter-widgets/base",
      "_model_module_version": "1.2.0",
      "_model_name": "LayoutModel",
      "_view_count": null,
      "_view_module": "@jupyter-widgets/base",
      "_view_module_version": "1.2.0",
      "_view_name": "LayoutView",
      "align_content": null,
      "align_items": null,
      "align_self": null,
      "border": null,
      "bottom": null,
      "display": null,
      "flex": null,
      "flex_flow": null,
      "grid_area": null,
      "grid_auto_columns": null,
      "grid_auto_flow": null,
      "grid_auto_rows": null,
      "grid_column": null,
      "grid_gap": null,
      "grid_row": null,
      "grid_template_areas": null,
      "grid_template_columns": null,
      "grid_template_rows": null,
      "height": null,
      "justify_content": null,
      "justify_items": null,
      "left": null,
      "margin": null,
      "max_height": null,
      "max_width": null,
      "min_height": null,
      "min_width": null,
      "object_fit": null,
      "object_position": null,
      "order": null,
      "overflow": null,
      "overflow_x": null,
      "overflow_y": null,
      "padding": null,
      "right": null,
      "top": null,
      "visibility": null,
      "width": null
     }
    },
    "04af6a141e304e2797a65cbf13e1eed3": {
     "model_module": "@jupyter-widgets/base",
     "model_module_version": "1.2.0",
     "model_name": "LayoutModel",
     "state": {
      "_model_module": "@jupyter-widgets/base",
      "_model_module_version": "1.2.0",
      "_model_name": "LayoutModel",
      "_view_count": null,
      "_view_module": "@jupyter-widgets/base",
      "_view_module_version": "1.2.0",
      "_view_name": "LayoutView",
      "align_content": null,
      "align_items": null,
      "align_self": null,
      "border": null,
      "bottom": null,
      "display": null,
      "flex": null,
      "flex_flow": null,
      "grid_area": null,
      "grid_auto_columns": null,
      "grid_auto_flow": null,
      "grid_auto_rows": null,
      "grid_column": null,
      "grid_gap": null,
      "grid_row": null,
      "grid_template_areas": null,
      "grid_template_columns": null,
      "grid_template_rows": null,
      "height": null,
      "justify_content": null,
      "justify_items": null,
      "left": null,
      "margin": null,
      "max_height": null,
      "max_width": null,
      "min_height": null,
      "min_width": null,
      "object_fit": null,
      "object_position": null,
      "order": null,
      "overflow": null,
      "overflow_x": null,
      "overflow_y": null,
      "padding": null,
      "right": null,
      "top": null,
      "visibility": null,
      "width": null
     }
    },
    "065249d116b34ae2ac3e1b8b3257268d": {
     "model_module": "@jupyter-widgets/base",
     "model_module_version": "1.2.0",
     "model_name": "LayoutModel",
     "state": {
      "_model_module": "@jupyter-widgets/base",
      "_model_module_version": "1.2.0",
      "_model_name": "LayoutModel",
      "_view_count": null,
      "_view_module": "@jupyter-widgets/base",
      "_view_module_version": "1.2.0",
      "_view_name": "LayoutView",
      "align_content": null,
      "align_items": null,
      "align_self": null,
      "border": null,
      "bottom": null,
      "display": null,
      "flex": null,
      "flex_flow": null,
      "grid_area": null,
      "grid_auto_columns": null,
      "grid_auto_flow": null,
      "grid_auto_rows": null,
      "grid_column": null,
      "grid_gap": null,
      "grid_row": null,
      "grid_template_areas": null,
      "grid_template_columns": null,
      "grid_template_rows": null,
      "height": null,
      "justify_content": null,
      "justify_items": null,
      "left": null,
      "margin": null,
      "max_height": null,
      "max_width": null,
      "min_height": null,
      "min_width": null,
      "object_fit": null,
      "object_position": null,
      "order": null,
      "overflow": null,
      "overflow_x": null,
      "overflow_y": null,
      "padding": null,
      "right": null,
      "top": null,
      "visibility": null,
      "width": null
     }
    },
    "0660c0a7ace946caaa648e5c9413149d": {
     "model_module": "@jupyter-widgets/controls",
     "model_module_version": "1.5.0",
     "model_name": "HTMLModel",
     "state": {
      "_dom_classes": [],
      "_model_module": "@jupyter-widgets/controls",
      "_model_module_version": "1.5.0",
      "_model_name": "HTMLModel",
      "_view_count": null,
      "_view_module": "@jupyter-widgets/controls",
      "_view_module_version": "1.5.0",
      "_view_name": "HTMLView",
      "description": "",
      "description_tooltip": null,
      "layout": "IPY_MODEL_6249260a6bf74f149fc475db611d525e",
      "placeholder": "​",
      "style": "IPY_MODEL_b720e2523d924de0bcbede48ccd7be46",
      "value": " 9.98G/9.98G [01:23&lt;00:00, 261MB/s]"
     }
    },
    "0988c7d801b74aefbc7cf52e1c798de2": {
     "model_module": "@jupyter-widgets/controls",
     "model_module_version": "1.5.0",
     "model_name": "HBoxModel",
     "state": {
      "_dom_classes": [],
      "_model_module": "@jupyter-widgets/controls",
      "_model_module_version": "1.5.0",
      "_model_name": "HBoxModel",
      "_view_count": null,
      "_view_module": "@jupyter-widgets/controls",
      "_view_module_version": "1.5.0",
      "_view_name": "HBoxView",
      "box_style": "",
      "children": [
       "IPY_MODEL_9786d3d0e94d4a4c8aa9043147a03659",
       "IPY_MODEL_983de4e5f0534aa392f4742729e5decc",
       "IPY_MODEL_71a1af128d9147248069fdab41091cc1"
      ],
      "layout": "IPY_MODEL_7652b60f6bfc4cdf8d20b5fd23338cec"
     }
    },
    "0b6bd4c153f64081986c5c0d44e9ed1b": {
     "model_module": "@jupyter-widgets/base",
     "model_module_version": "1.2.0",
     "model_name": "LayoutModel",
     "state": {
      "_model_module": "@jupyter-widgets/base",
      "_model_module_version": "1.2.0",
      "_model_name": "LayoutModel",
      "_view_count": null,
      "_view_module": "@jupyter-widgets/base",
      "_view_module_version": "1.2.0",
      "_view_name": "LayoutView",
      "align_content": null,
      "align_items": null,
      "align_self": null,
      "border": null,
      "bottom": null,
      "display": null,
      "flex": null,
      "flex_flow": null,
      "grid_area": null,
      "grid_auto_columns": null,
      "grid_auto_flow": null,
      "grid_auto_rows": null,
      "grid_column": null,
      "grid_gap": null,
      "grid_row": null,
      "grid_template_areas": null,
      "grid_template_columns": null,
      "grid_template_rows": null,
      "height": null,
      "justify_content": null,
      "justify_items": null,
      "left": null,
      "margin": null,
      "max_height": null,
      "max_width": null,
      "min_height": null,
      "min_width": null,
      "object_fit": null,
      "object_position": null,
      "order": null,
      "overflow": null,
      "overflow_x": null,
      "overflow_y": null,
      "padding": null,
      "right": null,
      "top": null,
      "visibility": null,
      "width": null
     }
    },
    "0b9c3da7cc0a44569bafa5bff4687762": {
     "model_module": "@jupyter-widgets/base",
     "model_module_version": "1.2.0",
     "model_name": "LayoutModel",
     "state": {
      "_model_module": "@jupyter-widgets/base",
      "_model_module_version": "1.2.0",
      "_model_name": "LayoutModel",
      "_view_count": null,
      "_view_module": "@jupyter-widgets/base",
      "_view_module_version": "1.2.0",
      "_view_name": "LayoutView",
      "align_content": null,
      "align_items": null,
      "align_self": null,
      "border": null,
      "bottom": null,
      "display": null,
      "flex": null,
      "flex_flow": null,
      "grid_area": null,
      "grid_auto_columns": null,
      "grid_auto_flow": null,
      "grid_auto_rows": null,
      "grid_column": null,
      "grid_gap": null,
      "grid_row": null,
      "grid_template_areas": null,
      "grid_template_columns": null,
      "grid_template_rows": null,
      "height": null,
      "justify_content": null,
      "justify_items": null,
      "left": null,
      "margin": null,
      "max_height": null,
      "max_width": null,
      "min_height": null,
      "min_width": null,
      "object_fit": null,
      "object_position": null,
      "order": null,
      "overflow": null,
      "overflow_x": null,
      "overflow_y": null,
      "padding": null,
      "right": null,
      "top": null,
      "visibility": null,
      "width": null
     }
    },
    "0d0e74a28b154869ad1f7cb13a81a9a2": {
     "model_module": "@jupyter-widgets/controls",
     "model_module_version": "1.5.0",
     "model_name": "HTMLModel",
     "state": {
      "_dom_classes": [],
      "_model_module": "@jupyter-widgets/controls",
      "_model_module_version": "1.5.0",
      "_model_name": "HTMLModel",
      "_view_count": null,
      "_view_module": "@jupyter-widgets/controls",
      "_view_module_version": "1.5.0",
      "_view_name": "HTMLView",
      "description": "",
      "description_tooltip": null,
      "layout": "IPY_MODEL_306311d883fb4d4a8e83f0b8d3c05593",
      "placeholder": "​",
      "style": "IPY_MODEL_8552f15d039c430cba88ce954cb95bc7",
      "value": " 1000/1000 [02:48&lt;00:00,  4.92it/s]"
     }
    },
    "0e40e3d211044fd2bb5564a5a53124ff": {
     "model_module": "@jupyter-widgets/base",
     "model_module_version": "1.2.0",
     "model_name": "LayoutModel",
     "state": {
      "_model_module": "@jupyter-widgets/base",
      "_model_module_version": "1.2.0",
      "_model_name": "LayoutModel",
      "_view_count": null,
      "_view_module": "@jupyter-widgets/base",
      "_view_module_version": "1.2.0",
      "_view_name": "LayoutView",
      "align_content": null,
      "align_items": null,
      "align_self": null,
      "border": null,
      "bottom": null,
      "display": null,
      "flex": null,
      "flex_flow": null,
      "grid_area": null,
      "grid_auto_columns": null,
      "grid_auto_flow": null,
      "grid_auto_rows": null,
      "grid_column": null,
      "grid_gap": null,
      "grid_row": null,
      "grid_template_areas": null,
      "grid_template_columns": null,
      "grid_template_rows": null,
      "height": null,
      "justify_content": null,
      "justify_items": null,
      "left": null,
      "margin": null,
      "max_height": null,
      "max_width": null,
      "min_height": null,
      "min_width": null,
      "object_fit": null,
      "object_position": null,
      "order": null,
      "overflow": null,
      "overflow_x": null,
      "overflow_y": null,
      "padding": null,
      "right": null,
      "top": null,
      "visibility": null,
      "width": null
     }
    },
    "0f170834e85d418aa50a3a32840d80b9": {
     "model_module": "@jupyter-widgets/controls",
     "model_module_version": "1.5.0",
     "model_name": "HBoxModel",
     "state": {
      "_dom_classes": [],
      "_model_module": "@jupyter-widgets/controls",
      "_model_module_version": "1.5.0",
      "_model_name": "HBoxModel",
      "_view_count": null,
      "_view_module": "@jupyter-widgets/controls",
      "_view_module_version": "1.5.0",
      "_view_name": "HBoxView",
      "box_style": "",
      "children": [
       "IPY_MODEL_2d2a33d6cedf493db673f3671bac2762",
       "IPY_MODEL_779441f0280f4166b6259cf4e81eb1b7",
       "IPY_MODEL_0023f0b84a68450fb6fe96cd97c36a54"
      ],
      "layout": "IPY_MODEL_1559d91044634c94bc29562a2e343f2f"
     }
    },
    "0f73bced756d454da79031aa48a14534": {
     "model_module": "@jupyter-widgets/base",
     "model_module_version": "1.2.0",
     "model_name": "LayoutModel",
     "state": {
      "_model_module": "@jupyter-widgets/base",
      "_model_module_version": "1.2.0",
      "_model_name": "LayoutModel",
      "_view_count": null,
      "_view_module": "@jupyter-widgets/base",
      "_view_module_version": "1.2.0",
      "_view_name": "LayoutView",
      "align_content": null,
      "align_items": null,
      "align_self": null,
      "border": null,
      "bottom": null,
      "display": null,
      "flex": null,
      "flex_flow": null,
      "grid_area": null,
      "grid_auto_columns": null,
      "grid_auto_flow": null,
      "grid_auto_rows": null,
      "grid_column": null,
      "grid_gap": null,
      "grid_row": null,
      "grid_template_areas": null,
      "grid_template_columns": null,
      "grid_template_rows": null,
      "height": null,
      "justify_content": null,
      "justify_items": null,
      "left": null,
      "margin": null,
      "max_height": null,
      "max_width": null,
      "min_height": null,
      "min_width": null,
      "object_fit": null,
      "object_position": null,
      "order": null,
      "overflow": null,
      "overflow_x": null,
      "overflow_y": null,
      "padding": null,
      "right": null,
      "top": null,
      "visibility": null,
      "width": null
     }
    },
    "11279087a58b42518b0680404a464db4": {
     "model_module": "@jupyter-widgets/base",
     "model_module_version": "1.2.0",
     "model_name": "LayoutModel",
     "state": {
      "_model_module": "@jupyter-widgets/base",
      "_model_module_version": "1.2.0",
      "_model_name": "LayoutModel",
      "_view_count": null,
      "_view_module": "@jupyter-widgets/base",
      "_view_module_version": "1.2.0",
      "_view_name": "LayoutView",
      "align_content": null,
      "align_items": null,
      "align_self": null,
      "border": null,
      "bottom": null,
      "display": null,
      "flex": null,
      "flex_flow": null,
      "grid_area": null,
      "grid_auto_columns": null,
      "grid_auto_flow": null,
      "grid_auto_rows": null,
      "grid_column": null,
      "grid_gap": null,
      "grid_row": null,
      "grid_template_areas": null,
      "grid_template_columns": null,
      "grid_template_rows": null,
      "height": null,
      "justify_content": null,
      "justify_items": null,
      "left": null,
      "margin": null,
      "max_height": null,
      "max_width": null,
      "min_height": null,
      "min_width": null,
      "object_fit": null,
      "object_position": null,
      "order": null,
      "overflow": null,
      "overflow_x": null,
      "overflow_y": null,
      "padding": null,
      "right": null,
      "top": null,
      "visibility": null,
      "width": null
     }
    },
    "118a6ed3ea1f4e2d95457e7dc32e3d7d": {
     "model_module": "@jupyter-widgets/controls",
     "model_module_version": "1.5.0",
     "model_name": "HTMLModel",
     "state": {
      "_dom_classes": [],
      "_model_module": "@jupyter-widgets/controls",
      "_model_module_version": "1.5.0",
      "_model_name": "HTMLModel",
      "_view_count": null,
      "_view_module": "@jupyter-widgets/controls",
      "_view_module_version": "1.5.0",
      "_view_name": "HTMLView",
      "description": "",
      "description_tooltip": null,
      "layout": "IPY_MODEL_8ef643485eff4f07b3339a7a4e1e1488",
      "placeholder": "​",
      "style": "IPY_MODEL_f8c1b2c1afc54343bba5b5a130d66195",
      "value": "model-00001-of-00002.safetensors: 100%"
     }
    },
    "119824a242e74a2488ce6d43771aea16": {
     "model_module": "@jupyter-widgets/controls",
     "model_module_version": "1.5.0",
     "model_name": "ProgressStyleModel",
     "state": {
      "_model_module": "@jupyter-widgets/controls",
      "_model_module_version": "1.5.0",
      "_model_name": "ProgressStyleModel",
      "_view_count": null,
      "_view_module": "@jupyter-widgets/base",
      "_view_module_version": "1.2.0",
      "_view_name": "StyleView",
      "bar_color": null,
      "description_width": ""
     }
    },
    "12ef9f5343e849dc9dccf747b6168c7a": {
     "model_module": "@jupyter-widgets/controls",
     "model_module_version": "1.5.0",
     "model_name": "HTMLModel",
     "state": {
      "_dom_classes": [],
      "_model_module": "@jupyter-widgets/controls",
      "_model_module_version": "1.5.0",
      "_model_name": "HTMLModel",
      "_view_count": null,
      "_view_module": "@jupyter-widgets/controls",
      "_view_module_version": "1.5.0",
      "_view_name": "HTMLView",
      "description": "",
      "description_tooltip": null,
      "layout": "IPY_MODEL_5ca74972411d4dc0b6f6b53e77fc5d62",
      "placeholder": "​",
      "style": "IPY_MODEL_13f6ae3550884d16bf9fe6dfdc9c22f4",
      "value": "tokenizer_config.json: 100%"
     }
    },
    "13f6ae3550884d16bf9fe6dfdc9c22f4": {
     "model_module": "@jupyter-widgets/controls",
     "model_module_version": "1.5.0",
     "model_name": "DescriptionStyleModel",
     "state": {
      "_model_module": "@jupyter-widgets/controls",
      "_model_module_version": "1.5.0",
      "_model_name": "DescriptionStyleModel",
      "_view_count": null,
      "_view_module": "@jupyter-widgets/base",
      "_view_module_version": "1.2.0",
      "_view_name": "StyleView",
      "description_width": ""
     }
    },
    "14a5a547687544758906e80eb12192e5": {
     "model_module": "@jupyter-widgets/base",
     "model_module_version": "1.2.0",
     "model_name": "LayoutModel",
     "state": {
      "_model_module": "@jupyter-widgets/base",
      "_model_module_version": "1.2.0",
      "_model_name": "LayoutModel",
      "_view_count": null,
      "_view_module": "@jupyter-widgets/base",
      "_view_module_version": "1.2.0",
      "_view_name": "LayoutView",
      "align_content": null,
      "align_items": null,
      "align_self": null,
      "border": null,
      "bottom": null,
      "display": null,
      "flex": null,
      "flex_flow": null,
      "grid_area": null,
      "grid_auto_columns": null,
      "grid_auto_flow": null,
      "grid_auto_rows": null,
      "grid_column": null,
      "grid_gap": null,
      "grid_row": null,
      "grid_template_areas": null,
      "grid_template_columns": null,
      "grid_template_rows": null,
      "height": null,
      "justify_content": null,
      "justify_items": null,
      "left": null,
      "margin": null,
      "max_height": null,
      "max_width": null,
      "min_height": null,
      "min_width": null,
      "object_fit": null,
      "object_position": null,
      "order": null,
      "overflow": null,
      "overflow_x": null,
      "overflow_y": null,
      "padding": null,
      "right": null,
      "top": null,
      "visibility": null,
      "width": null
     }
    },
    "1559d91044634c94bc29562a2e343f2f": {
     "model_module": "@jupyter-widgets/base",
     "model_module_version": "1.2.0",
     "model_name": "LayoutModel",
     "state": {
      "_model_module": "@jupyter-widgets/base",
      "_model_module_version": "1.2.0",
      "_model_name": "LayoutModel",
      "_view_count": null,
      "_view_module": "@jupyter-widgets/base",
      "_view_module_version": "1.2.0",
      "_view_name": "LayoutView",
      "align_content": null,
      "align_items": null,
      "align_self": null,
      "border": null,
      "bottom": null,
      "display": null,
      "flex": null,
      "flex_flow": null,
      "grid_area": null,
      "grid_auto_columns": null,
      "grid_auto_flow": null,
      "grid_auto_rows": null,
      "grid_column": null,
      "grid_gap": null,
      "grid_row": null,
      "grid_template_areas": null,
      "grid_template_columns": null,
      "grid_template_rows": null,
      "height": null,
      "justify_content": null,
      "justify_items": null,
      "left": null,
      "margin": null,
      "max_height": null,
      "max_width": null,
      "min_height": null,
      "min_width": null,
      "object_fit": null,
      "object_position": null,
      "order": null,
      "overflow": null,
      "overflow_x": null,
      "overflow_y": null,
      "padding": null,
      "right": null,
      "top": null,
      "visibility": null,
      "width": null
     }
    },
    "180776bcebb341b8b3c66051f0517630": {
     "model_module": "@jupyter-widgets/controls",
     "model_module_version": "1.5.0",
     "model_name": "DescriptionStyleModel",
     "state": {
      "_model_module": "@jupyter-widgets/controls",
      "_model_module_version": "1.5.0",
      "_model_name": "DescriptionStyleModel",
      "_view_count": null,
      "_view_module": "@jupyter-widgets/base",
      "_view_module_version": "1.2.0",
      "_view_name": "StyleView",
      "description_width": ""
     }
    },
    "1bdd2012e7dd411d9c7248a457c2c180": {
     "model_module": "@jupyter-widgets/controls",
     "model_module_version": "1.5.0",
     "model_name": "DescriptionStyleModel",
     "state": {
      "_model_module": "@jupyter-widgets/controls",
      "_model_module_version": "1.5.0",
      "_model_name": "DescriptionStyleModel",
      "_view_count": null,
      "_view_module": "@jupyter-widgets/base",
      "_view_module_version": "1.2.0",
      "_view_name": "StyleView",
      "description_width": ""
     }
    },
    "1c5e6b86667a4e2c8fa1fb3587454088": {
     "model_module": "@jupyter-widgets/base",
     "model_module_version": "1.2.0",
     "model_name": "LayoutModel",
     "state": {
      "_model_module": "@jupyter-widgets/base",
      "_model_module_version": "1.2.0",
      "_model_name": "LayoutModel",
      "_view_count": null,
      "_view_module": "@jupyter-widgets/base",
      "_view_module_version": "1.2.0",
      "_view_name": "LayoutView",
      "align_content": null,
      "align_items": null,
      "align_self": null,
      "border": null,
      "bottom": null,
      "display": null,
      "flex": null,
      "flex_flow": null,
      "grid_area": null,
      "grid_auto_columns": null,
      "grid_auto_flow": null,
      "grid_auto_rows": null,
      "grid_column": null,
      "grid_gap": null,
      "grid_row": null,
      "grid_template_areas": null,
      "grid_template_columns": null,
      "grid_template_rows": null,
      "height": null,
      "justify_content": null,
      "justify_items": null,
      "left": null,
      "margin": null,
      "max_height": null,
      "max_width": null,
      "min_height": null,
      "min_width": null,
      "object_fit": null,
      "object_position": null,
      "order": null,
      "overflow": null,
      "overflow_x": null,
      "overflow_y": null,
      "padding": null,
      "right": null,
      "top": null,
      "visibility": null,
      "width": null
     }
    },
    "1c6258701ebd4e8bbb9cff6be18279bf": {
     "model_module": "@jupyter-widgets/controls",
     "model_module_version": "1.5.0",
     "model_name": "HBoxModel",
     "state": {
      "_dom_classes": [],
      "_model_module": "@jupyter-widgets/controls",
      "_model_module_version": "1.5.0",
      "_model_name": "HBoxModel",
      "_view_count": null,
      "_view_module": "@jupyter-widgets/controls",
      "_view_module_version": "1.5.0",
      "_view_name": "HBoxView",
      "box_style": "",
      "children": [
       "IPY_MODEL_560e6e43424e43c6a11e165c302c1898",
       "IPY_MODEL_e24b1232dc1540389f5411e81dc3707d",
       "IPY_MODEL_954d302533fa4a1b9235693f3e136a3f"
      ],
      "layout": "IPY_MODEL_14a5a547687544758906e80eb12192e5"
     }
    },
    "1c7d4ed8cd15455abc0dad7272df20b3": {
     "model_module": "@jupyter-widgets/controls",
     "model_module_version": "1.5.0",
     "model_name": "FloatProgressModel",
     "state": {
      "_dom_classes": [],
      "_model_module": "@jupyter-widgets/controls",
      "_model_module_version": "1.5.0",
      "_model_name": "FloatProgressModel",
      "_view_count": null,
      "_view_module": "@jupyter-widgets/controls",
      "_view_module_version": "1.5.0",
      "_view_name": "ProgressView",
      "bar_style": "success",
      "description": "",
      "description_tooltip": null,
      "layout": "IPY_MODEL_e64a49d645fb41eeafc532555deae79c",
      "max": 1842767,
      "min": 0,
      "orientation": "horizontal",
      "style": "IPY_MODEL_119824a242e74a2488ce6d43771aea16",
      "value": 1842767
     }
    },
    "1fd094b6cc3746efa82d5dbacd4fb5e7": {
     "model_module": "@jupyter-widgets/controls",
     "model_module_version": "1.5.0",
     "model_name": "HBoxModel",
     "state": {
      "_dom_classes": [],
      "_model_module": "@jupyter-widgets/controls",
      "_model_module_version": "1.5.0",
      "_model_name": "HBoxModel",
      "_view_count": null,
      "_view_module": "@jupyter-widgets/controls",
      "_view_module_version": "1.5.0",
      "_view_name": "HBoxView",
      "box_style": "",
      "children": [
       "IPY_MODEL_12ef9f5343e849dc9dccf747b6168c7a",
       "IPY_MODEL_936405d8c4d647c9970a06c0cc2a68f4",
       "IPY_MODEL_fb49075817c149f5b6cf57b9715196de"
      ],
      "layout": "IPY_MODEL_b8f3049f1e5d4312ae73c9e3e15ecb58"
     }
    },
    "1ff38dd466da4e039f048c0cf3a1f06e": {
     "model_module": "@jupyter-widgets/controls",
     "model_module_version": "1.5.0",
     "model_name": "HTMLModel",
     "state": {
      "_dom_classes": [],
      "_model_module": "@jupyter-widgets/controls",
      "_model_module_version": "1.5.0",
      "_model_name": "HTMLModel",
      "_view_count": null,
      "_view_module": "@jupyter-widgets/controls",
      "_view_module_version": "1.5.0",
      "_view_name": "HTMLView",
      "description": "",
      "description_tooltip": null,
      "layout": "IPY_MODEL_5ee3397c7bd744fcad38333327e435b4",
      "placeholder": "​",
      "style": "IPY_MODEL_d4ce95a92f8f4b398be97cd623d02e7b",
      "value": ""
     }
    },
    "21306c53f36048de8ac451d74dadeeee": {
     "model_module": "@jupyter-widgets/controls",
     "model_module_version": "1.5.0",
     "model_name": "HTMLModel",
     "state": {
      "_dom_classes": [],
      "_model_module": "@jupyter-widgets/controls",
      "_model_module_version": "1.5.0",
      "_model_name": "HTMLModel",
      "_view_count": null,
      "_view_module": "@jupyter-widgets/controls",
      "_view_module_version": "1.5.0",
      "_view_name": "HTMLView",
      "description": "",
      "description_tooltip": null,
      "layout": "IPY_MODEL_4984219233484616a6ceee13691f844d",
      "placeholder": "​",
      "style": "IPY_MODEL_180776bcebb341b8b3c66051f0517630",
      "value": "generation_config.json: 100%"
     }
    },
    "21c5787f18de4a84a1be5af0822101fd": {
     "model_module": "@jupyter-widgets/controls",
     "model_module_version": "1.5.0",
     "model_name": "ProgressStyleModel",
     "state": {
      "_model_module": "@jupyter-widgets/controls",
      "_model_module_version": "1.5.0",
      "_model_name": "ProgressStyleModel",
      "_view_count": null,
      "_view_module": "@jupyter-widgets/base",
      "_view_module_version": "1.2.0",
      "_view_name": "StyleView",
      "bar_color": null,
      "description_width": ""
     }
    },
    "24d4728f0910446dac722769868f12b8": {
     "model_module": "@jupyter-widgets/controls",
     "model_module_version": "1.5.0",
     "model_name": "DescriptionStyleModel",
     "state": {
      "_model_module": "@jupyter-widgets/controls",
      "_model_module_version": "1.5.0",
      "_model_name": "DescriptionStyleModel",
      "_view_count": null,
      "_view_module": "@jupyter-widgets/base",
      "_view_module_version": "1.2.0",
      "_view_name": "StyleView",
      "description_width": ""
     }
    },
    "24f74e55a4e447f6a38155a454dbccc1": {
     "model_module": "@jupyter-widgets/controls",
     "model_module_version": "1.5.0",
     "model_name": "DescriptionStyleModel",
     "state": {
      "_model_module": "@jupyter-widgets/controls",
      "_model_module_version": "1.5.0",
      "_model_name": "DescriptionStyleModel",
      "_view_count": null,
      "_view_module": "@jupyter-widgets/base",
      "_view_module_version": "1.2.0",
      "_view_name": "StyleView",
      "description_width": ""
     }
    },
    "29d34861b42c42139d06674edad9908a": {
     "model_module": "@jupyter-widgets/controls",
     "model_module_version": "1.5.0",
     "model_name": "HBoxModel",
     "state": {
      "_dom_classes": [],
      "_model_module": "@jupyter-widgets/controls",
      "_model_module_version": "1.5.0",
      "_model_name": "HBoxModel",
      "_view_count": null,
      "_view_module": "@jupyter-widgets/controls",
      "_view_module_version": "1.5.0",
      "_view_name": "HBoxView",
      "box_style": "",
      "children": [
       "IPY_MODEL_921221702021490d911eda74ad830d27",
       "IPY_MODEL_8805c79680254accae6a3a92130fa891",
       "IPY_MODEL_0d0e74a28b154869ad1f7cb13a81a9a2"
      ],
      "layout": "IPY_MODEL_f9a1c09777c045b8ae5380939c47f358"
     }
    },
    "2a057d21877f482fbd595898e0ec0675": {
     "model_module": "@jupyter-widgets/controls",
     "model_module_version": "1.5.0",
     "model_name": "HBoxModel",
     "state": {
      "_dom_classes": [],
      "_model_module": "@jupyter-widgets/controls",
      "_model_module_version": "1.5.0",
      "_model_name": "HBoxModel",
      "_view_count": null,
      "_view_module": "@jupyter-widgets/controls",
      "_view_module_version": "1.5.0",
      "_view_name": "HBoxView",
      "box_style": "",
      "children": [
       "IPY_MODEL_d9219533953246509228b803d6c9bf9e",
       "IPY_MODEL_347553d797ed4853a67256eeeb58b5b3",
       "IPY_MODEL_72a4c0c8eadb49ab93c0a4fdee4b98af"
      ],
      "layout": "IPY_MODEL_b9c1925c5c6c4c2289c89c3a77055f2f"
     }
    },
    "2a05953c19ba450caade3b796aaa055e": {
     "model_module": "@jupyter-widgets/controls",
     "model_module_version": "1.5.0",
     "model_name": "DescriptionStyleModel",
     "state": {
      "_model_module": "@jupyter-widgets/controls",
      "_model_module_version": "1.5.0",
      "_model_name": "DescriptionStyleModel",
      "_view_count": null,
      "_view_module": "@jupyter-widgets/base",
      "_view_module_version": "1.2.0",
      "_view_name": "StyleView",
      "description_width": ""
     }
    },
    "2b2790fb5e07443197cea98e18ee2fb1": {
     "model_module": "@jupyter-widgets/base",
     "model_module_version": "1.2.0",
     "model_name": "LayoutModel",
     "state": {
      "_model_module": "@jupyter-widgets/base",
      "_model_module_version": "1.2.0",
      "_model_name": "LayoutModel",
      "_view_count": null,
      "_view_module": "@jupyter-widgets/base",
      "_view_module_version": "1.2.0",
      "_view_name": "LayoutView",
      "align_content": null,
      "align_items": null,
      "align_self": null,
      "border": null,
      "bottom": null,
      "display": null,
      "flex": null,
      "flex_flow": null,
      "grid_area": null,
      "grid_auto_columns": null,
      "grid_auto_flow": null,
      "grid_auto_rows": null,
      "grid_column": null,
      "grid_gap": null,
      "grid_row": null,
      "grid_template_areas": null,
      "grid_template_columns": null,
      "grid_template_rows": null,
      "height": null,
      "justify_content": null,
      "justify_items": null,
      "left": null,
      "margin": null,
      "max_height": null,
      "max_width": null,
      "min_height": null,
      "min_width": null,
      "object_fit": null,
      "object_position": null,
      "order": null,
      "overflow": null,
      "overflow_x": null,
      "overflow_y": null,
      "padding": null,
      "right": null,
      "top": null,
      "visibility": null,
      "width": null
     }
    },
    "2b3804c5460d4548ba46c620d6247066": {
     "model_module": "@jupyter-widgets/controls",
     "model_module_version": "1.5.0",
     "model_name": "HTMLModel",
     "state": {
      "_dom_classes": [],
      "_model_module": "@jupyter-widgets/controls",
      "_model_module_version": "1.5.0",
      "_model_name": "HTMLModel",
      "_view_count": null,
      "_view_module": "@jupyter-widgets/controls",
      "_view_module_version": "1.5.0",
      "_view_name": "HTMLView",
      "description": "",
      "description_tooltip": null,
      "layout": "IPY_MODEL_d3740c66ab8d4998928c750933537f36",
      "placeholder": "​",
      "style": "IPY_MODEL_24d4728f0910446dac722769868f12b8",
      "value": " 3600000/3600000 [00:06&lt;00:00, 547080.91 examples/s]"
     }
    },
    "2b7decbafc5f4e84a3d55ab687989fc7": {
     "model_module": "@jupyter-widgets/base",
     "model_module_version": "1.2.0",
     "model_name": "LayoutModel",
     "state": {
      "_model_module": "@jupyter-widgets/base",
      "_model_module_version": "1.2.0",
      "_model_name": "LayoutModel",
      "_view_count": null,
      "_view_module": "@jupyter-widgets/base",
      "_view_module_version": "1.2.0",
      "_view_name": "LayoutView",
      "align_content": null,
      "align_items": null,
      "align_self": null,
      "border": null,
      "bottom": null,
      "display": null,
      "flex": null,
      "flex_flow": null,
      "grid_area": null,
      "grid_auto_columns": null,
      "grid_auto_flow": null,
      "grid_auto_rows": null,
      "grid_column": null,
      "grid_gap": null,
      "grid_row": null,
      "grid_template_areas": null,
      "grid_template_columns": null,
      "grid_template_rows": null,
      "height": null,
      "justify_content": null,
      "justify_items": null,
      "left": null,
      "margin": null,
      "max_height": null,
      "max_width": null,
      "min_height": null,
      "min_width": null,
      "object_fit": null,
      "object_position": null,
      "order": null,
      "overflow": null,
      "overflow_x": null,
      "overflow_y": null,
      "padding": null,
      "right": null,
      "top": null,
      "visibility": null,
      "width": null
     }
    },
    "2b8d53f8a86542838c83ed019cceea03": {
     "model_module": "@jupyter-widgets/controls",
     "model_module_version": "1.5.0",
     "model_name": "HTMLModel",
     "state": {
      "_dom_classes": [],
      "_model_module": "@jupyter-widgets/controls",
      "_model_module_version": "1.5.0",
      "_model_name": "HTMLModel",
      "_view_count": null,
      "_view_module": "@jupyter-widgets/controls",
      "_view_module_version": "1.5.0",
      "_view_name": "HTMLView",
      "description": "",
      "description_tooltip": null,
      "layout": "IPY_MODEL_04af6a141e304e2797a65cbf13e1eed3",
      "placeholder": "​",
      "style": "IPY_MODEL_d184b775d4364bd1a086fcb4cbc00b28",
      "value": "tokenizer.json: 100%"
     }
    },
    "2d2a33d6cedf493db673f3671bac2762": {
     "model_module": "@jupyter-widgets/controls",
     "model_module_version": "1.5.0",
     "model_name": "HTMLModel",
     "state": {
      "_dom_classes": [],
      "_model_module": "@jupyter-widgets/controls",
      "_model_module_version": "1.5.0",
      "_model_name": "HTMLModel",
      "_view_count": null,
      "_view_module": "@jupyter-widgets/controls",
      "_view_module_version": "1.5.0",
      "_view_name": "HTMLView",
      "description": "",
      "description_tooltip": null,
      "layout": "IPY_MODEL_eee9174451fc4d37899e7be3bd61f28d",
      "placeholder": "​",
      "style": "IPY_MODEL_3dbee196d2d44e388563555ce9f3e1c4",
      "value": "model.safetensors.index.json: 100%"
     }
    },
    "2e9c331ea93446d3a68a864891690848": {
     "model_module": "@jupyter-widgets/controls",
     "model_module_version": "1.5.0",
     "model_name": "ProgressStyleModel",
     "state": {
      "_model_module": "@jupyter-widgets/controls",
      "_model_module_version": "1.5.0",
      "_model_name": "ProgressStyleModel",
      "_view_count": null,
      "_view_module": "@jupyter-widgets/base",
      "_view_module_version": "1.2.0",
      "_view_name": "StyleView",
      "bar_color": null,
      "description_width": ""
     }
    },
    "3014ab838cf34708adbd638e506d1701": {
     "model_module": "@jupyter-widgets/base",
     "model_module_version": "1.2.0",
     "model_name": "LayoutModel",
     "state": {
      "_model_module": "@jupyter-widgets/base",
      "_model_module_version": "1.2.0",
      "_model_name": "LayoutModel",
      "_view_count": null,
      "_view_module": "@jupyter-widgets/base",
      "_view_module_version": "1.2.0",
      "_view_name": "LayoutView",
      "align_content": null,
      "align_items": null,
      "align_self": null,
      "border": null,
      "bottom": null,
      "display": null,
      "flex": null,
      "flex_flow": null,
      "grid_area": null,
      "grid_auto_columns": null,
      "grid_auto_flow": null,
      "grid_auto_rows": null,
      "grid_column": null,
      "grid_gap": null,
      "grid_row": null,
      "grid_template_areas": null,
      "grid_template_columns": null,
      "grid_template_rows": null,
      "height": null,
      "justify_content": null,
      "justify_items": null,
      "left": null,
      "margin": null,
      "max_height": null,
      "max_width": null,
      "min_height": null,
      "min_width": null,
      "object_fit": null,
      "object_position": null,
      "order": null,
      "overflow": null,
      "overflow_x": null,
      "overflow_y": null,
      "padding": null,
      "right": null,
      "top": null,
      "visibility": null,
      "width": null
     }
    },
    "306311d883fb4d4a8e83f0b8d3c05593": {
     "model_module": "@jupyter-widgets/base",
     "model_module_version": "1.2.0",
     "model_name": "LayoutModel",
     "state": {
      "_model_module": "@jupyter-widgets/base",
      "_model_module_version": "1.2.0",
      "_model_name": "LayoutModel",
      "_view_count": null,
      "_view_module": "@jupyter-widgets/base",
      "_view_module_version": "1.2.0",
      "_view_name": "LayoutView",
      "align_content": null,
      "align_items": null,
      "align_self": null,
      "border": null,
      "bottom": null,
      "display": null,
      "flex": null,
      "flex_flow": null,
      "grid_area": null,
      "grid_auto_columns": null,
      "grid_auto_flow": null,
      "grid_auto_rows": null,
      "grid_column": null,
      "grid_gap": null,
      "grid_row": null,
      "grid_template_areas": null,
      "grid_template_columns": null,
      "grid_template_rows": null,
      "height": null,
      "justify_content": null,
      "justify_items": null,
      "left": null,
      "margin": null,
      "max_height": null,
      "max_width": null,
      "min_height": null,
      "min_width": null,
      "object_fit": null,
      "object_position": null,
      "order": null,
      "overflow": null,
      "overflow_x": null,
      "overflow_y": null,
      "padding": null,
      "right": null,
      "top": null,
      "visibility": null,
      "width": null
     }
    },
    "30f8d2d11a1a41a8a5ec6ec90d4b6666": {
     "model_module": "@jupyter-widgets/base",
     "model_module_version": "1.2.0",
     "model_name": "LayoutModel",
     "state": {
      "_model_module": "@jupyter-widgets/base",
      "_model_module_version": "1.2.0",
      "_model_name": "LayoutModel",
      "_view_count": null,
      "_view_module": "@jupyter-widgets/base",
      "_view_module_version": "1.2.0",
      "_view_name": "LayoutView",
      "align_content": null,
      "align_items": null,
      "align_self": null,
      "border": null,
      "bottom": null,
      "display": null,
      "flex": null,
      "flex_flow": null,
      "grid_area": null,
      "grid_auto_columns": null,
      "grid_auto_flow": null,
      "grid_auto_rows": null,
      "grid_column": null,
      "grid_gap": null,
      "grid_row": null,
      "grid_template_areas": null,
      "grid_template_columns": null,
      "grid_template_rows": null,
      "height": null,
      "justify_content": null,
      "justify_items": null,
      "left": null,
      "margin": null,
      "max_height": null,
      "max_width": null,
      "min_height": null,
      "min_width": null,
      "object_fit": null,
      "object_position": null,
      "order": null,
      "overflow": null,
      "overflow_x": null,
      "overflow_y": null,
      "padding": null,
      "right": null,
      "top": null,
      "visibility": null,
      "width": null
     }
    },
    "32d21fc72647420fa8609099b855955e": {
     "model_module": "@jupyter-widgets/controls",
     "model_module_version": "1.5.0",
     "model_name": "HBoxModel",
     "state": {
      "_dom_classes": [],
      "_model_module": "@jupyter-widgets/controls",
      "_model_module_version": "1.5.0",
      "_model_name": "HBoxModel",
      "_view_count": null,
      "_view_module": "@jupyter-widgets/controls",
      "_view_module_version": "1.5.0",
      "_view_name": "HBoxView",
      "box_style": "",
      "children": [
       "IPY_MODEL_75b940b8323d472f8465571295a1d16b",
       "IPY_MODEL_745ffdb9ed1648a49d96e0eb6f90988c",
       "IPY_MODEL_3d98a042c2af4cf9a79f3202d2489f71"
      ],
      "layout": "IPY_MODEL_022fce47577b413a80659e52a481a06a"
     }
    },
    "347553d797ed4853a67256eeeb58b5b3": {
     "model_module": "@jupyter-widgets/controls",
     "model_module_version": "1.5.0",
     "model_name": "FloatProgressModel",
     "state": {
      "_dom_classes": [],
      "_model_module": "@jupyter-widgets/controls",
      "_model_module_version": "1.5.0",
      "_model_name": "FloatProgressModel",
      "_view_count": null,
      "_view_module": "@jupyter-widgets/controls",
      "_view_module_version": "1.5.0",
      "_view_name": "ProgressView",
      "bar_style": "success",
      "description": "",
      "description_tooltip": null,
      "layout": "IPY_MODEL_912d5578fae34ff988347a83fae92d41",
      "max": 499723,
      "min": 0,
      "orientation": "horizontal",
      "style": "IPY_MODEL_3e8d0c4de5c442a5bfdec639a72550f7",
      "value": 499723
     }
    },
    "34e78b6b8e944778a0dc11afe9de7109": {
     "model_module": "@jupyter-widgets/base",
     "model_module_version": "1.2.0",
     "model_name": "LayoutModel",
     "state": {
      "_model_module": "@jupyter-widgets/base",
      "_model_module_version": "1.2.0",
      "_model_name": "LayoutModel",
      "_view_count": null,
      "_view_module": "@jupyter-widgets/base",
      "_view_module_version": "1.2.0",
      "_view_name": "LayoutView",
      "align_content": null,
      "align_items": null,
      "align_self": null,
      "border": null,
      "bottom": null,
      "display": null,
      "flex": null,
      "flex_flow": null,
      "grid_area": null,
      "grid_auto_columns": null,
      "grid_auto_flow": null,
      "grid_auto_rows": null,
      "grid_column": null,
      "grid_gap": null,
      "grid_row": null,
      "grid_template_areas": null,
      "grid_template_columns": null,
      "grid_template_rows": null,
      "height": null,
      "justify_content": null,
      "justify_items": null,
      "left": null,
      "margin": null,
      "max_height": null,
      "max_width": null,
      "min_height": null,
      "min_width": null,
      "object_fit": null,
      "object_position": null,
      "order": null,
      "overflow": null,
      "overflow_x": null,
      "overflow_y": null,
      "padding": null,
      "right": null,
      "top": null,
      "visibility": null,
      "width": null
     }
    },
    "359a29a207774f17a39dc49dd149a51c": {
     "model_module": "@jupyter-widgets/base",
     "model_module_version": "1.2.0",
     "model_name": "LayoutModel",
     "state": {
      "_model_module": "@jupyter-widgets/base",
      "_model_module_version": "1.2.0",
      "_model_name": "LayoutModel",
      "_view_count": null,
      "_view_module": "@jupyter-widgets/base",
      "_view_module_version": "1.2.0",
      "_view_name": "LayoutView",
      "align_content": null,
      "align_items": null,
      "align_self": null,
      "border": null,
      "bottom": null,
      "display": null,
      "flex": null,
      "flex_flow": null,
      "grid_area": null,
      "grid_auto_columns": null,
      "grid_auto_flow": null,
      "grid_auto_rows": null,
      "grid_column": null,
      "grid_gap": null,
      "grid_row": null,
      "grid_template_areas": null,
      "grid_template_columns": null,
      "grid_template_rows": null,
      "height": null,
      "justify_content": null,
      "justify_items": null,
      "left": null,
      "margin": null,
      "max_height": null,
      "max_width": null,
      "min_height": null,
      "min_width": null,
      "object_fit": null,
      "object_position": null,
      "order": null,
      "overflow": null,
      "overflow_x": null,
      "overflow_y": null,
      "padding": null,
      "right": null,
      "top": null,
      "visibility": null,
      "width": null
     }
    },
    "39c5e2ee53564fe68c00d491079b5d88": {
     "model_module": "@jupyter-widgets/base",
     "model_module_version": "1.2.0",
     "model_name": "LayoutModel",
     "state": {
      "_model_module": "@jupyter-widgets/base",
      "_model_module_version": "1.2.0",
      "_model_name": "LayoutModel",
      "_view_count": null,
      "_view_module": "@jupyter-widgets/base",
      "_view_module_version": "1.2.0",
      "_view_name": "LayoutView",
      "align_content": null,
      "align_items": null,
      "align_self": null,
      "border": null,
      "bottom": null,
      "display": null,
      "flex": null,
      "flex_flow": null,
      "grid_area": null,
      "grid_auto_columns": null,
      "grid_auto_flow": null,
      "grid_auto_rows": null,
      "grid_column": null,
      "grid_gap": null,
      "grid_row": null,
      "grid_template_areas": null,
      "grid_template_columns": null,
      "grid_template_rows": null,
      "height": null,
      "justify_content": null,
      "justify_items": null,
      "left": null,
      "margin": null,
      "max_height": null,
      "max_width": null,
      "min_height": null,
      "min_width": null,
      "object_fit": null,
      "object_position": null,
      "order": null,
      "overflow": null,
      "overflow_x": null,
      "overflow_y": null,
      "padding": null,
      "right": null,
      "top": null,
      "visibility": null,
      "width": null
     }
    },
    "3bf0a417ee11419fbd6bbe5d34030dc5": {
     "model_module": "@jupyter-widgets/base",
     "model_module_version": "1.2.0",
     "model_name": "LayoutModel",
     "state": {
      "_model_module": "@jupyter-widgets/base",
      "_model_module_version": "1.2.0",
      "_model_name": "LayoutModel",
      "_view_count": null,
      "_view_module": "@jupyter-widgets/base",
      "_view_module_version": "1.2.0",
      "_view_name": "LayoutView",
      "align_content": null,
      "align_items": null,
      "align_self": null,
      "border": null,
      "bottom": null,
      "display": null,
      "flex": null,
      "flex_flow": null,
      "grid_area": null,
      "grid_auto_columns": null,
      "grid_auto_flow": null,
      "grid_auto_rows": null,
      "grid_column": null,
      "grid_gap": null,
      "grid_row": null,
      "grid_template_areas": null,
      "grid_template_columns": null,
      "grid_template_rows": null,
      "height": null,
      "justify_content": null,
      "justify_items": null,
      "left": null,
      "margin": null,
      "max_height": null,
      "max_width": null,
      "min_height": null,
      "min_width": null,
      "object_fit": null,
      "object_position": null,
      "order": null,
      "overflow": null,
      "overflow_x": null,
      "overflow_y": null,
      "padding": null,
      "right": null,
      "top": null,
      "visibility": null,
      "width": null
     }
    },
    "3c4b7ae5bf7c4865a3e16bd8069d020e": {
     "model_module": "@jupyter-widgets/base",
     "model_module_version": "1.2.0",
     "model_name": "LayoutModel",
     "state": {
      "_model_module": "@jupyter-widgets/base",
      "_model_module_version": "1.2.0",
      "_model_name": "LayoutModel",
      "_view_count": null,
      "_view_module": "@jupyter-widgets/base",
      "_view_module_version": "1.2.0",
      "_view_name": "LayoutView",
      "align_content": null,
      "align_items": null,
      "align_self": null,
      "border": null,
      "bottom": null,
      "display": null,
      "flex": null,
      "flex_flow": null,
      "grid_area": null,
      "grid_auto_columns": null,
      "grid_auto_flow": null,
      "grid_auto_rows": null,
      "grid_column": null,
      "grid_gap": null,
      "grid_row": null,
      "grid_template_areas": null,
      "grid_template_columns": null,
      "grid_template_rows": null,
      "height": null,
      "justify_content": null,
      "justify_items": null,
      "left": null,
      "margin": null,
      "max_height": null,
      "max_width": null,
      "min_height": null,
      "min_width": null,
      "object_fit": null,
      "object_position": null,
      "order": null,
      "overflow": null,
      "overflow_x": null,
      "overflow_y": null,
      "padding": null,
      "right": null,
      "top": null,
      "visibility": null,
      "width": null
     }
    },
    "3d50d7f0d54244aca9531535fb596286": {
     "model_module": "@jupyter-widgets/controls",
     "model_module_version": "1.5.0",
     "model_name": "DescriptionStyleModel",
     "state": {
      "_model_module": "@jupyter-widgets/controls",
      "_model_module_version": "1.5.0",
      "_model_name": "DescriptionStyleModel",
      "_view_count": null,
      "_view_module": "@jupyter-widgets/base",
      "_view_module_version": "1.2.0",
      "_view_name": "StyleView",
      "description_width": ""
     }
    },
    "3d80deb01dc74686bb1053747c9d462e": {
     "model_module": "@jupyter-widgets/base",
     "model_module_version": "1.2.0",
     "model_name": "LayoutModel",
     "state": {
      "_model_module": "@jupyter-widgets/base",
      "_model_module_version": "1.2.0",
      "_model_name": "LayoutModel",
      "_view_count": null,
      "_view_module": "@jupyter-widgets/base",
      "_view_module_version": "1.2.0",
      "_view_name": "LayoutView",
      "align_content": null,
      "align_items": null,
      "align_self": null,
      "border": null,
      "bottom": null,
      "display": null,
      "flex": null,
      "flex_flow": null,
      "grid_area": null,
      "grid_auto_columns": null,
      "grid_auto_flow": null,
      "grid_auto_rows": null,
      "grid_column": null,
      "grid_gap": null,
      "grid_row": null,
      "grid_template_areas": null,
      "grid_template_columns": null,
      "grid_template_rows": null,
      "height": null,
      "justify_content": null,
      "justify_items": null,
      "left": null,
      "margin": null,
      "max_height": null,
      "max_width": null,
      "min_height": null,
      "min_width": null,
      "object_fit": null,
      "object_position": null,
      "order": null,
      "overflow": null,
      "overflow_x": null,
      "overflow_y": null,
      "padding": null,
      "right": null,
      "top": null,
      "visibility": null,
      "width": null
     }
    },
    "3d98a042c2af4cf9a79f3202d2489f71": {
     "model_module": "@jupyter-widgets/controls",
     "model_module_version": "1.5.0",
     "model_name": "HTMLModel",
     "state": {
      "_dom_classes": [],
      "_model_module": "@jupyter-widgets/controls",
      "_model_module_version": "1.5.0",
      "_model_name": "HTMLModel",
      "_view_count": null,
      "_view_module": "@jupyter-widgets/controls",
      "_view_module_version": "1.5.0",
      "_view_name": "HTMLView",
      "description": "",
      "description_tooltip": null,
      "layout": "IPY_MODEL_b9584907fb7445b6a62a02e93c128c45",
      "placeholder": "​",
      "style": "IPY_MODEL_ece7b37b7909460abe17951a3e87a02f",
      "value": " 1000/1000 [06:37&lt;00:00,  1.92it/s]"
     }
    },
    "3dbee196d2d44e388563555ce9f3e1c4": {
     "model_module": "@jupyter-widgets/controls",
     "model_module_version": "1.5.0",
     "model_name": "DescriptionStyleModel",
     "state": {
      "_model_module": "@jupyter-widgets/controls",
      "_model_module_version": "1.5.0",
      "_model_name": "DescriptionStyleModel",
      "_view_count": null,
      "_view_module": "@jupyter-widgets/base",
      "_view_module_version": "1.2.0",
      "_view_name": "StyleView",
      "description_width": ""
     }
    },
    "3e8d0c4de5c442a5bfdec639a72550f7": {
     "model_module": "@jupyter-widgets/controls",
     "model_module_version": "1.5.0",
     "model_name": "ProgressStyleModel",
     "state": {
      "_model_module": "@jupyter-widgets/controls",
      "_model_module_version": "1.5.0",
      "_model_name": "ProgressStyleModel",
      "_view_count": null,
      "_view_module": "@jupyter-widgets/base",
      "_view_module_version": "1.2.0",
      "_view_name": "StyleView",
      "bar_color": null,
      "description_width": ""
     }
    },
    "3fc41775ef804357a3ea5700d0a4f7d4": {
     "model_module": "@jupyter-widgets/controls",
     "model_module_version": "1.5.0",
     "model_name": "DescriptionStyleModel",
     "state": {
      "_model_module": "@jupyter-widgets/controls",
      "_model_module_version": "1.5.0",
      "_model_name": "DescriptionStyleModel",
      "_view_count": null,
      "_view_module": "@jupyter-widgets/base",
      "_view_module_version": "1.2.0",
      "_view_name": "StyleView",
      "description_width": ""
     }
    },
    "45df8073a6b2460b878d89d028f08b46": {
     "model_module": "@jupyter-widgets/controls",
     "model_module_version": "1.5.0",
     "model_name": "DescriptionStyleModel",
     "state": {
      "_model_module": "@jupyter-widgets/controls",
      "_model_module_version": "1.5.0",
      "_model_name": "DescriptionStyleModel",
      "_view_count": null,
      "_view_module": "@jupyter-widgets/base",
      "_view_module_version": "1.2.0",
      "_view_name": "StyleView",
      "description_width": ""
     }
    },
    "465dcff7f93642bc93e1fe34a0dfdf68": {
     "model_module": "@jupyter-widgets/controls",
     "model_module_version": "1.5.0",
     "model_name": "DescriptionStyleModel",
     "state": {
      "_model_module": "@jupyter-widgets/controls",
      "_model_module_version": "1.5.0",
      "_model_name": "DescriptionStyleModel",
      "_view_count": null,
      "_view_module": "@jupyter-widgets/base",
      "_view_module_version": "1.2.0",
      "_view_name": "StyleView",
      "description_width": ""
     }
    },
    "4984219233484616a6ceee13691f844d": {
     "model_module": "@jupyter-widgets/base",
     "model_module_version": "1.2.0",
     "model_name": "LayoutModel",
     "state": {
      "_model_module": "@jupyter-widgets/base",
      "_model_module_version": "1.2.0",
      "_model_name": "LayoutModel",
      "_view_count": null,
      "_view_module": "@jupyter-widgets/base",
      "_view_module_version": "1.2.0",
      "_view_name": "LayoutView",
      "align_content": null,
      "align_items": null,
      "align_self": null,
      "border": null,
      "bottom": null,
      "display": null,
      "flex": null,
      "flex_flow": null,
      "grid_area": null,
      "grid_auto_columns": null,
      "grid_auto_flow": null,
      "grid_auto_rows": null,
      "grid_column": null,
      "grid_gap": null,
      "grid_row": null,
      "grid_template_areas": null,
      "grid_template_columns": null,
      "grid_template_rows": null,
      "height": null,
      "justify_content": null,
      "justify_items": null,
      "left": null,
      "margin": null,
      "max_height": null,
      "max_width": null,
      "min_height": null,
      "min_width": null,
      "object_fit": null,
      "object_position": null,
      "order": null,
      "overflow": null,
      "overflow_x": null,
      "overflow_y": null,
      "padding": null,
      "right": null,
      "top": null,
      "visibility": null,
      "width": null
     }
    },
    "4b59acca87d8403cb9f8c3852df2f9e3": {
     "model_module": "@jupyter-widgets/controls",
     "model_module_version": "1.5.0",
     "model_name": "HTMLModel",
     "state": {
      "_dom_classes": [],
      "_model_module": "@jupyter-widgets/controls",
      "_model_module_version": "1.5.0",
      "_model_name": "HTMLModel",
      "_view_count": null,
      "_view_module": "@jupyter-widgets/controls",
      "_view_module_version": "1.5.0",
      "_view_name": "HTMLView",
      "description": "",
      "description_tooltip": null,
      "layout": "IPY_MODEL_52c2dd383e13407587338675167924b6",
      "placeholder": "​",
      "style": "IPY_MODEL_8919b181f21b47d39cc8deabca6b0acf",
      "value": "model-00002-of-00002.safetensors: 100%"
     }
    },
    "4be11c81d91b4304be3c77de08796f44": {
     "model_module": "@jupyter-widgets/base",
     "model_module_version": "1.2.0",
     "model_name": "LayoutModel",
     "state": {
      "_model_module": "@jupyter-widgets/base",
      "_model_module_version": "1.2.0",
      "_model_name": "LayoutModel",
      "_view_count": null,
      "_view_module": "@jupyter-widgets/base",
      "_view_module_version": "1.2.0",
      "_view_name": "LayoutView",
      "align_content": null,
      "align_items": null,
      "align_self": null,
      "border": null,
      "bottom": null,
      "display": null,
      "flex": null,
      "flex_flow": null,
      "grid_area": null,
      "grid_auto_columns": null,
      "grid_auto_flow": null,
      "grid_auto_rows": null,
      "grid_column": null,
      "grid_gap": null,
      "grid_row": null,
      "grid_template_areas": null,
      "grid_template_columns": null,
      "grid_template_rows": null,
      "height": null,
      "justify_content": null,
      "justify_items": null,
      "left": null,
      "margin": null,
      "max_height": null,
      "max_width": null,
      "min_height": null,
      "min_width": null,
      "object_fit": null,
      "object_position": null,
      "order": null,
      "overflow": null,
      "overflow_x": null,
      "overflow_y": null,
      "padding": null,
      "right": null,
      "top": null,
      "visibility": null,
      "width": null
     }
    },
    "4caa5102ee414a1e9f834e7848e8756c": {
     "model_module": "@jupyter-widgets/base",
     "model_module_version": "1.2.0",
     "model_name": "LayoutModel",
     "state": {
      "_model_module": "@jupyter-widgets/base",
      "_model_module_version": "1.2.0",
      "_model_name": "LayoutModel",
      "_view_count": null,
      "_view_module": "@jupyter-widgets/base",
      "_view_module_version": "1.2.0",
      "_view_name": "LayoutView",
      "align_content": null,
      "align_items": null,
      "align_self": null,
      "border": null,
      "bottom": null,
      "display": null,
      "flex": null,
      "flex_flow": null,
      "grid_area": null,
      "grid_auto_columns": null,
      "grid_auto_flow": null,
      "grid_auto_rows": null,
      "grid_column": null,
      "grid_gap": null,
      "grid_row": null,
      "grid_template_areas": null,
      "grid_template_columns": null,
      "grid_template_rows": null,
      "height": null,
      "justify_content": null,
      "justify_items": null,
      "left": null,
      "margin": null,
      "max_height": null,
      "max_width": null,
      "min_height": null,
      "min_width": null,
      "object_fit": null,
      "object_position": null,
      "order": null,
      "overflow": null,
      "overflow_x": null,
      "overflow_y": null,
      "padding": null,
      "right": null,
      "top": null,
      "visibility": null,
      "width": null
     }
    },
    "4e457e2781644d95a6c8dda36babe4b4": {
     "model_module": "@jupyter-widgets/base",
     "model_module_version": "1.2.0",
     "model_name": "LayoutModel",
     "state": {
      "_model_module": "@jupyter-widgets/base",
      "_model_module_version": "1.2.0",
      "_model_name": "LayoutModel",
      "_view_count": null,
      "_view_module": "@jupyter-widgets/base",
      "_view_module_version": "1.2.0",
      "_view_name": "LayoutView",
      "align_content": null,
      "align_items": null,
      "align_self": null,
      "border": null,
      "bottom": null,
      "display": null,
      "flex": null,
      "flex_flow": null,
      "grid_area": null,
      "grid_auto_columns": null,
      "grid_auto_flow": null,
      "grid_auto_rows": null,
      "grid_column": null,
      "grid_gap": null,
      "grid_row": null,
      "grid_template_areas": null,
      "grid_template_columns": null,
      "grid_template_rows": null,
      "height": null,
      "justify_content": null,
      "justify_items": null,
      "left": null,
      "margin": null,
      "max_height": null,
      "max_width": null,
      "min_height": null,
      "min_width": null,
      "object_fit": null,
      "object_position": null,
      "order": null,
      "overflow": null,
      "overflow_x": null,
      "overflow_y": null,
      "padding": null,
      "right": null,
      "top": null,
      "visibility": null,
      "width": null
     }
    },
    "4e9624aa35a84a9189f34a73570c6865": {
     "model_module": "@jupyter-widgets/controls",
     "model_module_version": "1.5.0",
     "model_name": "ProgressStyleModel",
     "state": {
      "_model_module": "@jupyter-widgets/controls",
      "_model_module_version": "1.5.0",
      "_model_name": "ProgressStyleModel",
      "_view_count": null,
      "_view_module": "@jupyter-widgets/base",
      "_view_module_version": "1.2.0",
      "_view_name": "StyleView",
      "bar_color": null,
      "description_width": ""
     }
    },
    "505a9399556845eba262347d53e0ebfd": {
     "model_module": "@jupyter-widgets/controls",
     "model_module_version": "1.5.0",
     "model_name": "HTMLModel",
     "state": {
      "_dom_classes": [],
      "_model_module": "@jupyter-widgets/controls",
      "_model_module_version": "1.5.0",
      "_model_name": "HTMLModel",
      "_view_count": null,
      "_view_module": "@jupyter-widgets/controls",
      "_view_module_version": "1.5.0",
      "_view_name": "HTMLView",
      "description": "",
      "description_tooltip": null,
      "layout": "IPY_MODEL_8211b9fe51024008afb2d2fe5c8c66d1",
      "placeholder": "​",
      "style": "IPY_MODEL_6ba87b8a3ed14b2fb9ae26ea0f4b650d",
      "value": " 188/188 [00:00&lt;00:00, 12.2kB/s]"
     }
    },
    "51a07b5c86dd4548b24b811c6de4f9bf": {
     "model_module": "@jupyter-widgets/controls",
     "model_module_version": "1.5.0",
     "model_name": "ProgressStyleModel",
     "state": {
      "_model_module": "@jupyter-widgets/controls",
      "_model_module_version": "1.5.0",
      "_model_name": "ProgressStyleModel",
      "_view_count": null,
      "_view_module": "@jupyter-widgets/base",
      "_view_module_version": "1.2.0",
      "_view_name": "StyleView",
      "bar_color": null,
      "description_width": ""
     }
    },
    "52144a0b300347639d6129ed5c2d6641": {
     "model_module": "@jupyter-widgets/controls",
     "model_module_version": "1.5.0",
     "model_name": "ProgressStyleModel",
     "state": {
      "_model_module": "@jupyter-widgets/controls",
      "_model_module_version": "1.5.0",
      "_model_name": "ProgressStyleModel",
      "_view_count": null,
      "_view_module": "@jupyter-widgets/base",
      "_view_module_version": "1.2.0",
      "_view_name": "StyleView",
      "bar_color": null,
      "description_width": ""
     }
    },
    "52c2dd383e13407587338675167924b6": {
     "model_module": "@jupyter-widgets/base",
     "model_module_version": "1.2.0",
     "model_name": "LayoutModel",
     "state": {
      "_model_module": "@jupyter-widgets/base",
      "_model_module_version": "1.2.0",
      "_model_name": "LayoutModel",
      "_view_count": null,
      "_view_module": "@jupyter-widgets/base",
      "_view_module_version": "1.2.0",
      "_view_name": "LayoutView",
      "align_content": null,
      "align_items": null,
      "align_self": null,
      "border": null,
      "bottom": null,
      "display": null,
      "flex": null,
      "flex_flow": null,
      "grid_area": null,
      "grid_auto_columns": null,
      "grid_auto_flow": null,
      "grid_auto_rows": null,
      "grid_column": null,
      "grid_gap": null,
      "grid_row": null,
      "grid_template_areas": null,
      "grid_template_columns": null,
      "grid_template_rows": null,
      "height": null,
      "justify_content": null,
      "justify_items": null,
      "left": null,
      "margin": null,
      "max_height": null,
      "max_width": null,
      "min_height": null,
      "min_width": null,
      "object_fit": null,
      "object_position": null,
      "order": null,
      "overflow": null,
      "overflow_x": null,
      "overflow_y": null,
      "padding": null,
      "right": null,
      "top": null,
      "visibility": null,
      "width": null
     }
    },
    "5549c1be25d94a2e931416d773f0c03b": {
     "model_module": "@jupyter-widgets/controls",
     "model_module_version": "1.5.0",
     "model_name": "HBoxModel",
     "state": {
      "_dom_classes": [],
      "_model_module": "@jupyter-widgets/controls",
      "_model_module_version": "1.5.0",
      "_model_name": "HBoxModel",
      "_view_count": null,
      "_view_module": "@jupyter-widgets/controls",
      "_view_module_version": "1.5.0",
      "_view_name": "HBoxView",
      "box_style": "",
      "children": [
       "IPY_MODEL_b536d2433afd457689177df789d7e41f",
       "IPY_MODEL_838d7c7e056b4813a81d3933a6febf4d",
       "IPY_MODEL_d6d26d2ba4de42708d18e10f7ca50336"
      ],
      "layout": "IPY_MODEL_9b7712486b4c48ceb68f9da71522381d"
     }
    },
    "560e6e43424e43c6a11e165c302c1898": {
     "model_module": "@jupyter-widgets/controls",
     "model_module_version": "1.5.0",
     "model_name": "HTMLModel",
     "state": {
      "_dom_classes": [],
      "_model_module": "@jupyter-widgets/controls",
      "_model_module_version": "1.5.0",
      "_model_name": "HTMLModel",
      "_view_count": null,
      "_view_module": "@jupyter-widgets/controls",
      "_view_module_version": "1.5.0",
      "_view_name": "HTMLView",
      "description": "",
      "description_tooltip": null,
      "layout": "IPY_MODEL_91bbb7618d03440cb80c677cb0584f01",
      "placeholder": "​",
      "style": "IPY_MODEL_ebda9a8f13d243caa3c7334f0c2f9779",
      "value": "special_tokens_map.json: 100%"
     }
    },
    "56541ae914974f738f38bddd149349f6": {
     "model_module": "@jupyter-widgets/base",
     "model_module_version": "1.2.0",
     "model_name": "LayoutModel",
     "state": {
      "_model_module": "@jupyter-widgets/base",
      "_model_module_version": "1.2.0",
      "_model_name": "LayoutModel",
      "_view_count": null,
      "_view_module": "@jupyter-widgets/base",
      "_view_module_version": "1.2.0",
      "_view_name": "LayoutView",
      "align_content": null,
      "align_items": null,
      "align_self": null,
      "border": null,
      "bottom": null,
      "display": null,
      "flex": null,
      "flex_flow": null,
      "grid_area": null,
      "grid_auto_columns": null,
      "grid_auto_flow": null,
      "grid_auto_rows": null,
      "grid_column": null,
      "grid_gap": null,
      "grid_row": null,
      "grid_template_areas": null,
      "grid_template_columns": null,
      "grid_template_rows": null,
      "height": null,
      "justify_content": null,
      "justify_items": null,
      "left": null,
      "margin": null,
      "max_height": null,
      "max_width": null,
      "min_height": null,
      "min_width": null,
      "object_fit": null,
      "object_position": null,
      "order": null,
      "overflow": null,
      "overflow_x": null,
      "overflow_y": null,
      "padding": null,
      "right": null,
      "top": null,
      "visibility": null,
      "width": null
     }
    },
    "57ea99f8c21b4681aed356dbecdc0310": {
     "model_module": "@jupyter-widgets/controls",
     "model_module_version": "1.5.0",
     "model_name": "HBoxModel",
     "state": {
      "_dom_classes": [],
      "_model_module": "@jupyter-widgets/controls",
      "_model_module_version": "1.5.0",
      "_model_name": "HBoxModel",
      "_view_count": null,
      "_view_module": "@jupyter-widgets/controls",
      "_view_module_version": "1.5.0",
      "_view_name": "HBoxView",
      "box_style": "",
      "children": [
       "IPY_MODEL_d389a52246494214ab6090ba57a52382",
       "IPY_MODEL_6377c762a8ae4f519afc3f4b533e30ec",
       "IPY_MODEL_d0cadb58cc984148abeeedd767c89b16"
      ],
      "layout": "IPY_MODEL_4e457e2781644d95a6c8dda36babe4b4"
     }
    },
    "592e5942773c4ce39275c0a70e7436bf": {
     "model_module": "@jupyter-widgets/controls",
     "model_module_version": "1.5.0",
     "model_name": "DescriptionStyleModel",
     "state": {
      "_model_module": "@jupyter-widgets/controls",
      "_model_module_version": "1.5.0",
      "_model_name": "DescriptionStyleModel",
      "_view_count": null,
      "_view_module": "@jupyter-widgets/base",
      "_view_module_version": "1.2.0",
      "_view_name": "StyleView",
      "description_width": ""
     }
    },
    "59ed1992132d432493458f48d8419bba": {
     "model_module": "@jupyter-widgets/base",
     "model_module_version": "1.2.0",
     "model_name": "LayoutModel",
     "state": {
      "_model_module": "@jupyter-widgets/base",
      "_model_module_version": "1.2.0",
      "_model_name": "LayoutModel",
      "_view_count": null,
      "_view_module": "@jupyter-widgets/base",
      "_view_module_version": "1.2.0",
      "_view_name": "LayoutView",
      "align_content": null,
      "align_items": null,
      "align_self": null,
      "border": null,
      "bottom": null,
      "display": null,
      "flex": null,
      "flex_flow": null,
      "grid_area": null,
      "grid_auto_columns": null,
      "grid_auto_flow": null,
      "grid_auto_rows": null,
      "grid_column": null,
      "grid_gap": null,
      "grid_row": null,
      "grid_template_areas": null,
      "grid_template_columns": null,
      "grid_template_rows": null,
      "height": null,
      "justify_content": null,
      "justify_items": null,
      "left": null,
      "margin": null,
      "max_height": null,
      "max_width": null,
      "min_height": null,
      "min_width": null,
      "object_fit": null,
      "object_position": null,
      "order": null,
      "overflow": null,
      "overflow_x": null,
      "overflow_y": null,
      "padding": null,
      "right": null,
      "top": null,
      "visibility": null,
      "width": null
     }
    },
    "5ca74972411d4dc0b6f6b53e77fc5d62": {
     "model_module": "@jupyter-widgets/base",
     "model_module_version": "1.2.0",
     "model_name": "LayoutModel",
     "state": {
      "_model_module": "@jupyter-widgets/base",
      "_model_module_version": "1.2.0",
      "_model_name": "LayoutModel",
      "_view_count": null,
      "_view_module": "@jupyter-widgets/base",
      "_view_module_version": "1.2.0",
      "_view_name": "LayoutView",
      "align_content": null,
      "align_items": null,
      "align_self": null,
      "border": null,
      "bottom": null,
      "display": null,
      "flex": null,
      "flex_flow": null,
      "grid_area": null,
      "grid_auto_columns": null,
      "grid_auto_flow": null,
      "grid_auto_rows": null,
      "grid_column": null,
      "grid_gap": null,
      "grid_row": null,
      "grid_template_areas": null,
      "grid_template_columns": null,
      "grid_template_rows": null,
      "height": null,
      "justify_content": null,
      "justify_items": null,
      "left": null,
      "margin": null,
      "max_height": null,
      "max_width": null,
      "min_height": null,
      "min_width": null,
      "object_fit": null,
      "object_position": null,
      "order": null,
      "overflow": null,
      "overflow_x": null,
      "overflow_y": null,
      "padding": null,
      "right": null,
      "top": null,
      "visibility": null,
      "width": null
     }
    },
    "5ee3397c7bd744fcad38333327e435b4": {
     "model_module": "@jupyter-widgets/base",
     "model_module_version": "1.2.0",
     "model_name": "LayoutModel",
     "state": {
      "_model_module": "@jupyter-widgets/base",
      "_model_module_version": "1.2.0",
      "_model_name": "LayoutModel",
      "_view_count": null,
      "_view_module": "@jupyter-widgets/base",
      "_view_module_version": "1.2.0",
      "_view_name": "LayoutView",
      "align_content": null,
      "align_items": null,
      "align_self": null,
      "border": null,
      "bottom": null,
      "display": null,
      "flex": null,
      "flex_flow": null,
      "grid_area": null,
      "grid_auto_columns": null,
      "grid_auto_flow": null,
      "grid_auto_rows": null,
      "grid_column": null,
      "grid_gap": null,
      "grid_row": null,
      "grid_template_areas": null,
      "grid_template_columns": null,
      "grid_template_rows": null,
      "height": null,
      "justify_content": null,
      "justify_items": null,
      "left": null,
      "margin": null,
      "max_height": null,
      "max_width": null,
      "min_height": null,
      "min_width": null,
      "object_fit": null,
      "object_position": null,
      "order": null,
      "overflow": null,
      "overflow_x": null,
      "overflow_y": null,
      "padding": null,
      "right": null,
      "top": null,
      "visibility": null,
      "width": null
     }
    },
    "5fd3e64ee94d44a69e85323e71387f90": {
     "model_module": "@jupyter-widgets/base",
     "model_module_version": "1.2.0",
     "model_name": "LayoutModel",
     "state": {
      "_model_module": "@jupyter-widgets/base",
      "_model_module_version": "1.2.0",
      "_model_name": "LayoutModel",
      "_view_count": null,
      "_view_module": "@jupyter-widgets/base",
      "_view_module_version": "1.2.0",
      "_view_name": "LayoutView",
      "align_content": null,
      "align_items": null,
      "align_self": null,
      "border": null,
      "bottom": null,
      "display": null,
      "flex": null,
      "flex_flow": null,
      "grid_area": null,
      "grid_auto_columns": null,
      "grid_auto_flow": null,
      "grid_auto_rows": null,
      "grid_column": null,
      "grid_gap": null,
      "grid_row": null,
      "grid_template_areas": null,
      "grid_template_columns": null,
      "grid_template_rows": null,
      "height": null,
      "justify_content": null,
      "justify_items": null,
      "left": null,
      "margin": null,
      "max_height": null,
      "max_width": null,
      "min_height": null,
      "min_width": null,
      "object_fit": null,
      "object_position": null,
      "order": null,
      "overflow": null,
      "overflow_x": null,
      "overflow_y": null,
      "padding": null,
      "right": null,
      "top": null,
      "visibility": null,
      "width": null
     }
    },
    "622edb8c83bb423488641131e61c7db6": {
     "model_module": "@jupyter-widgets/base",
     "model_module_version": "1.2.0",
     "model_name": "LayoutModel",
     "state": {
      "_model_module": "@jupyter-widgets/base",
      "_model_module_version": "1.2.0",
      "_model_name": "LayoutModel",
      "_view_count": null,
      "_view_module": "@jupyter-widgets/base",
      "_view_module_version": "1.2.0",
      "_view_name": "LayoutView",
      "align_content": null,
      "align_items": null,
      "align_self": null,
      "border": null,
      "bottom": null,
      "display": null,
      "flex": null,
      "flex_flow": null,
      "grid_area": null,
      "grid_auto_columns": null,
      "grid_auto_flow": null,
      "grid_auto_rows": null,
      "grid_column": null,
      "grid_gap": null,
      "grid_row": null,
      "grid_template_areas": null,
      "grid_template_columns": null,
      "grid_template_rows": null,
      "height": null,
      "justify_content": null,
      "justify_items": null,
      "left": null,
      "margin": null,
      "max_height": null,
      "max_width": null,
      "min_height": null,
      "min_width": null,
      "object_fit": null,
      "object_position": null,
      "order": null,
      "overflow": null,
      "overflow_x": null,
      "overflow_y": null,
      "padding": null,
      "right": null,
      "top": null,
      "visibility": null,
      "width": null
     }
    },
    "6249260a6bf74f149fc475db611d525e": {
     "model_module": "@jupyter-widgets/base",
     "model_module_version": "1.2.0",
     "model_name": "LayoutModel",
     "state": {
      "_model_module": "@jupyter-widgets/base",
      "_model_module_version": "1.2.0",
      "_model_name": "LayoutModel",
      "_view_count": null,
      "_view_module": "@jupyter-widgets/base",
      "_view_module_version": "1.2.0",
      "_view_name": "LayoutView",
      "align_content": null,
      "align_items": null,
      "align_self": null,
      "border": null,
      "bottom": null,
      "display": null,
      "flex": null,
      "flex_flow": null,
      "grid_area": null,
      "grid_auto_columns": null,
      "grid_auto_flow": null,
      "grid_auto_rows": null,
      "grid_column": null,
      "grid_gap": null,
      "grid_row": null,
      "grid_template_areas": null,
      "grid_template_columns": null,
      "grid_template_rows": null,
      "height": null,
      "justify_content": null,
      "justify_items": null,
      "left": null,
      "margin": null,
      "max_height": null,
      "max_width": null,
      "min_height": null,
      "min_width": null,
      "object_fit": null,
      "object_position": null,
      "order": null,
      "overflow": null,
      "overflow_x": null,
      "overflow_y": null,
      "padding": null,
      "right": null,
      "top": null,
      "visibility": null,
      "width": null
     }
    },
    "62b0720c720a441698c39d57e0966922": {
     "model_module": "@jupyter-widgets/base",
     "model_module_version": "1.2.0",
     "model_name": "LayoutModel",
     "state": {
      "_model_module": "@jupyter-widgets/base",
      "_model_module_version": "1.2.0",
      "_model_name": "LayoutModel",
      "_view_count": null,
      "_view_module": "@jupyter-widgets/base",
      "_view_module_version": "1.2.0",
      "_view_name": "LayoutView",
      "align_content": null,
      "align_items": null,
      "align_self": null,
      "border": null,
      "bottom": null,
      "display": null,
      "flex": null,
      "flex_flow": null,
      "grid_area": null,
      "grid_auto_columns": null,
      "grid_auto_flow": null,
      "grid_auto_rows": null,
      "grid_column": null,
      "grid_gap": null,
      "grid_row": null,
      "grid_template_areas": null,
      "grid_template_columns": null,
      "grid_template_rows": null,
      "height": null,
      "justify_content": null,
      "justify_items": null,
      "left": null,
      "margin": null,
      "max_height": null,
      "max_width": null,
      "min_height": null,
      "min_width": null,
      "object_fit": null,
      "object_position": null,
      "order": null,
      "overflow": null,
      "overflow_x": null,
      "overflow_y": null,
      "padding": null,
      "right": null,
      "top": null,
      "visibility": null,
      "width": null
     }
    },
    "6377c762a8ae4f519afc3f4b533e30ec": {
     "model_module": "@jupyter-widgets/controls",
     "model_module_version": "1.5.0",
     "model_name": "FloatProgressModel",
     "state": {
      "_dom_classes": [],
      "_model_module": "@jupyter-widgets/controls",
      "_model_module_version": "1.5.0",
      "_model_name": "FloatProgressModel",
      "_view_count": null,
      "_view_module": "@jupyter-widgets/controls",
      "_view_module_version": "1.5.0",
      "_view_name": "ProgressView",
      "bar_style": "success",
      "description": "",
      "description_tooltip": null,
      "layout": "IPY_MODEL_fc68125dd1054998acfae4dbde8034ea",
      "max": 2,
      "min": 0,
      "orientation": "horizontal",
      "style": "IPY_MODEL_6ddabd684c634e0a979121b7b92ba16d",
      "value": 2
     }
    },
    "63f1ea0f3e1d4b8ca9d838bc1935fcf0": {
     "model_module": "@jupyter-widgets/controls",
     "model_module_version": "1.5.0",
     "model_name": "DescriptionStyleModel",
     "state": {
      "_model_module": "@jupyter-widgets/controls",
      "_model_module_version": "1.5.0",
      "_model_name": "DescriptionStyleModel",
      "_view_count": null,
      "_view_module": "@jupyter-widgets/base",
      "_view_module_version": "1.2.0",
      "_view_name": "StyleView",
      "description_width": ""
     }
    },
    "698fae3282fb437bb4186d2582531ce9": {
     "model_module": "@jupyter-widgets/controls",
     "model_module_version": "1.5.0",
     "model_name": "FloatProgressModel",
     "state": {
      "_dom_classes": [],
      "_model_module": "@jupyter-widgets/controls",
      "_model_module_version": "1.5.0",
      "_model_name": "FloatProgressModel",
      "_view_count": null,
      "_view_module": "@jupyter-widgets/controls",
      "_view_module_version": "1.5.0",
      "_view_name": "ProgressView",
      "bar_style": "success",
      "description": "",
      "description_tooltip": null,
      "layout": "IPY_MODEL_802ccec54b174a379ed1e5f4578f80cb",
      "max": 614,
      "min": 0,
      "orientation": "horizontal",
      "style": "IPY_MODEL_cb1f338b90cd4a30b7c06010e6810569",
      "value": 614
     }
    },
    "6ba87b8a3ed14b2fb9ae26ea0f4b650d": {
     "model_module": "@jupyter-widgets/controls",
     "model_module_version": "1.5.0",
     "model_name": "DescriptionStyleModel",
     "state": {
      "_model_module": "@jupyter-widgets/controls",
      "_model_module_version": "1.5.0",
      "_model_name": "DescriptionStyleModel",
      "_view_count": null,
      "_view_module": "@jupyter-widgets/base",
      "_view_module_version": "1.2.0",
      "_view_name": "StyleView",
      "description_width": ""
     }
    },
    "6bcff52dba994de5ae9bc3b6bb34f30b": {
     "model_module": "@jupyter-widgets/controls",
     "model_module_version": "1.5.0",
     "model_name": "ProgressStyleModel",
     "state": {
      "_model_module": "@jupyter-widgets/controls",
      "_model_module_version": "1.5.0",
      "_model_name": "ProgressStyleModel",
      "_view_count": null,
      "_view_module": "@jupyter-widgets/base",
      "_view_module_version": "1.2.0",
      "_view_name": "StyleView",
      "bar_color": null,
      "description_width": ""
     }
    },
    "6ddabd684c634e0a979121b7b92ba16d": {
     "model_module": "@jupyter-widgets/controls",
     "model_module_version": "1.5.0",
     "model_name": "ProgressStyleModel",
     "state": {
      "_model_module": "@jupyter-widgets/controls",
      "_model_module_version": "1.5.0",
      "_model_name": "ProgressStyleModel",
      "_view_count": null,
      "_view_module": "@jupyter-widgets/base",
      "_view_module_version": "1.2.0",
      "_view_name": "StyleView",
      "bar_color": null,
      "description_width": ""
     }
    },
    "708cb16dea90463ab9d948fd3221f63e": {
     "model_module": "@jupyter-widgets/controls",
     "model_module_version": "1.5.0",
     "model_name": "HBoxModel",
     "state": {
      "_dom_classes": [],
      "_model_module": "@jupyter-widgets/controls",
      "_model_module_version": "1.5.0",
      "_model_name": "HBoxModel",
      "_view_count": null,
      "_view_module": "@jupyter-widgets/controls",
      "_view_module_version": "1.5.0",
      "_view_name": "HBoxView",
      "box_style": "",
      "children": [
       "IPY_MODEL_a9485a0efbed4804864a7187697cba2c",
       "IPY_MODEL_a50087c49b88496396ef1dfa4af1a945",
       "IPY_MODEL_7479cab6ce4348429da826f3934689ad"
      ],
      "layout": "IPY_MODEL_62b0720c720a441698c39d57e0966922"
     }
    },
    "71a1af128d9147248069fdab41091cc1": {
     "model_module": "@jupyter-widgets/controls",
     "model_module_version": "1.5.0",
     "model_name": "HTMLModel",
     "state": {
      "_dom_classes": [],
      "_model_module": "@jupyter-widgets/controls",
      "_model_module_version": "1.5.0",
      "_model_name": "HTMLModel",
      "_view_count": null,
      "_view_module": "@jupyter-widgets/controls",
      "_view_module_version": "1.5.0",
      "_view_name": "HTMLView",
      "description": "",
      "description_tooltip": null,
      "layout": "IPY_MODEL_1c5e6b86667a4e2c8fa1fb3587454088",
      "placeholder": "​",
      "style": "IPY_MODEL_592e5942773c4ce39275c0a70e7436bf",
      "value": " 2/2 [01:05&lt;00:00, 29.83s/it]"
     }
    },
    "72a4c0c8eadb49ab93c0a4fdee4b98af": {
     "model_module": "@jupyter-widgets/controls",
     "model_module_version": "1.5.0",
     "model_name": "HTMLModel",
     "state": {
      "_dom_classes": [],
      "_model_module": "@jupyter-widgets/controls",
      "_model_module_version": "1.5.0",
      "_model_name": "HTMLModel",
      "_view_count": null,
      "_view_module": "@jupyter-widgets/controls",
      "_view_module_version": "1.5.0",
      "_view_name": "HTMLView",
      "description": "",
      "description_tooltip": null,
      "layout": "IPY_MODEL_cfca9f76ab3d461a9bbc9bd9c0a33764",
      "placeholder": "​",
      "style": "IPY_MODEL_ee4d6ff579a74875826556fc276e8a90",
      "value": " 500k/500k [00:00&lt;00:00, 12.8MB/s]"
     }
    },
    "73d50e53a326437fbee577e1890c16c9": {
     "model_module": "@jupyter-widgets/base",
     "model_module_version": "1.2.0",
     "model_name": "LayoutModel",
     "state": {
      "_model_module": "@jupyter-widgets/base",
      "_model_module_version": "1.2.0",
      "_model_name": "LayoutModel",
      "_view_count": null,
      "_view_module": "@jupyter-widgets/base",
      "_view_module_version": "1.2.0",
      "_view_name": "LayoutView",
      "align_content": null,
      "align_items": null,
      "align_self": null,
      "border": null,
      "bottom": null,
      "display": null,
      "flex": null,
      "flex_flow": null,
      "grid_area": null,
      "grid_auto_columns": null,
      "grid_auto_flow": null,
      "grid_auto_rows": null,
      "grid_column": null,
      "grid_gap": null,
      "grid_row": null,
      "grid_template_areas": null,
      "grid_template_columns": null,
      "grid_template_rows": null,
      "height": null,
      "justify_content": null,
      "justify_items": null,
      "left": null,
      "margin": null,
      "max_height": null,
      "max_width": null,
      "min_height": null,
      "min_width": null,
      "object_fit": null,
      "object_position": null,
      "order": null,
      "overflow": null,
      "overflow_x": null,
      "overflow_y": null,
      "padding": null,
      "right": null,
      "top": null,
      "visibility": null,
      "width": null
     }
    },
    "745ffdb9ed1648a49d96e0eb6f90988c": {
     "model_module": "@jupyter-widgets/controls",
     "model_module_version": "1.5.0",
     "model_name": "FloatProgressModel",
     "state": {
      "_dom_classes": [],
      "_model_module": "@jupyter-widgets/controls",
      "_model_module_version": "1.5.0",
      "_model_name": "FloatProgressModel",
      "_view_count": null,
      "_view_module": "@jupyter-widgets/controls",
      "_view_module_version": "1.5.0",
      "_view_name": "ProgressView",
      "bar_style": "success",
      "description": "",
      "description_tooltip": null,
      "layout": "IPY_MODEL_0b9c3da7cc0a44569bafa5bff4687762",
      "max": 1000,
      "min": 0,
      "orientation": "horizontal",
      "style": "IPY_MODEL_4e9624aa35a84a9189f34a73570c6865",
      "value": 1000
     }
    },
    "7479cab6ce4348429da826f3934689ad": {
     "model_module": "@jupyter-widgets/controls",
     "model_module_version": "1.5.0",
     "model_name": "HTMLModel",
     "state": {
      "_dom_classes": [],
      "_model_module": "@jupyter-widgets/controls",
      "_model_module_version": "1.5.0",
      "_model_name": "HTMLModel",
      "_view_count": null,
      "_view_module": "@jupyter-widgets/controls",
      "_view_module_version": "1.5.0",
      "_view_name": "HTMLView",
      "description": "",
      "description_tooltip": null,
      "layout": "IPY_MODEL_2b7decbafc5f4e84a3d55ab687989fc7",
      "placeholder": "​",
      "style": "IPY_MODEL_e137ae200ee0417c986d620c2f47705d",
      "value": " 1000/1000 [06:48&lt;00:00,  2.07it/s]"
     }
    },
    "74907d5992024fdab3a7f69d6028e6df": {
     "model_module": "@jupyter-widgets/controls",
     "model_module_version": "1.5.0",
     "model_name": "DescriptionStyleModel",
     "state": {
      "_model_module": "@jupyter-widgets/controls",
      "_model_module_version": "1.5.0",
      "_model_name": "DescriptionStyleModel",
      "_view_count": null,
      "_view_module": "@jupyter-widgets/base",
      "_view_module_version": "1.2.0",
      "_view_name": "StyleView",
      "description_width": ""
     }
    },
    "751dceb442794a65b82a8b8239a51f40": {
     "model_module": "@jupyter-widgets/base",
     "model_module_version": "1.2.0",
     "model_name": "LayoutModel",
     "state": {
      "_model_module": "@jupyter-widgets/base",
      "_model_module_version": "1.2.0",
      "_model_name": "LayoutModel",
      "_view_count": null,
      "_view_module": "@jupyter-widgets/base",
      "_view_module_version": "1.2.0",
      "_view_name": "LayoutView",
      "align_content": null,
      "align_items": null,
      "align_self": null,
      "border": null,
      "bottom": null,
      "display": null,
      "flex": null,
      "flex_flow": null,
      "grid_area": null,
      "grid_auto_columns": null,
      "grid_auto_flow": null,
      "grid_auto_rows": null,
      "grid_column": null,
      "grid_gap": null,
      "grid_row": null,
      "grid_template_areas": null,
      "grid_template_columns": null,
      "grid_template_rows": null,
      "height": null,
      "justify_content": null,
      "justify_items": null,
      "left": null,
      "margin": null,
      "max_height": null,
      "max_width": null,
      "min_height": null,
      "min_width": null,
      "object_fit": null,
      "object_position": null,
      "order": null,
      "overflow": null,
      "overflow_x": null,
      "overflow_y": null,
      "padding": null,
      "right": null,
      "top": null,
      "visibility": null,
      "width": null
     }
    },
    "75428f9e1cd94809bd433f30b2833ae1": {
     "model_module": "@jupyter-widgets/controls",
     "model_module_version": "1.5.0",
     "model_name": "HBoxModel",
     "state": {
      "_dom_classes": [],
      "_model_module": "@jupyter-widgets/controls",
      "_model_module_version": "1.5.0",
      "_model_name": "HBoxModel",
      "_view_count": null,
      "_view_module": "@jupyter-widgets/controls",
      "_view_module_version": "1.5.0",
      "_view_name": "HBoxView",
      "box_style": "",
      "children": [
       "IPY_MODEL_118a6ed3ea1f4e2d95457e7dc32e3d7d",
       "IPY_MODEL_fa37f754ea60446d8b888a23dc16ef29",
       "IPY_MODEL_0660c0a7ace946caaa648e5c9413149d"
      ],
      "layout": "IPY_MODEL_e6b31e42edc348a5bceed74c42ea6631"
     }
    },
    "75b940b8323d472f8465571295a1d16b": {
     "model_module": "@jupyter-widgets/controls",
     "model_module_version": "1.5.0",
     "model_name": "HTMLModel",
     "state": {
      "_dom_classes": [],
      "_model_module": "@jupyter-widgets/controls",
      "_model_module_version": "1.5.0",
      "_model_name": "HTMLModel",
      "_view_count": null,
      "_view_module": "@jupyter-widgets/controls",
      "_view_module_version": "1.5.0",
      "_view_name": "HTMLView",
      "description": "",
      "description_tooltip": null,
      "layout": "IPY_MODEL_59ed1992132d432493458f48d8419bba",
      "placeholder": "​",
      "style": "IPY_MODEL_3d50d7f0d54244aca9531535fb596286",
      "value": "100%"
     }
    },
    "7652b60f6bfc4cdf8d20b5fd23338cec": {
     "model_module": "@jupyter-widgets/base",
     "model_module_version": "1.2.0",
     "model_name": "LayoutModel",
     "state": {
      "_model_module": "@jupyter-widgets/base",
      "_model_module_version": "1.2.0",
      "_model_name": "LayoutModel",
      "_view_count": null,
      "_view_module": "@jupyter-widgets/base",
      "_view_module_version": "1.2.0",
      "_view_name": "LayoutView",
      "align_content": null,
      "align_items": null,
      "align_self": null,
      "border": null,
      "bottom": null,
      "display": null,
      "flex": null,
      "flex_flow": null,
      "grid_area": null,
      "grid_auto_columns": null,
      "grid_auto_flow": null,
      "grid_auto_rows": null,
      "grid_column": null,
      "grid_gap": null,
      "grid_row": null,
      "grid_template_areas": null,
      "grid_template_columns": null,
      "grid_template_rows": null,
      "height": null,
      "justify_content": null,
      "justify_items": null,
      "left": null,
      "margin": null,
      "max_height": null,
      "max_width": null,
      "min_height": null,
      "min_width": null,
      "object_fit": null,
      "object_position": null,
      "order": null,
      "overflow": null,
      "overflow_x": null,
      "overflow_y": null,
      "padding": null,
      "right": null,
      "top": null,
      "visibility": null,
      "width": null
     }
    },
    "779441f0280f4166b6259cf4e81eb1b7": {
     "model_module": "@jupyter-widgets/controls",
     "model_module_version": "1.5.0",
     "model_name": "FloatProgressModel",
     "state": {
      "_dom_classes": [],
      "_model_module": "@jupyter-widgets/controls",
      "_model_module_version": "1.5.0",
      "_model_name": "FloatProgressModel",
      "_view_count": null,
      "_view_module": "@jupyter-widgets/controls",
      "_view_module_version": "1.5.0",
      "_view_name": "ProgressView",
      "bar_style": "success",
      "description": "",
      "description_tooltip": null,
      "layout": "IPY_MODEL_cf1a0029d56a450ca6fefdbbad94ffa7",
      "max": 26788,
      "min": 0,
      "orientation": "horizontal",
      "style": "IPY_MODEL_df38897ae0f04726b17fa671c053f4af",
      "value": 26788
     }
    },
    "79ebe720d7684caa9b9a7637ef243c6e": {
     "model_module": "@jupyter-widgets/controls",
     "model_module_version": "1.5.0",
     "model_name": "HTMLModel",
     "state": {
      "_dom_classes": [],
      "_model_module": "@jupyter-widgets/controls",
      "_model_module_version": "1.5.0",
      "_model_name": "HTMLModel",
      "_view_count": null,
      "_view_module": "@jupyter-widgets/controls",
      "_view_module_version": "1.5.0",
      "_view_name": "HTMLView",
      "description": "",
      "description_tooltip": null,
      "layout": "IPY_MODEL_73d50e53a326437fbee577e1890c16c9",
      "placeholder": "​",
      "style": "IPY_MODEL_d5ef95d7893a438785ee7b4b357aea3a",
      "value": " 1.84M/1.84M [00:00&lt;00:00, 4.48MB/s]"
     }
    },
    "7bcdcd0cbb914c68ae9af2d8c7b50fba": {
     "model_module": "@jupyter-widgets/base",
     "model_module_version": "1.2.0",
     "model_name": "LayoutModel",
     "state": {
      "_model_module": "@jupyter-widgets/base",
      "_model_module_version": "1.2.0",
      "_model_name": "LayoutModel",
      "_view_count": null,
      "_view_module": "@jupyter-widgets/base",
      "_view_module_version": "1.2.0",
      "_view_name": "LayoutView",
      "align_content": null,
      "align_items": null,
      "align_self": null,
      "border": null,
      "bottom": null,
      "display": null,
      "flex": null,
      "flex_flow": null,
      "grid_area": null,
      "grid_auto_columns": null,
      "grid_auto_flow": null,
      "grid_auto_rows": null,
      "grid_column": null,
      "grid_gap": null,
      "grid_row": null,
      "grid_template_areas": null,
      "grid_template_columns": null,
      "grid_template_rows": null,
      "height": null,
      "justify_content": null,
      "justify_items": null,
      "left": null,
      "margin": null,
      "max_height": null,
      "max_width": null,
      "min_height": null,
      "min_width": null,
      "object_fit": null,
      "object_position": null,
      "order": null,
      "overflow": null,
      "overflow_x": null,
      "overflow_y": null,
      "padding": null,
      "right": null,
      "top": null,
      "visibility": null,
      "width": null
     }
    },
    "7d23f438f36f4fe59a297671fa20e1b4": {
     "model_module": "@jupyter-widgets/controls",
     "model_module_version": "1.5.0",
     "model_name": "HTMLModel",
     "state": {
      "_dom_classes": [],
      "_model_module": "@jupyter-widgets/controls",
      "_model_module_version": "1.5.0",
      "_model_name": "HTMLModel",
      "_view_count": null,
      "_view_module": "@jupyter-widgets/controls",
      "_view_module_version": "1.5.0",
      "_view_name": "HTMLView",
      "description": "",
      "description_tooltip": null,
      "layout": "IPY_MODEL_359a29a207774f17a39dc49dd149a51c",
      "placeholder": "​",
      "style": "IPY_MODEL_24f74e55a4e447f6a38155a454dbccc1",
      "value": " 614/614 [00:00&lt;00:00, 35.6kB/s]"
     }
    },
    "7f300fe027da46c1962dd4f010e7de76": {
     "model_module": "@jupyter-widgets/base",
     "model_module_version": "1.2.0",
     "model_name": "LayoutModel",
     "state": {
      "_model_module": "@jupyter-widgets/base",
      "_model_module_version": "1.2.0",
      "_model_name": "LayoutModel",
      "_view_count": null,
      "_view_module": "@jupyter-widgets/base",
      "_view_module_version": "1.2.0",
      "_view_name": "LayoutView",
      "align_content": null,
      "align_items": null,
      "align_self": null,
      "border": null,
      "bottom": null,
      "display": null,
      "flex": null,
      "flex_flow": null,
      "grid_area": null,
      "grid_auto_columns": null,
      "grid_auto_flow": null,
      "grid_auto_rows": null,
      "grid_column": null,
      "grid_gap": null,
      "grid_row": null,
      "grid_template_areas": null,
      "grid_template_columns": null,
      "grid_template_rows": null,
      "height": null,
      "justify_content": null,
      "justify_items": null,
      "left": null,
      "margin": null,
      "max_height": null,
      "max_width": null,
      "min_height": null,
      "min_width": null,
      "object_fit": null,
      "object_position": null,
      "order": null,
      "overflow": null,
      "overflow_x": null,
      "overflow_y": null,
      "padding": null,
      "right": null,
      "top": null,
      "visibility": null,
      "width": null
     }
    },
    "7f81afa6f00d4cbe86e870d89e1be84d": {
     "model_module": "@jupyter-widgets/base",
     "model_module_version": "1.2.0",
     "model_name": "LayoutModel",
     "state": {
      "_model_module": "@jupyter-widgets/base",
      "_model_module_version": "1.2.0",
      "_model_name": "LayoutModel",
      "_view_count": null,
      "_view_module": "@jupyter-widgets/base",
      "_view_module_version": "1.2.0",
      "_view_name": "LayoutView",
      "align_content": null,
      "align_items": null,
      "align_self": null,
      "border": null,
      "bottom": null,
      "display": null,
      "flex": null,
      "flex_flow": null,
      "grid_area": null,
      "grid_auto_columns": null,
      "grid_auto_flow": null,
      "grid_auto_rows": null,
      "grid_column": null,
      "grid_gap": null,
      "grid_row": null,
      "grid_template_areas": null,
      "grid_template_columns": null,
      "grid_template_rows": null,
      "height": null,
      "justify_content": null,
      "justify_items": null,
      "left": null,
      "margin": null,
      "max_height": null,
      "max_width": null,
      "min_height": null,
      "min_width": null,
      "object_fit": null,
      "object_position": null,
      "order": null,
      "overflow": null,
      "overflow_x": null,
      "overflow_y": null,
      "padding": null,
      "right": null,
      "top": null,
      "visibility": null,
      "width": null
     }
    },
    "802ccec54b174a379ed1e5f4578f80cb": {
     "model_module": "@jupyter-widgets/base",
     "model_module_version": "1.2.0",
     "model_name": "LayoutModel",
     "state": {
      "_model_module": "@jupyter-widgets/base",
      "_model_module_version": "1.2.0",
      "_model_name": "LayoutModel",
      "_view_count": null,
      "_view_module": "@jupyter-widgets/base",
      "_view_module_version": "1.2.0",
      "_view_name": "LayoutView",
      "align_content": null,
      "align_items": null,
      "align_self": null,
      "border": null,
      "bottom": null,
      "display": null,
      "flex": null,
      "flex_flow": null,
      "grid_area": null,
      "grid_auto_columns": null,
      "grid_auto_flow": null,
      "grid_auto_rows": null,
      "grid_column": null,
      "grid_gap": null,
      "grid_row": null,
      "grid_template_areas": null,
      "grid_template_columns": null,
      "grid_template_rows": null,
      "height": null,
      "justify_content": null,
      "justify_items": null,
      "left": null,
      "margin": null,
      "max_height": null,
      "max_width": null,
      "min_height": null,
      "min_width": null,
      "object_fit": null,
      "object_position": null,
      "order": null,
      "overflow": null,
      "overflow_x": null,
      "overflow_y": null,
      "padding": null,
      "right": null,
      "top": null,
      "visibility": null,
      "width": null
     }
    },
    "8211b9fe51024008afb2d2fe5c8c66d1": {
     "model_module": "@jupyter-widgets/base",
     "model_module_version": "1.2.0",
     "model_name": "LayoutModel",
     "state": {
      "_model_module": "@jupyter-widgets/base",
      "_model_module_version": "1.2.0",
      "_model_name": "LayoutModel",
      "_view_count": null,
      "_view_module": "@jupyter-widgets/base",
      "_view_module_version": "1.2.0",
      "_view_name": "LayoutView",
      "align_content": null,
      "align_items": null,
      "align_self": null,
      "border": null,
      "bottom": null,
      "display": null,
      "flex": null,
      "flex_flow": null,
      "grid_area": null,
      "grid_auto_columns": null,
      "grid_auto_flow": null,
      "grid_auto_rows": null,
      "grid_column": null,
      "grid_gap": null,
      "grid_row": null,
      "grid_template_areas": null,
      "grid_template_columns": null,
      "grid_template_rows": null,
      "height": null,
      "justify_content": null,
      "justify_items": null,
      "left": null,
      "margin": null,
      "max_height": null,
      "max_width": null,
      "min_height": null,
      "min_width": null,
      "object_fit": null,
      "object_position": null,
      "order": null,
      "overflow": null,
      "overflow_x": null,
      "overflow_y": null,
      "padding": null,
      "right": null,
      "top": null,
      "visibility": null,
      "width": null
     }
    },
    "826c63d74e88480fa2335338cc0833fd": {
     "model_module": "@jupyter-widgets/base",
     "model_module_version": "1.2.0",
     "model_name": "LayoutModel",
     "state": {
      "_model_module": "@jupyter-widgets/base",
      "_model_module_version": "1.2.0",
      "_model_name": "LayoutModel",
      "_view_count": null,
      "_view_module": "@jupyter-widgets/base",
      "_view_module_version": "1.2.0",
      "_view_name": "LayoutView",
      "align_content": null,
      "align_items": null,
      "align_self": null,
      "border": null,
      "bottom": null,
      "display": null,
      "flex": null,
      "flex_flow": null,
      "grid_area": null,
      "grid_auto_columns": null,
      "grid_auto_flow": null,
      "grid_auto_rows": null,
      "grid_column": null,
      "grid_gap": null,
      "grid_row": null,
      "grid_template_areas": null,
      "grid_template_columns": null,
      "grid_template_rows": null,
      "height": null,
      "justify_content": null,
      "justify_items": null,
      "left": null,
      "margin": null,
      "max_height": null,
      "max_width": null,
      "min_height": null,
      "min_width": null,
      "object_fit": null,
      "object_position": null,
      "order": null,
      "overflow": null,
      "overflow_x": null,
      "overflow_y": null,
      "padding": null,
      "right": null,
      "top": null,
      "visibility": null,
      "width": null
     }
    },
    "831fa36f6074415d8dc78a6ee7014c77": {
     "model_module": "@jupyter-widgets/controls",
     "model_module_version": "1.5.0",
     "model_name": "FloatProgressModel",
     "state": {
      "_dom_classes": [],
      "_model_module": "@jupyter-widgets/controls",
      "_model_module_version": "1.5.0",
      "_model_name": "FloatProgressModel",
      "_view_count": null,
      "_view_module": "@jupyter-widgets/controls",
      "_view_module_version": "1.5.0",
      "_view_name": "ProgressView",
      "bar_style": "success",
      "description": "",
      "description_tooltip": null,
      "layout": "IPY_MODEL_7f81afa6f00d4cbe86e870d89e1be84d",
      "max": 3500296424,
      "min": 0,
      "orientation": "horizontal",
      "style": "IPY_MODEL_8e13b4a2d6a946e08a85c0c41fbe2bb7",
      "value": 3500296424
     }
    },
    "838d7c7e056b4813a81d3933a6febf4d": {
     "model_module": "@jupyter-widgets/controls",
     "model_module_version": "1.5.0",
     "model_name": "FloatProgressModel",
     "state": {
      "_dom_classes": [],
      "_model_module": "@jupyter-widgets/controls",
      "_model_module_version": "1.5.0",
      "_model_name": "FloatProgressModel",
      "_view_count": null,
      "_view_module": "@jupyter-widgets/controls",
      "_view_module_version": "1.5.0",
      "_view_name": "ProgressView",
      "bar_style": "success",
      "description": "",
      "description_tooltip": null,
      "layout": "IPY_MODEL_d6bc6e3a844745b5876c0126f4c143f3",
      "max": 400000,
      "min": 0,
      "orientation": "horizontal",
      "style": "IPY_MODEL_21c5787f18de4a84a1be5af0822101fd",
      "value": 400000
     }
    },
    "8552f15d039c430cba88ce954cb95bc7": {
     "model_module": "@jupyter-widgets/controls",
     "model_module_version": "1.5.0",
     "model_name": "DescriptionStyleModel",
     "state": {
      "_model_module": "@jupyter-widgets/controls",
      "_model_module_version": "1.5.0",
      "_model_name": "DescriptionStyleModel",
      "_view_count": null,
      "_view_module": "@jupyter-widgets/base",
      "_view_module_version": "1.2.0",
      "_view_name": "StyleView",
      "description_width": ""
     }
    },
    "857e21dbaba3472abb96bbc165cbb3e2": {
     "model_module": "@jupyter-widgets/controls",
     "model_module_version": "1.5.0",
     "model_name": "DescriptionStyleModel",
     "state": {
      "_model_module": "@jupyter-widgets/controls",
      "_model_module_version": "1.5.0",
      "_model_name": "DescriptionStyleModel",
      "_view_count": null,
      "_view_module": "@jupyter-widgets/base",
      "_view_module_version": "1.2.0",
      "_view_name": "StyleView",
      "description_width": ""
     }
    },
    "86d59a6da66e41c28c98dfb5eed37f9d": {
     "model_module": "@jupyter-widgets/controls",
     "model_module_version": "1.5.0",
     "model_name": "DescriptionStyleModel",
     "state": {
      "_model_module": "@jupyter-widgets/controls",
      "_model_module_version": "1.5.0",
      "_model_name": "DescriptionStyleModel",
      "_view_count": null,
      "_view_module": "@jupyter-widgets/base",
      "_view_module_version": "1.2.0",
      "_view_name": "StyleView",
      "description_width": ""
     }
    },
    "8805c79680254accae6a3a92130fa891": {
     "model_module": "@jupyter-widgets/controls",
     "model_module_version": "1.5.0",
     "model_name": "FloatProgressModel",
     "state": {
      "_dom_classes": [],
      "_model_module": "@jupyter-widgets/controls",
      "_model_module_version": "1.5.0",
      "_model_name": "FloatProgressModel",
      "_view_count": null,
      "_view_module": "@jupyter-widgets/controls",
      "_view_module_version": "1.5.0",
      "_view_name": "ProgressView",
      "bar_style": "success",
      "description": "",
      "description_tooltip": null,
      "layout": "IPY_MODEL_dbd505b9a8df4c61add27672ca21d4fd",
      "max": 1000,
      "min": 0,
      "orientation": "horizontal",
      "style": "IPY_MODEL_90792d718d574bc18941e23f33656f98",
      "value": 1000
     }
    },
    "8919b181f21b47d39cc8deabca6b0acf": {
     "model_module": "@jupyter-widgets/controls",
     "model_module_version": "1.5.0",
     "model_name": "DescriptionStyleModel",
     "state": {
      "_model_module": "@jupyter-widgets/controls",
      "_model_module_version": "1.5.0",
      "_model_name": "DescriptionStyleModel",
      "_view_count": null,
      "_view_module": "@jupyter-widgets/base",
      "_view_module_version": "1.2.0",
      "_view_name": "StyleView",
      "description_width": ""
     }
    },
    "8a1992927e064835a9bbc84539d85f6e": {
     "model_module": "@jupyter-widgets/base",
     "model_module_version": "1.2.0",
     "model_name": "LayoutModel",
     "state": {
      "_model_module": "@jupyter-widgets/base",
      "_model_module_version": "1.2.0",
      "_model_name": "LayoutModel",
      "_view_count": null,
      "_view_module": "@jupyter-widgets/base",
      "_view_module_version": "1.2.0",
      "_view_name": "LayoutView",
      "align_content": null,
      "align_items": null,
      "align_self": null,
      "border": null,
      "bottom": null,
      "display": null,
      "flex": null,
      "flex_flow": null,
      "grid_area": null,
      "grid_auto_columns": null,
      "grid_auto_flow": null,
      "grid_auto_rows": null,
      "grid_column": null,
      "grid_gap": null,
      "grid_row": null,
      "grid_template_areas": null,
      "grid_template_columns": null,
      "grid_template_rows": null,
      "height": null,
      "justify_content": null,
      "justify_items": null,
      "left": null,
      "margin": null,
      "max_height": null,
      "max_width": null,
      "min_height": null,
      "min_width": null,
      "object_fit": null,
      "object_position": null,
      "order": null,
      "overflow": null,
      "overflow_x": null,
      "overflow_y": null,
      "padding": null,
      "right": null,
      "top": null,
      "visibility": null,
      "width": null
     }
    },
    "8a2afd075e9f43cc902c544dd36c981b": {
     "model_module": "@jupyter-widgets/controls",
     "model_module_version": "1.5.0",
     "model_name": "DescriptionStyleModel",
     "state": {
      "_model_module": "@jupyter-widgets/controls",
      "_model_module_version": "1.5.0",
      "_model_name": "DescriptionStyleModel",
      "_view_count": null,
      "_view_module": "@jupyter-widgets/base",
      "_view_module_version": "1.2.0",
      "_view_name": "StyleView",
      "description_width": ""
     }
    },
    "8e13b4a2d6a946e08a85c0c41fbe2bb7": {
     "model_module": "@jupyter-widgets/controls",
     "model_module_version": "1.5.0",
     "model_name": "ProgressStyleModel",
     "state": {
      "_model_module": "@jupyter-widgets/controls",
      "_model_module_version": "1.5.0",
      "_model_name": "ProgressStyleModel",
      "_view_count": null,
      "_view_module": "@jupyter-widgets/base",
      "_view_module_version": "1.2.0",
      "_view_name": "StyleView",
      "bar_color": null,
      "description_width": ""
     }
    },
    "8ebc386db46c42f1a22cc672e408ed74": {
     "model_module": "@jupyter-widgets/controls",
     "model_module_version": "1.5.0",
     "model_name": "ProgressStyleModel",
     "state": {
      "_model_module": "@jupyter-widgets/controls",
      "_model_module_version": "1.5.0",
      "_model_name": "ProgressStyleModel",
      "_view_count": null,
      "_view_module": "@jupyter-widgets/base",
      "_view_module_version": "1.2.0",
      "_view_name": "StyleView",
      "bar_color": null,
      "description_width": ""
     }
    },
    "8ef643485eff4f07b3339a7a4e1e1488": {
     "model_module": "@jupyter-widgets/base",
     "model_module_version": "1.2.0",
     "model_name": "LayoutModel",
     "state": {
      "_model_module": "@jupyter-widgets/base",
      "_model_module_version": "1.2.0",
      "_model_name": "LayoutModel",
      "_view_count": null,
      "_view_module": "@jupyter-widgets/base",
      "_view_module_version": "1.2.0",
      "_view_name": "LayoutView",
      "align_content": null,
      "align_items": null,
      "align_self": null,
      "border": null,
      "bottom": null,
      "display": null,
      "flex": null,
      "flex_flow": null,
      "grid_area": null,
      "grid_auto_columns": null,
      "grid_auto_flow": null,
      "grid_auto_rows": null,
      "grid_column": null,
      "grid_gap": null,
      "grid_row": null,
      "grid_template_areas": null,
      "grid_template_columns": null,
      "grid_template_rows": null,
      "height": null,
      "justify_content": null,
      "justify_items": null,
      "left": null,
      "margin": null,
      "max_height": null,
      "max_width": null,
      "min_height": null,
      "min_width": null,
      "object_fit": null,
      "object_position": null,
      "order": null,
      "overflow": null,
      "overflow_x": null,
      "overflow_y": null,
      "padding": null,
      "right": null,
      "top": null,
      "visibility": null,
      "width": null
     }
    },
    "90674cd34de243ea896071820bf09ae0": {
     "model_module": "@jupyter-widgets/controls",
     "model_module_version": "1.5.0",
     "model_name": "FloatProgressModel",
     "state": {
      "_dom_classes": [],
      "_model_module": "@jupyter-widgets/controls",
      "_model_module_version": "1.5.0",
      "_model_name": "FloatProgressModel",
      "_view_count": null,
      "_view_module": "@jupyter-widgets/controls",
      "_view_module_version": "1.5.0",
      "_view_name": "ProgressView",
      "bar_style": "success",
      "description": "",
      "description_tooltip": null,
      "layout": "IPY_MODEL_39c5e2ee53564fe68c00d491079b5d88",
      "max": 1000,
      "min": 0,
      "orientation": "horizontal",
      "style": "IPY_MODEL_52144a0b300347639d6129ed5c2d6641",
      "value": 1000
     }
    },
    "90792d718d574bc18941e23f33656f98": {
     "model_module": "@jupyter-widgets/controls",
     "model_module_version": "1.5.0",
     "model_name": "ProgressStyleModel",
     "state": {
      "_model_module": "@jupyter-widgets/controls",
      "_model_module_version": "1.5.0",
      "_model_name": "ProgressStyleModel",
      "_view_count": null,
      "_view_module": "@jupyter-widgets/base",
      "_view_module_version": "1.2.0",
      "_view_name": "StyleView",
      "bar_color": null,
      "description_width": ""
     }
    },
    "907a135b5d20455abd5c9883d0995251": {
     "model_module": "@jupyter-widgets/controls",
     "model_module_version": "1.5.0",
     "model_name": "ProgressStyleModel",
     "state": {
      "_model_module": "@jupyter-widgets/controls",
      "_model_module_version": "1.5.0",
      "_model_name": "ProgressStyleModel",
      "_view_count": null,
      "_view_module": "@jupyter-widgets/base",
      "_view_module_version": "1.2.0",
      "_view_name": "StyleView",
      "bar_color": null,
      "description_width": ""
     }
    },
    "912d5578fae34ff988347a83fae92d41": {
     "model_module": "@jupyter-widgets/base",
     "model_module_version": "1.2.0",
     "model_name": "LayoutModel",
     "state": {
      "_model_module": "@jupyter-widgets/base",
      "_model_module_version": "1.2.0",
      "_model_name": "LayoutModel",
      "_view_count": null,
      "_view_module": "@jupyter-widgets/base",
      "_view_module_version": "1.2.0",
      "_view_name": "LayoutView",
      "align_content": null,
      "align_items": null,
      "align_self": null,
      "border": null,
      "bottom": null,
      "display": null,
      "flex": null,
      "flex_flow": null,
      "grid_area": null,
      "grid_auto_columns": null,
      "grid_auto_flow": null,
      "grid_auto_rows": null,
      "grid_column": null,
      "grid_gap": null,
      "grid_row": null,
      "grid_template_areas": null,
      "grid_template_columns": null,
      "grid_template_rows": null,
      "height": null,
      "justify_content": null,
      "justify_items": null,
      "left": null,
      "margin": null,
      "max_height": null,
      "max_width": null,
      "min_height": null,
      "min_width": null,
      "object_fit": null,
      "object_position": null,
      "order": null,
      "overflow": null,
      "overflow_x": null,
      "overflow_y": null,
      "padding": null,
      "right": null,
      "top": null,
      "visibility": null,
      "width": null
     }
    },
    "9192e3a7cf27421da2151aa1f7174349": {
     "model_module": "@jupyter-widgets/controls",
     "model_module_version": "1.5.0",
     "model_name": "HBoxModel",
     "state": {
      "_dom_classes": [],
      "_model_module": "@jupyter-widgets/controls",
      "_model_module_version": "1.5.0",
      "_model_name": "HBoxModel",
      "_view_count": null,
      "_view_module": "@jupyter-widgets/controls",
      "_view_module_version": "1.5.0",
      "_view_name": "HBoxView",
      "box_style": "",
      "children": [
       "IPY_MODEL_1ff38dd466da4e039f048c0cf3a1f06e",
       "IPY_MODEL_f1e252ccf3614a4cb2df2ec365acffc4",
       "IPY_MODEL_b09d6d13dd8b49d1968c4474c9387b9d"
      ],
      "layout": "IPY_MODEL_b315a9a8382d410499a7170684f655dc"
     }
    },
    "91bbb7618d03440cb80c677cb0584f01": {
     "model_module": "@jupyter-widgets/base",
     "model_module_version": "1.2.0",
     "model_name": "LayoutModel",
     "state": {
      "_model_module": "@jupyter-widgets/base",
      "_model_module_version": "1.2.0",
      "_model_name": "LayoutModel",
      "_view_count": null,
      "_view_module": "@jupyter-widgets/base",
      "_view_module_version": "1.2.0",
      "_view_name": "LayoutView",
      "align_content": null,
      "align_items": null,
      "align_self": null,
      "border": null,
      "bottom": null,
      "display": null,
      "flex": null,
      "flex_flow": null,
      "grid_area": null,
      "grid_auto_columns": null,
      "grid_auto_flow": null,
      "grid_auto_rows": null,
      "grid_column": null,
      "grid_gap": null,
      "grid_row": null,
      "grid_template_areas": null,
      "grid_template_columns": null,
      "grid_template_rows": null,
      "height": null,
      "justify_content": null,
      "justify_items": null,
      "left": null,
      "margin": null,
      "max_height": null,
      "max_width": null,
      "min_height": null,
      "min_width": null,
      "object_fit": null,
      "object_position": null,
      "order": null,
      "overflow": null,
      "overflow_x": null,
      "overflow_y": null,
      "padding": null,
      "right": null,
      "top": null,
      "visibility": null,
      "width": null
     }
    },
    "921221702021490d911eda74ad830d27": {
     "model_module": "@jupyter-widgets/controls",
     "model_module_version": "1.5.0",
     "model_name": "HTMLModel",
     "state": {
      "_dom_classes": [],
      "_model_module": "@jupyter-widgets/controls",
      "_model_module_version": "1.5.0",
      "_model_name": "HTMLModel",
      "_view_count": null,
      "_view_module": "@jupyter-widgets/controls",
      "_view_module_version": "1.5.0",
      "_view_name": "HTMLView",
      "description": "",
      "description_tooltip": null,
      "layout": "IPY_MODEL_faf06d5fd8894921b016730faf42383f",
      "placeholder": "​",
      "style": "IPY_MODEL_86d59a6da66e41c28c98dfb5eed37f9d",
      "value": "100%"
     }
    },
    "936405d8c4d647c9970a06c0cc2a68f4": {
     "model_module": "@jupyter-widgets/controls",
     "model_module_version": "1.5.0",
     "model_name": "FloatProgressModel",
     "state": {
      "_dom_classes": [],
      "_model_module": "@jupyter-widgets/controls",
      "_model_module_version": "1.5.0",
      "_model_name": "FloatProgressModel",
      "_view_count": null,
      "_view_module": "@jupyter-widgets/controls",
      "_view_module_version": "1.5.0",
      "_view_name": "ProgressView",
      "bar_style": "success",
      "description": "",
      "description_tooltip": null,
      "layout": "IPY_MODEL_0f73bced756d454da79031aa48a14534",
      "max": 1618,
      "min": 0,
      "orientation": "horizontal",
      "style": "IPY_MODEL_c59e6abb87f546efb6c1399a5c05991f",
      "value": 1618
     }
    },
    "954d302533fa4a1b9235693f3e136a3f": {
     "model_module": "@jupyter-widgets/controls",
     "model_module_version": "1.5.0",
     "model_name": "HTMLModel",
     "state": {
      "_dom_classes": [],
      "_model_module": "@jupyter-widgets/controls",
      "_model_module_version": "1.5.0",
      "_model_name": "HTMLModel",
      "_view_count": null,
      "_view_module": "@jupyter-widgets/controls",
      "_view_module_version": "1.5.0",
      "_view_name": "HTMLView",
      "description": "",
      "description_tooltip": null,
      "layout": "IPY_MODEL_9a63cbdc69f744eba0e3966d6c0faffb",
      "placeholder": "​",
      "style": "IPY_MODEL_45df8073a6b2460b878d89d028f08b46",
      "value": " 414/414 [00:00&lt;00:00, 27.6kB/s]"
     }
    },
    "9786d3d0e94d4a4c8aa9043147a03659": {
     "model_module": "@jupyter-widgets/controls",
     "model_module_version": "1.5.0",
     "model_name": "HTMLModel",
     "state": {
      "_dom_classes": [],
      "_model_module": "@jupyter-widgets/controls",
      "_model_module_version": "1.5.0",
      "_model_name": "HTMLModel",
      "_view_count": null,
      "_view_module": "@jupyter-widgets/controls",
      "_view_module_version": "1.5.0",
      "_view_name": "HTMLView",
      "description": "",
      "description_tooltip": null,
      "layout": "IPY_MODEL_065249d116b34ae2ac3e1b8b3257268d",
      "placeholder": "​",
      "style": "IPY_MODEL_465dcff7f93642bc93e1fe34a0dfdf68",
      "value": "Loading checkpoint shards: 100%"
     }
    },
    "983de4e5f0534aa392f4742729e5decc": {
     "model_module": "@jupyter-widgets/controls",
     "model_module_version": "1.5.0",
     "model_name": "FloatProgressModel",
     "state": {
      "_dom_classes": [],
      "_model_module": "@jupyter-widgets/controls",
      "_model_module_version": "1.5.0",
      "_model_name": "FloatProgressModel",
      "_view_count": null,
      "_view_module": "@jupyter-widgets/controls",
      "_view_module_version": "1.5.0",
      "_view_name": "ProgressView",
      "bar_style": "success",
      "description": "",
      "description_tooltip": null,
      "layout": "IPY_MODEL_3bf0a417ee11419fbd6bbe5d34030dc5",
      "max": 2,
      "min": 0,
      "orientation": "horizontal",
      "style": "IPY_MODEL_00dd9faf5fa54289a65149f72986b395",
      "value": 2
     }
    },
    "9941981fcf8c41ba94bfa385e9389da8": {
     "model_module": "@jupyter-widgets/base",
     "model_module_version": "1.2.0",
     "model_name": "LayoutModel",
     "state": {
      "_model_module": "@jupyter-widgets/base",
      "_model_module_version": "1.2.0",
      "_model_name": "LayoutModel",
      "_view_count": null,
      "_view_module": "@jupyter-widgets/base",
      "_view_module_version": "1.2.0",
      "_view_name": "LayoutView",
      "align_content": null,
      "align_items": null,
      "align_self": null,
      "border": null,
      "bottom": null,
      "display": null,
      "flex": null,
      "flex_flow": null,
      "grid_area": null,
      "grid_auto_columns": null,
      "grid_auto_flow": null,
      "grid_auto_rows": null,
      "grid_column": null,
      "grid_gap": null,
      "grid_row": null,
      "grid_template_areas": null,
      "grid_template_columns": null,
      "grid_template_rows": null,
      "height": null,
      "justify_content": null,
      "justify_items": null,
      "left": null,
      "margin": null,
      "max_height": null,
      "max_width": null,
      "min_height": null,
      "min_width": null,
      "object_fit": null,
      "object_position": null,
      "order": null,
      "overflow": null,
      "overflow_x": null,
      "overflow_y": null,
      "padding": null,
      "right": null,
      "top": null,
      "visibility": null,
      "width": null
     }
    },
    "99b951b98f254eb9ab3a182da5aa4cb8": {
     "model_module": "@jupyter-widgets/controls",
     "model_module_version": "1.5.0",
     "model_name": "HBoxModel",
     "state": {
      "_dom_classes": [],
      "_model_module": "@jupyter-widgets/controls",
      "_model_module_version": "1.5.0",
      "_model_name": "HBoxModel",
      "_view_count": null,
      "_view_module": "@jupyter-widgets/controls",
      "_view_module_version": "1.5.0",
      "_view_name": "HBoxView",
      "box_style": "",
      "children": [
       "IPY_MODEL_21306c53f36048de8ac451d74dadeeee",
       "IPY_MODEL_aec1f81d83584f09bf57b16977cd22d4",
       "IPY_MODEL_505a9399556845eba262347d53e0ebfd"
      ],
      "layout": "IPY_MODEL_5fd3e64ee94d44a69e85323e71387f90"
     }
    },
    "9a21bb6c7b1440fbbced3474cd645baf": {
     "model_module": "@jupyter-widgets/base",
     "model_module_version": "1.2.0",
     "model_name": "LayoutModel",
     "state": {
      "_model_module": "@jupyter-widgets/base",
      "_model_module_version": "1.2.0",
      "_model_name": "LayoutModel",
      "_view_count": null,
      "_view_module": "@jupyter-widgets/base",
      "_view_module_version": "1.2.0",
      "_view_name": "LayoutView",
      "align_content": null,
      "align_items": null,
      "align_self": null,
      "border": null,
      "bottom": null,
      "display": null,
      "flex": null,
      "flex_flow": null,
      "grid_area": null,
      "grid_auto_columns": null,
      "grid_auto_flow": null,
      "grid_auto_rows": null,
      "grid_column": null,
      "grid_gap": null,
      "grid_row": null,
      "grid_template_areas": null,
      "grid_template_columns": null,
      "grid_template_rows": null,
      "height": null,
      "justify_content": null,
      "justify_items": null,
      "left": null,
      "margin": null,
      "max_height": null,
      "max_width": null,
      "min_height": null,
      "min_width": null,
      "object_fit": null,
      "object_position": null,
      "order": null,
      "overflow": null,
      "overflow_x": null,
      "overflow_y": null,
      "padding": null,
      "right": null,
      "top": null,
      "visibility": null,
      "width": null
     }
    },
    "9a63cbdc69f744eba0e3966d6c0faffb": {
     "model_module": "@jupyter-widgets/base",
     "model_module_version": "1.2.0",
     "model_name": "LayoutModel",
     "state": {
      "_model_module": "@jupyter-widgets/base",
      "_model_module_version": "1.2.0",
      "_model_name": "LayoutModel",
      "_view_count": null,
      "_view_module": "@jupyter-widgets/base",
      "_view_module_version": "1.2.0",
      "_view_name": "LayoutView",
      "align_content": null,
      "align_items": null,
      "align_self": null,
      "border": null,
      "bottom": null,
      "display": null,
      "flex": null,
      "flex_flow": null,
      "grid_area": null,
      "grid_auto_columns": null,
      "grid_auto_flow": null,
      "grid_auto_rows": null,
      "grid_column": null,
      "grid_gap": null,
      "grid_row": null,
      "grid_template_areas": null,
      "grid_template_columns": null,
      "grid_template_rows": null,
      "height": null,
      "justify_content": null,
      "justify_items": null,
      "left": null,
      "margin": null,
      "max_height": null,
      "max_width": null,
      "min_height": null,
      "min_width": null,
      "object_fit": null,
      "object_position": null,
      "order": null,
      "overflow": null,
      "overflow_x": null,
      "overflow_y": null,
      "padding": null,
      "right": null,
      "top": null,
      "visibility": null,
      "width": null
     }
    },
    "9b7712486b4c48ceb68f9da71522381d": {
     "model_module": "@jupyter-widgets/base",
     "model_module_version": "1.2.0",
     "model_name": "LayoutModel",
     "state": {
      "_model_module": "@jupyter-widgets/base",
      "_model_module_version": "1.2.0",
      "_model_name": "LayoutModel",
      "_view_count": null,
      "_view_module": "@jupyter-widgets/base",
      "_view_module_version": "1.2.0",
      "_view_name": "LayoutView",
      "align_content": null,
      "align_items": null,
      "align_self": null,
      "border": null,
      "bottom": null,
      "display": null,
      "flex": null,
      "flex_flow": null,
      "grid_area": null,
      "grid_auto_columns": null,
      "grid_auto_flow": null,
      "grid_auto_rows": null,
      "grid_column": null,
      "grid_gap": null,
      "grid_row": null,
      "grid_template_areas": null,
      "grid_template_columns": null,
      "grid_template_rows": null,
      "height": null,
      "justify_content": null,
      "justify_items": null,
      "left": null,
      "margin": null,
      "max_height": null,
      "max_width": null,
      "min_height": null,
      "min_width": null,
      "object_fit": null,
      "object_position": null,
      "order": null,
      "overflow": null,
      "overflow_x": null,
      "overflow_y": null,
      "padding": null,
      "right": null,
      "top": null,
      "visibility": null,
      "width": null
     }
    },
    "9d0605555fc54204a7e0b6b4049d3f8f": {
     "model_module": "@jupyter-widgets/base",
     "model_module_version": "1.2.0",
     "model_name": "LayoutModel",
     "state": {
      "_model_module": "@jupyter-widgets/base",
      "_model_module_version": "1.2.0",
      "_model_name": "LayoutModel",
      "_view_count": null,
      "_view_module": "@jupyter-widgets/base",
      "_view_module_version": "1.2.0",
      "_view_name": "LayoutView",
      "align_content": null,
      "align_items": null,
      "align_self": null,
      "border": null,
      "bottom": null,
      "display": null,
      "flex": null,
      "flex_flow": null,
      "grid_area": null,
      "grid_auto_columns": null,
      "grid_auto_flow": null,
      "grid_auto_rows": null,
      "grid_column": null,
      "grid_gap": null,
      "grid_row": null,
      "grid_template_areas": null,
      "grid_template_columns": null,
      "grid_template_rows": null,
      "height": null,
      "justify_content": null,
      "justify_items": null,
      "left": null,
      "margin": null,
      "max_height": null,
      "max_width": null,
      "min_height": null,
      "min_width": null,
      "object_fit": null,
      "object_position": null,
      "order": null,
      "overflow": null,
      "overflow_x": null,
      "overflow_y": null,
      "padding": null,
      "right": null,
      "top": null,
      "visibility": null,
      "width": null
     }
    },
    "9e4521da064d4ece8c2cad04083c2b68": {
     "model_module": "@jupyter-widgets/controls",
     "model_module_version": "1.5.0",
     "model_name": "FloatProgressModel",
     "state": {
      "_dom_classes": [],
      "_model_module": "@jupyter-widgets/controls",
      "_model_module_version": "1.5.0",
      "_model_name": "FloatProgressModel",
      "_view_count": null,
      "_view_module": "@jupyter-widgets/controls",
      "_view_module_version": "1.5.0",
      "_view_name": "ProgressView",
      "bar_style": "success",
      "description": "",
      "description_tooltip": null,
      "layout": "IPY_MODEL_11279087a58b42518b0680404a464db4",
      "max": 3600000,
      "min": 0,
      "orientation": "horizontal",
      "style": "IPY_MODEL_e835f0f2f4ca4e74a11d4af5d6715991",
      "value": 3600000
     }
    },
    "a0baf84d9f6b4df0a8a0142b656bafc2": {
     "model_module": "@jupyter-widgets/controls",
     "model_module_version": "1.5.0",
     "model_name": "ProgressStyleModel",
     "state": {
      "_model_module": "@jupyter-widgets/controls",
      "_model_module_version": "1.5.0",
      "_model_name": "ProgressStyleModel",
      "_view_count": null,
      "_view_module": "@jupyter-widgets/base",
      "_view_module_version": "1.2.0",
      "_view_name": "StyleView",
      "bar_color": null,
      "description_width": ""
     }
    },
    "a50087c49b88496396ef1dfa4af1a945": {
     "model_module": "@jupyter-widgets/controls",
     "model_module_version": "1.5.0",
     "model_name": "FloatProgressModel",
     "state": {
      "_dom_classes": [],
      "_model_module": "@jupyter-widgets/controls",
      "_model_module_version": "1.5.0",
      "_model_name": "FloatProgressModel",
      "_view_count": null,
      "_view_module": "@jupyter-widgets/controls",
      "_view_module_version": "1.5.0",
      "_view_name": "ProgressView",
      "bar_style": "success",
      "description": "",
      "description_tooltip": null,
      "layout": "IPY_MODEL_7f300fe027da46c1962dd4f010e7de76",
      "max": 1000,
      "min": 0,
      "orientation": "horizontal",
      "style": "IPY_MODEL_a0baf84d9f6b4df0a8a0142b656bafc2",
      "value": 1000
     }
    },
    "a9485a0efbed4804864a7187697cba2c": {
     "model_module": "@jupyter-widgets/controls",
     "model_module_version": "1.5.0",
     "model_name": "HTMLModel",
     "state": {
      "_dom_classes": [],
      "_model_module": "@jupyter-widgets/controls",
      "_model_module_version": "1.5.0",
      "_model_name": "HTMLModel",
      "_view_count": null,
      "_view_module": "@jupyter-widgets/controls",
      "_view_module_version": "1.5.0",
      "_view_name": "HTMLView",
      "description": "",
      "description_tooltip": null,
      "layout": "IPY_MODEL_751dceb442794a65b82a8b8239a51f40",
      "placeholder": "​",
      "style": "IPY_MODEL_74907d5992024fdab3a7f69d6028e6df",
      "value": "100%"
     }
    },
    "aaa802de669b4b338817cab1cc1b5d83": {
     "model_module": "@jupyter-widgets/controls",
     "model_module_version": "1.5.0",
     "model_name": "HBoxModel",
     "state": {
      "_dom_classes": [],
      "_model_module": "@jupyter-widgets/controls",
      "_model_module_version": "1.5.0",
      "_model_name": "HBoxModel",
      "_view_count": null,
      "_view_module": "@jupyter-widgets/controls",
      "_view_module_version": "1.5.0",
      "_view_name": "HBoxView",
      "box_style": "",
      "children": [
       "IPY_MODEL_4b59acca87d8403cb9f8c3852df2f9e3",
       "IPY_MODEL_831fa36f6074415d8dc78a6ee7014c77",
       "IPY_MODEL_ea64c5a526b440a9bdd0271505c0b818"
      ],
      "layout": "IPY_MODEL_4be11c81d91b4304be3c77de08796f44"
     }
    },
    "aec1f81d83584f09bf57b16977cd22d4": {
     "model_module": "@jupyter-widgets/controls",
     "model_module_version": "1.5.0",
     "model_name": "FloatProgressModel",
     "state": {
      "_dom_classes": [],
      "_model_module": "@jupyter-widgets/controls",
      "_model_module_version": "1.5.0",
      "_model_name": "FloatProgressModel",
      "_view_count": null,
      "_view_module": "@jupyter-widgets/controls",
      "_view_module_version": "1.5.0",
      "_view_name": "ProgressView",
      "bar_style": "success",
      "description": "",
      "description_tooltip": null,
      "layout": "IPY_MODEL_7bcdcd0cbb914c68ae9af2d8c7b50fba",
      "max": 188,
      "min": 0,
      "orientation": "horizontal",
      "style": "IPY_MODEL_51a07b5c86dd4548b24b811c6de4f9bf",
      "value": 188
     }
    },
    "b09d6d13dd8b49d1968c4474c9387b9d": {
     "model_module": "@jupyter-widgets/controls",
     "model_module_version": "1.5.0",
     "model_name": "HTMLModel",
     "state": {
      "_dom_classes": [],
      "_model_module": "@jupyter-widgets/controls",
      "_model_module_version": "1.5.0",
      "_model_name": "HTMLModel",
      "_view_count": null,
      "_view_module": "@jupyter-widgets/controls",
      "_view_module_version": "1.5.0",
      "_view_name": "HTMLView",
      "description": "",
      "description_tooltip": null,
      "layout": "IPY_MODEL_ecf15700069a429db1741a59927039d6",
      "placeholder": "​",
      "style": "IPY_MODEL_857e21dbaba3472abb96bbc165cbb3e2",
      "value": " 40001/? [08:46&lt;00:00, 83.16it/s]"
     }
    },
    "b315a9a8382d410499a7170684f655dc": {
     "model_module": "@jupyter-widgets/base",
     "model_module_version": "1.2.0",
     "model_name": "LayoutModel",
     "state": {
      "_model_module": "@jupyter-widgets/base",
      "_model_module_version": "1.2.0",
      "_model_name": "LayoutModel",
      "_view_count": null,
      "_view_module": "@jupyter-widgets/base",
      "_view_module_version": "1.2.0",
      "_view_name": "LayoutView",
      "align_content": null,
      "align_items": null,
      "align_self": null,
      "border": null,
      "bottom": null,
      "display": null,
      "flex": null,
      "flex_flow": null,
      "grid_area": null,
      "grid_auto_columns": null,
      "grid_auto_flow": null,
      "grid_auto_rows": null,
      "grid_column": null,
      "grid_gap": null,
      "grid_row": null,
      "grid_template_areas": null,
      "grid_template_columns": null,
      "grid_template_rows": null,
      "height": null,
      "justify_content": null,
      "justify_items": null,
      "left": null,
      "margin": null,
      "max_height": null,
      "max_width": null,
      "min_height": null,
      "min_width": null,
      "object_fit": null,
      "object_position": null,
      "order": null,
      "overflow": null,
      "overflow_x": null,
      "overflow_y": null,
      "padding": null,
      "right": null,
      "top": null,
      "visibility": null,
      "width": null
     }
    },
    "b48a1e57fcda4732a343ff04867a8da0": {
     "model_module": "@jupyter-widgets/controls",
     "model_module_version": "1.5.0",
     "model_name": "HTMLModel",
     "state": {
      "_dom_classes": [],
      "_model_module": "@jupyter-widgets/controls",
      "_model_module_version": "1.5.0",
      "_model_name": "HTMLModel",
      "_view_count": null,
      "_view_module": "@jupyter-widgets/controls",
      "_view_module_version": "1.5.0",
      "_view_name": "HTMLView",
      "description": "",
      "description_tooltip": null,
      "layout": "IPY_MODEL_0b6bd4c153f64081986c5c0d44e9ed1b",
      "placeholder": "​",
      "style": "IPY_MODEL_dbf4b743b2464b839537c06f3680b17c",
      "value": "Downloading shards: 100%"
     }
    },
    "b536d2433afd457689177df789d7e41f": {
     "model_module": "@jupyter-widgets/controls",
     "model_module_version": "1.5.0",
     "model_name": "HTMLModel",
     "state": {
      "_dom_classes": [],
      "_model_module": "@jupyter-widgets/controls",
      "_model_module_version": "1.5.0",
      "_model_name": "HTMLModel",
      "_view_count": null,
      "_view_module": "@jupyter-widgets/controls",
      "_view_module_version": "1.5.0",
      "_view_name": "HTMLView",
      "description": "",
      "description_tooltip": null,
      "layout": "IPY_MODEL_e356322e451b41249152b71d2da0a327",
      "placeholder": "​",
      "style": "IPY_MODEL_c3241d950eab459a9c17206f750d4d10",
      "value": "Saving the dataset (1/1 shards): 100%"
     }
    },
    "b720e2523d924de0bcbede48ccd7be46": {
     "model_module": "@jupyter-widgets/controls",
     "model_module_version": "1.5.0",
     "model_name": "DescriptionStyleModel",
     "state": {
      "_model_module": "@jupyter-widgets/controls",
      "_model_module_version": "1.5.0",
      "_model_name": "DescriptionStyleModel",
      "_view_count": null,
      "_view_module": "@jupyter-widgets/base",
      "_view_module_version": "1.2.0",
      "_view_name": "StyleView",
      "description_width": ""
     }
    },
    "b8089eb299bf47778bcc4e0ff019b72c": {
     "model_module": "@jupyter-widgets/controls",
     "model_module_version": "1.5.0",
     "model_name": "DescriptionStyleModel",
     "state": {
      "_model_module": "@jupyter-widgets/controls",
      "_model_module_version": "1.5.0",
      "_model_name": "DescriptionStyleModel",
      "_view_count": null,
      "_view_module": "@jupyter-widgets/base",
      "_view_module_version": "1.2.0",
      "_view_name": "StyleView",
      "description_width": ""
     }
    },
    "b8f3049f1e5d4312ae73c9e3e15ecb58": {
     "model_module": "@jupyter-widgets/base",
     "model_module_version": "1.2.0",
     "model_name": "LayoutModel",
     "state": {
      "_model_module": "@jupyter-widgets/base",
      "_model_module_version": "1.2.0",
      "_model_name": "LayoutModel",
      "_view_count": null,
      "_view_module": "@jupyter-widgets/base",
      "_view_module_version": "1.2.0",
      "_view_name": "LayoutView",
      "align_content": null,
      "align_items": null,
      "align_self": null,
      "border": null,
      "bottom": null,
      "display": null,
      "flex": null,
      "flex_flow": null,
      "grid_area": null,
      "grid_auto_columns": null,
      "grid_auto_flow": null,
      "grid_auto_rows": null,
      "grid_column": null,
      "grid_gap": null,
      "grid_row": null,
      "grid_template_areas": null,
      "grid_template_columns": null,
      "grid_template_rows": null,
      "height": null,
      "justify_content": null,
      "justify_items": null,
      "left": null,
      "margin": null,
      "max_height": null,
      "max_width": null,
      "min_height": null,
      "min_width": null,
      "object_fit": null,
      "object_position": null,
      "order": null,
      "overflow": null,
      "overflow_x": null,
      "overflow_y": null,
      "padding": null,
      "right": null,
      "top": null,
      "visibility": null,
      "width": null
     }
    },
    "b9584907fb7445b6a62a02e93c128c45": {
     "model_module": "@jupyter-widgets/base",
     "model_module_version": "1.2.0",
     "model_name": "LayoutModel",
     "state": {
      "_model_module": "@jupyter-widgets/base",
      "_model_module_version": "1.2.0",
      "_model_name": "LayoutModel",
      "_view_count": null,
      "_view_module": "@jupyter-widgets/base",
      "_view_module_version": "1.2.0",
      "_view_name": "LayoutView",
      "align_content": null,
      "align_items": null,
      "align_self": null,
      "border": null,
      "bottom": null,
      "display": null,
      "flex": null,
      "flex_flow": null,
      "grid_area": null,
      "grid_auto_columns": null,
      "grid_auto_flow": null,
      "grid_auto_rows": null,
      "grid_column": null,
      "grid_gap": null,
      "grid_row": null,
      "grid_template_areas": null,
      "grid_template_columns": null,
      "grid_template_rows": null,
      "height": null,
      "justify_content": null,
      "justify_items": null,
      "left": null,
      "margin": null,
      "max_height": null,
      "max_width": null,
      "min_height": null,
      "min_width": null,
      "object_fit": null,
      "object_position": null,
      "order": null,
      "overflow": null,
      "overflow_x": null,
      "overflow_y": null,
      "padding": null,
      "right": null,
      "top": null,
      "visibility": null,
      "width": null
     }
    },
    "b9c1925c5c6c4c2289c89c3a77055f2f": {
     "model_module": "@jupyter-widgets/base",
     "model_module_version": "1.2.0",
     "model_name": "LayoutModel",
     "state": {
      "_model_module": "@jupyter-widgets/base",
      "_model_module_version": "1.2.0",
      "_model_name": "LayoutModel",
      "_view_count": null,
      "_view_module": "@jupyter-widgets/base",
      "_view_module_version": "1.2.0",
      "_view_name": "LayoutView",
      "align_content": null,
      "align_items": null,
      "align_self": null,
      "border": null,
      "bottom": null,
      "display": null,
      "flex": null,
      "flex_flow": null,
      "grid_area": null,
      "grid_auto_columns": null,
      "grid_auto_flow": null,
      "grid_auto_rows": null,
      "grid_column": null,
      "grid_gap": null,
      "grid_row": null,
      "grid_template_areas": null,
      "grid_template_columns": null,
      "grid_template_rows": null,
      "height": null,
      "justify_content": null,
      "justify_items": null,
      "left": null,
      "margin": null,
      "max_height": null,
      "max_width": null,
      "min_height": null,
      "min_width": null,
      "object_fit": null,
      "object_position": null,
      "order": null,
      "overflow": null,
      "overflow_x": null,
      "overflow_y": null,
      "padding": null,
      "right": null,
      "top": null,
      "visibility": null,
      "width": null
     }
    },
    "b9fc8b3892c245fb8b7419ab79ce2b47": {
     "model_module": "@jupyter-widgets/controls",
     "model_module_version": "1.5.0",
     "model_name": "HTMLModel",
     "state": {
      "_dom_classes": [],
      "_model_module": "@jupyter-widgets/controls",
      "_model_module_version": "1.5.0",
      "_model_name": "HTMLModel",
      "_view_count": null,
      "_view_module": "@jupyter-widgets/controls",
      "_view_module_version": "1.5.0",
      "_view_name": "HTMLView",
      "description": "",
      "description_tooltip": null,
      "layout": "IPY_MODEL_3014ab838cf34708adbd638e506d1701",
      "placeholder": "​",
      "style": "IPY_MODEL_8a2afd075e9f43cc902c544dd36c981b",
      "value": " 1000/1000 [19:33&lt;00:00,  1.86s/it]"
     }
    },
    "bf03b63483c14195894684443c5335d9": {
     "model_module": "@jupyter-widgets/controls",
     "model_module_version": "1.5.0",
     "model_name": "HBoxModel",
     "state": {
      "_dom_classes": [],
      "_model_module": "@jupyter-widgets/controls",
      "_model_module_version": "1.5.0",
      "_model_name": "HBoxModel",
      "_view_count": null,
      "_view_module": "@jupyter-widgets/controls",
      "_view_module_version": "1.5.0",
      "_view_name": "HBoxView",
      "box_style": "",
      "children": [
       "IPY_MODEL_e8edaea3839f4203bffb5ff6dfb13860",
       "IPY_MODEL_698fae3282fb437bb4186d2582531ce9",
       "IPY_MODEL_7d23f438f36f4fe59a297671fa20e1b4"
      ],
      "layout": "IPY_MODEL_0e40e3d211044fd2bb5564a5a53124ff"
     }
    },
    "c3241d950eab459a9c17206f750d4d10": {
     "model_module": "@jupyter-widgets/controls",
     "model_module_version": "1.5.0",
     "model_name": "DescriptionStyleModel",
     "state": {
      "_model_module": "@jupyter-widgets/controls",
      "_model_module_version": "1.5.0",
      "_model_name": "DescriptionStyleModel",
      "_view_count": null,
      "_view_module": "@jupyter-widgets/base",
      "_view_module_version": "1.2.0",
      "_view_name": "StyleView",
      "description_width": ""
     }
    },
    "c530b556abb64217bc2f9dcf3112c93c": {
     "model_module": "@jupyter-widgets/controls",
     "model_module_version": "1.5.0",
     "model_name": "DescriptionStyleModel",
     "state": {
      "_model_module": "@jupyter-widgets/controls",
      "_model_module_version": "1.5.0",
      "_model_name": "DescriptionStyleModel",
      "_view_count": null,
      "_view_module": "@jupyter-widgets/base",
      "_view_module_version": "1.2.0",
      "_view_name": "StyleView",
      "description_width": ""
     }
    },
    "c59e6abb87f546efb6c1399a5c05991f": {
     "model_module": "@jupyter-widgets/controls",
     "model_module_version": "1.5.0",
     "model_name": "ProgressStyleModel",
     "state": {
      "_model_module": "@jupyter-widgets/controls",
      "_model_module_version": "1.5.0",
      "_model_name": "ProgressStyleModel",
      "_view_count": null,
      "_view_module": "@jupyter-widgets/base",
      "_view_module_version": "1.2.0",
      "_view_name": "StyleView",
      "bar_color": null,
      "description_width": ""
     }
    },
    "c6111a4c2a12445fb5df2f7f4e74a01e": {
     "model_module": "@jupyter-widgets/controls",
     "model_module_version": "1.5.0",
     "model_name": "HTMLModel",
     "state": {
      "_dom_classes": [],
      "_model_module": "@jupyter-widgets/controls",
      "_model_module_version": "1.5.0",
      "_model_name": "HTMLModel",
      "_view_count": null,
      "_view_module": "@jupyter-widgets/controls",
      "_view_module_version": "1.5.0",
      "_view_name": "HTMLView",
      "description": "",
      "description_tooltip": null,
      "layout": "IPY_MODEL_c6bb7e00418d49d2af25931fdaf27aa2",
      "placeholder": "​",
      "style": "IPY_MODEL_2a05953c19ba450caade3b796aaa055e",
      "value": "100%"
     }
    },
    "c6bb7e00418d49d2af25931fdaf27aa2": {
     "model_module": "@jupyter-widgets/base",
     "model_module_version": "1.2.0",
     "model_name": "LayoutModel",
     "state": {
      "_model_module": "@jupyter-widgets/base",
      "_model_module_version": "1.2.0",
      "_model_name": "LayoutModel",
      "_view_count": null,
      "_view_module": "@jupyter-widgets/base",
      "_view_module_version": "1.2.0",
      "_view_name": "LayoutView",
      "align_content": null,
      "align_items": null,
      "align_self": null,
      "border": null,
      "bottom": null,
      "display": null,
      "flex": null,
      "flex_flow": null,
      "grid_area": null,
      "grid_auto_columns": null,
      "grid_auto_flow": null,
      "grid_auto_rows": null,
      "grid_column": null,
      "grid_gap": null,
      "grid_row": null,
      "grid_template_areas": null,
      "grid_template_columns": null,
      "grid_template_rows": null,
      "height": null,
      "justify_content": null,
      "justify_items": null,
      "left": null,
      "margin": null,
      "max_height": null,
      "max_width": null,
      "min_height": null,
      "min_width": null,
      "object_fit": null,
      "object_position": null,
      "order": null,
      "overflow": null,
      "overflow_x": null,
      "overflow_y": null,
      "padding": null,
      "right": null,
      "top": null,
      "visibility": null,
      "width": null
     }
    },
    "c9c85916f14a4d69be2d424df7dc39bd": {
     "model_module": "@jupyter-widgets/controls",
     "model_module_version": "1.5.0",
     "model_name": "FloatProgressModel",
     "state": {
      "_dom_classes": [],
      "_model_module": "@jupyter-widgets/controls",
      "_model_module_version": "1.5.0",
      "_model_name": "FloatProgressModel",
      "_view_count": null,
      "_view_module": "@jupyter-widgets/controls",
      "_view_module_version": "1.5.0",
      "_view_name": "ProgressView",
      "bar_style": "success",
      "description": "",
      "description_tooltip": null,
      "layout": "IPY_MODEL_2b2790fb5e07443197cea98e18ee2fb1",
      "max": 2,
      "min": 0,
      "orientation": "horizontal",
      "style": "IPY_MODEL_6bcff52dba994de5ae9bc3b6bb34f30b",
      "value": 2
     }
    },
    "cb1f338b90cd4a30b7c06010e6810569": {
     "model_module": "@jupyter-widgets/controls",
     "model_module_version": "1.5.0",
     "model_name": "ProgressStyleModel",
     "state": {
      "_model_module": "@jupyter-widgets/controls",
      "_model_module_version": "1.5.0",
      "_model_name": "ProgressStyleModel",
      "_view_count": null,
      "_view_module": "@jupyter-widgets/base",
      "_view_module_version": "1.2.0",
      "_view_name": "StyleView",
      "bar_color": null,
      "description_width": ""
     }
    },
    "cf1a0029d56a450ca6fefdbbad94ffa7": {
     "model_module": "@jupyter-widgets/base",
     "model_module_version": "1.2.0",
     "model_name": "LayoutModel",
     "state": {
      "_model_module": "@jupyter-widgets/base",
      "_model_module_version": "1.2.0",
      "_model_name": "LayoutModel",
      "_view_count": null,
      "_view_module": "@jupyter-widgets/base",
      "_view_module_version": "1.2.0",
      "_view_name": "LayoutView",
      "align_content": null,
      "align_items": null,
      "align_self": null,
      "border": null,
      "bottom": null,
      "display": null,
      "flex": null,
      "flex_flow": null,
      "grid_area": null,
      "grid_auto_columns": null,
      "grid_auto_flow": null,
      "grid_auto_rows": null,
      "grid_column": null,
      "grid_gap": null,
      "grid_row": null,
      "grid_template_areas": null,
      "grid_template_columns": null,
      "grid_template_rows": null,
      "height": null,
      "justify_content": null,
      "justify_items": null,
      "left": null,
      "margin": null,
      "max_height": null,
      "max_width": null,
      "min_height": null,
      "min_width": null,
      "object_fit": null,
      "object_position": null,
      "order": null,
      "overflow": null,
      "overflow_x": null,
      "overflow_y": null,
      "padding": null,
      "right": null,
      "top": null,
      "visibility": null,
      "width": null
     }
    },
    "cfca9f76ab3d461a9bbc9bd9c0a33764": {
     "model_module": "@jupyter-widgets/base",
     "model_module_version": "1.2.0",
     "model_name": "LayoutModel",
     "state": {
      "_model_module": "@jupyter-widgets/base",
      "_model_module_version": "1.2.0",
      "_model_name": "LayoutModel",
      "_view_count": null,
      "_view_module": "@jupyter-widgets/base",
      "_view_module_version": "1.2.0",
      "_view_name": "LayoutView",
      "align_content": null,
      "align_items": null,
      "align_self": null,
      "border": null,
      "bottom": null,
      "display": null,
      "flex": null,
      "flex_flow": null,
      "grid_area": null,
      "grid_auto_columns": null,
      "grid_auto_flow": null,
      "grid_auto_rows": null,
      "grid_column": null,
      "grid_gap": null,
      "grid_row": null,
      "grid_template_areas": null,
      "grid_template_columns": null,
      "grid_template_rows": null,
      "height": null,
      "justify_content": null,
      "justify_items": null,
      "left": null,
      "margin": null,
      "max_height": null,
      "max_width": null,
      "min_height": null,
      "min_width": null,
      "object_fit": null,
      "object_position": null,
      "order": null,
      "overflow": null,
      "overflow_x": null,
      "overflow_y": null,
      "padding": null,
      "right": null,
      "top": null,
      "visibility": null,
      "width": null
     }
    },
    "d0cadb58cc984148abeeedd767c89b16": {
     "model_module": "@jupyter-widgets/controls",
     "model_module_version": "1.5.0",
     "model_name": "HTMLModel",
     "state": {
      "_dom_classes": [],
      "_model_module": "@jupyter-widgets/controls",
      "_model_module_version": "1.5.0",
      "_model_name": "HTMLModel",
      "_view_count": null,
      "_view_module": "@jupyter-widgets/controls",
      "_view_module_version": "1.5.0",
      "_view_name": "HTMLView",
      "description": "",
      "description_tooltip": null,
      "layout": "IPY_MODEL_34e78b6b8e944778a0dc11afe9de7109",
      "placeholder": "​",
      "style": "IPY_MODEL_63f1ea0f3e1d4b8ca9d838bc1935fcf0",
      "value": " 2/2 [01:06&lt;00:00, 30.39s/it]"
     }
    },
    "d184b775d4364bd1a086fcb4cbc00b28": {
     "model_module": "@jupyter-widgets/controls",
     "model_module_version": "1.5.0",
     "model_name": "DescriptionStyleModel",
     "state": {
      "_model_module": "@jupyter-widgets/controls",
      "_model_module_version": "1.5.0",
      "_model_name": "DescriptionStyleModel",
      "_view_count": null,
      "_view_module": "@jupyter-widgets/base",
      "_view_module_version": "1.2.0",
      "_view_name": "StyleView",
      "description_width": ""
     }
    },
    "d273d902a4de4817b5d4bdbfa3a8323a": {
     "model_module": "@jupyter-widgets/base",
     "model_module_version": "1.2.0",
     "model_name": "LayoutModel",
     "state": {
      "_model_module": "@jupyter-widgets/base",
      "_model_module_version": "1.2.0",
      "_model_name": "LayoutModel",
      "_view_count": null,
      "_view_module": "@jupyter-widgets/base",
      "_view_module_version": "1.2.0",
      "_view_name": "LayoutView",
      "align_content": null,
      "align_items": null,
      "align_self": null,
      "border": null,
      "bottom": null,
      "display": null,
      "flex": null,
      "flex_flow": null,
      "grid_area": null,
      "grid_auto_columns": null,
      "grid_auto_flow": null,
      "grid_auto_rows": null,
      "grid_column": null,
      "grid_gap": null,
      "grid_row": null,
      "grid_template_areas": null,
      "grid_template_columns": null,
      "grid_template_rows": null,
      "height": null,
      "justify_content": null,
      "justify_items": null,
      "left": null,
      "margin": null,
      "max_height": null,
      "max_width": null,
      "min_height": null,
      "min_width": null,
      "object_fit": null,
      "object_position": null,
      "order": null,
      "overflow": null,
      "overflow_x": null,
      "overflow_y": null,
      "padding": null,
      "right": null,
      "top": null,
      "visibility": null,
      "width": null
     }
    },
    "d30b22f3164c4ad187f863026097b37e": {
     "model_module": "@jupyter-widgets/controls",
     "model_module_version": "1.5.0",
     "model_name": "DescriptionStyleModel",
     "state": {
      "_model_module": "@jupyter-widgets/controls",
      "_model_module_version": "1.5.0",
      "_model_name": "DescriptionStyleModel",
      "_view_count": null,
      "_view_module": "@jupyter-widgets/base",
      "_view_module_version": "1.2.0",
      "_view_name": "StyleView",
      "description_width": ""
     }
    },
    "d3740c66ab8d4998928c750933537f36": {
     "model_module": "@jupyter-widgets/base",
     "model_module_version": "1.2.0",
     "model_name": "LayoutModel",
     "state": {
      "_model_module": "@jupyter-widgets/base",
      "_model_module_version": "1.2.0",
      "_model_name": "LayoutModel",
      "_view_count": null,
      "_view_module": "@jupyter-widgets/base",
      "_view_module_version": "1.2.0",
      "_view_name": "LayoutView",
      "align_content": null,
      "align_items": null,
      "align_self": null,
      "border": null,
      "bottom": null,
      "display": null,
      "flex": null,
      "flex_flow": null,
      "grid_area": null,
      "grid_auto_columns": null,
      "grid_auto_flow": null,
      "grid_auto_rows": null,
      "grid_column": null,
      "grid_gap": null,
      "grid_row": null,
      "grid_template_areas": null,
      "grid_template_columns": null,
      "grid_template_rows": null,
      "height": null,
      "justify_content": null,
      "justify_items": null,
      "left": null,
      "margin": null,
      "max_height": null,
      "max_width": null,
      "min_height": null,
      "min_width": null,
      "object_fit": null,
      "object_position": null,
      "order": null,
      "overflow": null,
      "overflow_x": null,
      "overflow_y": null,
      "padding": null,
      "right": null,
      "top": null,
      "visibility": null,
      "width": null
     }
    },
    "d389a52246494214ab6090ba57a52382": {
     "model_module": "@jupyter-widgets/controls",
     "model_module_version": "1.5.0",
     "model_name": "HTMLModel",
     "state": {
      "_dom_classes": [],
      "_model_module": "@jupyter-widgets/controls",
      "_model_module_version": "1.5.0",
      "_model_name": "HTMLModel",
      "_view_count": null,
      "_view_module": "@jupyter-widgets/controls",
      "_view_module_version": "1.5.0",
      "_view_name": "HTMLView",
      "description": "",
      "description_tooltip": null,
      "layout": "IPY_MODEL_30f8d2d11a1a41a8a5ec6ec90d4b6666",
      "placeholder": "​",
      "style": "IPY_MODEL_1bdd2012e7dd411d9c7248a457c2c180",
      "value": "Loading checkpoint shards: 100%"
     }
    },
    "d3aadfb1a5504910a70246912599446c": {
     "model_module": "@jupyter-widgets/controls",
     "model_module_version": "1.5.0",
     "model_name": "DescriptionStyleModel",
     "state": {
      "_model_module": "@jupyter-widgets/controls",
      "_model_module_version": "1.5.0",
      "_model_name": "DescriptionStyleModel",
      "_view_count": null,
      "_view_module": "@jupyter-widgets/base",
      "_view_module_version": "1.2.0",
      "_view_name": "StyleView",
      "description_width": ""
     }
    },
    "d4ce95a92f8f4b398be97cd623d02e7b": {
     "model_module": "@jupyter-widgets/controls",
     "model_module_version": "1.5.0",
     "model_name": "DescriptionStyleModel",
     "state": {
      "_model_module": "@jupyter-widgets/controls",
      "_model_module_version": "1.5.0",
      "_model_name": "DescriptionStyleModel",
      "_view_count": null,
      "_view_module": "@jupyter-widgets/base",
      "_view_module_version": "1.2.0",
      "_view_name": "StyleView",
      "description_width": ""
     }
    },
    "d5ef95d7893a438785ee7b4b357aea3a": {
     "model_module": "@jupyter-widgets/controls",
     "model_module_version": "1.5.0",
     "model_name": "DescriptionStyleModel",
     "state": {
      "_model_module": "@jupyter-widgets/controls",
      "_model_module_version": "1.5.0",
      "_model_name": "DescriptionStyleModel",
      "_view_count": null,
      "_view_module": "@jupyter-widgets/base",
      "_view_module_version": "1.2.0",
      "_view_name": "StyleView",
      "description_width": ""
     }
    },
    "d6bc6e3a844745b5876c0126f4c143f3": {
     "model_module": "@jupyter-widgets/base",
     "model_module_version": "1.2.0",
     "model_name": "LayoutModel",
     "state": {
      "_model_module": "@jupyter-widgets/base",
      "_model_module_version": "1.2.0",
      "_model_name": "LayoutModel",
      "_view_count": null,
      "_view_module": "@jupyter-widgets/base",
      "_view_module_version": "1.2.0",
      "_view_name": "LayoutView",
      "align_content": null,
      "align_items": null,
      "align_self": null,
      "border": null,
      "bottom": null,
      "display": null,
      "flex": null,
      "flex_flow": null,
      "grid_area": null,
      "grid_auto_columns": null,
      "grid_auto_flow": null,
      "grid_auto_rows": null,
      "grid_column": null,
      "grid_gap": null,
      "grid_row": null,
      "grid_template_areas": null,
      "grid_template_columns": null,
      "grid_template_rows": null,
      "height": null,
      "justify_content": null,
      "justify_items": null,
      "left": null,
      "margin": null,
      "max_height": null,
      "max_width": null,
      "min_height": null,
      "min_width": null,
      "object_fit": null,
      "object_position": null,
      "order": null,
      "overflow": null,
      "overflow_x": null,
      "overflow_y": null,
      "padding": null,
      "right": null,
      "top": null,
      "visibility": null,
      "width": null
     }
    },
    "d6d26d2ba4de42708d18e10f7ca50336": {
     "model_module": "@jupyter-widgets/controls",
     "model_module_version": "1.5.0",
     "model_name": "HTMLModel",
     "state": {
      "_dom_classes": [],
      "_model_module": "@jupyter-widgets/controls",
      "_model_module_version": "1.5.0",
      "_model_name": "HTMLModel",
      "_view_count": null,
      "_view_module": "@jupyter-widgets/controls",
      "_view_module_version": "1.5.0",
      "_view_name": "HTMLView",
      "description": "",
      "description_tooltip": null,
      "layout": "IPY_MODEL_3d80deb01dc74686bb1053747c9d462e",
      "placeholder": "​",
      "style": "IPY_MODEL_d30b22f3164c4ad187f863026097b37e",
      "value": " 400000/400000 [00:00&lt;00:00, 395877.77 examples/s]"
     }
    },
    "d7b108f04e32465b9e3968dd9dfc0849": {
     "model_module": "@jupyter-widgets/base",
     "model_module_version": "1.2.0",
     "model_name": "LayoutModel",
     "state": {
      "_model_module": "@jupyter-widgets/base",
      "_model_module_version": "1.2.0",
      "_model_name": "LayoutModel",
      "_view_count": null,
      "_view_module": "@jupyter-widgets/base",
      "_view_module_version": "1.2.0",
      "_view_name": "LayoutView",
      "align_content": null,
      "align_items": null,
      "align_self": null,
      "border": null,
      "bottom": null,
      "display": null,
      "flex": null,
      "flex_flow": null,
      "grid_area": null,
      "grid_auto_columns": null,
      "grid_auto_flow": null,
      "grid_auto_rows": null,
      "grid_column": null,
      "grid_gap": null,
      "grid_row": null,
      "grid_template_areas": null,
      "grid_template_columns": null,
      "grid_template_rows": null,
      "height": null,
      "justify_content": null,
      "justify_items": null,
      "left": null,
      "margin": null,
      "max_height": null,
      "max_width": null,
      "min_height": null,
      "min_width": null,
      "object_fit": null,
      "object_position": null,
      "order": null,
      "overflow": null,
      "overflow_x": null,
      "overflow_y": null,
      "padding": null,
      "right": null,
      "top": null,
      "visibility": null,
      "width": null
     }
    },
    "d9219533953246509228b803d6c9bf9e": {
     "model_module": "@jupyter-widgets/controls",
     "model_module_version": "1.5.0",
     "model_name": "HTMLModel",
     "state": {
      "_dom_classes": [],
      "_model_module": "@jupyter-widgets/controls",
      "_model_module_version": "1.5.0",
      "_model_name": "HTMLModel",
      "_view_count": null,
      "_view_module": "@jupyter-widgets/controls",
      "_view_module_version": "1.5.0",
      "_view_name": "HTMLView",
      "description": "",
      "description_tooltip": null,
      "layout": "IPY_MODEL_9941981fcf8c41ba94bfa385e9389da8",
      "placeholder": "​",
      "style": "IPY_MODEL_e142aaa7eb1247609c24379306629bd6",
      "value": "tokenizer.model: 100%"
     }
    },
    "d9db8d5cab184419b6675e6d1690f398": {
     "model_module": "@jupyter-widgets/base",
     "model_module_version": "1.2.0",
     "model_name": "LayoutModel",
     "state": {
      "_model_module": "@jupyter-widgets/base",
      "_model_module_version": "1.2.0",
      "_model_name": "LayoutModel",
      "_view_count": null,
      "_view_module": "@jupyter-widgets/base",
      "_view_module_version": "1.2.0",
      "_view_name": "LayoutView",
      "align_content": null,
      "align_items": null,
      "align_self": null,
      "border": null,
      "bottom": null,
      "display": null,
      "flex": null,
      "flex_flow": null,
      "grid_area": null,
      "grid_auto_columns": null,
      "grid_auto_flow": null,
      "grid_auto_rows": null,
      "grid_column": null,
      "grid_gap": null,
      "grid_row": null,
      "grid_template_areas": null,
      "grid_template_columns": null,
      "grid_template_rows": null,
      "height": null,
      "justify_content": null,
      "justify_items": null,
      "left": null,
      "margin": null,
      "max_height": null,
      "max_width": null,
      "min_height": null,
      "min_width": null,
      "object_fit": null,
      "object_position": null,
      "order": null,
      "overflow": null,
      "overflow_x": null,
      "overflow_y": null,
      "padding": null,
      "right": null,
      "top": null,
      "visibility": null,
      "width": null
     }
    },
    "dbd505b9a8df4c61add27672ca21d4fd": {
     "model_module": "@jupyter-widgets/base",
     "model_module_version": "1.2.0",
     "model_name": "LayoutModel",
     "state": {
      "_model_module": "@jupyter-widgets/base",
      "_model_module_version": "1.2.0",
      "_model_name": "LayoutModel",
      "_view_count": null,
      "_view_module": "@jupyter-widgets/base",
      "_view_module_version": "1.2.0",
      "_view_name": "LayoutView",
      "align_content": null,
      "align_items": null,
      "align_self": null,
      "border": null,
      "bottom": null,
      "display": null,
      "flex": null,
      "flex_flow": null,
      "grid_area": null,
      "grid_auto_columns": null,
      "grid_auto_flow": null,
      "grid_auto_rows": null,
      "grid_column": null,
      "grid_gap": null,
      "grid_row": null,
      "grid_template_areas": null,
      "grid_template_columns": null,
      "grid_template_rows": null,
      "height": null,
      "justify_content": null,
      "justify_items": null,
      "left": null,
      "margin": null,
      "max_height": null,
      "max_width": null,
      "min_height": null,
      "min_width": null,
      "object_fit": null,
      "object_position": null,
      "order": null,
      "overflow": null,
      "overflow_x": null,
      "overflow_y": null,
      "padding": null,
      "right": null,
      "top": null,
      "visibility": null,
      "width": null
     }
    },
    "dbf4b743b2464b839537c06f3680b17c": {
     "model_module": "@jupyter-widgets/controls",
     "model_module_version": "1.5.0",
     "model_name": "DescriptionStyleModel",
     "state": {
      "_model_module": "@jupyter-widgets/controls",
      "_model_module_version": "1.5.0",
      "_model_name": "DescriptionStyleModel",
      "_view_count": null,
      "_view_module": "@jupyter-widgets/base",
      "_view_module_version": "1.2.0",
      "_view_name": "StyleView",
      "description_width": ""
     }
    },
    "df38897ae0f04726b17fa671c053f4af": {
     "model_module": "@jupyter-widgets/controls",
     "model_module_version": "1.5.0",
     "model_name": "ProgressStyleModel",
     "state": {
      "_model_module": "@jupyter-widgets/controls",
      "_model_module_version": "1.5.0",
      "_model_name": "ProgressStyleModel",
      "_view_count": null,
      "_view_module": "@jupyter-widgets/base",
      "_view_module_version": "1.2.0",
      "_view_name": "StyleView",
      "bar_color": null,
      "description_width": ""
     }
    },
    "e137ae200ee0417c986d620c2f47705d": {
     "model_module": "@jupyter-widgets/controls",
     "model_module_version": "1.5.0",
     "model_name": "DescriptionStyleModel",
     "state": {
      "_model_module": "@jupyter-widgets/controls",
      "_model_module_version": "1.5.0",
      "_model_name": "DescriptionStyleModel",
      "_view_count": null,
      "_view_module": "@jupyter-widgets/base",
      "_view_module_version": "1.2.0",
      "_view_name": "StyleView",
      "description_width": ""
     }
    },
    "e142aaa7eb1247609c24379306629bd6": {
     "model_module": "@jupyter-widgets/controls",
     "model_module_version": "1.5.0",
     "model_name": "DescriptionStyleModel",
     "state": {
      "_model_module": "@jupyter-widgets/controls",
      "_model_module_version": "1.5.0",
      "_model_name": "DescriptionStyleModel",
      "_view_count": null,
      "_view_module": "@jupyter-widgets/base",
      "_view_module_version": "1.2.0",
      "_view_name": "StyleView",
      "description_width": ""
     }
    },
    "e24b1232dc1540389f5411e81dc3707d": {
     "model_module": "@jupyter-widgets/controls",
     "model_module_version": "1.5.0",
     "model_name": "FloatProgressModel",
     "state": {
      "_dom_classes": [],
      "_model_module": "@jupyter-widgets/controls",
      "_model_module_version": "1.5.0",
      "_model_name": "FloatProgressModel",
      "_view_count": null,
      "_view_module": "@jupyter-widgets/controls",
      "_view_module_version": "1.5.0",
      "_view_name": "ProgressView",
      "bar_style": "success",
      "description": "",
      "description_tooltip": null,
      "layout": "IPY_MODEL_4caa5102ee414a1e9f834e7848e8756c",
      "max": 414,
      "min": 0,
      "orientation": "horizontal",
      "style": "IPY_MODEL_8ebc386db46c42f1a22cc672e408ed74",
      "value": 414
     }
    },
    "e2765d547ed34f079c0c994740f9e9ba": {
     "model_module": "@jupyter-widgets/base",
     "model_module_version": "1.2.0",
     "model_name": "LayoutModel",
     "state": {
      "_model_module": "@jupyter-widgets/base",
      "_model_module_version": "1.2.0",
      "_model_name": "LayoutModel",
      "_view_count": null,
      "_view_module": "@jupyter-widgets/base",
      "_view_module_version": "1.2.0",
      "_view_name": "LayoutView",
      "align_content": null,
      "align_items": null,
      "align_self": null,
      "border": null,
      "bottom": null,
      "display": null,
      "flex": null,
      "flex_flow": null,
      "grid_area": null,
      "grid_auto_columns": null,
      "grid_auto_flow": null,
      "grid_auto_rows": null,
      "grid_column": null,
      "grid_gap": null,
      "grid_row": null,
      "grid_template_areas": null,
      "grid_template_columns": null,
      "grid_template_rows": null,
      "height": null,
      "justify_content": null,
      "justify_items": null,
      "left": null,
      "margin": null,
      "max_height": null,
      "max_width": null,
      "min_height": null,
      "min_width": null,
      "object_fit": null,
      "object_position": null,
      "order": null,
      "overflow": null,
      "overflow_x": null,
      "overflow_y": null,
      "padding": null,
      "right": null,
      "top": null,
      "visibility": null,
      "width": null
     }
    },
    "e356322e451b41249152b71d2da0a327": {
     "model_module": "@jupyter-widgets/base",
     "model_module_version": "1.2.0",
     "model_name": "LayoutModel",
     "state": {
      "_model_module": "@jupyter-widgets/base",
      "_model_module_version": "1.2.0",
      "_model_name": "LayoutModel",
      "_view_count": null,
      "_view_module": "@jupyter-widgets/base",
      "_view_module_version": "1.2.0",
      "_view_name": "LayoutView",
      "align_content": null,
      "align_items": null,
      "align_self": null,
      "border": null,
      "bottom": null,
      "display": null,
      "flex": null,
      "flex_flow": null,
      "grid_area": null,
      "grid_auto_columns": null,
      "grid_auto_flow": null,
      "grid_auto_rows": null,
      "grid_column": null,
      "grid_gap": null,
      "grid_row": null,
      "grid_template_areas": null,
      "grid_template_columns": null,
      "grid_template_rows": null,
      "height": null,
      "justify_content": null,
      "justify_items": null,
      "left": null,
      "margin": null,
      "max_height": null,
      "max_width": null,
      "min_height": null,
      "min_width": null,
      "object_fit": null,
      "object_position": null,
      "order": null,
      "overflow": null,
      "overflow_x": null,
      "overflow_y": null,
      "padding": null,
      "right": null,
      "top": null,
      "visibility": null,
      "width": null
     }
    },
    "e625c8775133479b9aa1d5f4429ec332": {
     "model_module": "@jupyter-widgets/controls",
     "model_module_version": "1.5.0",
     "model_name": "DescriptionStyleModel",
     "state": {
      "_model_module": "@jupyter-widgets/controls",
      "_model_module_version": "1.5.0",
      "_model_name": "DescriptionStyleModel",
      "_view_count": null,
      "_view_module": "@jupyter-widgets/base",
      "_view_module_version": "1.2.0",
      "_view_name": "StyleView",
      "description_width": ""
     }
    },
    "e64a49d645fb41eeafc532555deae79c": {
     "model_module": "@jupyter-widgets/base",
     "model_module_version": "1.2.0",
     "model_name": "LayoutModel",
     "state": {
      "_model_module": "@jupyter-widgets/base",
      "_model_module_version": "1.2.0",
      "_model_name": "LayoutModel",
      "_view_count": null,
      "_view_module": "@jupyter-widgets/base",
      "_view_module_version": "1.2.0",
      "_view_name": "LayoutView",
      "align_content": null,
      "align_items": null,
      "align_self": null,
      "border": null,
      "bottom": null,
      "display": null,
      "flex": null,
      "flex_flow": null,
      "grid_area": null,
      "grid_auto_columns": null,
      "grid_auto_flow": null,
      "grid_auto_rows": null,
      "grid_column": null,
      "grid_gap": null,
      "grid_row": null,
      "grid_template_areas": null,
      "grid_template_columns": null,
      "grid_template_rows": null,
      "height": null,
      "justify_content": null,
      "justify_items": null,
      "left": null,
      "margin": null,
      "max_height": null,
      "max_width": null,
      "min_height": null,
      "min_width": null,
      "object_fit": null,
      "object_position": null,
      "order": null,
      "overflow": null,
      "overflow_x": null,
      "overflow_y": null,
      "padding": null,
      "right": null,
      "top": null,
      "visibility": null,
      "width": null
     }
    },
    "e6b31e42edc348a5bceed74c42ea6631": {
     "model_module": "@jupyter-widgets/base",
     "model_module_version": "1.2.0",
     "model_name": "LayoutModel",
     "state": {
      "_model_module": "@jupyter-widgets/base",
      "_model_module_version": "1.2.0",
      "_model_name": "LayoutModel",
      "_view_count": null,
      "_view_module": "@jupyter-widgets/base",
      "_view_module_version": "1.2.0",
      "_view_name": "LayoutView",
      "align_content": null,
      "align_items": null,
      "align_self": null,
      "border": null,
      "bottom": null,
      "display": null,
      "flex": null,
      "flex_flow": null,
      "grid_area": null,
      "grid_auto_columns": null,
      "grid_auto_flow": null,
      "grid_auto_rows": null,
      "grid_column": null,
      "grid_gap": null,
      "grid_row": null,
      "grid_template_areas": null,
      "grid_template_columns": null,
      "grid_template_rows": null,
      "height": null,
      "justify_content": null,
      "justify_items": null,
      "left": null,
      "margin": null,
      "max_height": null,
      "max_width": null,
      "min_height": null,
      "min_width": null,
      "object_fit": null,
      "object_position": null,
      "order": null,
      "overflow": null,
      "overflow_x": null,
      "overflow_y": null,
      "padding": null,
      "right": null,
      "top": null,
      "visibility": null,
      "width": null
     }
    },
    "e77422b086a94f5bae5797b577db3002": {
     "model_module": "@jupyter-widgets/base",
     "model_module_version": "1.2.0",
     "model_name": "LayoutModel",
     "state": {
      "_model_module": "@jupyter-widgets/base",
      "_model_module_version": "1.2.0",
      "_model_name": "LayoutModel",
      "_view_count": null,
      "_view_module": "@jupyter-widgets/base",
      "_view_module_version": "1.2.0",
      "_view_name": "LayoutView",
      "align_content": null,
      "align_items": null,
      "align_self": null,
      "border": null,
      "bottom": null,
      "display": null,
      "flex": null,
      "flex_flow": null,
      "grid_area": null,
      "grid_auto_columns": null,
      "grid_auto_flow": null,
      "grid_auto_rows": null,
      "grid_column": null,
      "grid_gap": null,
      "grid_row": null,
      "grid_template_areas": null,
      "grid_template_columns": null,
      "grid_template_rows": null,
      "height": null,
      "justify_content": null,
      "justify_items": null,
      "left": null,
      "margin": null,
      "max_height": null,
      "max_width": null,
      "min_height": null,
      "min_width": null,
      "object_fit": null,
      "object_position": null,
      "order": null,
      "overflow": null,
      "overflow_x": null,
      "overflow_y": null,
      "padding": null,
      "right": null,
      "top": null,
      "visibility": null,
      "width": null
     }
    },
    "e835f0f2f4ca4e74a11d4af5d6715991": {
     "model_module": "@jupyter-widgets/controls",
     "model_module_version": "1.5.0",
     "model_name": "ProgressStyleModel",
     "state": {
      "_model_module": "@jupyter-widgets/controls",
      "_model_module_version": "1.5.0",
      "_model_name": "ProgressStyleModel",
      "_view_count": null,
      "_view_module": "@jupyter-widgets/base",
      "_view_module_version": "1.2.0",
      "_view_name": "StyleView",
      "bar_color": null,
      "description_width": ""
     }
    },
    "e8edaea3839f4203bffb5ff6dfb13860": {
     "model_module": "@jupyter-widgets/controls",
     "model_module_version": "1.5.0",
     "model_name": "HTMLModel",
     "state": {
      "_dom_classes": [],
      "_model_module": "@jupyter-widgets/controls",
      "_model_module_version": "1.5.0",
      "_model_name": "HTMLModel",
      "_view_count": null,
      "_view_module": "@jupyter-widgets/controls",
      "_view_module_version": "1.5.0",
      "_view_name": "HTMLView",
      "description": "",
      "description_tooltip": null,
      "layout": "IPY_MODEL_826c63d74e88480fa2335338cc0833fd",
      "placeholder": "​",
      "style": "IPY_MODEL_d3aadfb1a5504910a70246912599446c",
      "value": "config.json: 100%"
     }
    },
    "ea64c5a526b440a9bdd0271505c0b818": {
     "model_module": "@jupyter-widgets/controls",
     "model_module_version": "1.5.0",
     "model_name": "HTMLModel",
     "state": {
      "_dom_classes": [],
      "_model_module": "@jupyter-widgets/controls",
      "_model_module_version": "1.5.0",
      "_model_name": "HTMLModel",
      "_view_count": null,
      "_view_module": "@jupyter-widgets/controls",
      "_view_module_version": "1.5.0",
      "_view_name": "HTMLView",
      "description": "",
      "description_tooltip": null,
      "layout": "IPY_MODEL_56541ae914974f738f38bddd149349f6",
      "placeholder": "​",
      "style": "IPY_MODEL_c530b556abb64217bc2f9dcf3112c93c",
      "value": " 3.50G/3.50G [00:27&lt;00:00, 161MB/s]"
     }
    },
    "ebbe0034b10745e2ae09501ae935cc8b": {
     "model_module": "@jupyter-widgets/controls",
     "model_module_version": "1.5.0",
     "model_name": "DescriptionStyleModel",
     "state": {
      "_model_module": "@jupyter-widgets/controls",
      "_model_module_version": "1.5.0",
      "_model_name": "DescriptionStyleModel",
      "_view_count": null,
      "_view_module": "@jupyter-widgets/base",
      "_view_module_version": "1.2.0",
      "_view_name": "StyleView",
      "description_width": ""
     }
    },
    "ebda9a8f13d243caa3c7334f0c2f9779": {
     "model_module": "@jupyter-widgets/controls",
     "model_module_version": "1.5.0",
     "model_name": "DescriptionStyleModel",
     "state": {
      "_model_module": "@jupyter-widgets/controls",
      "_model_module_version": "1.5.0",
      "_model_name": "DescriptionStyleModel",
      "_view_count": null,
      "_view_module": "@jupyter-widgets/base",
      "_view_module_version": "1.2.0",
      "_view_name": "StyleView",
      "description_width": ""
     }
    },
    "ece7b37b7909460abe17951a3e87a02f": {
     "model_module": "@jupyter-widgets/controls",
     "model_module_version": "1.5.0",
     "model_name": "DescriptionStyleModel",
     "state": {
      "_model_module": "@jupyter-widgets/controls",
      "_model_module_version": "1.5.0",
      "_model_name": "DescriptionStyleModel",
      "_view_count": null,
      "_view_module": "@jupyter-widgets/base",
      "_view_module_version": "1.2.0",
      "_view_name": "StyleView",
      "description_width": ""
     }
    },
    "ecf15700069a429db1741a59927039d6": {
     "model_module": "@jupyter-widgets/base",
     "model_module_version": "1.2.0",
     "model_name": "LayoutModel",
     "state": {
      "_model_module": "@jupyter-widgets/base",
      "_model_module_version": "1.2.0",
      "_model_name": "LayoutModel",
      "_view_count": null,
      "_view_module": "@jupyter-widgets/base",
      "_view_module_version": "1.2.0",
      "_view_name": "LayoutView",
      "align_content": null,
      "align_items": null,
      "align_self": null,
      "border": null,
      "bottom": null,
      "display": null,
      "flex": null,
      "flex_flow": null,
      "grid_area": null,
      "grid_auto_columns": null,
      "grid_auto_flow": null,
      "grid_auto_rows": null,
      "grid_column": null,
      "grid_gap": null,
      "grid_row": null,
      "grid_template_areas": null,
      "grid_template_columns": null,
      "grid_template_rows": null,
      "height": null,
      "justify_content": null,
      "justify_items": null,
      "left": null,
      "margin": null,
      "max_height": null,
      "max_width": null,
      "min_height": null,
      "min_width": null,
      "object_fit": null,
      "object_position": null,
      "order": null,
      "overflow": null,
      "overflow_x": null,
      "overflow_y": null,
      "padding": null,
      "right": null,
      "top": null,
      "visibility": null,
      "width": null
     }
    },
    "ee4d6ff579a74875826556fc276e8a90": {
     "model_module": "@jupyter-widgets/controls",
     "model_module_version": "1.5.0",
     "model_name": "DescriptionStyleModel",
     "state": {
      "_model_module": "@jupyter-widgets/controls",
      "_model_module_version": "1.5.0",
      "_model_name": "DescriptionStyleModel",
      "_view_count": null,
      "_view_module": "@jupyter-widgets/base",
      "_view_module_version": "1.2.0",
      "_view_name": "StyleView",
      "description_width": ""
     }
    },
    "eee9174451fc4d37899e7be3bd61f28d": {
     "model_module": "@jupyter-widgets/base",
     "model_module_version": "1.2.0",
     "model_name": "LayoutModel",
     "state": {
      "_model_module": "@jupyter-widgets/base",
      "_model_module_version": "1.2.0",
      "_model_name": "LayoutModel",
      "_view_count": null,
      "_view_module": "@jupyter-widgets/base",
      "_view_module_version": "1.2.0",
      "_view_name": "LayoutView",
      "align_content": null,
      "align_items": null,
      "align_self": null,
      "border": null,
      "bottom": null,
      "display": null,
      "flex": null,
      "flex_flow": null,
      "grid_area": null,
      "grid_auto_columns": null,
      "grid_auto_flow": null,
      "grid_auto_rows": null,
      "grid_column": null,
      "grid_gap": null,
      "grid_row": null,
      "grid_template_areas": null,
      "grid_template_columns": null,
      "grid_template_rows": null,
      "height": null,
      "justify_content": null,
      "justify_items": null,
      "left": null,
      "margin": null,
      "max_height": null,
      "max_width": null,
      "min_height": null,
      "min_width": null,
      "object_fit": null,
      "object_position": null,
      "order": null,
      "overflow": null,
      "overflow_x": null,
      "overflow_y": null,
      "padding": null,
      "right": null,
      "top": null,
      "visibility": null,
      "width": null
     }
    },
    "f04e638866cd4ba281919f07009c0c6a": {
     "model_module": "@jupyter-widgets/controls",
     "model_module_version": "1.5.0",
     "model_name": "HTMLModel",
     "state": {
      "_dom_classes": [],
      "_model_module": "@jupyter-widgets/controls",
      "_model_module_version": "1.5.0",
      "_model_name": "HTMLModel",
      "_view_count": null,
      "_view_module": "@jupyter-widgets/controls",
      "_view_module_version": "1.5.0",
      "_view_name": "HTMLView",
      "description": "",
      "description_tooltip": null,
      "layout": "IPY_MODEL_622edb8c83bb423488641131e61c7db6",
      "placeholder": "​",
      "style": "IPY_MODEL_3fc41775ef804357a3ea5700d0a4f7d4",
      "value": "Saving the dataset (4/4 shards): 100%"
     }
    },
    "f106d318cdae4527a91076502e6d85ee": {
     "model_module": "@jupyter-widgets/controls",
     "model_module_version": "1.5.0",
     "model_name": "HBoxModel",
     "state": {
      "_dom_classes": [],
      "_model_module": "@jupyter-widgets/controls",
      "_model_module_version": "1.5.0",
      "_model_name": "HBoxModel",
      "_view_count": null,
      "_view_module": "@jupyter-widgets/controls",
      "_view_module_version": "1.5.0",
      "_view_name": "HBoxView",
      "box_style": "",
      "children": [
       "IPY_MODEL_f04e638866cd4ba281919f07009c0c6a",
       "IPY_MODEL_9e4521da064d4ece8c2cad04083c2b68",
       "IPY_MODEL_2b3804c5460d4548ba46c620d6247066"
      ],
      "layout": "IPY_MODEL_d273d902a4de4817b5d4bdbfa3a8323a"
     }
    },
    "f1e252ccf3614a4cb2df2ec365acffc4": {
     "model_module": "@jupyter-widgets/controls",
     "model_module_version": "1.5.0",
     "model_name": "FloatProgressModel",
     "state": {
      "_dom_classes": [],
      "_model_module": "@jupyter-widgets/controls",
      "_model_module_version": "1.5.0",
      "_model_name": "FloatProgressModel",
      "_view_count": null,
      "_view_module": "@jupyter-widgets/controls",
      "_view_module_version": "1.5.0",
      "_view_name": "ProgressView",
      "bar_style": "danger",
      "description": "",
      "description_tooltip": null,
      "layout": "IPY_MODEL_9d0605555fc54204a7e0b6b4049d3f8f",
      "max": 40000,
      "min": 0,
      "orientation": "horizontal",
      "style": "IPY_MODEL_907a135b5d20455abd5c9883d0995251",
      "value": 40000
     }
    },
    "f436cc390429406da7ddea830cf843f8": {
     "model_module": "@jupyter-widgets/controls",
     "model_module_version": "1.5.0",
     "model_name": "HBoxModel",
     "state": {
      "_dom_classes": [],
      "_model_module": "@jupyter-widgets/controls",
      "_model_module_version": "1.5.0",
      "_model_name": "HBoxModel",
      "_view_count": null,
      "_view_module": "@jupyter-widgets/controls",
      "_view_module_version": "1.5.0",
      "_view_name": "HBoxView",
      "box_style": "",
      "children": [
       "IPY_MODEL_c6111a4c2a12445fb5df2f7f4e74a01e",
       "IPY_MODEL_90674cd34de243ea896071820bf09ae0",
       "IPY_MODEL_b9fc8b3892c245fb8b7419ab79ce2b47"
      ],
      "layout": "IPY_MODEL_d9db8d5cab184419b6675e6d1690f398"
     }
    },
    "f5677cb36cfa461985e07fe844b47fb0": {
     "model_module": "@jupyter-widgets/controls",
     "model_module_version": "1.5.0",
     "model_name": "HTMLModel",
     "state": {
      "_dom_classes": [],
      "_model_module": "@jupyter-widgets/controls",
      "_model_module_version": "1.5.0",
      "_model_name": "HTMLModel",
      "_view_count": null,
      "_view_module": "@jupyter-widgets/controls",
      "_view_module_version": "1.5.0",
      "_view_name": "HTMLView",
      "description": "",
      "description_tooltip": null,
      "layout": "IPY_MODEL_d7b108f04e32465b9e3968dd9dfc0849",
      "placeholder": "​",
      "style": "IPY_MODEL_ebbe0034b10745e2ae09501ae935cc8b",
      "value": " 2/2 [01:51&lt;00:00, 50.78s/it]"
     }
    },
    "f74c560da01d415b8182832c93c49e20": {
     "model_module": "@jupyter-widgets/controls",
     "model_module_version": "1.5.0",
     "model_name": "HBoxModel",
     "state": {
      "_dom_classes": [],
      "_model_module": "@jupyter-widgets/controls",
      "_model_module_version": "1.5.0",
      "_model_name": "HBoxModel",
      "_view_count": null,
      "_view_module": "@jupyter-widgets/controls",
      "_view_module_version": "1.5.0",
      "_view_name": "HBoxView",
      "box_style": "",
      "children": [
       "IPY_MODEL_b48a1e57fcda4732a343ff04867a8da0",
       "IPY_MODEL_c9c85916f14a4d69be2d424df7dc39bd",
       "IPY_MODEL_f5677cb36cfa461985e07fe844b47fb0"
      ],
      "layout": "IPY_MODEL_e2765d547ed34f079c0c994740f9e9ba"
     }
    },
    "f8c1b2c1afc54343bba5b5a130d66195": {
     "model_module": "@jupyter-widgets/controls",
     "model_module_version": "1.5.0",
     "model_name": "DescriptionStyleModel",
     "state": {
      "_model_module": "@jupyter-widgets/controls",
      "_model_module_version": "1.5.0",
      "_model_name": "DescriptionStyleModel",
      "_view_count": null,
      "_view_module": "@jupyter-widgets/base",
      "_view_module_version": "1.2.0",
      "_view_name": "StyleView",
      "description_width": ""
     }
    },
    "f9a1c09777c045b8ae5380939c47f358": {
     "model_module": "@jupyter-widgets/base",
     "model_module_version": "1.2.0",
     "model_name": "LayoutModel",
     "state": {
      "_model_module": "@jupyter-widgets/base",
      "_model_module_version": "1.2.0",
      "_model_name": "LayoutModel",
      "_view_count": null,
      "_view_module": "@jupyter-widgets/base",
      "_view_module_version": "1.2.0",
      "_view_name": "LayoutView",
      "align_content": null,
      "align_items": null,
      "align_self": null,
      "border": null,
      "bottom": null,
      "display": null,
      "flex": null,
      "flex_flow": null,
      "grid_area": null,
      "grid_auto_columns": null,
      "grid_auto_flow": null,
      "grid_auto_rows": null,
      "grid_column": null,
      "grid_gap": null,
      "grid_row": null,
      "grid_template_areas": null,
      "grid_template_columns": null,
      "grid_template_rows": null,
      "height": null,
      "justify_content": null,
      "justify_items": null,
      "left": null,
      "margin": null,
      "max_height": null,
      "max_width": null,
      "min_height": null,
      "min_width": null,
      "object_fit": null,
      "object_position": null,
      "order": null,
      "overflow": null,
      "overflow_x": null,
      "overflow_y": null,
      "padding": null,
      "right": null,
      "top": null,
      "visibility": null,
      "width": null
     }
    },
    "fa37f754ea60446d8b888a23dc16ef29": {
     "model_module": "@jupyter-widgets/controls",
     "model_module_version": "1.5.0",
     "model_name": "FloatProgressModel",
     "state": {
      "_dom_classes": [],
      "_model_module": "@jupyter-widgets/controls",
      "_model_module_version": "1.5.0",
      "_model_name": "FloatProgressModel",
      "_view_count": null,
      "_view_module": "@jupyter-widgets/controls",
      "_view_module_version": "1.5.0",
      "_view_name": "ProgressView",
      "bar_style": "success",
      "description": "",
      "description_tooltip": null,
      "layout": "IPY_MODEL_3c4b7ae5bf7c4865a3e16bd8069d020e",
      "max": 9976576152,
      "min": 0,
      "orientation": "horizontal",
      "style": "IPY_MODEL_2e9c331ea93446d3a68a864891690848",
      "value": 9976576152
     }
    },
    "faf06d5fd8894921b016730faf42383f": {
     "model_module": "@jupyter-widgets/base",
     "model_module_version": "1.2.0",
     "model_name": "LayoutModel",
     "state": {
      "_model_module": "@jupyter-widgets/base",
      "_model_module_version": "1.2.0",
      "_model_name": "LayoutModel",
      "_view_count": null,
      "_view_module": "@jupyter-widgets/base",
      "_view_module_version": "1.2.0",
      "_view_name": "LayoutView",
      "align_content": null,
      "align_items": null,
      "align_self": null,
      "border": null,
      "bottom": null,
      "display": null,
      "flex": null,
      "flex_flow": null,
      "grid_area": null,
      "grid_auto_columns": null,
      "grid_auto_flow": null,
      "grid_auto_rows": null,
      "grid_column": null,
      "grid_gap": null,
      "grid_row": null,
      "grid_template_areas": null,
      "grid_template_columns": null,
      "grid_template_rows": null,
      "height": null,
      "justify_content": null,
      "justify_items": null,
      "left": null,
      "margin": null,
      "max_height": null,
      "max_width": null,
      "min_height": null,
      "min_width": null,
      "object_fit": null,
      "object_position": null,
      "order": null,
      "overflow": null,
      "overflow_x": null,
      "overflow_y": null,
      "padding": null,
      "right": null,
      "top": null,
      "visibility": null,
      "width": null
     }
    },
    "fb49075817c149f5b6cf57b9715196de": {
     "model_module": "@jupyter-widgets/controls",
     "model_module_version": "1.5.0",
     "model_name": "HTMLModel",
     "state": {
      "_dom_classes": [],
      "_model_module": "@jupyter-widgets/controls",
      "_model_module_version": "1.5.0",
      "_model_name": "HTMLModel",
      "_view_count": null,
      "_view_module": "@jupyter-widgets/controls",
      "_view_module_version": "1.5.0",
      "_view_name": "HTMLView",
      "description": "",
      "description_tooltip": null,
      "layout": "IPY_MODEL_8a1992927e064835a9bbc84539d85f6e",
      "placeholder": "​",
      "style": "IPY_MODEL_b8089eb299bf47778bcc4e0ff019b72c",
      "value": " 1.62k/1.62k [00:00&lt;00:00, 88.5kB/s]"
     }
    },
    "fc68125dd1054998acfae4dbde8034ea": {
     "model_module": "@jupyter-widgets/base",
     "model_module_version": "1.2.0",
     "model_name": "LayoutModel",
     "state": {
      "_model_module": "@jupyter-widgets/base",
      "_model_module_version": "1.2.0",
      "_model_name": "LayoutModel",
      "_view_count": null,
      "_view_module": "@jupyter-widgets/base",
      "_view_module_version": "1.2.0",
      "_view_name": "LayoutView",
      "align_content": null,
      "align_items": null,
      "align_self": null,
      "border": null,
      "bottom": null,
      "display": null,
      "flex": null,
      "flex_flow": null,
      "grid_area": null,
      "grid_auto_columns": null,
      "grid_auto_flow": null,
      "grid_auto_rows": null,
      "grid_column": null,
      "grid_gap": null,
      "grid_row": null,
      "grid_template_areas": null,
      "grid_template_columns": null,
      "grid_template_rows": null,
      "height": null,
      "justify_content": null,
      "justify_items": null,
      "left": null,
      "margin": null,
      "max_height": null,
      "max_width": null,
      "min_height": null,
      "min_width": null,
      "object_fit": null,
      "object_position": null,
      "order": null,
      "overflow": null,
      "overflow_x": null,
      "overflow_y": null,
      "padding": null,
      "right": null,
      "top": null,
      "visibility": null,
      "width": null
     }
    },
    "ffbc77ed51484ad69db9d3de929a6aee": {
     "model_module": "@jupyter-widgets/controls",
     "model_module_version": "1.5.0",
     "model_name": "HBoxModel",
     "state": {
      "_dom_classes": [],
      "_model_module": "@jupyter-widgets/controls",
      "_model_module_version": "1.5.0",
      "_model_name": "HBoxModel",
      "_view_count": null,
      "_view_module": "@jupyter-widgets/controls",
      "_view_module_version": "1.5.0",
      "_view_name": "HBoxView",
      "box_style": "",
      "children": [
       "IPY_MODEL_2b8d53f8a86542838c83ed019cceea03",
       "IPY_MODEL_1c7d4ed8cd15455abc0dad7272df20b3",
       "IPY_MODEL_79ebe720d7684caa9b9a7637ef243c6e"
      ],
      "layout": "IPY_MODEL_9a21bb6c7b1440fbbced3474cd645baf"
     }
    }
   }
  }
 },
 "nbformat": 4,
 "nbformat_minor": 4
}
